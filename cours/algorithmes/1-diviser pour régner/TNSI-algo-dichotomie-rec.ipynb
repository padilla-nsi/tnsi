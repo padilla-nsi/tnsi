{
 "cells": [
  {
   "cell_type": "markdown",
   "metadata": {},
   "source": [
    "# Recherche dichotomique **récursive** dans un tableau trié"
   ]
  },
  {
   "cell_type": "markdown",
   "metadata": {},
   "source": [
    "Nous avons déjà vu la recherche dichotomique dans un tableau trié."
   ]
  },
  {
   "cell_type": "markdown",
   "metadata": {},
   "source": [
    "![](https://raw.githubusercontent.com/padilla-nsi/1nsi/main/cours/algorithmes/algos_1/dichotomie/res/dichotomie_2.png)"
   ]
  },
  {
   "cell_type": "markdown",
   "metadata": {},
   "source": [
    "### Activités"
   ]
  },
  {
   "cell_type": "markdown",
   "metadata": {},
   "source": [
    "L'implémentation proposée est organisée en deux parties :\n",
    "1. d'abord la fonction **récursive** qui prend en paramètre un tableau et un élément à chercher **mais aussi** les bornes gauche et droite de la portion à explorer\n",
    "2. ensuite la fonction recherche qui va appeler la fonction récursive avec les bons paramètres initiaux\n",
    "\n",
    "Implémenter de façon **récursive** la fonction de recherche dichotomique `recherche_dichotomique_rec(tab: list, elem, borne_g, borne_d) -> int` qui cherche dans la portion [`borne_g` .. `borne_d`] de `tab` l'élément `elem` et renvoie l'indice de sa position s'il est présent et `None` sinon."
   ]
  },
  {
   "cell_type": "code",
   "execution_count": 1,
   "metadata": {},
   "outputs": [],
   "source": [
    "def recherche_dichotomique_rec(tab: list, elem, borne_g, borne_d) -> int:\n",
    "    \"\"\"Recherche dichotomique dans la portion tab[borne_g:borne_d+1]\n",
    "    d'un tableau trié.\n",
    "\n",
    "    Args:\n",
    "        tab (list): tableau dans lequel on cherche\n",
    "        elem (type): élément à rechercher\n",
    "        borne_g (int): borne inférieure de la portion à explorer\n",
    "        borne_d (int): borne supérieure de la portion à explorer\n",
    "\n",
    "    Returns:\n",
    "        int:  * si trouvé     : indice de l'élément\n",
    "              * si non trouvé : None\n",
    "    \"\"\"\n",
    "    ...\n",
    "    # todo\n",
    "    ... "
   ]
  },
  {
   "cell_type": "markdown",
   "metadata": {},
   "source": [
    "Implémenter maintenant la fonction  `recherche_dichotomique(tab:list, elem) -> int` qui recherche `elem` dans `tab` grâce à un appel à la fonction précédente."
   ]
  },
  {
   "cell_type": "code",
   "execution_count": 2,
   "metadata": {},
   "outputs": [],
   "source": [
    "def recherche_dichotomique(tab:list, elem) -> int:\n",
    "    \"\"\"Recherche dichotomique dans un tableau trie.\n",
    "\n",
    "    Args:\n",
    "        tab (list): tableau à explorer\n",
    "        elem (_type_): élément à rechercher\n",
    "\n",
    "    Returns:\n",
    "        int: si trouvé     → indice de l'élément\n",
    "             si non trouvé → `None`\n",
    "    \"\"\"\n",
    "    ...\n",
    "    # au boulot !"
   ]
  },
  {
   "cell_type": "markdown",
   "metadata": {},
   "source": []
  }
 ],
 "metadata": {
  "interpreter": {
   "hash": "916dbcbb3f70747c44a77c7bcd40155683ae19c65e1c03b4aa3499c5328201f1"
  },
  "kernelspec": {
   "display_name": "Python 3.9.2 64-bit",
   "language": "python",
   "name": "python3"
  },
  "language_info": {
   "codemirror_mode": {
    "name": "ipython",
    "version": 3
   },
   "file_extension": ".py",
   "mimetype": "text/x-python",
   "name": "python",
   "nbconvert_exporter": "python",
   "pygments_lexer": "ipython3",
   "version": "3.9.2"
  },
  "orig_nbformat": 4
 },
 "nbformat": 4,
 "nbformat_minor": 2
}
