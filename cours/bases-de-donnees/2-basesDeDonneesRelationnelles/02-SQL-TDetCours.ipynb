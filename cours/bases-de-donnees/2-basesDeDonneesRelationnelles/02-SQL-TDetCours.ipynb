{
 "cells": [
  {
   "cell_type": "markdown",
   "metadata": {},
   "source": [
    "# Bases de données relationnelles en SQL"
   ]
  },
  {
   "cell_type": "markdown",
   "metadata": {},
   "source": [
    "## Implémentation de contraintes supplémentaires"
   ]
  },
  {
   "cell_type": "markdown",
   "metadata": {},
   "source": [
    "Lorsque l'on crée une relation, on peut ajouter des contraintes d'intégrités autres que clés primaires (`PRIMARY KEY`) ou étrangères (`FOREIGN KEY ... REFERENCES ...`).\n",
    "\n",
    "* `UNIQUE` : la valeur de l'attribut doit être unique\n",
    "* `NOT NULL` : la valeur de l'attribut de peut pas être laissée vide (attention, contrairement à Python la chaîne de caractère vide `''` n'est pas égale à `NULL` !)(j'insiste : `''` $\\neq$ `NULL`)\n",
    "\n"
   ]
  },
  {
   "cell_type": "markdown",
   "metadata": {},
   "source": [
    "Exemple d'utilisation de `UNIQUE` et `NOT NULL`\n",
    "\n",
    "```sql\n",
    "CREATE TABLE livre (titre TEXT NOT NULL,\n",
    "                    editeur TEXT NOT NULL,\n",
    "                    annee INTEGER NOT NULL,\n",
    "                    isbn TEXT UNIQUE NOT NULL PRIMARY KEY);\n",
    "```"
   ]
  },
  {
   "cell_type": "markdown",
   "metadata": {},
   "source": [
    "Remarque : il est redondant d'écrire `PRIMARY KEY` et `NOT NULL UNIQUE`. Cependant, à cause d'un bug de DBeaver avec SQLITE on prendra la peine d'ajouter explicitement `NOT NULL UNIQUE` pour un attribut de contrainte clé primaire."
   ]
  },
  {
   "cell_type": "markdown",
   "metadata": {},
   "source": [
    "Pour les chaînes de caractères, il existe est possible d'expliciter un nombre fixe de caractères ou un nombre variable :\n",
    "\n",
    "* `VARCHAR(`$n$`)` : chaîne de caractère de taille variable d'au plus $n$ caractères\n",
    "* `CHAR(`$n$`)` : chaîne de caractère de taille $n$ (si la valeur est inférieure à n, des espaces sont ajoutées)\n",
    "\n",
    "\n"
   ]
  },
  {
   "cell_type": "markdown",
   "metadata": {},
   "source": [
    "Par exemple, on peut explicitement indiquer que l'`isbn` possède 14 caractères et que `titre` et `editeur` du livre ne dépassent pas 90 caractères de la façon suivante :\n",
    "\n",
    "```sql\n",
    "CREATE TABLE livre (titre VARCHAR(90) NOT NULL,\n",
    "                    editeur VARCHAR(90) NOT NULL,\n",
    "                    annee INTEGER NOT NULL,\n",
    "                    isbn CHAR(14) UNIQUE NOT NULL PRIMARY KEY);\n",
    "```"
   ]
  },
  {
   "cell_type": "markdown",
   "metadata": {},
   "source": [
    "## Activité avec DBeaver"
   ]
  },
  {
   "cell_type": "markdown",
   "metadata": {},
   "source": [
    "Vous allez créer votre première base avec DBeaver CE.\n",
    "\n",
    "1. Créer un fichier vide nommé `annuaire.db` (par exemple dans un terminal, dans le répertoire de votre choix écrire : `touch annuaire.db`).\n",
    "2. Ouvrir DBeaver CE\n",
    "3. Créer une nouvelle connexion :\n",
    "   1. de type SQLite\n",
    "   2. avec `Browse...`, sélectionner le fichier créé `annuaire.db`.\n",
    "   3. puis `Terminer`\n",
    "\n"
   ]
  },
  {
   "cell_type": "markdown",
   "metadata": {},
   "source": [
    "\n",
    "![](./img-dbeaver-connexion.png)"
   ]
  },
  {
   "cell_type": "markdown",
   "metadata": {
    "tags": [
     "cacher"
    ]
   },
   "source": [
    "![](https://raw.githubusercontent.com/padilla-nsi/tnsi/main/cours/bases-de-donnees/2-basesDeDonneesRelationnelles/img-dbeaver-connexion.png)"
   ]
  },
  {
   "cell_type": "markdown",
   "metadata": {},
   "source": [
    "\n",
    "Maintenant que la base est créer, vous pouvez effectuer des requêtes. Vous allez les écrire dans un fichier où vous pourrez les exécuter toutes d'un seul coup (peu recommandé), ou ligne par ligne. Comme un notebook, chaque ligne est un block que vous pouvez exécuter 0, 1 ou plusieurs fois. \n",
    "\n",
    "1. `Éditeur SQL > Nouveau script SQL`\n",
    "2. écrire par exemple `CREATE TABLE test (id INT);`\n",
    "3. puis positionner le prompt sur la ligne et exécuter l'instruction SQL (clic sur le triangle de lecture ou `CTRL + Entrée`)\n",
    "4. Sauf erreur, la relation `test` est créée. Pour en être sûr, réaliser à nouveau l'étape précédente et normalement il y aura une erreur puisque la relation *existe déjà*.\n",
    "\n",
    "Pour finir avec cette petite prise en main, vous allez insérer des données et afficher le contenu de la relation :\n",
    "\n",
    "8. Dans une autre ligne du fichier, écrire `INSERT INTO test VALUES (1);` et exécuter plusieurs fois cette ligne (pour insérer plusieurs fois l'entité $(1)$ dans la relation $test$).\n",
    "9. Puis écrire et exécuter `SELECT * FROM test;`.\n",
    "\n",
    "Si tout s'affiche comme prévu, nous allons voir une dernière fonctionnalité: afficher le diagramme de la base puis effacer la relation...\n",
    "\n",
    "10. Dans le panneau de gauche de `annuaire.db`, il doit être possible de déplier la base pour voir s'afficher en dessous `Tables ; Views ; Indexes ; Sequences ; Table Triggers ; Data Types`. \n",
    "11. Double-cliquer sur `Tables`\n",
    "12. Les propriétés des différentes tables (table = *relation*) s'affichent dans l'onglet `Propriétés`\n",
    "13. Actualiser la base avec `F5` puis\n",
    "14. Cliquer sur l'onglet `ER Diagram` pour voir le diagramme de la relation.\n",
    "15. Si tout va bien, vous avez quelque chose qui ressemble à cela.\n"
   ]
  },
  {
   "cell_type": "markdown",
   "metadata": {},
   "source": [
    "![](./img-dbeaver.png)"
   ]
  },
  {
   "cell_type": "markdown",
   "metadata": {
    "tags": [
     "cacher"
    ]
   },
   "source": [
    "![](https://raw.githubusercontent.com/padilla-nsi/tnsi/main/cours/bases-de-donnees/2-basesDeDonneesRelationnelles/img-dbeaver.png)"
   ]
  },
  {
   "cell_type": "markdown",
   "metadata": {},
   "source": [
    "1.  Pour finir, vous allez supprimer la relation `test` de la base en exécutant la requête `DROP TABLE test;`."
   ]
  },
  {
   "cell_type": "markdown",
   "metadata": {},
   "source": [
    "## Activité - retour sur `annuaire.db`"
   ]
  },
  {
   "cell_type": "markdown",
   "metadata": {},
   "source": [
    "Créer dans la base de donnée `annuaire.db` l'unique relation suivante :\n",
    "\n",
    "$$annuaire (\\underline{tel}: String ,  nom: String , prenom: String)$$\n",
    "\n",
    "\n",
    "Contraintes d'intégrités :\n",
    "\n",
    "* $tel$ : clé primaire, non nulle, unique, chaîne de caractère de taille variable (100 caracères max)\n",
    "* $nom$ : non nul, chaîne de caractère de taille variable (100 max)\n",
    "* $prenom$ : non nul , chaîne de caractère de taille variable (20 max)\n"
   ]
  },
  {
   "cell_type": "markdown",
   "metadata": {},
   "source": [
    "## Implémentation des contraintes de domaines et nombres décimaux"
   ]
  },
  {
   "cell_type": "markdown",
   "metadata": {},
   "source": [
    "En SQL, on peut ajouter des **contraintes de domaines**. Par exemple on peut imposer un attribut `age` d'être toujours positif ou nul.\n",
    "\n",
    "Pour cela, on utilise l'instruction `CHECK`. Ce qui donne :\n",
    "\n",
    "- `CHECK (age >= 0)`\n",
    "\n",
    "On peut utiliser les opérateurs logiques `NOT`, `AND` et `OR` ainsi que les parenthèses pour les priorités."
   ]
  },
  {
   "cell_type": "markdown",
   "metadata": {},
   "source": [
    "Pour les nombre flottants, il existe un type qui prend en charge le nombre de chiffres après la virgule et s'occupe des arrondis le cas échéant.\n",
    "\n",
    "- `DECIMAL(`$c$`, `$d$`)` : permet d'afficher un nombre de $c$ chiffres (en tout) dont $d$ sont après la virgule"
   ]
  },
  {
   "cell_type": "markdown",
   "metadata": {},
   "source": [
    "Par exemple pour afficher un nombre compris entre 0 et 999 avec une précision de 3 décimales, on écrira\n",
    "\n",
    "`nombre DECIMAL(6, 3)`\n",
    "\n",
    "car il y a 6 chiffres en tout dont 3 pour la partie décimale."
   ]
  },
  {
   "cell_type": "markdown",
   "metadata": {},
   "source": [
    "## Activité - base de donnée `note.db`"
   ]
  },
  {
   "cell_type": "markdown",
   "metadata": {},
   "source": [
    "### Création\n",
    "\n",
    "Créer la base de donnée `note.db` et les trois relations suivantes :\n",
    "\n",
    "- $eleve(nom: String, prenom: String, \\underline{num}: String)$\n",
    "- $matiere(intitule: String, \\underline{mat\\_id}: Int)$\n",
    "- $note(\\underline{num\\_eleve}: String, \\underline{mat\\_id}: Int, note: Float)$"
   ]
  },
  {
   "cell_type": "markdown",
   "metadata": {},
   "source": [
    "![](./img-ex_note.png)"
   ]
  },
  {
   "cell_type": "markdown",
   "metadata": {
    "tags": [
     "cacher"
    ]
   },
   "source": [
    "![](https://raw.githubusercontent.com/padilla-nsi/tnsi/main/cours/bases-de-donnees/2-basesDeDonneesRelationnelles/img-ex_note.png)"
   ]
  },
  {
   "cell_type": "markdown",
   "metadata": {},
   "source": [
    "\n",
    "Attention à respecter les contraintes suivantes :\n",
    "\n",
    "- $eleve$ :\n",
    "  - $nom$ : taille variable (taille 100 max), non nul\n",
    "  - $prenom$ : taille variable (max 100), non nul\n",
    "  - $num$ : taille variable (max 20), clé primaire (unique, non nul)\n",
    "- $matiere$ :\n",
    "  - $intitule$ : taille variable (max 100), non nul\n",
    "  - $mat_id$ : entier, clé primaire (unique non nul)\n",
    "- $note$ :\n",
    "  - $num\\_eleve$ : taille variable (max 20), reférence à $eleve(num)$, clé primaire\n",
    "  - $mat\\_id$ : entier, référence à $matiere(mat\\_id)$, clé primaire\n",
    "  - $note$ : nombre décimal de 4 chiffres dont 2 après la virgule, non nul, supérieure ou égale à 0, inférieure ou égal à 20\n",
    "\n",
    "\n",
    "\n"
   ]
  },
  {
   "cell_type": "markdown",
   "metadata": {},
   "source": [
    "Résultat attendu : "
   ]
  },
  {
   "cell_type": "markdown",
   "metadata": {},
   "source": [
    "![](./img-ex_note_db.png)"
   ]
  },
  {
   "cell_type": "markdown",
   "metadata": {
    "tags": [
     "cacher"
    ]
   },
   "source": [
    "![](https://raw.githubusercontent.com/padilla-nsi/tnsi/main/cours/bases-de-donnees/2-basesDeDonneesRelationnelles/img-ex_note_db.png)"
   ]
  },
  {
   "cell_type": "markdown",
   "metadata": {},
   "source": [
    "### Suppression"
   ]
  },
  {
   "cell_type": "markdown",
   "metadata": {},
   "source": [
    "1. Dans quel ordre faut-il effacer les tables ? Pourquoi ?\n",
    "2. Tester dans DBeaver."
   ]
  },
  {
   "cell_type": "markdown",
   "metadata": {},
   "source": [
    "## Activité - base de donnée `vente.db`"
   ]
  },
  {
   "cell_type": "markdown",
   "metadata": {},
   "source": [
    "Créer la base de donnée `vente.db` respectant les contraintes suivantes :"
   ]
  },
  {
   "cell_type": "markdown",
   "metadata": {},
   "source": [
    "![](./img-ex_vente.png)"
   ]
  },
  {
   "cell_type": "markdown",
   "metadata": {
    "tags": [
     "cacher"
    ]
   },
   "source": [
    "![](https://raw.githubusercontent.com/padilla-nsi/tnsi/main/cours/bases-de-donnees/2-basesDeDonneesRelationnelles/img-ex_vente.png)"
   ]
  },
  {
   "cell_type": "markdown",
   "metadata": {},
   "source": [
    "## Résumés et notes"
   ]
  },
  {
   "cell_type": "markdown",
   "metadata": {},
   "source": [
    "### Contraintes \n",
    "\n",
    "- `PRIMARY KEY(auteur_id)` ou `auteur_id INT PRIMARY KEY`\n",
    "- `PRIMARY KEY(auteur_id, isbn)`\n",
    "- `FOREIGN KEY(auteur_id) REFERENCES auteur(a_id)` ou `auteur_id INT REFERENCES auteur(a_id)`\n",
    "- `CHECK (0 <= note AND note <= 20)`\n",
    "- `CHECK (ville <> 'Paris')` : pour $\\neq$\n",
    "\n"
   ]
  },
  {
   "cell_type": "markdown",
   "metadata": {},
   "source": [
    "### Types\n",
    "\n",
    "- `TEXT` : texte de longueur variable\n",
    "- `VARCHAR(`$n$`)` : texte de longueur variable inférieure à $n$\n",
    "- `CHAR(`$n$`)` : texte de longueur $n$\n",
    "- `INT` ou `INTEGER` : nombres entiers\n",
    "- `DECIMAL(`$c$`, `$d$`)` : nombre flottant de $c$ chiffres dont $d$ pour la partie décimale\n",
    "- `DATE` : une date au format `AAAA-MM-JJ`\n",
    "- `TIME` : une heure au format `hh:mm:ss`\n",
    "- `TIMESTAMP` : un instant (date et heure) au format `AAAA-MM-JJ hh:mm:ss`"
   ]
  },
  {
   "cell_type": "markdown",
   "metadata": {},
   "source": [
    "### Tables\n",
    "\n",
    "- `CREATE TABLE nom_table (...)`\n",
    "- `DROP TABLE nom_table`\n",
    "- `DROP TABLE IF EXISTS nom_table`\n",
    "- `INSERT INTO nom_table VALUES (...), (...), ..., ();`\n",
    "- `INSERT INTO nom_table(attr1, attr2) VALUES ...`\n",
    "- "
   ]
  }
 ],
 "metadata": {
  "interpreter": {
   "hash": "916dbcbb3f70747c44a77c7bcd40155683ae19c65e1c03b4aa3499c5328201f1"
  },
  "kernelspec": {
   "display_name": "Python 3",
   "language": "python",
   "name": "python3"
  },
  "language_info": {
   "codemirror_mode": {
    "name": "ipython",
    "version": 3
   },
   "file_extension": ".py",
   "mimetype": "text/x-python",
   "name": "python",
   "nbconvert_exporter": "python",
   "pygments_lexer": "ipython3",
   "version": "3.9.2"
  },
  "latex_metadata": {
   "theme": "data",
   "title": "8 --- Base de donnée relationnelle"
  }
 },
 "nbformat": 4,
 "nbformat_minor": 2
}
