{
 "cells": [
  {
   "cell_type": "markdown",
   "metadata": {},
   "source": [
    "sujet 0 - 2021 - ex4"
   ]
  },
  {
   "cell_type": "code",
   "execution_count": 1,
   "metadata": {},
   "outputs": [],
   "source": [
    "%load_ext sql\n",
    "%sql sqlite://"
   ]
  },
  {
   "cell_type": "code",
   "execution_count": null,
   "metadata": {},
   "outputs": [],
   "source": [
    "%%sql\n",
    "DROP TABLE IF EXISTS EMPLOYEE;\n",
    "CREATE TABLE EMPLOYEE(firstname varchar(50),lastname varchar(50));\n",
    "INSERT INTO EMPLOYEE VALUES('Tom','Pascal');\n",
    "INSERT INTO EMPLOYEE VALUES('Jack','Ryan');"
   ]
  },
  {
   "cell_type": "code",
   "execution_count": null,
   "metadata": {},
   "outputs": [],
   "source": [
    " %sql SELECT * from EMPLOYEE;"
   ]
  },
  {
   "cell_type": "code",
   "execution_count": null,
   "metadata": {},
   "outputs": [],
   "source": [
    "%sql SELECT * from EMPLOYEE;"
   ]
  },
  {
   "cell_type": "markdown",
   "metadata": {},
   "source": [
    "L’énoncé de cet exercice utilise les mots du langage SQL suivant :\n",
    "\n",
    "    SELECT, FROM, WHERE, JOIN, INSERT INTO, VALUES, COUNT, ORDER BY.\n",
    "    \n",
    "Dans un lycée imaginaire, les données relatives aux élèves de secondes sont regroupées dans un fichier nommé\n",
    "`seconde_lyc.csv`. Un extrait de son contenu est représenté figure 1.\n"
   ]
  },
  {
   "cell_type": "markdown",
   "metadata": {},
   "source": [
    "![](./img-enonce01.png)\n",
    "\n",
    "*Extrait du fichier `seconde_lyc.csv`*"
   ]
  },
  {
   "cell_type": "markdown",
   "metadata": {
    "tags": [
     "cacher"
    ]
   },
   "source": [
    "![](https://raw.githubusercontent.com/padilla-nsi/tnsi/main/cours/bases-de-donnees/3-requetesEtMiseAJour/img-enonce01.png)\n",
    "\n",
    "*Extrait du fichier `seconde_lyc.csv`*"
   ]
  },
  {
   "cell_type": "markdown",
   "metadata": {},
   "source": [
    "Pour les besoins de l’organisation du lycée, le chef d’établissement exploite la base de données par des requêtes en langage `SQL`. Il a pour cela créé une table (ou *relation*) SQL dénommée `seconde` dans son système de\n",
    "gestion de bases de données dont la structure est la suivante :"
   ]
  },
  {
   "cell_type": "markdown",
   "metadata": {},
   "source": [
    "![](./img-enonce02.png)"
   ]
  },
  {
   "cell_type": "code",
   "execution_count": 121,
   "metadata": {},
   "outputs": [
    {
     "name": "stdout",
     "output_type": "stream",
     "text": [
      " * sqlite://\n",
      "Done.\n",
      "Done.\n",
      "Done.\n",
      "25 rows affected.\n",
      "Done.\n"
     ]
    },
    {
     "data": {
      "text/html": [
       "<table>\n",
       "    <tr>\n",
       "        <th>num_eleve</th>\n",
       "        <th>nom</th>\n",
       "        <th>prenom</th>\n",
       "        <th>datenaissance</th>\n",
       "    </tr>\n",
       "    <tr>\n",
       "        <td>133310</td>\n",
       "        <td>ACHIR</td>\n",
       "        <td>Mussa</td>\n",
       "        <td>2005-01-01</td>\n",
       "    </tr>\n",
       "    <tr>\n",
       "        <td>156929</td>\n",
       "        <td>ALTMEYER</td>\n",
       "        <td>Yohan</td>\n",
       "        <td>2005-05-05</td>\n",
       "    </tr>\n",
       "    <tr>\n",
       "        <td>500633</td>\n",
       "        <td>BELEY</td>\n",
       "        <td>Thibaut</td>\n",
       "        <td>2005-05-05</td>\n",
       "    </tr>\n",
       "    <tr>\n",
       "        <td>911887</td>\n",
       "        <td>BELEY</td>\n",
       "        <td>Marie</td>\n",
       "        <td>2005-05-05</td>\n",
       "    </tr>\n",
       "    <tr>\n",
       "        <td>90689</td>\n",
       "        <td>BELEY</td>\n",
       "        <td>Manon</td>\n",
       "        <td>2005-01-10</td>\n",
       "    </tr>\n",
       "    <tr>\n",
       "        <td>488697</td>\n",
       "        <td>CAILLE</td>\n",
       "        <td>Marie</td>\n",
       "        <td>2004-03-30</td>\n",
       "    </tr>\n",
       "    <tr>\n",
       "        <td>193514</td>\n",
       "        <td>CHARPENTIER</td>\n",
       "        <td>Jules</td>\n",
       "        <td>2005-12-25</td>\n",
       "    </tr>\n",
       "    <tr>\n",
       "        <td>321188</td>\n",
       "        <td>CLAUDEL</td>\n",
       "        <td>Benjamin</td>\n",
       "        <td>2005-09-09</td>\n",
       "    </tr>\n",
       "    <tr>\n",
       "        <td>81282</td>\n",
       "        <td>EISEN</td>\n",
       "        <td>Carla</td>\n",
       "        <td>2004-06-23</td>\n",
       "    </tr>\n",
       "    <tr>\n",
       "        <td>26946</td>\n",
       "        <td>ELAYAR</td>\n",
       "        <td>Amir</td>\n",
       "        <td>2005-09-11</td>\n",
       "    </tr>\n",
       "    <tr>\n",
       "        <td>108303</td>\n",
       "        <td>GEHIN</td>\n",
       "        <td>Arthur</td>\n",
       "        <td>2005-02-26</td>\n",
       "    </tr>\n",
       "    <tr>\n",
       "        <td>57934</td>\n",
       "        <td>GROSJEAN</td>\n",
       "        <td>Alexandre</td>\n",
       "        <td>2005-11-09</td>\n",
       "    </tr>\n",
       "    <tr>\n",
       "        <td>571113</td>\n",
       "        <td>HENRY</td>\n",
       "        <td>Paul</td>\n",
       "        <td>2005-03-12</td>\n",
       "    </tr>\n",
       "    <tr>\n",
       "        <td>488820</td>\n",
       "        <td>JACQUET</td>\n",
       "        <td>Marc</td>\n",
       "        <td>2005-11-13</td>\n",
       "    </tr>\n",
       "    <tr>\n",
       "        <td>24810</td>\n",
       "        <td>JULIANO</td>\n",
       "        <td>Alberto</td>\n",
       "        <td>2005-04-21</td>\n",
       "    </tr>\n",
       "    <tr>\n",
       "        <td>249992</td>\n",
       "        <td>KLEIBER</td>\n",
       "        <td>Gusti</td>\n",
       "        <td>2005-02-20</td>\n",
       "    </tr>\n",
       "    <tr>\n",
       "        <td>492698</td>\n",
       "        <td>LACOUR</td>\n",
       "        <td>Julie</td>\n",
       "        <td>2005-04-06</td>\n",
       "    </tr>\n",
       "    <tr>\n",
       "        <td>26454</td>\n",
       "        <td>LARBI</td>\n",
       "        <td>Nourdine</td>\n",
       "        <td>2005-07-14</td>\n",
       "    </tr>\n",
       "    <tr>\n",
       "        <td>309341</td>\n",
       "        <td>LEFZA</td>\n",
       "        <td>Yasmina</td>\n",
       "        <td>2005-11-26</td>\n",
       "    </tr>\n",
       "    <tr>\n",
       "        <td>76725</td>\n",
       "        <td>MARTIN</td>\n",
       "        <td>Victor</td>\n",
       "        <td>2005-03-13</td>\n",
       "    </tr>\n",
       "    <tr>\n",
       "        <td>815183</td>\n",
       "        <td>NGUYEN</td>\n",
       "        <td>Ngong</td>\n",
       "        <td>2005-03-16</td>\n",
       "    </tr>\n",
       "    <tr>\n",
       "        <td>94002</td>\n",
       "        <td>PELTIER</td>\n",
       "        <td>Romane</td>\n",
       "        <td>2005-06-14</td>\n",
       "    </tr>\n",
       "    <tr>\n",
       "        <td>321262</td>\n",
       "        <td>RENAULT</td>\n",
       "        <td>Zoé</td>\n",
       "        <td>2005-08-06</td>\n",
       "    </tr>\n",
       "    <tr>\n",
       "        <td>75421</td>\n",
       "        <td>ROTH</td>\n",
       "        <td>Ursule</td>\n",
       "        <td>2005-01-03</td>\n",
       "    </tr>\n",
       "    <tr>\n",
       "        <td>121001</td>\n",
       "        <td>SERHANI</td>\n",
       "        <td>Sabrina</td>\n",
       "        <td>2005-09-01</td>\n",
       "    </tr>\n",
       "</table>"
      ],
      "text/plain": [
       "[(133310, 'ACHIR', 'Mussa', '2005-01-01'),\n",
       " (156929, 'ALTMEYER', 'Yohan', '2005-05-05'),\n",
       " (500633, 'BELEY', 'Thibaut', '2005-05-05'),\n",
       " (911887, 'BELEY', 'Marie', '2005-05-05'),\n",
       " (90689, 'BELEY', 'Manon', '2005-01-10'),\n",
       " (488697, 'CAILLE', 'Marie', '2004-03-30'),\n",
       " (193514, 'CHARPENTIER', 'Jules', '2005-12-25'),\n",
       " (321188, 'CLAUDEL', 'Benjamin', '2005-09-09'),\n",
       " (81282, 'EISEN', 'Carla', '2004-06-23'),\n",
       " (26946, 'ELAYAR', 'Amir', '2005-09-11'),\n",
       " (108303, 'GEHIN', 'Arthur', '2005-02-26'),\n",
       " (57934, 'GROSJEAN', 'Alexandre', '2005-11-09'),\n",
       " (571113, 'HENRY', 'Paul', '2005-03-12'),\n",
       " (488820, 'JACQUET', 'Marc', '2005-11-13'),\n",
       " (24810, 'JULIANO', 'Alberto', '2005-04-21'),\n",
       " (249992, 'KLEIBER', 'Gusti', '2005-02-20'),\n",
       " (492698, 'LACOUR', 'Julie', '2005-04-06'),\n",
       " (26454, 'LARBI', 'Nourdine', '2005-07-14'),\n",
       " (309341, 'LEFZA', 'Yasmina', '2005-11-26'),\n",
       " (76725, 'MARTIN', 'Victor', '2005-03-13'),\n",
       " (815183, 'NGUYEN', 'Ngong', '2005-03-16'),\n",
       " (94002, 'PELTIER', 'Romane', '2005-06-14'),\n",
       " (321262, 'RENAULT', 'Zoé', '2005-08-06'),\n",
       " (75421, 'ROTH', 'Ursule', '2005-01-03'),\n",
       " (121001, 'SERHANI', 'Sabrina', '2005-09-01')]"
      ]
     },
     "execution_count": 121,
     "metadata": {},
     "output_type": "execute_result"
    }
   ],
   "source": [
    "%%sql\n",
    "PRAGMA foreign_keys=ON;\n",
    "DROP TABLE IF EXISTS eleve;\n",
    "CREATE TABLE eleve (\n",
    "    num_eleve INT,\n",
    "    nom CHAR(20),\n",
    "    prenom CHAR(20),\n",
    "    datenaissance DATE,\n",
    "    PRIMARY KEY(num_eleve));\n",
    "\n",
    "INSERT INTO eleve VALUES\n",
    "    (133310, 'ACHIR', 'Mussa', '2005-01-01'),\n",
    "    (500633, 'BELEY', 'Thibaut', '2005-05-05'),\n",
    "    (911887, 'BELEY', 'Marie', '2005-05-05'),\n",
    "    (057934, 'GROSJEAN', 'Alexandre', '2005-11-09'),\n",
    "    (024810, 'JULIANO', 'Alberto', '2005-04-21'),\n",
    "    (249992, 'KLEIBER', 'Gusti', '2005-02-20'),\n",
    "    (076725, 'MARTIN', 'Victor', '2005-03-13'),\n",
    "    (815183, 'NGUYEN', 'Ngong', '2005-03-16'),\n",
    "    (321262, 'RENAULT', 'Zoé', '2005-08-06'),\n",
    "    (108303, 'GEHIN', 'Arthur', '2005-02-26'),\n",
    "    (571113, 'HENRY', 'Paul', '2005-03-12'),\n",
    "    (094002, 'PELTIER', 'Romane', '2005-06-14'),\n",
    "    (156929, 'ALTMEYER', 'Yohan', '2005-05-05'),\n",
    "    (90689, 'BELEY', 'Manon', '2005-01-10'),\n",
    "    (081282, 'EISEN', 'Carla', '2004-06-23'),\n",
    "    (075421, 'ROTH', 'Ursule', '2005-01-03'),\n",
    "    (488697, 'CAILLE', 'Marie', '2004-03-30'),\n",
    "    (492698, 'LACOUR', 'Julie', '2005-04-06'),\n",
    "    (121001, 'SERHANI', 'Sabrina', '2005-09-01'),\n",
    "    (193514, 'CHARPENTIER', 'Jules', '2005-12-25'),\n",
    "    (321188, 'CLAUDEL', 'Benjamin', '2005-09-09'),\n",
    "    (026454, 'LARBI', 'Nourdine', '2005-07-14'),\n",
    "    (309341, 'LEFZA', 'Yasmina', '2005-11-26'),\n",
    "    (488820, 'JACQUET', 'Marc', '2005-11-13'),\n",
    "    (026946, 'ELAYAR', 'Amir', '2005-09-11');\n",
    "    \n",
    "    \n",
    "SELECT * FROM eleve\n",
    "ORDER BY nom ASC;"
   ]
  },
  {
   "cell_type": "code",
   "execution_count": 122,
   "metadata": {
    "tags": [
     "cacher"
    ]
   },
   "outputs": [
    {
     "name": "stdout",
     "output_type": "stream",
     "text": [
      " * sqlite://\n",
      "Done.\n",
      "Done.\n",
      "24 rows affected.\n",
      "Done.\n"
     ]
    },
    {
     "data": {
      "text/html": [
       "<table>\n",
       "    <tr>\n",
       "        <th>num_eleve</th>\n",
       "        <th>langue1</th>\n",
       "        <th>langue2</th>\n",
       "        <th>option</th>\n",
       "        <th>classe</th>\n",
       "    </tr>\n",
       "    <tr>\n",
       "        <td>24810</td>\n",
       "        <td>anglais</td>\n",
       "        <td>espagnol</td>\n",
       "        <td></td>\n",
       "        <td>2C</td>\n",
       "    </tr>\n",
       "    <tr>\n",
       "        <td>26454</td>\n",
       "        <td>espagnol</td>\n",
       "        <td>anglais</td>\n",
       "        <td></td>\n",
       "        <td>2C</td>\n",
       "    </tr>\n",
       "    <tr>\n",
       "        <td>26946</td>\n",
       "        <td>anglais</td>\n",
       "        <td>arabe</td>\n",
       "        <td>cinéma</td>\n",
       "        <td>2D</td>\n",
       "    </tr>\n",
       "    <tr>\n",
       "        <td>57934</td>\n",
       "        <td>anglais</td>\n",
       "        <td>espagnol</td>\n",
       "        <td></td>\n",
       "        <td>2C</td>\n",
       "    </tr>\n",
       "    <tr>\n",
       "        <td>75421</td>\n",
       "        <td>anglais</td>\n",
       "        <td>allemand</td>\n",
       "        <td></td>\n",
       "        <td>2A</td>\n",
       "    </tr>\n",
       "    <tr>\n",
       "        <td>76725</td>\n",
       "        <td>anglais</td>\n",
       "        <td>espagnol</td>\n",
       "        <td></td>\n",
       "        <td>2A</td>\n",
       "    </tr>\n",
       "    <tr>\n",
       "        <td>81282</td>\n",
       "        <td>anglais</td>\n",
       "        <td>allemand</td>\n",
       "        <td></td>\n",
       "        <td>2A</td>\n",
       "    </tr>\n",
       "    <tr>\n",
       "        <td>90689</td>\n",
       "        <td>anglais</td>\n",
       "        <td>allemand</td>\n",
       "        <td></td>\n",
       "        <td>2E</td>\n",
       "    </tr>\n",
       "    <tr>\n",
       "        <td>94002</td>\n",
       "        <td>allemand</td>\n",
       "        <td>anglais</td>\n",
       "        <td></td>\n",
       "        <td>2D</td>\n",
       "    </tr>\n",
       "    <tr>\n",
       "        <td>108303</td>\n",
       "        <td>allemand</td>\n",
       "        <td>anglais</td>\n",
       "        <td>théâtre</td>\n",
       "        <td>2D</td>\n",
       "    </tr>\n",
       "    <tr>\n",
       "        <td>121001</td>\n",
       "        <td>italien</td>\n",
       "        <td>anglais</td>\n",
       "        <td></td>\n",
       "        <td>2D</td>\n",
       "    </tr>\n",
       "    <tr>\n",
       "        <td>133310</td>\n",
       "        <td>anglais</td>\n",
       "        <td>espagnol</td>\n",
       "        <td></td>\n",
       "        <td>2A</td>\n",
       "    </tr>\n",
       "    <tr>\n",
       "        <td>156929</td>\n",
       "        <td>ERREUR DE SAISIE</td>\n",
       "        <td>anglais</td>\n",
       "        <td></td>\n",
       "        <td>2D</td>\n",
       "    </tr>\n",
       "    <tr>\n",
       "        <td>193514</td>\n",
       "        <td>espagnol</td>\n",
       "        <td>anglais</td>\n",
       "        <td></td>\n",
       "        <td>2C</td>\n",
       "    </tr>\n",
       "    <tr>\n",
       "        <td>249992</td>\n",
       "        <td>anglais</td>\n",
       "        <td>espagnol</td>\n",
       "        <td>cinéma</td>\n",
       "        <td>2E</td>\n",
       "    </tr>\n",
       "    <tr>\n",
       "        <td>309341</td>\n",
       "        <td>espagnol</td>\n",
       "        <td>anglais</td>\n",
       "        <td></td>\n",
       "        <td>2C</td>\n",
       "    </tr>\n",
       "    <tr>\n",
       "        <td>321188</td>\n",
       "        <td>espagnol</td>\n",
       "        <td>anglais</td>\n",
       "        <td></td>\n",
       "        <td>2C</td>\n",
       "    </tr>\n",
       "    <tr>\n",
       "        <td>321262</td>\n",
       "        <td>anglais</td>\n",
       "        <td>espagnol</td>\n",
       "        <td>latin</td>\n",
       "        <td>2E</td>\n",
       "    </tr>\n",
       "    <tr>\n",
       "        <td>488697</td>\n",
       "        <td>italien</td>\n",
       "        <td>anglais</td>\n",
       "        <td></td>\n",
       "        <td>2D</td>\n",
       "    </tr>\n",
       "    <tr>\n",
       "        <td>492698</td>\n",
       "        <td>italien</td>\n",
       "        <td>anglais</td>\n",
       "        <td></td>\n",
       "        <td>2D</td>\n",
       "    </tr>\n",
       "    <tr>\n",
       "        <td>500633</td>\n",
       "        <td>anglais</td>\n",
       "        <td>espagnol</td>\n",
       "        <td></td>\n",
       "        <td>2A</td>\n",
       "    </tr>\n",
       "    <tr>\n",
       "        <td>571113</td>\n",
       "        <td>allemand</td>\n",
       "        <td>anglais</td>\n",
       "        <td></td>\n",
       "        <td>2D</td>\n",
       "    </tr>\n",
       "    <tr>\n",
       "        <td>815183</td>\n",
       "        <td>anglais</td>\n",
       "        <td>espagnol</td>\n",
       "        <td></td>\n",
       "        <td>2D</td>\n",
       "    </tr>\n",
       "    <tr>\n",
       "        <td>911887</td>\n",
       "        <td>anglais</td>\n",
       "        <td>espagnol</td>\n",
       "        <td></td>\n",
       "        <td>2A</td>\n",
       "    </tr>\n",
       "</table>"
      ],
      "text/plain": [
       "[(24810, 'anglais', 'espagnol', '', '2C'),\n",
       " (26454, 'espagnol', 'anglais', '', '2C'),\n",
       " (26946, 'anglais', 'arabe', 'cinéma', '2D'),\n",
       " (57934, 'anglais', 'espagnol', '', '2C'),\n",
       " (75421, 'anglais', 'allemand', '', '2A'),\n",
       " (76725, 'anglais', 'espagnol', '', '2A'),\n",
       " (81282, 'anglais', 'allemand', '', '2A'),\n",
       " (90689, 'anglais', 'allemand', '', '2E'),\n",
       " (94002, 'allemand', 'anglais', '', '2D'),\n",
       " (108303, 'allemand', 'anglais', 'théâtre', '2D'),\n",
       " (121001, 'italien', 'anglais', '', '2D'),\n",
       " (133310, 'anglais', 'espagnol', '', '2A'),\n",
       " (156929, 'ERREUR DE SAISIE', 'anglais', '', '2D'),\n",
       " (193514, 'espagnol', 'anglais', '', '2C'),\n",
       " (249992, 'anglais', 'espagnol', 'cinéma', '2E'),\n",
       " (309341, 'espagnol', 'anglais', '', '2C'),\n",
       " (321188, 'espagnol', 'anglais', '', '2C'),\n",
       " (321262, 'anglais', 'espagnol', 'latin', '2E'),\n",
       " (488697, 'italien', 'anglais', '', '2D'),\n",
       " (492698, 'italien', 'anglais', '', '2D'),\n",
       " (500633, 'anglais', 'espagnol', '', '2A'),\n",
       " (571113, 'allemand', 'anglais', '', '2D'),\n",
       " (815183, 'anglais', 'espagnol', '', '2D'),\n",
       " (911887, 'anglais', 'espagnol', '', '2A')]"
      ]
     },
     "execution_count": 122,
     "metadata": {},
     "output_type": "execute_result"
    }
   ],
   "source": [
    "%%sql\n",
    "\n",
    "DROP TABLE IF EXISTS seconde;\n",
    "CREATE TABLE seconde(\n",
    "    num_eleve INTEGER PRIMARY KEY,\n",
    "    langue1 CHAR(20),\n",
    "    langue2 CHAR(20),\n",
    "    option CHAR(20),\n",
    "    classe CHAR(20),\n",
    "    FOREIGN KEY(num_eleve) REFERENCES eleve(num_eleve));\n",
    "\n",
    "INSERT INTO seconde VALUES\n",
    "    (133310, 'anglais', 'espagnol', '', '2A'),\n",
    "    (500633, 'anglais', 'espagnol', '', '2A'),\n",
    "    (911887, 'anglais', 'espagnol', '', '2A'),\n",
    "    (057934, 'anglais', 'espagnol', '', '2C'),\n",
    "    (024810, 'anglais', 'espagnol', '', '2C'),\n",
    "    (249992, 'anglais', 'espagnol', 'cinéma', '2E'),\n",
    "    (076725, 'anglais', 'espagnol', '', '2A'),\n",
    "    (815183, 'anglais', 'espagnol', '', '2D'),\n",
    "    (321262, 'anglais', 'espagnol', 'latin', '2E'),\n",
    "    (108303, 'allemand', 'anglais', 'théâtre', '2D'),\n",
    "    (571113, 'allemand', 'anglais', '', '2D'),\n",
    "    (094002, 'allemand', 'anglais', '', '2D'),\n",
    "    (156929, 'ERREUR DE SAISIE', 'anglais', '', '2D'),\n",
    "    (90689, 'anglais', 'allemand', '', '2E'),\n",
    "    (081282, 'anglais', 'allemand', '', '2A'),\n",
    "    (075421, 'anglais', 'allemand', '', '2A'),\n",
    "    (488697, 'italien', 'anglais', '', '2D'),\n",
    "    (492698, 'italien', 'anglais', '', '2D'),\n",
    "    (121001, 'italien', 'anglais', '', '2D'),\n",
    "    (193514, 'espagnol', 'anglais', '', '2C'),\n",
    "    (321188, 'espagnol', 'anglais', '', '2C'),\n",
    "    (026454, 'espagnol', 'anglais', '', '2C'),\n",
    "    (309341, 'espagnol', 'anglais', '', '2C'),\n",
    "    (026946, 'anglais', 'arabe', 'cinéma', '2D');\n",
    "    \n",
    "SELECT * FROM seconde;"
   ]
  },
  {
   "cell_type": "code",
   "execution_count": 38,
   "metadata": {
    "tags": [
     "cacher"
    ]
   },
   "outputs": [
    {
     "name": "stdout",
     "output_type": "stream",
     "text": [
      " * sqlite://\n",
      "1 rows affected.\n",
      "Done.\n"
     ]
    },
    {
     "data": {
      "text/html": [
       "<table>\n",
       "    <tr>\n",
       "        <th>num_eleve</th>\n",
       "        <th>langue1</th>\n",
       "        <th>langue2</th>\n",
       "        <th>option</th>\n",
       "        <th>classe</th>\n",
       "    </tr>\n",
       "    <tr>\n",
       "        <td>156929</td>\n",
       "        <td>allemand</td>\n",
       "        <td>anglais</td>\n",
       "        <td></td>\n",
       "        <td>2D</td>\n",
       "    </tr>\n",
       "</table>"
      ],
      "text/plain": [
       "[(156929, 'allemand', 'anglais', '', '2D')]"
      ]
     },
     "execution_count": 38,
     "metadata": {},
     "output_type": "execute_result"
    }
   ],
   "source": [
    "%%sql\n",
    "\n",
    "UPDATE seconde\n",
    "    SET langue1 = 'allemand'\n",
    "    WHERE num_eleve=156929;\n",
    "\n",
    "SELECT * FROM seconde\n",
    "WHERE num_eleve = 156929;\n"
   ]
  },
  {
   "cell_type": "markdown",
   "metadata": {
    "tags": [
     "cacher"
    ]
   },
   "source": [
    "![](https://raw.githubusercontent.com/padilla-nsi/tnsi/main/cours/bases-de-donnees/3-requetesEtMiseAJour/img-enonce02.png)"
   ]
  },
  {
   "cell_type": "markdown",
   "metadata": {
    "tags": []
   },
   "source": [
    "L’attribut `num_eleve` est un entier, les autres sont des chaines de caractère (le type `CHAR`)."
   ]
  },
  {
   "cell_type": "markdown",
   "metadata": {},
   "source": [
    "## Question 1"
   ]
  },
  {
   "cell_type": "markdown",
   "metadata": {
    "tags": [
     "exo"
    ]
   },
   "source": [
    "### 1.1. \n",
    "\n",
    "Dans le modèle relationnel, quel est l’intérêt de l’attribut `num_eleve`."
   ]
  },
  {
   "cell_type": "markdown",
   "metadata": {
    "tags": [
     "solution",
     "cacher"
    ]
   },
   "source": [
    "*(bloc de réponse)*\n",
    "\n",
    "..."
   ]
  },
  {
   "cell_type": "markdown",
   "metadata": {
    "tags": [
     "solution"
    ]
   },
   "source": [
    "**Réponse** L'attribut `num_eleve` permet de préserver l'unicité de chaque entité de la relation.\n",
    "\n",
    "En effet, dans le modèle relationel une relation est un *ensemble* et dans un ensemble mathématique, chaque élément est unique.\n",
    "\n",
    "Pour assurer cela, il faut définir cet attribut comme une **clé primaire**."
   ]
  },
  {
   "cell_type": "markdown",
   "metadata": {
    "tags": [
     "exo"
    ]
   },
   "source": [
    "### 1.2\n",
    "Écrire une requête SQL d’insertion permettant d’enregistrer l’élève `ACHIR Mussa` dans la table `seconde`. Les informations relatives à cet élève sont données dans la ligne 1 du fichier `seconde_lyc.csv`."
   ]
  },
  {
   "cell_type": "markdown",
   "metadata": {
    "tags": [
     "solution",
     "cacher"
    ]
   },
   "source": [
    "*(bloc de réponse)*\n",
    "\n",
    "..."
   ]
  },
  {
   "cell_type": "markdown",
   "metadata": {
    "tags": [
     "solution"
    ]
   },
   "source": [
    "**Réponse**\n",
    "\n",
    "    INSERT INTO seconde VALUES\n",
    "        (133310, 'anglais', 'espagnol', '', '2A'),"
   ]
  },
  {
   "cell_type": "code",
   "execution_count": null,
   "metadata": {
    "tags": [
     "solution",
     "cacher"
    ]
   },
   "outputs": [],
   "source": [
    "%%sql \n",
    "-- tester la requête sql ici;\n",
    "-- ..."
   ]
  },
  {
   "cell_type": "markdown",
   "metadata": {
    "tags": [
     "exo"
    ]
   },
   "source": [
    "### 1.3\n",
    "\n",
    "Lors de l’insertion de l’élève `ALTMEYER Yohan` (ligne 2 du fichier `seconde_lyc.csv`), une erreur de saisie a été commise sur la première langue, qui devrait être `allemand`. Écrire une requête SQL de mise à jour corrigeant les données de cet élève."
   ]
  },
  {
   "cell_type": "markdown",
   "metadata": {
    "tags": [
     "solution",
     "cacher"
    ]
   },
   "source": [
    "*(bloc de réponse)*\n",
    "\n",
    "..."
   ]
  },
  {
   "cell_type": "markdown",
   "metadata": {
    "tags": [
     "solution"
    ]
   },
   "source": [
    "**Réponse**\n",
    "\n",
    "    UPDATE seconde\n",
    "        SET langue1 = 'allemand'\n",
    "        WHERE num_eleve=156929;"
   ]
  },
  {
   "cell_type": "code",
   "execution_count": null,
   "metadata": {
    "tags": [
     "cacher",
     "solution"
    ]
   },
   "outputs": [],
   "source": [
    "%%sql \n",
    "-- tester la requête sql ici;\n",
    "-- ..."
   ]
  },
  {
   "cell_type": "markdown",
   "metadata": {},
   "source": [
    "## Question 2"
   ]
  },
  {
   "cell_type": "markdown",
   "metadata": {
    "tags": []
   },
   "source": [
    "On suppose maintenant que la table `seconde` contient les informations issues de la figure 1 (ni plus, ni moins, même si la figure 1 n’est qu’un extrait du fichier `seconde_lyc.csv`)."
   ]
  },
  {
   "cell_type": "markdown",
   "metadata": {
    "tags": [
     "exo"
    ]
   },
   "source": [
    "### 2.1\n",
    "\n",
    "Quel est le résultat de la requête ci-dessous ?\n",
    "\n",
    "    SELECT num_eleve FROM seconde ;"
   ]
  },
  {
   "cell_type": "markdown",
   "metadata": {
    "tags": [
     "solution",
     "cacher"
    ]
   },
   "source": [
    "*(bloc de réponse)*\n",
    "\n",
    "..."
   ]
  },
  {
   "cell_type": "code",
   "execution_count": null,
   "metadata": {
    "tags": []
   },
   "outputs": [],
   "source": [
    "%%sql \n",
    "-- tester la requête sql ici;\n",
    "-- ..."
   ]
  },
  {
   "cell_type": "markdown",
   "metadata": {
    "tags": [
     "solution"
    ]
   },
   "source": [
    "**Réponse** Cette requête affiche la liste de tous les identifiants de la relation `seconde`. Il y aura normalement 25 réponses.\n"
   ]
  },
  {
   "cell_type": "code",
   "execution_count": 43,
   "metadata": {
    "tags": [
     "solution"
    ]
   },
   "outputs": [
    {
     "name": "stdout",
     "output_type": "stream",
     "text": [
      " * sqlite://\n",
      "Done.\n"
     ]
    },
    {
     "data": {
      "text/html": [
       "<table>\n",
       "    <tr>\n",
       "        <th>num_eleve</th>\n",
       "    </tr>\n",
       "    <tr>\n",
       "        <td>24810</td>\n",
       "    </tr>\n",
       "    <tr>\n",
       "        <td>26454</td>\n",
       "    </tr>\n",
       "    <tr>\n",
       "        <td>26946</td>\n",
       "    </tr>\n",
       "    <tr>\n",
       "        <td>57934</td>\n",
       "    </tr>\n",
       "    <tr>\n",
       "        <td>75421</td>\n",
       "    </tr>\n",
       "    <tr>\n",
       "        <td>76725</td>\n",
       "    </tr>\n",
       "    <tr>\n",
       "        <td>81282</td>\n",
       "    </tr>\n",
       "    <tr>\n",
       "        <td>90689</td>\n",
       "    </tr>\n",
       "    <tr>\n",
       "        <td>94002</td>\n",
       "    </tr>\n",
       "    <tr>\n",
       "        <td>108303</td>\n",
       "    </tr>\n",
       "    <tr>\n",
       "        <td>121001</td>\n",
       "    </tr>\n",
       "    <tr>\n",
       "        <td>133310</td>\n",
       "    </tr>\n",
       "    <tr>\n",
       "        <td>156929</td>\n",
       "    </tr>\n",
       "    <tr>\n",
       "        <td>193514</td>\n",
       "    </tr>\n",
       "    <tr>\n",
       "        <td>249992</td>\n",
       "    </tr>\n",
       "    <tr>\n",
       "        <td>309341</td>\n",
       "    </tr>\n",
       "    <tr>\n",
       "        <td>321188</td>\n",
       "    </tr>\n",
       "    <tr>\n",
       "        <td>321262</td>\n",
       "    </tr>\n",
       "    <tr>\n",
       "        <td>488697</td>\n",
       "    </tr>\n",
       "    <tr>\n",
       "        <td>492698</td>\n",
       "    </tr>\n",
       "    <tr>\n",
       "        <td>500633</td>\n",
       "    </tr>\n",
       "    <tr>\n",
       "        <td>571113</td>\n",
       "    </tr>\n",
       "    <tr>\n",
       "        <td>815183</td>\n",
       "    </tr>\n",
       "    <tr>\n",
       "        <td>911887</td>\n",
       "    </tr>\n",
       "</table>"
      ],
      "text/plain": [
       "[(24810,),\n",
       " (26454,),\n",
       " (26946,),\n",
       " (57934,),\n",
       " (75421,),\n",
       " (76725,),\n",
       " (81282,),\n",
       " (90689,),\n",
       " (94002,),\n",
       " (108303,),\n",
       " (121001,),\n",
       " (133310,),\n",
       " (156929,),\n",
       " (193514,),\n",
       " (249992,),\n",
       " (309341,),\n",
       " (321188,),\n",
       " (321262,),\n",
       " (488697,),\n",
       " (492698,),\n",
       " (500633,),\n",
       " (571113,),\n",
       " (815183,),\n",
       " (911887,)]"
      ]
     },
     "execution_count": 43,
     "metadata": {},
     "output_type": "execute_result"
    }
   ],
   "source": [
    "%%sql\n",
    "SELECT num_eleve FROM seconde;\n"
   ]
  },
  {
   "cell_type": "markdown",
   "metadata": {
    "tags": []
   },
   "source": [
    "### 2.2\n",
    "\n",
    "On rappelle qu’en SQL, la fonction d’agrégation `COUNT()` permet de compter le nombre d’enregistrements dans une table.\n",
    "Quel est le résultat de la requête ci-dessous ?\n",
    "\n",
    "\n",
    "    SELECT COUNT(num_eleve) FROM seconde ;"
   ]
  },
  {
   "cell_type": "markdown",
   "metadata": {
    "tags": [
     "solution",
     "cacher"
    ]
   },
   "source": [
    "*(bloc de réponse)*\n",
    "\n",
    "..."
   ]
  },
  {
   "cell_type": "markdown",
   "metadata": {
    "tags": [
     "solution"
    ]
   },
   "source": [
    "**Réponse** Cette requête compte le nombre d'élément possédant un valeur `num_eleve` et l'affiche. On obtient ainsi le nombre d'entités contenues dans la relation `seconde`. C'est donc le nombre total d'élèves qui s'affiche : `25`.\n"
   ]
  },
  {
   "cell_type": "code",
   "execution_count": 45,
   "metadata": {
    "tags": [
     "solution"
    ]
   },
   "outputs": [
    {
     "name": "stdout",
     "output_type": "stream",
     "text": [
      " * sqlite://\n",
      "Done.\n"
     ]
    },
    {
     "data": {
      "text/html": [
       "<table>\n",
       "    <tr>\n",
       "        <th>COUNT(num_eleve)</th>\n",
       "    </tr>\n",
       "    <tr>\n",
       "        <td>24</td>\n",
       "    </tr>\n",
       "</table>"
      ],
      "text/plain": [
       "[(24,)]"
      ]
     },
     "execution_count": 45,
     "metadata": {},
     "output_type": "execute_result"
    }
   ],
   "source": [
    "%%sql\n",
    "SELECT COUNT(num_eleve) FROM seconde;\n"
   ]
  },
  {
   "cell_type": "markdown",
   "metadata": {
    "tags": []
   },
   "source": [
    "### 2.3\n",
    "\n",
    "Écrire la requête permettant de connaître le nombre d’élèves qui font `allemand` en `langue1` ou `langue2`.\n"
   ]
  },
  {
   "cell_type": "markdown",
   "metadata": {
    "tags": [
     "solution"
    ]
   },
   "source": [
    "*(bloc de réponse)*\n",
    "\n",
    "..."
   ]
  },
  {
   "cell_type": "code",
   "execution_count": null,
   "metadata": {
    "tags": []
   },
   "outputs": [],
   "source": [
    "%%sql \n",
    "-- tester la requête sql ici;\n",
    "-- ..."
   ]
  },
  {
   "cell_type": "markdown",
   "metadata": {
    "tags": [
     "solution"
    ]
   },
   "source": [
    "**Réponse**\n",
    "\n",
    "    SELECT COUNT(num_eleve) FROM seconde\n",
    "    WHERE langue1 = 'allemand' OR langue2 = 'allemand';\n"
   ]
  },
  {
   "cell_type": "code",
   "execution_count": 49,
   "metadata": {
    "tags": [
     "solution"
    ]
   },
   "outputs": [
    {
     "name": "stdout",
     "output_type": "stream",
     "text": [
      " * sqlite://\n",
      "Done.\n"
     ]
    },
    {
     "data": {
      "text/html": [
       "<table>\n",
       "    <tr>\n",
       "        <th>COUNT(num_eleve)</th>\n",
       "    </tr>\n",
       "    <tr>\n",
       "        <td>7</td>\n",
       "    </tr>\n",
       "</table>"
      ],
      "text/plain": [
       "[(7,)]"
      ]
     },
     "execution_count": 49,
     "metadata": {},
     "output_type": "execute_result"
    }
   ],
   "source": [
    "%%sql\n",
    "SELECT COUNT(num_eleve) FROM seconde\n",
    "WHERE langue1 = 'allemand' OR langue2 = 'allemand';\n"
   ]
  },
  {
   "cell_type": "markdown",
   "metadata": {},
   "source": [
    "## Question 3"
   ]
  },
  {
   "cell_type": "markdown",
   "metadata": {},
   "source": [
    "Le chef d’établissement souhaite faire évoluer la structure de sa base de données. Pour ce faire, il créé une nouvelle table `eleve` dont la structure est la suivante :"
   ]
  },
  {
   "cell_type": "markdown",
   "metadata": {},
   "source": [
    "![](./img-enonce03.png)"
   ]
  },
  {
   "cell_type": "markdown",
   "metadata": {
    "tags": [
     "cacher"
    ]
   },
   "source": [
    "![](https://raw.githubusercontent.com/padilla-nsi/tnsi/main/cours/bases-de-donnees/3-requetesEtMiseAJour/img-enonce03.png)"
   ]
  },
  {
   "cell_type": "code",
   "execution_count": 52,
   "metadata": {},
   "outputs": [
    {
     "name": "stdout",
     "output_type": "stream",
     "text": [
      " * sqlite://\n",
      "Done.\n",
      "Done.\n"
     ]
    },
    {
     "data": {
      "text/plain": [
       "[]"
      ]
     },
     "execution_count": 52,
     "metadata": {},
     "output_type": "execute_result"
    }
   ],
   "source": [
    "%%sql"
   ]
  },
  {
   "cell_type": "code",
   "execution_count": 57,
   "metadata": {},
   "outputs": [
    {
     "name": "stdout",
     "output_type": "stream",
     "text": [
      " * sqlite://\n",
      "(sqlite3.OperationalError) near \"FOREIGN\": syntax error\n",
      "[SQL: ALTER TABLE seconde ADD FOREIGN KEY(num_eleve) REFERENCES eleve(num_eleve);]\n",
      "(Background on this error at: https://sqlalche.me/e/14/e3q8)\n"
     ]
    }
   ],
   "source": [
    "%%sql\n",
    "ALTER TABLE seconde \n",
    "    ADD FOREIGN KEY(num_eleve) REFERENCES eleve(num_eleve);"
   ]
  },
  {
   "cell_type": "markdown",
   "metadata": {},
   "source": [
    "Là encore, l’attribut `num_eleve` est un entier, les autres sont des chaines de caractère (le type `CHAR`)."
   ]
  },
  {
   "cell_type": "markdown",
   "metadata": {
    "tags": []
   },
   "source": [
    "### 3.1\n",
    "\n",
    "Expliquer ce qu’apporte l’information `clef étrangère` pour l’attribut `num_eleve` de cette table en termes d’intégrité et de cohérence."
   ]
  },
  {
   "cell_type": "markdown",
   "metadata": {
    "tags": [
     "solution"
    ]
   },
   "source": [
    "*(bloc de réponse)*\n",
    "\n",
    "..."
   ]
  },
  {
   "cell_type": "markdown",
   "metadata": {
    "tags": [
     "solution"
    ]
   },
   "source": [
    "**Réponse** La contrainte *clé étrangère* permet de faire référence à une clé primaire d'une autre table. C'est comme cela qu'on peut mettre en liens deux relations différentes."
   ]
  },
  {
   "cell_type": "markdown",
   "metadata": {
    "tags": []
   },
   "source": [
    "### 3.2\n",
    "\n",
    "On suppose la table `eleve` correctement créée et complétée. Le chef d’établissement aimerait lister les élèves (nom, prénom, date de naissance) de la classe 2A.\n",
    "\n",
    "Écrire la commande qui permet d’établir cette liste à l’aide d’une jointure entre `eleve` et `seconde`."
   ]
  },
  {
   "cell_type": "markdown",
   "metadata": {
    "tags": [
     "solution"
    ]
   },
   "source": [
    "*(bloc de réponse)*\n",
    "\n",
    "..."
   ]
  },
  {
   "cell_type": "code",
   "execution_count": null,
   "metadata": {
    "tags": []
   },
   "outputs": [],
   "source": [
    "%%sql \n",
    "-- tester la requête sql ici;\n",
    "-- ..."
   ]
  },
  {
   "cell_type": "markdown",
   "metadata": {},
   "source": [
    "## Question 4"
   ]
  },
  {
   "cell_type": "markdown",
   "metadata": {
    "tags": []
   },
   "source": [
    "### 4\n",
    "\n",
    "Proposer la structure d’une table `coordonnees` dans laquelle on pourra indiquer, pour chaque élève, son adresse, son code postal, sa ville, son adresse mail.\n",
    "\n",
    "Préciser la clef primaire et/ou la clé étrangère en vue de la mise en relation avec les autres tables.\n"
   ]
  },
  {
   "cell_type": "markdown",
   "metadata": {
    "tags": [
     "solution"
    ]
   },
   "source": [
    "*(bloc de réponse)*\n",
    "\n",
    "..."
   ]
  },
  {
   "cell_type": "code",
   "execution_count": null,
   "metadata": {
    "tags": []
   },
   "outputs": [],
   "source": [
    "%%sql \n",
    "-- tester la requête sql ici;\n",
    "-- ..."
   ]
  }
 ],
 "metadata": {
  "interpreter": {
   "hash": "916dbcbb3f70747c44a77c7bcd40155683ae19c65e1c03b4aa3499c5328201f1"
  },
  "kernelspec": {
   "display_name": "Python 3",
   "language": "python",
   "name": "python3"
  },
  "language_info": {
   "codemirror_mode": {
    "name": "ipython",
    "version": 3
   },
   "file_extension": ".py",
   "mimetype": "text/x-python",
   "name": "python",
   "nbconvert_exporter": "python",
   "pygments_lexer": "ipython3",
   "version": "3.9.2"
  },
  "latex_metadata": {
   "theme": "data",
   "title": "9 --- Requêtes et mises à jour"
  }
 },
 "nbformat": 4,
 "nbformat_minor": 4
}
