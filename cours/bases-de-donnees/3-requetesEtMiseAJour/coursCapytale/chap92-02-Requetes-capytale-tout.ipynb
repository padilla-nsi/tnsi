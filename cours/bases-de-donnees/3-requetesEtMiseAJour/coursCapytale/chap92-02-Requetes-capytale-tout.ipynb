{
 "cells": [
  {
   "cell_type": "markdown",
   "metadata": {},
   "source": [
    "**Dans toute la suite de ce cours, nous travaillerons sur la base de donnée suivante**"
   ]
  },
  {
   "cell_type": "markdown",
   "metadata": {},
   "source": [
    "![](https://capytale2.ac-paris.fr/web/sites/default/files/2021-12-29-10-48-31/livres.png)"
   ]
  },
  {
   "cell_type": "markdown",
   "metadata": {},
   "source": [
    "# Modification des données"
   ]
  },
  {
   "cell_type": "markdown",
   "metadata": {},
   "source": [
    "Les données stockées dans un SGBD ne sont a priori pas figées et peuvent être modifiées au cours du temps. Nous allons montrer deux types de modifications pouvant être faites sur les tables :\n",
    "\n",
    "- la suppression d'un ensemble de lignes et \n",
    "- la mise à jour de certains attributs d'un ensemble de lignes.\n"
   ]
  },
  {
   "cell_type": "markdown",
   "metadata": {},
   "source": [
    "##  Suppression de lignes"
   ]
  },
  {
   "cell_type": "markdown",
   "metadata": {},
   "source": [
    "L'ordre `DELETE FROM t WHERE c` permet de supprimer de la table `t` toutes les lignes vérifiant la condition `c`.\n",
    "\n",
    "Dans l'exemple de notre médiathèque, supposons que l'utilisateur `Sébastien Petit`, dont le `code_barre` est `'934701281931582'`, ait rendu ses livres. Il faut supprimer de la table `emprunt` toutes les lignes pour lesquelles le `code_barre` vaut `'934701281931582'`, ce qui donne l'ordre suivant:\n",
    "\n",
    "```sql\n",
    "DELETE FROM emprunt\n",
    "WHERE code_barre = '934701281931582';\n",
    "```"
   ]
  },
  {
   "cell_type": "code",
   "execution_count": null,
   "metadata": {},
   "outputs": [],
   "source": []
  },
  {
   "cell_type": "markdown",
   "metadata": {},
   "source": [
    "Après exécution de cet ordre, la recherche dans la table emprunt ne donne plus de résultats :\n",
    "\n",
    "```sql\n",
    "SELECT COUNT(*) AS total\n",
    "FROM emprunt\n",
    "WHERE code_barre = '934701281931582';\n",
    "```\n",
    "\n",
    "alors qu'avant la suppression, cette requête envoyait un `total` de `2`."
   ]
  },
  {
   "cell_type": "code",
   "execution_count": null,
   "metadata": {},
   "outputs": [],
   "source": []
  },
  {
   "cell_type": "code",
   "execution_count": 1,
   "metadata": {},
   "outputs": [
    {
     "data": {
      "text/html": [
       "<table class=\"dataframe\" border=\"1\"><thead><tr style=\"text-align: right;\"><th>total</th></tr></thead><tbody><tr><td>2</td></tr></tbody></table>"
      ],
      "text/plain": [
       "total\n",
       "2"
      ]
     },
     "execution_count": 1,
     "metadata": {},
     "output_type": "execute_result"
    }
   ],
   "source": [
    "SELECT COUNT(*) AS total\n",
    "FROM emprunt\n",
    "WHERE code_barre = '934701281931582';"
   ]
  },
  {
   "cell_type": "markdown",
   "metadata": {},
   "source": [
    "#### Erreur classique"
   ]
  },
  {
   "cell_type": "markdown",
   "metadata": {},
   "source": [
    "**Attention**, au même titre qu'une requête `SELECT` sans clause `WHERE` sélectionne **toutes les lignes**, un ordre `DELETE` sans clause `WHERE` **efface toutes les lignes** de la table.\n",
    "\n",
    "Il ne faut pas confondre `DELETE FROM t` et `DROP TABLE t` :\n",
    "\n",
    "- La première opération vide une table de son contenu, mais ne supprime pas la table. Il est donc possible d'y ajouter de nouveau des données au moyen de l'instruction INSERT.\n",
    "- La seconde opération détruit la table (et ses données). La table ne peut donc plus être référencée."
   ]
  },
  {
   "cell_type": "markdown",
   "metadata": {},
   "source": [
    "#### Respect des contraintes"
   ]
  },
  {
   "cell_type": "markdown",
   "metadata": {},
   "source": [
    "Comme nous l'avons dit précédemment, les **contraintes sont vérifiées à chaque mise à jour**. \n",
    "\n",
    "Essayons de supprimer le livre `Hacker's delight` de la table `livre`, sachant que l'ISBN de ce dernier est `'978-0201914658'`.\n",
    "\n",
    "```sql\n",
    "DELETE FROM livre WHERE isbn = '978-0201914658';\n",
    "```\n",
    "\n",
    "renvoit l'erreur suivante :\n",
    "\n",
    "```\n",
    "Error: FOREIGN KEY constraint failed\n",
    "```"
   ]
  },
  {
   "cell_type": "code",
   "execution_count": null,
   "metadata": {},
   "outputs": [],
   "source": []
  },
  {
   "cell_type": "code",
   "execution_count": 2,
   "metadata": {},
   "outputs": [
    {
     "name": "stderr",
     "output_type": "stream",
     "text": [
      "Error: FOREIGN KEY constraint failed"
     ]
    },
    {
     "output_type": "error"
    }
   ],
   "source": [
    "DELETE FROM livre WHERE isbn = '978-0201914658';"
   ]
  },
  {
   "cell_type": "markdown",
   "metadata": {},
   "source": [
    "Ici, le SGBD nous indique que supprimer ce livre (et donc supprimer sa clé primaire de la table livre) violerait la contrainte de clé étrangère dans la table `auteur_de`.\n",
    "\n",
    "Comme pour la destruction d'une table, il faut donc supprimer :\n",
    "\n",
    "- en premier les lignes dont les attributs sont déclarés comme **clés étrangères**\n",
    "- avant de supprimer celles contenant les **clés primaires** correspondantes."
   ]
  },
  {
   "cell_type": "markdown",
   "metadata": {},
   "source": [
    "#### Atomicité d'une requête"
   ]
  },
  {
   "cell_type": "markdown",
   "metadata": {},
   "source": [
    "Du point de vue de leur exécution, les ordres de modification de table sont \n",
    "\n",
    "- soit **entièrement exécutés**,\n",
    "- soit **entièrement annulés**.\n",
    "\n",
    "Considérons la requête suivante:\n",
    "\n",
    "```sql\n",
    "DELETE FROM usager WHERE cp = '75019' OR cp = '75020' ;\n",
    "```\n",
    "\n",
    "qui efface de la table usager toutes les personnes dont le code postal est `75019` ou `75020`.\n",
    "\n",
    "- Si aucune de ces personnes n'apparaît dans la table emprunt, alors les suppressions peuvent être effectuées sans erreur.\n",
    "- Supposons maintenant que certaines de ces personnes ont emprunté un livre. Même si le SGDB rencontre en premier des personnes sans emprunt et les supprime, il lèvera une erreur dès qu'il rencontrera un usager référencé dans la table `emprunt`. Dans ce cas :\n",
    "    - toutes les modifications déjà faites seront annulées et\n",
    "    - la table se trouvera dans l'état qu'elle avait avant la tentative d'exécution.\n",
    "    \n",
    "Ici, la requête sera donc complètement annulée et l'usager de code postal `75019` ne sera pas supprimé.\n",
    "\n",
    "\n",
    "Les exécutions sont donc de type **tout ou rien**, ce que l'on appelle la propriété d'**atomicité**."
   ]
  },
  {
   "cell_type": "code",
   "execution_count": null,
   "metadata": {},
   "outputs": [],
   "source": []
  },
  {
   "cell_type": "code",
   "execution_count": 3,
   "metadata": {},
   "outputs": [
    {
     "name": "stderr",
     "output_type": "stream",
     "text": [
      "Error: FOREIGN KEY constraint failed"
     ]
    },
    {
     "output_type": "error"
    }
   ],
   "source": [
    "DELETE FROM usager WHERE cp = '75019' OR cp = '75020' ;"
   ]
  },
  {
   "cell_type": "markdown",
   "metadata": {},
   "source": [
    "## Mise à jour"
   ]
  },
  {
   "cell_type": "markdown",
   "metadata": {},
   "source": [
    "Le second type de modification est la mise à jour. Elle consiste à remplacer certains attributs d'un ensemble de lignes par de nouvelles valeurs.\n",
    "\n",
    "La syntaxe est la suivante :\n",
    "\n",
    "    UPDATE t SET a1 = e1, SET a2 = e2, ..., SET an = en WHERE c\n",
    "    \n",
    "Cette dernière signifie *sélectionne dans la table `t` toutes les lignes vérifiant la condition `c` et, pour chacune de ces lignes, remplace la valeur courante de l'**attribut** `ai` par la **valeur** de l'expression `ei`*.\n"
   ]
  },
  {
   "cell_type": "markdown",
   "metadata": {},
   "source": [
    "Par exemple, la requête suivante permet d'afficher l'adresse e-mail actuelle de l'utilisateur `Sébastien Petit` :\n",
    "\n",
    "```sql\n",
    "SELECT email from  usager\n",
    "WHERE code_barre = '934701281931582';\n",
    "```\n",
    "\n",
    "et nous affiche\n",
    "\n",
    "![](https://capytale2.ac-paris.fr/web/sites/default/files/2021-12-29-13-35-24/10.png)\n",
    "\n",
    "Pour mettre à jour son adresse `email`, on écrira ceci:\n",
    "\n",
    "```sql\n",
    "UPDATE usager SET email = 'sebastien.petit@hmail.com'\n",
    "WHERE code_barre = '934701281931582';\n",
    "```\n",
    "\n",
    "On peut vérifier avec la requête `SELECT` que l'adresse a bien été modifiée\n",
    "\n",
    "\n",
    "![](https://capytale2.ac-paris.fr/web/sites/default/files/2021-12-29-13-35-24/11.png)"
   ]
  },
  {
   "cell_type": "code",
   "execution_count": null,
   "metadata": {},
   "outputs": [],
   "source": []
  },
  {
   "cell_type": "code",
   "execution_count": 4,
   "metadata": {},
   "outputs": [
    {
     "data": {
      "text/html": [
       "<table class=\"dataframe\" border=\"1\"><thead><tr style=\"text-align: right;\"><th>email</th></tr></thead><tbody><tr><td>spetit4@email.fr</td></tr></tbody></table>"
      ],
      "text/plain": [
       "email\n",
       "spetit4@email.fr"
      ]
     },
     "execution_count": 4,
     "metadata": {},
     "output_type": "execute_result"
    }
   ],
   "source": [
    "SELECT email from  usager\n",
    "WHERE code_barre = '934701281931582';"
   ]
  },
  {
   "cell_type": "code",
   "execution_count": null,
   "metadata": {},
   "outputs": [],
   "source": []
  },
  {
   "cell_type": "code",
   "execution_count": 5,
   "metadata": {},
   "outputs": [],
   "source": [
    "UPDATE usager SET email = 'sebastien.petit@hmail.com'\n",
    "WHERE code_barre = '934701281931582';"
   ]
  },
  {
   "cell_type": "code",
   "execution_count": null,
   "metadata": {},
   "outputs": [],
   "source": []
  },
  {
   "cell_type": "code",
   "execution_count": 6,
   "metadata": {},
   "outputs": [
    {
     "data": {
      "text/html": [
       "<table class=\"dataframe\" border=\"1\"><thead><tr style=\"text-align: right;\"><th>email</th></tr></thead><tbody><tr><td>sebastien.petit@hmail.com</td></tr></tbody></table>"
      ],
      "text/plain": [
       "email\n",
       "sebastien.petit@hmail.com"
      ]
     },
     "execution_count": 6,
     "metadata": {},
     "output_type": "execute_result"
    }
   ],
   "source": [
    "SELECT email from  usager\n",
    "WHERE code_barre = '934701281931582';"
   ]
  },
  {
   "cell_type": "markdown",
   "metadata": {},
   "source": [
    "Les expressions de mise à jour peuvent mentionner des noms d'attributs. Ces derniers sont alors remplacés par la valeur courante (avant mise à jour) de ces attributs.\n",
    "\n",
    "Supposons par exemple que la médiathèque soit fermée au mois d'avril. On souhaite que tous les `emprunts` dont la date de rendu était en avril soient prolongés de 30 jours.\n",
    "\n",
    "```sql\n",
    "UPDATE emprunt SET retour = retour + 30\n",
    "WHERE retour >= '2020-04-01';\n",
    "```\n"
   ]
  },
  {
   "cell_type": "markdown",
   "metadata": {},
   "source": [
    "#### Hors programme\n",
    "\n",
    "Cette syntaxe `retour + 30` est très simple et fonctionne car `retour` a pour domaine `DATE`.\n",
    "\n",
    "**Mais** en SQLite (et donc dans ce notebook), elle ne fonctionne pas car le type `DATE` n'existe pas ici... \n",
    "La syntaxe correcte, plus complexe et **hors programme** est la suivante \n",
    "\n",
    "```sql\n",
    "SET retour = date(retour,'+30 day')\n",
    "```\n",
    "\n",
    "et utilise la fonction `date()` qui permet des opérations entres chaînes de caractères interprétées comme des dates.\n"
   ]
  },
  {
   "cell_type": "code",
   "execution_count": 7,
   "metadata": {},
   "outputs": [
    {
     "data": {
      "text/html": [
       "<table class=\"dataframe\" border=\"1\"><thead><tr style=\"text-align: right;\"><th>code_barre</th><th>isbn</th><th>retour</th></tr></thead><tbody><tr><td>421921003090881</td><td>978-2081358881</td><td>2020-04-28</td></tr><tr><td>421921003090881</td><td>978-2207249123</td><td>2020-04-28</td></tr><tr><td>421921003090881</td><td>978-2824709420</td><td>2020-04-28</td></tr><tr><td>917547585216771</td><td>978-2290105504</td><td>2020-04-07</td></tr></tbody></table>"
      ],
      "text/plain": [
       "code_barre\tisbn\tretour\n",
       "421921003090881\t978-2081358881\t2020-04-28\n",
       "421921003090881\t978-2207249123\t2020-04-28\n",
       "421921003090881\t978-2824709420\t2020-04-28\n",
       "917547585216771\t978-2290105504\t2020-04-07"
      ]
     },
     "execution_count": 7,
     "metadata": {},
     "output_type": "execute_result"
    }
   ],
   "source": [
    "SELECT * FROM emprunt\n",
    "WHERE retour >= '2020-04-01';"
   ]
  },
  {
   "cell_type": "code",
   "execution_count": 8,
   "metadata": {},
   "outputs": [],
   "source": [
    "UPDATE emprunt\n",
    "-- début du commentaire\n",
    "-- SET retour = retour + 30 \n",
    "-- fin du commentaire\n",
    "SET retour = date(retour,'+30 day')\n",
    "WHERE retour >= '2020-04-01';"
   ]
  },
  {
   "cell_type": "code",
   "execution_count": 9,
   "metadata": {},
   "outputs": [
    {
     "data": {
      "text/html": [
       "<table class=\"dataframe\" border=\"1\"><thead><tr style=\"text-align: right;\"><th>code_barre</th><th>isbn</th><th>retour</th></tr></thead><tbody><tr><td>421921003090881</td><td>978-2081358881</td><td>2020-05-28</td></tr><tr><td>421921003090881</td><td>978-2207249123</td><td>2020-05-28</td></tr><tr><td>421921003090881</td><td>978-2824709420</td><td>2020-05-28</td></tr><tr><td>917547585216771</td><td>978-2290105504</td><td>2020-05-07</td></tr></tbody></table>"
      ],
      "text/plain": [
       "code_barre\tisbn\tretour\n",
       "421921003090881\t978-2081358881\t2020-05-28\n",
       "421921003090881\t978-2207249123\t2020-05-28\n",
       "421921003090881\t978-2824709420\t2020-05-28\n",
       "917547585216771\t978-2290105504\t2020-05-07"
      ]
     },
     "execution_count": 9,
     "metadata": {},
     "output_type": "execute_result"
    }
   ],
   "source": [
    "SELECT * FROM emprunt\n",
    "WHERE retour >= '2020-04-01';"
   ]
  },
  {
   "cell_type": "markdown",
   "metadata": {},
   "source": [
    "Dans la mise à jour précédente, la clause `SET retour = retour + 30` est similaire à la modification d'une variable dans un langage de programmation comme Python, c'est-à-dire :\n",
    "\n",
    "1. prendre la valeur courante de retour,\n",
    "2. y ajouter 30 et \n",
    "3. écrire la nouvelle valeur dans retour."
   ]
  },
  {
   "cell_type": "markdown",
   "metadata": {},
   "source": [
    "## Requêtes imbriquées"
   ]
  },
  {
   "cell_type": "markdown",
   "metadata": {},
   "source": [
    "#### Première manière"
   ]
  },
  {
   "cell_type": "markdown",
   "metadata": {},
   "source": [
    "Il est possible de créer une table de manière *temporaire* et d'exécuter une requête sur cette table en **imbriquant** la première requête dans la clause `FROM` de la seconde ou dans une clause `JOIN ... ON` :\n",
    "\n",
    "```sql\n",
    "SELECT * FROM (SELECT * FROM livre\n",
    "                        WHERE annee >= 1990) AS tmp\n",
    "WHERE tmp.annee <= 2000;\n",
    "```\n",
    "\n",
    "La requête ci-dessus calcule d'abord une table intermédiaire nommée `tmp` qui liste les livres publiés après 1990. Suite à quoi, la table `tmp` est refiltrée pour ne garder que les livres pour lesquels l'année est inférieure à 2000. Attention, il ne s'agit ici que d'une explication de *haut niveau*. En pratique, n'importe quel SGBD moderne évaluera cette requête imbriquée comme la requête équivalente :\n",
    "\n",
    "```sql\n",
    "SELECT * FROM livre WHERE annee >= 1990 AND annee <= 2000;\n",
    "```"
   ]
  },
  {
   "cell_type": "code",
   "execution_count": 10,
   "metadata": {},
   "outputs": [
    {
     "data": {
      "text/html": [
       "<table class=\"dataframe\" border=\"1\"><thead><tr style=\"text-align: right;\"><th>titre</th><th>editeur</th><th>annee</th><th>isbn</th></tr></thead><tbody><tr><td>Fondation et Empire</td><td>Editions Denoël</td><td>1999</td><td>978-2207249123</td></tr><tr><td>Akira</td><td>Glénat</td><td>2000</td><td>978-2723428262</td></tr><tr><td>Croisière sans escale</td><td>Editions Denoël</td><td>1990</td><td>978-2207500293</td></tr><tr><td>Astérix et Cléopâtre</td><td>Dargaud</td><td>1999</td><td>978-2012100060</td></tr><tr><td>Au carrefour des étoiles</td><td>J'ai Lu</td><td>1997</td><td>978-2277118473</td></tr><tr><td>Les Buddenbrook</td><td>LGF/Le Livre de Poche</td><td>1993</td><td>978-2253063193</td></tr><tr><td>Le Noir Dessein</td><td>Livre de poche</td><td>1998</td><td>978-2253062820</td></tr><tr><td>The Practice of Programming</td><td>Addison-Wesley Professional</td><td>1999</td><td>978-0201615869</td></tr><tr><td>Les Plus qu'humains</td><td>adsaa</td><td>1999</td><td>000-0000000162</td></tr><tr><td>Les Contes de Canterbury</td><td>Gallimard Education</td><td>2000</td><td>978-2070406340</td></tr><tr><td>The Art of Computer Programming</td><td>Addison-Wesley Professional</td><td>1997</td><td>978-0321635747</td></tr><tr><td>L'Aveuglement</td><td>Contemporary French Fiction</td><td>2000</td><td>978-2020403436</td></tr><tr><td>Le Domaine des dieux</td><td>French & European Publications</td><td>1992</td><td>978-0785909903</td></tr><tr><td>Cent ans de solitude</td><td>Contemporary French Fiction</td><td>1995</td><td>978-2020238113</td></tr><tr><td>Énéide</td><td>Belles Lettres</td><td>1993</td><td>978-2251013039</td></tr><tr><td>Middlemarch</td><td>Wordsworth Editions</td><td>1994</td><td>978-1853262371</td></tr><tr><td>Le Tambour</td><td>Contemporary French Fiction</td><td>1997</td><td>978-2020314305</td></tr><tr><td>L'Éducation sentimentale</td><td>FeniXX</td><td>1990</td><td>978-2402282697</td></tr></tbody></table>"
      ],
      "text/plain": [
       "titre\tediteur\tannee\tisbn\n",
       "Fondation et Empire\tEditions Denoël\t1999\t978-2207249123\n",
       "Akira\tGlénat\t2000\t978-2723428262\n",
       "Croisière sans escale\tEditions Denoël\t1990\t978-2207500293\n",
       "Astérix et Cléopâtre\tDargaud\t1999\t978-2012100060\n",
       "Au carrefour des étoiles\tJ'ai Lu\t1997\t978-2277118473\n",
       "Les Buddenbrook\tLGF/Le Livre de Poche\t1993\t978-2253063193\n",
       "Le Noir Dessein\tLivre de poche\t1998\t978-2253062820\n",
       "The Practice of Programming\tAddison-Wesley Professional\t1999\t978-0201615869\n",
       "Les Plus qu'humains\tadsaa\t1999\t000-0000000162\n",
       "Les Contes de Canterbury\tGallimard Education\t2000\t978-2070406340\n",
       "The Art of Computer Programming\tAddison-Wesley Professional\t1997\t978-0321635747\n",
       "L'Aveuglement\tContemporary French Fiction\t2000\t978-2020403436\n",
       "Le Domaine des dieux\tFrench & European Publications\t1992\t978-0785909903\n",
       "Cent ans de solitude\tContemporary French Fiction\t1995\t978-2020238113\n",
       "Énéide\tBelles Lettres\t1993\t978-2251013039\n",
       "Middlemarch\tWordsworth Editions\t1994\t978-1853262371\n",
       "Le Tambour\tContemporary French Fiction\t1997\t978-2020314305\n",
       "L'Éducation sentimentale\tFeniXX\t1990\t978-2402282697"
      ]
     },
     "execution_count": 10,
     "metadata": {},
     "output_type": "execute_result"
    }
   ],
   "source": [
    "SELECT * FROM (SELECT * FROM livre\n",
    "                        WHERE annee >= 1990) AS tmp\n",
    "WHERE tmp.annee <= 2000;"
   ]
  },
  {
   "cell_type": "markdown",
   "metadata": {},
   "source": [
    "#### Deuxième manière"
   ]
  },
  {
   "cell_type": "markdown",
   "metadata": {},
   "source": [
    "Une autre manière d'imbriquer les requêtes consiste à utiliser une sous-requête dans la clause `WHERE`.\n",
    "\n",
    "En effet, le langage SQL identifie les valeurs scalaires et les tables à une seule *case* telles que celles renvoyées par les fonctions d'agrégation. Par exemple, si on souhaite afficher les titres des livres dont l'année est la plus ancienne dans la base, on pourra écrire:\n",
    "\n",
    "```sql\n",
    "SELECT titre FROM livre WHERE annee =\n",
    "                        (SELECT MIN(annee) FROM livre);\n",
    "```\n",
    "\n",
    "Ici, la sous-requête calcule l'année minimum de la table `livre` (*1933* dans notre base), puis affiche tous les titres de livres dont l'année vaut `1933`."
   ]
  },
  {
   "cell_type": "code",
   "execution_count": 11,
   "metadata": {},
   "outputs": [
    {
     "data": {
      "text/html": [
       "<table class=\"dataframe\" border=\"1\"><thead><tr style=\"text-align: right;\"><th>titre</th></tr></thead><tbody><tr><td>Berlin Alexanderplatz</td></tr></tbody></table>"
      ],
      "text/plain": [
       "titre\n",
       "Berlin Alexanderplatz"
      ]
     },
     "execution_count": 11,
     "metadata": {},
     "output_type": "execute_result"
    }
   ],
   "source": [
    "SELECT titre FROM livre WHERE annee =\n",
    "                        (SELECT MIN(annee) FROM livre);"
   ]
  },
  {
   "cell_type": "markdown",
   "metadata": {},
   "source": [
    "Attention, la sous-requête ne doit pas nécessairement comporter une fonction d'agrégation. Il suffit qu'elle renvoie une table contenant **une seule valeur**.\n",
    "\n",
    "Ainsi, si nous voulons afficher les titres des livres publiés la même année que Moby Dick (sans connaître cette année), nous pouvons écrire :\n",
    "\n",
    "```sql\n",
    "SELECT titre FROM livre WHERE annee =\n",
    "                    (SELECT annee FROM livre WHERE titre = 'Moby Dick');\n",
    "```"
   ]
  },
  {
   "cell_type": "code",
   "execution_count": 12,
   "metadata": {},
   "outputs": [
    {
     "data": {
      "text/html": [
       "<table class=\"dataframe\" border=\"1\"><thead><tr style=\"text-align: right;\"><th>titre</th></tr></thead><tbody><tr><td>Moby Dick</td></tr><tr><td>L'Île des morts</td></tr><tr><td>Le Devin</td></tr><tr><td>Le Berceau du chat</td></tr><tr><td>Les Enfants de minuit</td></tr><tr><td>À la recherche du temps perdu</td></tr></tbody></table>"
      ],
      "text/plain": [
       "titre\n",
       "Moby Dick\n",
       "L'Île des morts\n",
       "Le Devin\n",
       "Le Berceau du chat\n",
       "Les Enfants de minuit\n",
       "À la recherche du temps perdu"
      ]
     },
     "execution_count": 12,
     "metadata": {},
     "output_type": "execute_result"
    }
   ],
   "source": [
    "SELECT titre FROM livre WHERE annee =\n",
    "                    (SELECT annee FROM livre WHERE titre = 'Moby Dick');"
   ]
  },
  {
   "cell_type": "markdown",
   "metadata": {},
   "source": [
    "**Attention** si la sous-requête renvoie plusieurs résultats, le SGBD renverra une erreur :\n",
    "\n",
    "```sql\n",
    "SELECT titre FROM livre WHERE annee =\n",
    "            (SELECT annee FROM livre WHERE titre LIKE '%Astérix%');\n",
    "```\n",
    "\n",
    "(sauf dans ce notebook et en SQLite, mais on va faire comme si...)"
   ]
  }
 ],
 "metadata": {
  "interpreter": {
   "hash": "916dbcbb3f70747c44a77c7bcd40155683ae19c65e1c03b4aa3499c5328201f1"
  },
  "kernelspec": {
   "display_name": "Python 3",
   "language": "python",
   "name": "python3"
  },
  "language_info": {
   "codemirror_mode": {
    "name": "ipython",
    "version": 3
   },
   "file_extension": ".py",
   "mimetype": "text/x-python",
   "name": "python",
   "nbconvert_exporter": "python",
   "pygments_lexer": "ipython3",
   "version": "3.9.2"
  },
  "latex_metadata": {
   "theme": "data",
   "title": "9 --- Requêtes et mises à jour"
  }
 },
 "nbformat": 4,
 "nbformat_minor": 2
}
