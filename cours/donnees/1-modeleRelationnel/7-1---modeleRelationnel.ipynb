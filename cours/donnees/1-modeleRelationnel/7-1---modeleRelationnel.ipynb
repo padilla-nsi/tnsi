{
 "cells": [
  {
   "cell_type": "markdown",
   "id": "87853742",
   "metadata": {
    "slideshow": {
     "slide_type": "slide"
    }
   },
   "source": [
    "# Chap. 7 --- Modèle relationnel"
   ]
  },
  {
   "cell_type": "markdown",
   "id": "a5360be9",
   "metadata": {
    "slideshow": {
     "slide_type": "slide"
    }
   },
   "source": [
    "### Exemple de la bibliothèque/médiathèque"
   ]
  },
  {
   "cell_type": "markdown",
   "id": "96a3e678",
   "metadata": {},
   "source": [
    "."
   ]
  },
  {
   "cell_type": "markdown",
   "id": "b5ceb05f",
   "metadata": {
    "slideshow": {
     "slide_type": "subslide"
    }
   },
   "source": [
    "- descriptions des objets\n",
    "- approximation -> modélisation\n",
    "- garantir l'absence d'erreur\n",
    "- permettre l'ajout/suppression\n",
    "- gérer les droits\n",
    "- etc.\n",
    "\n",
    "=> SGBD"
   ]
  },
  {
   "cell_type": "markdown",
   "id": "e24d9329",
   "metadata": {
    "slideshow": {
     "slide_type": "slide"
    }
   },
   "source": [
    "## 7.1 --- Le modèle relationnel"
   ]
  },
  {
   "cell_type": "markdown",
   "id": "451b413f",
   "metadata": {},
   "source": [
    "."
   ]
  },
  {
   "cell_type": "markdown",
   "id": "f1194966",
   "metadata": {
    "slideshow": {
     "slide_type": "subslide"
    }
   },
   "source": [
    "- représentation math/info\n",
    "- -> énoncés logiques\n",
    "- -> opérations élémentaires\n"
   ]
  },
  {
   "cell_type": "markdown",
   "id": "08e9bd00",
   "metadata": {
    "slideshow": {
     "slide_type": "slide"
    }
   },
   "source": [
    "### Modèle de données, structure de données"
   ]
  },
  {
   "cell_type": "markdown",
   "id": "2ede1a0e",
   "metadata": {},
   "source": [
    "."
   ]
  },
  {
   "cell_type": "markdown",
   "id": "d01b0769",
   "metadata": {
    "slideshow": {
     "slide_type": "subslide"
    }
   },
   "source": [
    "-  niveau d'abstractions différents"
   ]
  },
  {
   "cell_type": "markdown",
   "id": "662098d6",
   "metadata": {
    "slideshow": {
     "slide_type": "slide"
    }
   },
   "source": [
    "## 7.2 --- Modélisation relationnelle des données"
   ]
  },
  {
   "cell_type": "markdown",
   "id": "6dee0023",
   "metadata": {},
   "source": [
    "."
   ]
  },
  {
   "cell_type": "markdown",
   "id": "73366f8f",
   "metadata": {
    "slideshow": {
     "slide_type": "subslide"
    }
   },
   "source": [
    "- 1970 Edgar Cobb (IBM)"
   ]
  },
  {
   "cell_type": "markdown",
   "id": "b2905a0d",
   "metadata": {
    "slideshow": {
     "slide_type": "slide"
    }
   },
   "source": [
    "### Principes généraux"
   ]
  },
  {
   "cell_type": "markdown",
   "id": "650dbbab",
   "metadata": {},
   "source": [
    ".\n"
   ]
  },
  {
   "cell_type": "markdown",
   "id": "01954648",
   "metadata": {
    "slideshow": {
     "slide_type": "subslide"
    }
   },
   "source": [
    "- objet (**entité**) : n-uplet\n",
    "  - `(\"Introduction à l'algorithmique\": String, \"Thomas Cormen\": String, \"Dunod\": String, 01/12/1994 : Time, \"2-10-001933-3\": String)`\n",
    "- collection (**relation**) : ensemble de nuplets\n",
    "  - `{ (\"Introduction à l'algorithmique\", \"Thomas Cormen\", \"Dunod\", 01/12/1994, \"2-10-001933-3\"), (\"Python pour le data scientist\", \"Emmanuel Jakobowicz\", \"Dunod\", 03/03/2021, \"978-2-10-081224-0 \"), (\"Astérix Tome 39\", \"Didier Conrad\", \"Albert René (Editions)\", 21/10/2021, \"9782864973492\"), ... }`\n",
    "- **schéma** : pour chaque **attribut** il faut un nom et un **domaine**\n",
    "  $$\\text{($titre$: String, $auteur$: String, $editeur$: String, $date$: Time, $isbn$: String)}$$\n",
    "- **BDD** = ensemble des relations"
   ]
  },
  {
   "cell_type": "markdown",
   "id": "e768bfe7",
   "metadata": {
    "slideshow": {
     "slide_type": "slide"
    }
   },
   "source": [
    "### Modéliser"
   ]
  },
  {
   "cell_type": "markdown",
   "id": "dddb6fae",
   "metadata": {},
   "source": [
    ".\n"
   ]
  },
  {
   "cell_type": "markdown",
   "id": "951e0abe",
   "metadata": {
    "slideshow": {
     "slide_type": "subslide"
    }
   },
   "source": [
    "1. déterminer entités à modéliser (objets, personnes, actions, etc.)\n",
    "2. modéliser les entités par une relation => schéma\n",
    "3. définir les contraintes"
   ]
  },
  {
   "cell_type": "markdown",
   "id": "45cb486f",
   "metadata": {
    "slideshow": {
     "slide_type": "slide"
    }
   },
   "source": [
    "### D'autres modèles"
   ]
  },
  {
   "cell_type": "markdown",
   "id": "b848c4ef",
   "metadata": {},
   "source": [
    ".\n"
   ]
  },
  {
   "cell_type": "markdown",
   "id": "697e9c39",
   "metadata": {
    "slideshow": {
     "slide_type": "subslide"
    }
   },
   "source": [
    "- paradigmes réseaux, objets, etc."
   ]
  },
  {
   "cell_type": "markdown",
   "id": "48a85e5c",
   "metadata": {
    "slideshow": {
     "slide_type": "slide"
    }
   },
   "source": [
    "### Contraintes d'intégrité"
   ]
  },
  {
   "cell_type": "markdown",
   "id": "94d88bbe",
   "metadata": {},
   "source": [
    "."
   ]
  },
  {
   "cell_type": "markdown",
   "id": "c1e34512",
   "metadata": {
    "slideshow": {
     "slide_type": "subslide"
    }
   },
   "source": [
    "- invariants : prop logique préservée\n",
    "- garantit la cohérence des données"
   ]
  },
  {
   "cell_type": "markdown",
   "id": "3110533d",
   "metadata": {
    "slideshow": {
     "slide_type": "slide"
    }
   },
   "source": [
    "#### Contrainte de domaine"
   ]
  },
  {
   "cell_type": "markdown",
   "id": "621344fe",
   "metadata": {},
   "source": [
    ".\n"
   ]
  },
  {
   "cell_type": "markdown",
   "id": "b837b9bf",
   "metadata": {
    "slideshow": {
     "slide_type": "subslide"
    }
   },
   "source": [
    "- choix du domaine importante\n",
    "  - il ne faut pas de perte d'information\n",
    "  - il faut limiter les valeurs illégales"
   ]
  },
  {
   "cell_type": "markdown",
   "id": "3a851edc",
   "metadata": {
    "slideshow": {
     "slide_type": "slide"
    }
   },
   "source": [
    "#### Contrainte d'entité"
   ]
  },
  {
   "cell_type": "markdown",
   "id": "6f7ac042",
   "metadata": {},
   "source": [
    ".\n"
   ]
  },
  {
   "cell_type": "markdown",
   "id": "4e56dc9b",
   "metadata": {
    "slideshow": {
     "slide_type": "subslide"
    }
   },
   "source": [
    "- unicité de chaque élément\n",
    "- non ambiguë\n",
    "- clé primaire"
   ]
  },
  {
   "cell_type": "markdown",
   "id": "0bcdada3",
   "metadata": {
    "slideshow": {
     "slide_type": "slide"
    }
   },
   "source": [
    "#### Contrainte de référence"
   ]
  },
  {
   "cell_type": "markdown",
   "id": "bc2de5d7",
   "metadata": {},
   "source": [
    ".\n"
   ]
  },
  {
   "cell_type": "markdown",
   "id": "065a8254",
   "metadata": {
    "slideshow": {
     "slide_type": "subslide"
    }
   },
   "source": [
    "- clés étrangères"
   ]
  },
  {
   "cell_type": "markdown",
   "id": "9f7edabf",
   "metadata": {
    "slideshow": {
     "slide_type": "slide"
    }
   },
   "source": [
    "Contrainte utilisateur"
   ]
  },
  {
   "cell_type": "markdown",
   "id": "uniform-valve",
   "metadata": {},
   "source": [
    ".\n"
   ]
  },
  {
   "cell_type": "markdown",
   "id": "norman-generator",
   "metadata": {
    "slideshow": {
     "slide_type": "subslide"
    }
   },
   "source": [
    "- droits d'accès"
   ]
  },
  {
   "cell_type": "markdown",
   "id": "25860477",
   "metadata": {
    "slideshow": {
     "slide_type": "slide"
    }
   },
   "source": [
    "## 7.3 Activités"
   ]
  },
  {
   "cell_type": "markdown",
   "id": "23084ad1",
   "metadata": {
    "slideshow": {
     "slide_type": "subslide"
    }
   },
   "source": [
    "On souhaite modéliser un annuaire téléphonique simple dans\n",
    "lequel chaque personne (identifiée par son nom et son prénom) est associée à son numéro de téléphone.\n",
    "\n",
    "Proposer une modélisation relationnelle de cet annuaire."
   ]
  },
  {
   "cell_type": "markdown",
   "id": "3829f0d2",
   "metadata": {
    "slideshow": {
     "slide_type": "subslide"
    }
   },
   "source": [
    "On considère la solution donnée pour l'activité précédente. Dire si chacun des ensembles est une relation valide pour le schéma Annuaire.\n",
    "\n",
    "1. `{}`\n",
    "2. `{('Titi', 'Toto', '0123456789')}`\n",
    "3. `{('Titi', 'Toto', '0123456789'), ('Doe', 'John', '0123456789')}`\n",
    "4. `{('Titi', 'Toto', '0123456789'), ('Titi', 'Toto', '987654343210')}`\n",
    "5. `{('Titi', 'Toto', '0123456789'), ('Doe', 'John')}`\n",
    "6. `{('Titi', 'Toto',42)}`"
   ]
  },
  {
   "cell_type": "markdown",
   "id": "0a13f257",
   "metadata": {
    "slideshow": {
     "slide_type": "subslide"
    }
   },
   "source": [
    "Donner la modélisation relationnelle d'un bulletin scolaire.\n",
    "\n",
    "Cette dernière doit permettre de mentionner\n",
    "\n",
    "- des élèves, possédants un numéro d'étudiant alphanumérique unique\n",
    "- un ensemble de matières fixées, mais qui ne sont pas données\n",
    "- au plus une note sur 20, par matière et par élève.\n",
    "\n",
    "On prendra soin de préciser toutes les contraintes utilisateurs qui ne peuvent êtres inscrites dans les schémas des relations."
   ]
  },
  {
   "cell_type": "markdown",
   "id": "2fc89533",
   "metadata": {
    "slideshow": {
     "slide_type": "subslide"
    }
   },
   "source": [
    "On considère la solution donnée pour l'activité précédente. Dire si chacun des ensembles est une relation valide pour le schéma de la base de données du bulletin de notes.\n",
    "\n",
    "1. \n",
    "   - `Eleve = {}`\n",
    "   - `Matiere = {}`\n",
    "   - `Note = {}`\n",
    "\n",
    "2. \n",
    "   - `Eleve = {('Titi', 'Toto', 'AB56789'), }`\n",
    "   - `Matiere = {('NSI', 0), ('Sport' , 1)}`\n",
    "   - `Note = {('AB56789', 1, 17)}`\n",
    "\n",
    "\n",
    "3. \n",
    "   - `Eleve = {('Titi', 'Toto', 'AB56789'), }`\n",
    "   - `Matiere= {('NSI', O)}`\n",
    "   - `Note = {('AB56789', 1, 17)}`\n",
    "\n",
    "\n",
    "4. \n",
    "   - `Eleve = {('Titi', 'Toto', ' AB56789'), }`\n",
    "   - `Matiere = {('NSI', O), }`\n",
    "   - `Note = {('AB56789', 0, 17), ('AB56789' ,0, 18)}`\n",
    "\n",
    "\n",
    "5. \n",
    "   - `Eleve = {('Titi', 'Toto', 'AB56789'), }`\n",
    "   - `Matiere = {('NSI', 0), ('Sport', 1)}`\n",
    "   - `Note = {('AB56789', 0, 17), ('AB56789', 1, 17)}`\n",
    "\n",
    "\n"
   ]
  },
  {
   "cell_type": "markdown",
   "id": "cfd64acc",
   "metadata": {
    "slideshow": {
     "slide_type": "subslide"
    }
   },
   "source": [
    "Modéliser des informations sur les départements français.\n",
    "\n",
    "Pour chaque département on veut pouvoir stocker son nom, son code, son chef-lieu et la liste de tous les départements voisins. Attention, les codes de département sont tous des nombres, sauf la Corse du Sud et la Haute Corse qui ont les codes 2A et 2B respectivement. Les départements d'Outre-Mer ont un code sur trois chiffres (de 971 à 976).\n",
    "\n",
    "Proposer une contrainte utilisateur permettant d'éviter la redondance d'information dans la liste des voisins."
   ]
  },
  {
   "cell_type": "markdown",
   "id": "d03c3fbe",
   "metadata": {
    "slideshow": {
     "slide_type": "subslide"
    }
   },
   "source": [
    "Proposer une modélisation pour un réseau de bus. Cette dernière doit être suffisamment riche pour permettre de générer, pour chaque arrêt de bus du réseau, une fiche horaire avec tous les horaires de passage de toutes les lignes de bus qui desservent l'arrêt.\n",
    "\n",
    "Indication: ici, plus qu'une simple traduction du français vers le modèle relationnel, on essayera de déterminer dans un premier temps quelles informations sont pertinentes et comment les représenter. On pourra ensuite procéder à la modélisation sous forme de relations."
   ]
  },
  {
   "cell_type": "markdown",
   "id": "5c08e06f",
   "metadata": {
    "slideshow": {
     "slide_type": "subslide"
    }
   },
   "source": [
    "On considère deux relations $R(\\underline{a \\texttt{ Int}}, b \\texttt{ Int}, c \\texttt{ Int})$ et\n",
    "$S(\\underline{a \\texttt{ Int}, e \\texttt{ Int}})$ où l'attribut $a$ de $S$ est une clé étrangère faisant référence à $a$ de $R$.\n",
    "\n",
    "Dire si les affirmations suivantes sont vraies ou fausses, en justifiant.\n",
    "\n",
    "1. Les $a$ de $R$ sont tous deux à deux distincts.\n",
    "2. Les $b$ de $R$ sont tous deux à deux distincts.\n",
    "3. Les $a$ de $S$ sont tous deux à deux distincts.\n",
    "4. Les $e$ de $S$ sont tous deux à deux distincts.\n",
    "5. $S$ peut être vide alors que $R$ est non vide.\n",
    "6. $R$ peut être vide alors que $S$ est non vide"
   ]
  }
 ],
 "metadata": {
  "celltoolbar": "Diaporama",
  "interpreter": {
   "hash": "916dbcbb3f70747c44a77c7bcd40155683ae19c65e1c03b4aa3499c5328201f1"
  },
  "kernelspec": {
   "display_name": "Python 3",
   "language": "python",
   "name": "python3"
  },
  "language_info": {
   "codemirror_mode": {
    "name": "ipython",
    "version": 3
   },
   "file_extension": ".py",
   "mimetype": "text/x-python",
   "name": "python",
   "nbconvert_exporter": "python",
   "pygments_lexer": "ipython3",
   "version": "3.9.2"
  },
  "latex_metadata": {
   "theme": "structure",
   "title": "6 --- Piles et files"
  },
  "rise": {
   "theme": "serif"
  }
 },
 "nbformat": 4,
 "nbformat_minor": 5
}
