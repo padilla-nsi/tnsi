{
 "cells": [
  {
   "cell_type": "markdown",
   "id": "87853742",
   "metadata": {
    "slideshow": {
     "slide_type": "slide"
    }
   },
   "source": [
    "# Chap. 7 --- Modèle relationnel"
   ]
  },
  {
   "cell_type": "markdown",
   "id": "e24d9329",
   "metadata": {},
   "source": [
    "## 7.1 --- Le modèle relationnel"
   ]
  },
  {
   "cell_type": "markdown",
   "id": "08e9bd00",
   "metadata": {},
   "source": [
    "### Modèle de données, structure de données"
   ]
  },
  {
   "cell_type": "markdown",
   "id": "662098d6",
   "metadata": {},
   "source": [
    "## 7.2 --- Modélisation relationnelle des données"
   ]
  },
  {
   "cell_type": "markdown",
   "id": "b2905a0d",
   "metadata": {},
   "source": [
    "### Principes généraux"
   ]
  },
  {
   "cell_type": "markdown",
   "id": "45cb486f",
   "metadata": {},
   "source": [
    "### D'autres modèles"
   ]
  },
  {
   "cell_type": "markdown",
   "id": "48a85e5c",
   "metadata": {},
   "source": [
    "### Contraintes d'intégrité"
   ]
  },
  {
   "cell_type": "markdown",
   "id": "3110533d",
   "metadata": {},
   "source": [
    "#### Contrainte de domaine"
   ]
  },
  {
   "cell_type": "markdown",
   "id": "3a851edc",
   "metadata": {},
   "source": [
    "#### Contrainte d'entité"
   ]
  },
  {
   "cell_type": "markdown",
   "id": "0bcdada3",
   "metadata": {},
   "source": [
    "#### Contrainte de référence"
   ]
  },
  {
   "cell_type": "markdown",
   "id": "9f7edabf",
   "metadata": {},
   "source": [
    "Contrainte utilisateur"
   ]
  },
  {
   "cell_type": "markdown",
   "id": "25860477",
   "metadata": {},
   "source": [
    "## 7.3 Activités"
   ]
  },
  {
   "cell_type": "markdown",
   "id": "23084ad1",
   "metadata": {},
   "source": [
    "On souhaite modéliser un annuaire téléphonique simple dans\n",
    "lequel chaque personne (identifiée par son nom et son prénom) est associée à son numéro de téléphone.\n",
    "\n",
    "Proposer une modélisation relationnelle de cet annuaire."
   ]
  },
  {
   "cell_type": "markdown",
   "id": "3829f0d2",
   "metadata": {},
   "source": [
    "On considère la solution donnée pour l'activité précédente. Dire si chacun des ensembles est une relation valide pour le schéma Annuaire.\n",
    "\n",
    "1. `{}`\n",
    "2. `{('Titi', 'Toto', '0123456789')}`\n",
    "3. `{('Titi', 'Toto', '0123456789'), ('Doe', 'John', '0123456789')}`\n",
    "4. `{('Titi', 'Toto', '0123456789'), ('Titi', 'Toto', '987654343210')}`\n",
    "5. `{('Titi', 'Toto', '0123456789'), ('Doe', 'John')}`\n",
    "6. `{('Titi', 'Toto',42)}`"
   ]
  },
  {
   "cell_type": "markdown",
   "id": "0a13f257",
   "metadata": {},
   "source": [
    "Donner la modélisation relationnelle d'un bulletin scolaire.\n",
    "\n",
    "Cette dernière doit permettre de mentionner\n",
    "\n",
    "- des élèves, possédants un numéro d'étudiant alphanumérique unique\n",
    "- un ensemble de matières fixées, mais qui ne sont pas données\n",
    "- au plus une note sur 20, par matière et par élève.\n",
    "\n",
    "On prendra soin de préciser toutes les contraintes utilisateurs qui ne peuvent êtres inscrites dans les schémas des relations."
   ]
  },
  {
   "cell_type": "markdown",
   "id": "2fc89533",
   "metadata": {},
   "source": [
    "On considère la solution donnée pour l'activité précédente. Dire si chacun des ensembles est une relation valide pour le schéma de la base de données du bulletin de notes.\n",
    "\n",
    "1. \n",
    "   - `Eleve = {}`\n",
    "   - `Matiere = {}`\n",
    "   - `Note = {}`\n",
    "\n",
    "2. \n",
    "   - `Eleve = {('Titi', 'Toto', 'AB56789'), }`\n",
    "   - `Matiere = {('NSI', 0), ('Sport' , 1)}`\n",
    "   - `Note = {('AB56789', 1, 17)}`\n",
    "\n",
    "\n",
    "3. \n",
    "   - `Eleve = {('Titi', 'Toto', 'AB56789'), }`\n",
    "   - `Matiere= {('NSI', O)}`\n",
    "   - `Note = {('AB56789', 1, 17)}`\n",
    "\n",
    "\n",
    "4. \n",
    "   - `Eleve = {('Titi', 'Toto', ' AB56789'), }`\n",
    "   - `Matiere = {('NSI', O), }`\n",
    "   - `Note = {('AB56789', 0, 17), ('AB56789' ,0, 18)}`\n",
    "\n",
    "\n",
    "5. \n",
    "   - `Eleve = {('Titi', 'Toto', 'AB56789'), }`\n",
    "   - `Matiere = {('NSI', 0), ('Sport', 1)}`\n",
    "   - `Note = {('AB56789', 0, 17), ('AB56789', 1, 17)}`\n",
    "\n",
    "\n"
   ]
  },
  {
   "cell_type": "markdown",
   "id": "cfd64acc",
   "metadata": {},
   "source": [
    "Modéliser des informations sur les départements français.\n",
    "\n",
    "Pour chaque département on veut pouvoir stocker son nom, son code, son chef-lieu et la liste de tous les départements voisins. Attention, les codes de département sont tous des nombres, sauf la Corse du Sud et la Haute Corse qui ont les codes 2A et 2B respectivement. Les départements d'Outre-Mer ont un code sur trois chiffres (de 971 à 976).\n",
    "\n",
    "Proposer une contrainte utilisateur permettant d'éviter la redondance d'information dans la liste des voisins."
   ]
  },
  {
   "cell_type": "markdown",
   "id": "d03c3fbe",
   "metadata": {},
   "source": [
    "Proposer une modélisation pour un réseau de bus. Cette dernière doit être suffisamment riche pour permettre de générer, pour chaque arrêt de bus du réseau, une fiche horaire avec tous les horaires de passage de toutes les lignes de bus qui desservent l'arrêt.\n",
    "\n",
    "Indication: ici, plus qu'une simple traduction du français vers le modèle relationnel, on essayera de déterminer dans un premier temps quelles informations sont pertinentes et comment les représenter. On pourra ensuite procéder à la modélisation sous forme de relations."
   ]
  },
  {
   "cell_type": "markdown",
   "id": "5c08e06f",
   "metadata": {},
   "source": [
    "On considère deux relations $R(\\underline{a \\texttt{ Int}}, b \\texttt{ Int}, c \\texttt{ Int})$ et\n",
    "$S(\\underline{a \\texttt{ Int}, e \\texttt{ Int}})$ où l'attribut $a$ de $S$ est une clé étrangère faisant référence à $a$ de $R$.\n",
    "\n",
    "Dire si les affirmations suivantes sont vraies ou fausses, en justifiant.\n",
    "\n",
    "1. Les $a$ de $R$ sont tous deux à deux distincts.\n",
    "2. Les $b$ de $R$ sont tous deux à deux distincts.\n",
    "3. Les $a$ de $S$ sont tous deux à deux distincts.\n",
    "4. Les $e$ de $S$ sont tous deux à deux distincts.\n",
    "5. $S$ peut être vide alors que $R$ est non vide.\n",
    "6. $R$ peut être vide alors que $S$ est non vide"
   ]
  }
 ],
 "metadata": {
  "celltoolbar": "Tags",
  "interpreter": {
   "hash": "916dbcbb3f70747c44a77c7bcd40155683ae19c65e1c03b4aa3499c5328201f1"
  },
  "kernelspec": {
   "display_name": "Python 3.9.2 64-bit",
   "name": "python3"
  },
  "language_info": {
   "codemirror_mode": {
    "name": "ipython",
    "version": 3
   },
   "file_extension": ".py",
   "mimetype": "text/x-python",
   "name": "python",
   "nbconvert_exporter": "python",
   "pygments_lexer": "ipython3",
   "version": "3.9.2"
  },
  "latex_metadata": {
   "theme": "structure",
   "title": "6 --- Piles et files"
  },
  "rise": {
   "theme": "serif"
  }
 },
 "nbformat": 4,
 "nbformat_minor": 5
}
