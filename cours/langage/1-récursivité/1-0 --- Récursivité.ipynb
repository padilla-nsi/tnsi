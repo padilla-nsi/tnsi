{
 "cells": [
  {
   "cell_type": "markdown",
   "id": "excited-lender",
   "metadata": {},
   "source": [
    "## Déroulement"
   ]
  },
  {
   "cell_type": "markdown",
   "id": "completed-armor",
   "metadata": {},
   "source": [
    "1. Problème de la somme des $n$ premiers entiers\n",
    "2. Formulations récursives\n",
    "3. Programmer avec des fonction récursive\n"
   ]
  }
 ],
 "metadata": {
  "kernelspec": {
   "display_name": "Python 3",
   "language": "python",
   "name": "python3"
  },
  "language_info": {
   "codemirror_mode": {
    "name": "ipython",
    "version": 3
   },
   "file_extension": ".py",
   "mimetype": "text/x-python",
   "name": "python",
   "nbconvert_exporter": "python",
   "pygments_lexer": "ipython3",
   "version": "3.9.2"
  }
 },
 "nbformat": 4,
 "nbformat_minor": 5
}
