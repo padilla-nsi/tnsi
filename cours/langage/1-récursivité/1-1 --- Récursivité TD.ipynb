{
 "cells": [
  {
   "cell_type": "markdown",
   "id": "sitting-county",
   "metadata": {},
   "source": [
    "# Chap. 1 --- Récursivité\n"
   ]
  },
  {
   "cell_type": "markdown",
   "id": "chronic-romance",
   "metadata": {
    "tags": [
     "cacher"
    ]
   },
   "source": [
    "Dans ce chapitre, tu vas travailler sur :\n",
    "\n",
    "- les définitions récursives\n",
    "- la programmation avec des fonctions récursives\n",
    "- les arbre d'appels\n",
    "- les modèles d'éxécution et pile d'appels"
   ]
  },
  {
   "cell_type": "markdown",
   "id": "flexible-plenty",
   "metadata": {},
   "source": [
    "## 1.1 --- Problème de la somme des $n$ premiers entiers"
   ]
  },
  {
   "cell_type": "markdown",
   "id": "special-nowhere",
   "metadata": {},
   "source": [
    "Pour définir la somme des $n$ premiers entiers, on utilise généralement la formule $0 + 1 + 2 + \\ldots + n$. Cette formule parait simple mais elle n'est pas évidente à programmer en python."
   ]
  },
  {
   "cell_type": "markdown",
   "id": "spare-wings",
   "metadata": {
    "tags": [
     "exo"
    ]
   },
   "source": [
    "**Écrire** une fonction `somme(n)` qui renvoie la somme des `n` premiers entiers."
   ]
  },
  {
   "cell_type": "code",
   "execution_count": 1,
   "id": "diagnostic-capacity",
   "metadata": {
    "tags": [
     "solution"
    ]
   },
   "outputs": [],
   "source": [
    "def somme(n):\n",
    "    \"\"\"\n",
    "    Calcule la somme des n premiers entiers.\n",
    "    param : n (int), dernier entier à ajouter\n",
    "    \n",
    "    exemples:\n",
    "    >>> somme (0) \n",
    "    0\n",
    "    >>> somme (5)\n",
    "    15\n",
    "    \"\"\"\n",
    "    r = 0\n",
    "    for i in range(n+1):\n",
    "        r = r + i\n",
    "    return r"
   ]
  },
  {
   "cell_type": "markdown",
   "id": "crazy-engineering",
   "metadata": {},
   "source": [
    "On remarque que le code python n'a rien à voir avec sa formulation mathématique."
   ]
  },
  {
   "cell_type": "markdown",
   "id": "unusual-gothic",
   "metadata": {},
   "source": [
    "### Nouvelle formulation\n",
    "\n",
    "Il existe une autre manière d'aborder ce problème en définissant une fonction mathématique $somme(n)$.\n"
   ]
  },
  {
   "cell_type": "markdown",
   "id": "dominant-bargain",
   "metadata": {
    "tags": [
     "exo"
    ]
   },
   "source": [
    "1. **Calculer**  $somme(0)$ ?\n",
    "\n",
    "Utilisons maintenant cette illustration pour modéliser quelques exemples de calculs.\n",
    "\n",
    "![](res/somme.png)\n",
    "\n",
    "2. En observant ces exemples, **trouver une relation** entre :\n",
    "\n",
    "- $somme(5)$ et $somme(4)$,\n",
    "- $somme(4)$ et $somme(3)$.\n",
    "\n",
    "3. Généraliser la relation entre $somme(n)$ et $somme(n-1)$."
   ]
  },
  {
   "cell_type": "markdown",
   "id": "empty-press",
   "metadata": {
    "tags": [
     "solution"
    ]
   },
   "source": [
    "1. $somme(0) = 0$\n",
    "2. On obtient :\n",
    "    - $somme(5) = somme(4) + 5$\n",
    "    - $somme(4) = somme(3) + 4$\n",
    "3. En s'aidant du schéma\n",
    "\n",
    "![](res/sommek.png)\n",
    "\n",
    "on obtient donc :\n",
    "\n",
    "$$\n",
    "somme(n) = \\left\\{\n",
    "    \\begin{array}{ll}\n",
    "        0 & \\text{si }n=0 \\\\\n",
    "        somme (n-1) + n & \\text{si }n>0 \n",
    "    \\end{array}\n",
    "\\right.\n",
    "$$\n"
   ]
  },
  {
   "cell_type": "markdown",
   "id": "subtle-reception",
   "metadata": {},
   "source": [
    "Comme on peut le voir, la définition de $somme(n)$ dépend de la valeur de $somme(n-1)$.\n",
    "\n",
    "Il s'agit d'une définition **récursive**, c'est-à-dire d'une définition de fonction qui fait appel à elle-même.\n",
    "\n",
    "L'intérêt de cette définition récursive de la fonction $somme(n)$ est qu'elle est directement *calculable*, c'est-à-dire exécutable par un ordinateur."
   ]
  },
  {
   "cell_type": "markdown",
   "id": "convenient-launch",
   "metadata": {
    "tags": [
     "exo"
    ]
   },
   "source": [
    "En appliquant exactement la définition récursive de la fonction $somme(n)$, **programmer** une fonction `somme(n)` qui calcule la somme des `n` premiers entiers."
   ]
  },
  {
   "cell_type": "code",
   "execution_count": 2,
   "id": "attempted-regard",
   "metadata": {
    "tags": [
     "solution"
    ]
   },
   "outputs": [],
   "source": [
    "# programmation défensive\n",
    "import doctest\n",
    "doctest.testmod()\n",
    "\n",
    "def somme(n):\n",
    "    \"\"\"\n",
    "    Calcule la somme des n premiers entiers.\n",
    "    params: n (int), dernier entier à ajouter\n",
    "    \n",
    "    exemples:\n",
    "    >>> somme (0) \n",
    "    0\n",
    "    >>> somme(10)\n",
    "    55\n",
    "    \"\"\"\n",
    "    if n==0:\n",
    "        return 0\n",
    "    else:\n",
    "        return n + somme(n-1)"
   ]
  },
  {
   "cell_type": "markdown",
   "id": "blank-pathology",
   "metadata": {
    "tags": [
     "exemple"
    ]
   },
   "source": [
    "Voici par exemple comment on peut représenter l'évaluation de l'appel à `somme(3)`\n",
    "\n",
    "![](res/rec-somme3.png)\n",
    "\n",
    "Pour calculer la valeur renvoyée par `somme(3)`, il faut d'abord appeler `somme(2)`. Cet appel va lui même déclencher un appel à `somme(1)`, qui a son tour nécessite un appel à `somme(0)`.\n",
    "\n",
    "Ce dernier se termine directement en renvoyant la valeur 0. `somme(1)` peut alors se terminer et renvoyer le résultat de`1+0`. Enfin, l'appel à `somme(2)` peut lui même se terminer et renvoyer la valeur `2+1`.\n",
    "\n",
    "Ce qui permet à `somme(3)` de se terminer en renvoyant le résultat `3+3`.\n",
    "\n",
    "Ainsi on obtient bien la valeur 6 attendue !"
   ]
  }
 ],
 "metadata": {
  "celltoolbar": "Tags",
  "kernelspec": {
   "display_name": "Python 3",
   "language": "python",
   "name": "python3"
  },
  "language_info": {
   "codemirror_mode": {
    "name": "ipython",
    "version": 3
   },
   "file_extension": ".py",
   "mimetype": "text/x-python",
   "name": "python",
   "nbconvert_exporter": "python",
   "pygments_lexer": "ipython3",
   "version": "3.9.2"
  },
  "latex_metadata": {
   "theme": "langage"
  }
 },
 "nbformat": 4,
 "nbformat_minor": 5
}
