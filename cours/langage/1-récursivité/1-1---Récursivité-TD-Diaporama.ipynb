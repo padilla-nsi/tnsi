{
 "cells": [
  {
   "cell_type": "markdown",
   "id": "frozen-fever",
   "metadata": {
    "slideshow": {
     "slide_type": "slide"
    }
   },
   "source": [
    "# Chap. 1 --- Récursivité\n"
   ]
  },
  {
   "cell_type": "markdown",
   "id": "innovative-asian",
   "metadata": {
    "slideshow": {
     "slide_type": "slide"
    },
    "tags": [
     "cacher"
    ]
   },
   "source": [
    "Dans ce chapitre, tu vas travailler sur :\n",
    "\n",
    "- les définitions récursives\n",
    "- la programmation avec des fonctions récursives\n",
    "- les arbre d'appels\n",
    "- les modèles d'éxécution et pile d'appels"
   ]
  },
  {
   "cell_type": "markdown",
   "id": "cross-spine",
   "metadata": {
    "slideshow": {
     "slide_type": "slide"
    }
   },
   "source": [
    "## 1.1 --- Problème de la somme des $n$ premiers entiers"
   ]
  },
  {
   "cell_type": "markdown",
   "id": "ranging-measure",
   "metadata": {
    "slideshow": {
     "slide_type": "fragment"
    }
   },
   "source": [
    "Pour définir la somme des $n$ premiers entiers, on utilise généralement la formule $0 + 1 + 2 + \\ldots + n$. Cette formule parait simple mais elle n'est pas évidente à programmer en python."
   ]
  },
  {
   "cell_type": "markdown",
   "id": "aware-emergency",
   "metadata": {
    "slideshow": {
     "slide_type": "fragment"
    },
    "tags": [
     "exo"
    ]
   },
   "source": [
    "**Écrire** une fonction `somme(n)` qui renvoie la somme des `n` premiers entiers."
   ]
  },
  {
   "cell_type": "code",
   "execution_count": 13,
   "id": "portable-process",
   "metadata": {
    "slideshow": {
     "slide_type": "subslide"
    },
    "tags": [
     "solution"
    ]
   },
   "outputs": [
    {
     "data": {
      "text/plain": [
       "TestResults(failed=0, attempted=6)"
      ]
     },
     "execution_count": 13,
     "metadata": {},
     "output_type": "execute_result"
    }
   ],
   "source": [
    "# programmation défensive\n",
    "import doctest\n",
    "\n",
    "def somme(n):\n",
    "    \"\"\"\n",
    "    Calcule la somme des n premiers entiers.\n",
    "    param : n (int), dernier entier à ajouter\n",
    "    \n",
    "    exemples:\n",
    "    >>> somme (0) \n",
    "    0\n",
    "    >>> somme (5)\n",
    "    15\n",
    "    \"\"\"\n",
    "    r = 0\n",
    "    for i in range(n+1):\n",
    "        r = r + i\n",
    "    return r\n",
    "\n",
    "# programmation défensive\n",
    "doctest.testmod()"
   ]
  },
  {
   "cell_type": "markdown",
   "id": "heard-roommate",
   "metadata": {
    "slideshow": {
     "slide_type": "subslide"
    }
   },
   "source": [
    "On remarque que le code python n'a rien à voir avec sa formulation mathématique."
   ]
  },
  {
   "cell_type": "markdown",
   "id": "forty-surname",
   "metadata": {
    "slideshow": {
     "slide_type": "subslide"
    }
   },
   "source": [
    "### Nouvelle formulation\n",
    "\n",
    "Il existe une autre manière d'aborder ce problème en définissant une fonction mathématique $somme(n)$.\n"
   ]
  },
  {
   "cell_type": "markdown",
   "id": "antique-alaska",
   "metadata": {
    "slideshow": {
     "slide_type": "subslide"
    },
    "tags": [
     "exo"
    ]
   },
   "source": [
    "**Calculer**  $somme(0)$ ?\n",
    "\n",
    "Utilisons maintenant l'illustration ci-dessous pour modéliser quelques exemples de calculs.\n",
    "\n",
    "<img width=\"50%\" src=\"res/somme.png\">\n",
    "\n",
    "En observant ces exemples, **trouver une relation** entre :\n",
    "\n",
    "- $somme(5)$ et $somme(4)$,\n",
    "- $somme(4)$ et $somme(3)$.\n",
    "\n",
    "**Généraliser** la relation entre $somme(n)$ et $somme(n-1)$."
   ]
  },
  {
   "cell_type": "markdown",
   "id": "differential-entertainment",
   "metadata": {
    "slideshow": {
     "slide_type": "subslide"
    },
    "tags": [
     "solution"
    ]
   },
   "source": [
    "1. $somme(0) = 0$\n",
    "2. On obtient :\n",
    "    - $somme(5) = somme(4) + 5$\n",
    "    - $somme(4) = somme(3) + 4$\n"
   ]
  },
  {
   "cell_type": "markdown",
   "id": "systematic-chart",
   "metadata": {
    "slideshow": {
     "slide_type": "subslide"
    }
   },
   "source": [
    "3. En s'aidant du schéma\n",
    "\n",
    "<img src=\"res/sommek.png\" width=\"50%\">\n",
    "\n",
    "\n",
    "on obtient donc :\n",
    "\n",
    "$$\n",
    "somme(n) = \\left\\{\n",
    "    \\begin{array}{ll}\n",
    "        0 & \\text{si }n=0 \\\\\n",
    "        somme (n-1) + n & \\text{si }n>0 \n",
    "    \\end{array}\n",
    "\\right.\n",
    "$$"
   ]
  },
  {
   "cell_type": "markdown",
   "id": "abandoned-coordination",
   "metadata": {
    "slideshow": {
     "slide_type": "subslide"
    }
   },
   "source": [
    "Comme on peut le voir, la définition de $somme(n)$ dépend de la valeur de $somme(n-1)$.\n",
    "\n",
    "$$\n",
    "somme(n) = \\left\\{\n",
    "    \\begin{array}{ll}\n",
    "        0 & \\text{si }n=0 \\\\\n",
    "        somme (n-1) + n & \\text{si }n>0 \n",
    "    \\end{array}\n",
    "\\right.\n",
    "$$\n",
    "\n",
    "\n",
    "Il s'agit d'une définition **récursive**, c'est-à-dire d'une définition de fonction qui fait appel à elle-même.\n",
    "\n",
    "L'intérêt de cette définition récursive de la fonction $somme(n)$ est qu'elle est directement *calculable*, c'est-à-dire exécutable par un ordinateur."
   ]
  },
  {
   "cell_type": "markdown",
   "id": "premier-primary",
   "metadata": {
    "slideshow": {
     "slide_type": "fragment"
    },
    "tags": [
     "exo"
    ]
   },
   "source": [
    "En appliquant exactement la définition récursive de la fonction $somme(n)$, **programmer** une fonction `somme(n)` qui calcule la somme des `n` premiers entiers."
   ]
  },
  {
   "cell_type": "code",
   "execution_count": 14,
   "id": "divided-consultancy",
   "metadata": {
    "slideshow": {
     "slide_type": "subslide"
    },
    "tags": [
     "solution"
    ]
   },
   "outputs": [
    {
     "data": {
      "text/plain": [
       "TestResults(failed=0, attempted=6)"
      ]
     },
     "execution_count": 14,
     "metadata": {},
     "output_type": "execute_result"
    }
   ],
   "source": [
    "def somme(n):\n",
    "    \"\"\"\n",
    "    Calcule la somme des n premiers entiers.\n",
    "    params: n (int), dernier entier à ajouter\n",
    "    \n",
    "    exemples:\n",
    "    >>> somme (0) \n",
    "    0\n",
    "    >>> somme(10)\n",
    "    55\n",
    "    \"\"\"\n",
    "    if n==0:\n",
    "        return 0\n",
    "    else:\n",
    "        return n + somme(n-1)\n",
    "\n",
    "# programmation défensive\n",
    "doctest.testmod()"
   ]
  },
  {
   "cell_type": "markdown",
   "id": "legendary-spine",
   "metadata": {
    "slideshow": {
     "slide_type": "subslide"
    }
   },
   "source": [
    "Voici par exemple comment on peut représenter l'évaluation de l'appel à `somme(3)`\n",
    "\n",
    "<img src=\"res/rec-somme3.png\" width=\"50%\">\n"
   ]
  },
  {
   "cell_type": "markdown",
   "id": "strange-denial",
   "metadata": {
    "slideshow": {
     "slide_type": "slide"
    }
   },
   "source": [
    "## 1.2 Formulation récursive\n",
    "\n",
    "Une formulation récursive est constituée par :\n",
    "\n",
    "* un ou des **cas de base** (on n'a pas besoin d'appeler la fonction)\n",
    "* des **cas récursifs** (on a besoin d'appeler la fonction)\n",
    "\n",
    "Les cas de bases sont habituellement les cas de valeurs particulières pour lesquelles il est facile de déterminer le résultat."
   ]
  },
  {
   "cell_type": "markdown",
   "id": "incident-intelligence",
   "metadata": {
    "slideshow": {
     "slide_type": "subslide"
    }
   },
   "source": [
    "### Deuxième exemple"
   ]
  },
  {
   "cell_type": "markdown",
   "id": "wired-triple",
   "metadata": {
    "slideshow": {
     "slide_type": "fragment"
    },
    "tags": [
     "exo"
    ]
   },
   "source": [
    "On rappelle que la fonction $puissance$ est définie en mathématique par :\n",
    "\n",
    "$$\n",
    "x^n = \\underbrace{x \\times x \\times \\ldots \\times x}_{n \\text{ fois}}\n",
    "$$\n",
    "\n",
    "**Déterminer** pour la fonction *puissance* :\n",
    "\n",
    "* un cas de base\n",
    "* le cas récursif"
   ]
  },
  {
   "cell_type": "markdown",
   "id": "polish-exhibition",
   "metadata": {
    "slideshow": {
     "slide_type": "subslide"
    },
    "tags": [
     "solution"
    ]
   },
   "source": [
    "Écriture mathématique :\n",
    "\n",
    "$$\n",
    "x^n = \\left\\{\n",
    "    \\begin{array}{ll}\n",
    "        1 & \\text{si $n=0$} \\\\\n",
    "        x \\times x^{n-1}& \\text{si $n>0$}\n",
    "    \\end{array}\n",
    "\\right.\n",
    "$$\n",
    "\n",
    "Écriture fonctionnelle :\n",
    "$$\n",
    "puissance(x,n) = \\left\\{\n",
    "    \\begin{array}{ll}\n",
    "        1 & \\text{si $n=0$} \\\\\n",
    "        x \\times puissance(x, n-1) & \\text{si $n>0$}\n",
    "    \\end{array}\n",
    "\\right.\n",
    "$$"
   ]
  },
  {
   "cell_type": "markdown",
   "id": "stretch-charlotte",
   "metadata": {
    "slideshow": {
     "slide_type": "fragment"
    },
    "tags": [
     "exo"
    ]
   },
   "source": [
    "Implémenter une fonction récursive `puissance(x,n)` de la fonction $puissance$."
   ]
  },
  {
   "cell_type": "code",
   "execution_count": 22,
   "id": "bottom-copyright",
   "metadata": {
    "slideshow": {
     "slide_type": "subslide"
    }
   },
   "outputs": [
    {
     "data": {
      "text/plain": [
       "TestResults(failed=0, attempted=8)"
      ]
     },
     "execution_count": 22,
     "metadata": {
      "tags": [
       "solution"
      ]
     },
     "output_type": "execute_result"
    }
   ],
   "source": [
    "def puissance(x,n):\n",
    "    \"\"\"Renvoie x à la puissance x, c'est à dire\n",
    "    x × x × ... × x (avec n facteurs)\n",
    "\n",
    "    Args:\n",
    "        x (int): nombre à multiplier (base)\n",
    "        n (int): exposant de la puissance\n",
    "\n",
    "    Returns:\n",
    "        [int]: x à la puissance n\n",
    "\n",
    "    Example:\n",
    "    >>> puissance(2,10)\n",
    "    1024\n",
    "    \"\"\"\n",
    "    if n == 0:\n",
    "        return 1\n",
    "    else:\n",
    "        return x * puissance(x,n-1)\n",
    "\n",
    "doctest.testmod()"
   ]
  },
  {
   "cell_type": "markdown",
   "id": "stock-drinking",
   "metadata": {
    "slideshow": {
     "slide_type": "subslide"
    }
   },
   "source": [
    "### Double cas de base et double récursion\n",
    "\n",
    "Il peut y avoir plusieurs cas de bases. Il peut aussi y avoir plusieurs récursions, c'est-à-dire plusieurs appels récursif à la fonction."
   ]
  },
  {
   "cell_type": "markdown",
   "id": "international-belgium",
   "metadata": {
    "slideshow": {
     "slide_type": "fragment"
    },
    "tags": [
     "exemple"
    ]
   },
   "source": [
    "La fonction $fibonacci(n)$ est définie récursivement, pour tout entier $n$, par :\n",
    "\n",
    "$$ \n",
    "fibonacci(n) = \n",
    "\\left\\{\n",
    "    \\begin{array}{ll}\n",
    "        0 & \\text{si $n=0$}\\\\\n",
    "        1 & \\text{si $n=1$}\\\\\n",
    "        fibonacci(n-2) + fibonacci(n-1) & \\text{si $n>1$}\n",
    "    \\end{array}\n",
    "\\right.\n",
    "$$\n",
    "\n",
    "Cette formulation récursive possède deux cas de base (pour $n=0$ et $n=1$) et une double récursion."
   ]
  },
  {
   "cell_type": "markdown",
   "id": "based-wisdom",
   "metadata": {
    "slideshow": {
     "slide_type": "subslide"
    },
    "tags": [
     "exo"
    ]
   },
   "source": [
    "**Déterminer** la valeur des 6 premiers termes de la suite de Fibonacci.\n",
    "\n",
    "**Implémenter** la fonction récursive `fibonacci(n)` qui renvoie le nième terme de la suite de Fibonacci."
   ]
  },
  {
   "cell_type": "markdown",
   "id": "occupational-orange",
   "metadata": {
    "slideshow": {
     "slide_type": "subslide"
    },
    "tags": [
     "solution"
    ]
   },
   "source": [
    "$$\n",
    "\\begin{array}{lllllll}\n",
    "fibonacci(0) & = & 0 \\\\\n",
    "fibonacci(1) & = & 1 \\\\\n",
    "fibonacci(2) & = & fibonacci(0) + fibonacci(1) & = & 0+1 & = & 1 \\\\\n",
    "fibonacci(3) & = & fibonacci(1) + fibonacci(2) & = & 1+1 & = & 2 \\\\\n",
    "fibonacci(4) & = & fibonacci(2) + fibonacci(3) & = & 1+2 & = & 3 \\\\\n",
    "fibonacci(5) & = & fibonacci(3) + fibonacci(4) & = & 2+3 & = & 5\n",
    "\\end{array}\n",
    "$$"
   ]
  },
  {
   "cell_type": "code",
   "execution_count": 26,
   "id": "german-coaching",
   "metadata": {
    "slideshow": {
     "slide_type": "subslide"
    }
   },
   "outputs": [
    {
     "data": {
      "text/plain": [
       "TestResults(failed=0, attempted=10)"
      ]
     },
     "execution_count": 26,
     "metadata": {
      "tags": [
       "solution"
      ]
     },
     "output_type": "execute_result"
    }
   ],
   "source": [
    "def fibonacci(n):\n",
    "    \"\"\"nième terme de la suite de Fibonacci\n",
    "\n",
    "    Args:\n",
    "        n (int): rang du terme à calculer\n",
    "\n",
    "    Returns:\n",
    "        int: nième terme\n",
    "    \n",
    "    Examples:\n",
    "    >>> fibonacci(1)\n",
    "    1\n",
    "    >>> fibonacci(5)\n",
    "    5\n",
    "    \"\"\"\n",
    "    if n == 0:\n",
    "        return 0\n",
    "    elif n == 1:\n",
    "        return 1\n",
    "    else:\n",
    "        return fibonacci(n-2) + fibonacci(n-1)\n",
    "\n",
    "doctest.testmod()"
   ]
  },
  {
   "cell_type": "markdown",
   "id": "opposed-cabinet",
   "metadata": {
    "slideshow": {
     "slide_type": "slide"
    }
   },
   "source": [
    "## 1.3 --- Activités"
   ]
  },
  {
   "cell_type": "markdown",
   "id": "comic-least",
   "metadata": {
    "slideshow": {
     "slide_type": "subslide"
    },
    "tags": [
     "exo"
    ]
   },
   "source": [
    "Écrire une fonction récursive `boucle(i,k)` qui affiche les entiers compris entre `i` et `k` inclus. Par exemple, `boucle(0,3)` doit afficher les entiers, `0 1 2 3`."
   ]
  },
  {
   "cell_type": "code",
   "execution_count": 15,
   "id": "effective-stanley",
   "metadata": {
    "slideshow": {
     "slide_type": "subslide"
    },
    "tags": [
     "solution"
    ]
   },
   "outputs": [
    {
     "data": {
      "text/plain": [
       "TestResults(failed=0, attempted=6)"
      ]
     },
     "execution_count": 15,
     "metadata": {},
     "output_type": "execute_result"
    }
   ],
   "source": [
    "def boucle(i,k):\n",
    "    \"\"\"\n",
    "    Affiche les nombres entiers\n",
    "    compris entre i et k inclus\n",
    "    \n",
    "    Exemple :\n",
    "    >>> boucle (0,3)\n",
    "    0\n",
    "    1\n",
    "    2\n",
    "    3\n",
    "    \"\"\"\n",
    "    if i == k :\n",
    "        print (k)\n",
    "    else:\n",
    "        print (i)\n",
    "        boucle(i+1,k)\n",
    "\n",
    "# programmation défensive\n",
    "doctest.testmod()"
   ]
  },
  {
   "cell_type": "markdown",
   "id": "tested-election",
   "metadata": {
    "slideshow": {
     "slide_type": "subslide"
    },
    "tags": [
     "exo"
    ]
   },
   "source": [
    "**Donner** une définition récursive qui correspond au calcul de la fonction factorielle $n!$ définie par:\n",
    "\n",
    "$$\n",
    "n! = \\left\\{\n",
    "\\begin{array}{ll}\n",
    "    1 & \\text{si } n=0 \\\\\n",
    "    1 \\times 2 \\times \\ldots \\times n & \\text{si } n>0\n",
    "\\end{array}\n",
    "\\right.\n",
    "$$\n",
    "\n",
    "**Donner** une fonction `fact(n)` qui implémente cette définition."
   ]
  },
  {
   "cell_type": "markdown",
   "id": "adjusted-broadcasting",
   "metadata": {
    "slideshow": {
     "slide_type": "subslide"
    },
    "tags": [
     "solution"
    ]
   },
   "source": [
    "La fonction mathématique est :\n",
    "\n",
    "$$\n",
    "n! = \\left\\{\n",
    "\\begin{array}{ll}\n",
    "    1 & \\text{si } n=0 \\\\\n",
    "    n \\times (n-1)! & \\text{si } n>0\n",
    "\\end{array}\n",
    "\\right.\n",
    "$$\n"
   ]
  },
  {
   "cell_type": "code",
   "execution_count": 17,
   "id": "southeast-recall",
   "metadata": {
    "slideshow": {
     "slide_type": "subslide"
    },
    "tags": [
     "solution"
    ]
   },
   "outputs": [
    {
     "data": {
      "text/plain": [
       "TestResults(failed=0, attempted=6)"
      ]
     },
     "execution_count": 17,
     "metadata": {},
     "output_type": "execute_result"
    }
   ],
   "source": [
    "def fact(n):\n",
    "    \"\"\"\n",
    "    Calcule le n factoriel, c'est-à-dire : \n",
    "    n × (n-1) × ... × 2 × 1\n",
    "    \n",
    "    exemple:\n",
    "    >>> fact(0)\n",
    "    1\n",
    "    >>> fact(5)\n",
    "    120\n",
    "    \"\"\"\n",
    "    if n==0:\n",
    "        return 1\n",
    "    else:\n",
    "        return n * fact(n-1)\n",
    "\n",
    "# programmation défensive\n",
    "doctest.testmod()"
   ]
  },
  {
   "cell_type": "markdown",
   "id": "loved-impression",
   "metadata": {
    "slideshow": {
     "slide_type": "slide"
    }
   },
   "source": [
    "## 1.4 Définitions bien formées"
   ]
  },
  {
   "cell_type": "markdown",
   "id": "thousand-tongue",
   "metadata": {
    "slideshow": {
     "slide_type": "subslide"
    }
   },
   "source": [
    "Il est important de respecter quelques règles élémentaires lorsqu'on écrit une définition récursive."
   ]
  },
  {
   "cell_type": "markdown",
   "id": "dramatic-flavor",
   "metadata": {
    "slideshow": {
     "slide_type": "subslide"
    }
   },
   "source": [
    "#TODO"
   ]
  },
  {
   "cell_type": "markdown",
   "id": "caring-cemetery",
   "metadata": {},
   "source": [
    "## 1.5 Applications"
   ]
  },
  {
   "cell_type": "markdown",
   "id": "dynamic-madonna",
   "metadata": {},
   "source": [
    "Écrire une fonction `nombre_de_chiffre(n)` qui renvoie le nombre de chiffre du nombre entier positif `n`. Par exemple, `nombre_de_chiffre(314159)` devra renvoyer `6`."
   ]
  },
  {
   "cell_type": "code",
   "execution_count": 18,
   "id": "collective-inspection",
   "metadata": {},
   "outputs": [
    {
     "data": {
      "text/plain": [
       "TestResults(failed=0, attempted=6)"
      ]
     },
     "execution_count": 18,
     "metadata": {},
     "output_type": "execute_result"
    }
   ],
   "source": [
    "def nombre_de_chiffre(n):\n",
    "    \"\"\"Renvoie le nombre de chiffre d'un nombre entier\n",
    "\n",
    "    Args:\n",
    "        n (int): nombre à évaluer\n",
    "\n",
    "    Returns:\n",
    "        int: nombre de chiffre de n\n",
    "\n",
    "    Example:\n",
    "    >>> nombre_de_chiffre(314159)\n",
    "    6\n",
    "    \"\"\"\n",
    "    if n <= 9:\n",
    "        return 1\n",
    "    else:\n",
    "        return 1 + nombre_de_chiffre(n//10)\n",
    "\n",
    "# programmation défensive\n",
    "doctest.testmod()"
   ]
  },
  {
   "cell_type": "markdown",
   "id": "flush-template",
   "metadata": {
    "tags": [
     "exo"
    ]
   },
   "source": [
    "Soit $u_n$ la suite d'entiers définie par :\n",
    "\n",
    "$$\n",
    "u_{n+1} = \\left\\{\n",
    "\\begin{array}{ll}\n",
    "    \\frac {u_n}{ 2}  &\\text{si } u_n \\text{ est pair}, \\\\\n",
    "    3 \\times u_n + 1 &\\text{sinon}.\n",
    "\\end{array}\n",
    "\\right.\n",
    "$$\n",
    "\n",
    "avec $u_0$ un entier plus grand que 1.\n",
    "\n",
    "Écrire une fonction récursive `syracuse(u_n)` qui affiche les valeurs successives de la suite $u_n$ **tant que $u_n$ est plus grand que 1**.\n",
    "\n"
   ]
  },
  {
   "cell_type": "markdown",
   "id": "copyrighted-accused",
   "metadata": {
    "tags": [
     "remarque"
    ]
   },
   "source": [
    "La conjecture de Syracuse affirme que, quelle que soit la valeur de $u_0$, il existe toujours un indice $n$ dans la suite tel que $u_n = 1$. Cette conjecture défie toujours les mathématiciens."
   ]
  },
  {
   "cell_type": "code",
   "execution_count": 19,
   "id": "equivalent-bridge",
   "metadata": {
    "tags": [
     "solution"
    ]
   },
   "outputs": [
    {
     "data": {
      "text/plain": [
       "TestResults(failed=0, attempted=7)"
      ]
     },
     "execution_count": 19,
     "metadata": {},
     "output_type": "execute_result"
    }
   ],
   "source": [
    "def syracuse(u_n):\n",
    "    \"\"\"\n",
    "    Affiche les termes de la suite de Syracuse.\n",
    "    \n",
    "    exemple :\n",
    "    >>> syracuse(5)\n",
    "    5\n",
    "    16\n",
    "    8\n",
    "    4\n",
    "    2\n",
    "    1\n",
    "    \"\"\"\n",
    "    print(u_n)\n",
    "    if u_n > 1:\n",
    "        if u_n % 2 == 0:\n",
    "            syracuse(u_n//2)\n",
    "        else:\n",
    "            syracuse(3*u_n+1)\n",
    "\n",
    "# programmation défensive\n",
    "doctest.testmod()"
   ]
  },
  {
   "cell_type": "markdown",
   "id": "disciplinary-harvey",
   "metadata": {},
   "source": []
  },
  {
   "cell_type": "markdown",
   "id": "stable-formation",
   "metadata": {},
   "source": []
  },
  {
   "cell_type": "markdown",
   "id": "considerable-blink",
   "metadata": {},
   "source": []
  },
  {
   "cell_type": "markdown",
   "id": "assigned-settle",
   "metadata": {},
   "source": []
  },
  {
   "cell_type": "markdown",
   "id": "bearing-familiar",
   "metadata": {},
   "source": []
  },
  {
   "cell_type": "markdown",
   "id": "decimal-coral",
   "metadata": {},
   "source": []
  }
 ],
 "metadata": {
  "celltoolbar": "Diaporama",
  "interpreter": {
   "hash": "916dbcbb3f70747c44a77c7bcd40155683ae19c65e1c03b4aa3499c5328201f1"
  },
  "kernelspec": {
   "display_name": "Python 3",
   "language": "python",
   "name": "python3"
  },
  "language_info": {
   "codemirror_mode": {
    "name": "ipython",
    "version": 3
   },
   "file_extension": ".py",
   "mimetype": "text/x-python",
   "name": "python",
   "nbconvert_exporter": "python",
   "pygments_lexer": "ipython3",
   "version": "3.9.2"
  },
  "latex_metadata": {
   "theme": "langage",
   "title": "1 --- Récursivité"
  }
 },
 "nbformat": 4,
 "nbformat_minor": 5
}
