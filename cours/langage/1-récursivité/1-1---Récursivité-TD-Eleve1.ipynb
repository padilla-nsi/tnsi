{
 "cells": [
  {
   "cell_type": "markdown",
   "id": "frozen-fever",
   "metadata": {
    "slideshow": {
     "slide_type": "slide"
    }
   },
   "source": [
    "# Chap. 1 --- Récursivité\n"
   ]
  },
  {
   "cell_type": "markdown",
   "id": "innovative-asian",
   "metadata": {
    "slideshow": {
     "slide_type": "slide"
    },
    "tags": [
     "cacher"
    ]
   },
   "source": [
    "Dans ce chapitre, tu vas travailler sur :\n",
    "\n",
    "- les définitions récursives\n",
    "- la programmation avec des fonctions récursives\n",
    "- les arbre d'appels\n",
    "- les modèles d'éxécution et pile d'appels"
   ]
  },
  {
   "cell_type": "markdown",
   "id": "cross-spine",
   "metadata": {
    "slideshow": {
     "slide_type": "slide"
    }
   },
   "source": [
    "## 1.1 --- Problème de la somme des $n$ premiers entiers"
   ]
  },
  {
   "cell_type": "markdown",
   "id": "ranging-measure",
   "metadata": {
    "slideshow": {
     "slide_type": "fragment"
    }
   },
   "source": [
    "Pour définir la somme des $n$ premiers entiers, on utilise généralement la formule $0 + 1 + 2 + \\ldots + n$. Cette formule parait simple mais elle n'est pas évidente à programmer en python."
   ]
  },
  {
   "cell_type": "markdown",
   "id": "aware-emergency",
   "metadata": {
    "slideshow": {
     "slide_type": "fragment"
    },
    "tags": [
     "exo"
    ]
   },
   "source": [
    "**Écrire** une fonction `somme(n)` qui renvoie la somme des `n` premiers entiers."
   ]
  },
  {
   "cell_type": "code",
   "execution_count": 6,
   "id": "portable-process",
   "metadata": {
    "slideshow": {
     "slide_type": "subslide"
    },
    "tags": [
     "solution"
    ]
   },
   "outputs": [],
   "source": [
    "def somme(n):\n",
    "    # à compléter\n",
    "    # ...\n",
    "    \n",
    "    return"
   ]
  },
  {
   "cell_type": "markdown",
   "id": "heard-roommate",
   "metadata": {
    "slideshow": {
     "slide_type": "subslide"
    }
   },
   "source": [
    "On remarque que le code python n'a rien à voir avec sa formulation mathématique."
   ]
  },
  {
   "cell_type": "markdown",
   "id": "forty-surname",
   "metadata": {
    "slideshow": {
     "slide_type": "subslide"
    }
   },
   "source": [
    "### Nouvelle formulation\n",
    "\n",
    "Il existe une autre manière d'aborder ce problème en définissant une fonction mathématique $somme(n)$.\n"
   ]
  },
  {
   "cell_type": "markdown",
   "id": "antique-alaska",
   "metadata": {
    "slideshow": {
     "slide_type": "subslide"
    },
    "tags": [
     "exo"
    ]
   },
   "source": [
    "#### Actvitié\n",
    "\n",
    "**Calculer**  $somme(0)$ ?\n",
    "\n",
    "Utilisons maintenant l'illustration ci-dessous pour modéliser quelques exemples de calculs.\n",
    "\n",
    "![](res/somme.png)\n",
    "\n",
    "En observant ces exemples, **trouver une relation** entre :\n",
    "\n",
    "- $somme(5)$ et $somme(4)$,\n",
    "- $somme(4)$ et $somme(3)$.\n",
    "\n",
    "**Généraliser** la relation entre $somme(n)$ et $somme(n-1)$."
   ]
  },
  {
   "cell_type": "markdown",
   "id": "differential-entertainment",
   "metadata": {
    "slideshow": {
     "slide_type": "subslide"
    },
    "tags": [
     "solution"
    ]
   },
   "source": [
    "#### Réponse\n",
    "\n",
    "*à compléter ici ou sur cahier\n",
    "(ne pas oublier de sauvegarder le notebook sur clé USB ou sur ton espace Atrium)*\n",
    "\n",
    "...\n",
    "\n",
    "..."
   ]
  },
  {
   "cell_type": "markdown",
   "id": "abandoned-coordination",
   "metadata": {
    "slideshow": {
     "slide_type": "subslide"
    }
   },
   "source": [
    "Comme on peut le voir, la définition de $somme(n)$ dépend de la valeur de $somme(n-1)$.\n",
    "\n",
    "$$\n",
    "somme(n) = \\left\\{\n",
    "    \\begin{array}{ll}\n",
    "        0 & \\text{si }n=0 \\\\\n",
    "        somme (n-1) + n & \\text{si }n>0 \n",
    "    \\end{array}\n",
    "\\right.\n",
    "$$\n",
    "\n",
    "\n",
    "Il s'agit d'une définition **récursive**, c'est-à-dire d'une définition de fonction qui fait appel à elle-même.\n",
    "\n",
    "L'intérêt de cette définition récursive de la fonction $somme(n)$ est qu'elle est directement *calculable*, c'est-à-dire exécutable par un ordinateur."
   ]
  },
  {
   "cell_type": "markdown",
   "id": "premier-primary",
   "metadata": {
    "slideshow": {
     "slide_type": "fragment"
    },
    "tags": [
     "exo"
    ]
   },
   "source": [
    "#### Activité\n",
    "\n",
    "En appliquant exactement la définition récursive de la fonction $somme(n)$, **programmer** une fonction `somme(n)` qui calcule la somme des `n` premiers entiers."
   ]
  },
  {
   "cell_type": "code",
   "execution_count": 7,
   "id": "divided-consultancy",
   "metadata": {
    "slideshow": {
     "slide_type": "subslide"
    },
    "tags": [
     "solution"
    ]
   },
   "outputs": [],
   "source": [
    "def somme(n):\n",
    "    # à compléter\n",
    "    # ...\n",
    "    \n",
    "    return"
   ]
  },
  {
   "cell_type": "markdown",
   "id": "technological-wholesale",
   "metadata": {
    "slideshow": {
     "slide_type": "subslide"
    },
    "tags": [
     "exemple"
    ]
   },
   "source": [
    "Voici par exemple comment on peut représenter l'évaluation de l'appel à `somme(3)`\n",
    "\n",
    "![](res/rec-somme3.png)\n",
    "\n",
    "Pour calculer la valeur renvoyée par `somme(3)`, il faut d'abord appeler `somme(2)`. Cet appel va lui même déclencher un appel à `somme(1)`, qui a son tour nécessite un appel à `somme(0)`.\n",
    "\n",
    "Ce dernier se termine directement en renvoyant la valeur 0. `somme(1)` peut alors se terminer et renvoyer le résultat de`1+0`. Enfin, l'appel à `somme(2)` peut lui même se terminer et renvoyer la valeur `2+1`.\n",
    "\n",
    "Ce qui permet à `somme(3)` de se terminer en renvoyant le résultat `3+3`.\n",
    "\n",
    "Ainsi on obtient bien la valeur 6 attendue !"
   ]
  },
  {
   "cell_type": "markdown",
   "id": "strange-denial",
   "metadata": {
    "slideshow": {
     "slide_type": "slide"
    }
   },
   "source": [
    "## 1.2 Formulation récursive\n",
    "\n",
    "Une formulation récursive est constituée par :\n",
    "\n",
    "* un ou des **cas de base** (on n'a pas besoin d'appeler la fonction)\n",
    "* des **cas récursifs** (on a besoin d'appeler la fonction)\n",
    "\n",
    "Les cas de bases sont habituellement les cas de valeurs particulières pour lesquelles il est facile de déterminer le résultat."
   ]
  },
  {
   "cell_type": "markdown",
   "id": "incident-intelligence",
   "metadata": {
    "slideshow": {
     "slide_type": "subslide"
    }
   },
   "source": [
    "### Deuxième exemple"
   ]
  },
  {
   "cell_type": "markdown",
   "id": "wired-triple",
   "metadata": {
    "slideshow": {
     "slide_type": "fragment"
    },
    "tags": [
     "exo"
    ]
   },
   "source": [
    "#### Activité\n",
    "\n",
    "On rappelle que la fonction $puissance$ est définie en mathématique par :\n",
    "\n",
    "$$\n",
    "x^n = \\underbrace{x \\times x \\times \\ldots \\times x}_{n \\text{ fois}}\n",
    "$$\n",
    "\n",
    "**Déterminer** pour la fonction *puissance* :\n",
    "\n",
    "* un cas de base\n",
    "* le cas récursif"
   ]
  },
  {
   "cell_type": "markdown",
   "id": "following-credit",
   "metadata": {
    "slideshow": {
     "slide_type": "subslide"
    },
    "tags": [
     "solution"
    ]
   },
   "source": [
    "#### Réponse\n",
    "\n",
    "*à compléter ici ou sur cahier\n",
    "(ne pas oublier de sauvegarder le notebook sur clé USB ou sur ton espace Atrium)*\n",
    "\n",
    "...\n",
    "\n",
    "..."
   ]
  },
  {
   "cell_type": "markdown",
   "id": "stretch-charlotte",
   "metadata": {
    "slideshow": {
     "slide_type": "fragment"
    },
    "tags": [
     "exo"
    ]
   },
   "source": [
    "#### Activité\n",
    "\n",
    "Implémenter une fonction récursive `puissance(x,n)` de la fonction $puissance$."
   ]
  },
  {
   "cell_type": "code",
   "execution_count": 8,
   "id": "bottom-copyright",
   "metadata": {
    "slideshow": {
     "slide_type": "subslide"
    }
   },
   "outputs": [],
   "source": [
    "def puissance(x,n):\n",
    "    # à compléter\n",
    "    # ...\n",
    "    \n",
    "    return"
   ]
  },
  {
   "cell_type": "markdown",
   "id": "stock-drinking",
   "metadata": {
    "slideshow": {
     "slide_type": "subslide"
    }
   },
   "source": [
    "### Double cas de base et double récursion\n",
    "\n",
    "Il peut y avoir plusieurs cas de bases. Il peut aussi y avoir plusieurs récursions, c'est-à-dire plusieurs appels récursif à la fonction."
   ]
  },
  {
   "cell_type": "markdown",
   "id": "international-belgium",
   "metadata": {
    "slideshow": {
     "slide_type": "fragment"
    },
    "tags": [
     "exemple"
    ]
   },
   "source": [
    "La fonction $fibonacci(n)$ est définie récursivement, pour tout entier $n$, par :\n",
    "\n",
    "$$ \n",
    "fibonacci(n) = \n",
    "\\left\\{\n",
    "    \\begin{array}{ll}\n",
    "        0 & \\text{si $n=0$}\\\\\n",
    "        1 & \\text{si $n=1$}\\\\\n",
    "        fibonacci(n-2) + fibonacci(n-1) & \\text{si $n>1$}\n",
    "    \\end{array}\n",
    "\\right.\n",
    "$$\n",
    "\n",
    "Cette formulation récursive possède deux cas de base (pour $n=0$ et $n=1$) et une double récursion."
   ]
  },
  {
   "cell_type": "markdown",
   "id": "based-wisdom",
   "metadata": {
    "slideshow": {
     "slide_type": "subslide"
    },
    "tags": [
     "exo"
    ]
   },
   "source": [
    "#### Activité\n",
    "\n",
    "**Déterminer** la valeur des 6 premiers termes de la suite de Fibonacci.\n",
    "\n",
    "**Implémenter** la fonction récursive `fibonacci(n)` qui renvoie le nième terme de la suite de Fibonacci."
   ]
  },
  {
   "cell_type": "markdown",
   "id": "genetic-champagne",
   "metadata": {
    "slideshow": {
     "slide_type": "subslide"
    },
    "tags": [
     "solution"
    ]
   },
   "source": [
    "#### Réponse\n",
    "\n",
    "*à compléter ici ou sur cahier\n",
    "(ne pas oublier de sauvegarder le notebook sur clé USB ou sur ton espace Atrium)*\n",
    "\n",
    "...\n",
    "\n",
    "..."
   ]
  },
  {
   "cell_type": "code",
   "execution_count": 9,
   "id": "german-coaching",
   "metadata": {
    "slideshow": {
     "slide_type": "subslide"
    }
   },
   "outputs": [],
   "source": [
    "def fibonacci(n):\n",
    "    # à compléter\n",
    "    # ...\n",
    "    \n",
    "    return"
   ]
  },
  {
   "cell_type": "markdown",
   "id": "opposed-cabinet",
   "metadata": {
    "slideshow": {
     "slide_type": "slide"
    }
   },
   "source": [
    "## 1.3 --- Activités"
   ]
  },
  {
   "cell_type": "markdown",
   "id": "comic-least",
   "metadata": {
    "slideshow": {
     "slide_type": "subslide"
    },
    "tags": [
     "exo"
    ]
   },
   "source": [
    "#### Activité\n",
    "\n",
    "Écrire une fonction récursive `boucle(i,k)` qui affiche les entiers compris entre `i` et `k` inclus. Par exemple, `boucle(0,3)` doit afficher les entiers, `0 1 2 3`."
   ]
  },
  {
   "cell_type": "code",
   "execution_count": 15,
   "id": "effective-stanley",
   "metadata": {
    "slideshow": {
     "slide_type": "subslide"
    },
    "tags": [
     "solution"
    ]
   },
   "outputs": [
    {
     "data": {
      "text/plain": [
       "TestResults(failed=0, attempted=6)"
      ]
     },
     "execution_count": 15,
     "metadata": {},
     "output_type": "execute_result"
    }
   ],
   "source": [
    "def boucle(i,k):\n",
    "    # à compléter\n",
    "    # ...\n",
    "    \n",
    "    return"
   ]
  },
  {
   "cell_type": "markdown",
   "id": "tested-election",
   "metadata": {
    "slideshow": {
     "slide_type": "subslide"
    },
    "tags": [
     "exo"
    ]
   },
   "source": [
    "#### Activité\n",
    "\n",
    "**Donner** une définition récursive qui correspond au calcul de la fonction factorielle $n!$ définie par:\n",
    "\n",
    "$$\n",
    "n! = \\left\\{\n",
    "\\begin{array}{ll}\n",
    "    1 & \\text{si } n=0 \\\\\n",
    "    1 \\times 2 \\times \\ldots \\times n & \\text{si } n>0\n",
    "\\end{array}\n",
    "\\right.\n",
    "$$\n",
    "\n",
    "**Implémenter** la fonction `fact(n)`."
   ]
  },
  {
   "cell_type": "markdown",
   "id": "mobile-ladder",
   "metadata": {
    "slideshow": {
     "slide_type": "subslide"
    },
    "tags": [
     "solution"
    ]
   },
   "source": [
    "#### Réponse\n",
    "\n",
    "*à compléter ici ou sur cahier\n",
    "(ne pas oublier de sauvegarder le notebook sur clé USB ou sur ton espace Atrium)*\n",
    "\n",
    "...\n",
    "\n",
    "..."
   ]
  },
  {
   "cell_type": "code",
   "execution_count": 10,
   "id": "southeast-recall",
   "metadata": {
    "slideshow": {
     "slide_type": "subslide"
    },
    "tags": [
     "solution"
    ]
   },
   "outputs": [],
   "source": [
    "def fact(n):\n",
    "    # à compléter\n",
    "    # ...\n",
    "    \n",
    "    return"
   ]
  }
 ],
 "metadata": {
  "celltoolbar": "Diaporama",
  "interpreter": {
   "hash": "916dbcbb3f70747c44a77c7bcd40155683ae19c65e1c03b4aa3499c5328201f1"
  },
  "kernelspec": {
   "display_name": "Python 3",
   "language": "python",
   "name": "python3"
  },
  "language_info": {
   "codemirror_mode": {
    "name": "ipython",
    "version": 3
   },
   "file_extension": ".py",
   "mimetype": "text/x-python",
   "name": "python",
   "nbconvert_exporter": "python",
   "pygments_lexer": "ipython3",
   "version": "3.9.2"
  },
  "latex_metadata": {
   "theme": "langage",
   "title": "1 --- Récursivité"
  }
 },
 "nbformat": 4,
 "nbformat_minor": 5
}
