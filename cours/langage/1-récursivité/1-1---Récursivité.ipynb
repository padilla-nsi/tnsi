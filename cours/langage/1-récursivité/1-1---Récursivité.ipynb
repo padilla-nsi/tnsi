{
 "cells": [
  {
   "cell_type": "markdown",
   "source": [
    "# Chap. 1 --- Récursivité\n"
   ],
   "metadata": {
    "slideshow": {
     "slide_type": "slide"
    }
   }
  },
  {
   "cell_type": "markdown",
   "source": [
    "Dans ce chapitre, tu vas travailler sur :\n",
    "\n",
    "- les définitions récursives\n",
    "- la programmation avec des fonctions récursives\n",
    "- les arbre d'appels\n",
    "- les modèles d'éxécution et pile d'appels"
   ],
   "metadata": {
    "slideshow": {
     "slide_type": "slide"
    },
    "tags": [
     "cacher"
    ]
   }
  },
  {
   "cell_type": "markdown",
   "source": [
    "## 1.1 --- Problème de la somme des $n$ premiers entiers"
   ],
   "metadata": {
    "slideshow": {
     "slide_type": "slide"
    }
   }
  },
  {
   "cell_type": "markdown",
   "source": [
    "Pour définir la somme des $n$ premiers entiers, on utilise généralement la formule $0 + 1 + 2 + \\ldots + n$. Cette formule parait simple mais elle n'est pas évidente à programmer en Python."
   ],
   "metadata": {
    "slideshow": {
     "slide_type": "fragment"
    }
   }
  },
  {
   "cell_type": "markdown",
   "source": [
    "**Écrire** une fonction `somme(n)` qui renvoie la somme des `n` premiers entiers."
   ],
   "metadata": {
    "slideshow": {
     "slide_type": "fragment"
    },
    "tags": [
     "exo"
    ]
   }
  },
  {
   "cell_type": "code",
   "execution_count": 1,
   "source": [
    "# programmation avec tests\n",
    "# import doctest\n",
    "\n",
    "def somme(n):\n",
    "    \"\"\"\n",
    "    Calcule la somme des n premiers entiers.\n",
    "    param : n (int), dernier entier à ajouter\n",
    "    \n",
    "    exemples:\n",
    "    >>> somme (0) \n",
    "    0\n",
    "    >>> somme (5)\n",
    "    15\n",
    "    \"\"\"\n",
    "    r = 0\n",
    "    for i in range(n+1):\n",
    "        r = r + i\n",
    "    return r\n",
    "\n",
    "# programmation tests\n",
    "# doctest.testmod()"
   ],
   "outputs": [],
   "metadata": {
    "slideshow": {
     "slide_type": "subslide"
    },
    "tags": [
     "solution"
    ]
   }
  },
  {
   "cell_type": "markdown",
   "source": [
    "On remarque que le code Python n'a rien à voir avec sa formulation mathématique."
   ],
   "metadata": {
    "slideshow": {
     "slide_type": "subslide"
    }
   }
  },
  {
   "cell_type": "markdown",
   "source": [
    "### Nouvelle formulation\n",
    "\n",
    "Il existe une autre manière d'aborder ce problème en définissant une fonction mathématique $somme(n)$.\n"
   ],
   "metadata": {
    "slideshow": {
     "slide_type": "subslide"
    }
   }
  },
  {
   "cell_type": "markdown",
   "source": [
    "**Calculer**  $somme(0)$ ?\n",
    "\n",
    "Utilisons maintenant l'illustration ci-dessous pour modéliser quelques exemples de calculs.\n",
    "\n",
    "![](res/somme.png)\n",
    "\n",
    "En observant ces exemples, **trouver une relation** entre :\n",
    "\n",
    "- $somme(5)$ et $somme(4)$,\n",
    "- $somme(4)$ et $somme(3)$.\n",
    "\n",
    "**Généraliser** la relation entre $somme(n)$ et $somme(n-1)$."
   ],
   "metadata": {
    "slideshow": {
     "slide_type": "subslide"
    },
    "tags": [
     "exo"
    ]
   }
  },
  {
   "cell_type": "markdown",
   "source": [
    "1. $somme(0) = 0$\n",
    "2. On obtient :\n",
    "    - $somme(5) = somme(4) + 5$\n",
    "    - $somme(4) = somme(3) + 4$\n",
    "3. En s'aidant du schéma\n",
    "\n",
    "![](res/sommek.png)\n",
    "\n",
    "on obtient donc :\n",
    "\n",
    "$$\n",
    "somme(n) = \\left\\{\n",
    "    \\begin{array}{ll}\n",
    "        0 & \\text{si }n=0 \\\\\n",
    "        somme (n-1) + n & \\text{si }n>0 \n",
    "    \\end{array}\n",
    "\\right.\n",
    "$$\n"
   ],
   "metadata": {
    "slideshow": {
     "slide_type": "subslide"
    },
    "tags": [
     "solution"
    ]
   }
  },
  {
   "cell_type": "markdown",
   "source": [
    "Comme on peut le voir, la définition de $somme(n)$ dépend de la valeur de $somme(n-1)$.\n",
    "\n",
    "$$\n",
    "somme(n) = \\left\\{\n",
    "    \\begin{array}{ll}\n",
    "        0 & \\text{si }n=0 \\\\\n",
    "        somme (n-1) + n & \\text{si }n>0 \n",
    "    \\end{array}\n",
    "\\right.\n",
    "$$\n",
    "\n",
    "\n",
    "Il s'agit d'une définition **récursive**, c'est-à-dire d'une définition de fonction qui fait appel à elle-même.\n",
    "\n",
    "L'intérêt de cette définition récursive de la fonction $somme(n)$ est qu'elle est directement *calculable*, c'est-à-dire exécutable par un ordinateur."
   ],
   "metadata": {
    "slideshow": {
     "slide_type": "subslide"
    }
   }
  },
  {
   "cell_type": "markdown",
   "source": [
    "En appliquant exactement la définition récursive de la fonction $somme(n)$, **programmer** une fonction `somme(n)` qui calcule la somme des `n` premiers entiers."
   ],
   "metadata": {
    "slideshow": {
     "slide_type": "fragment"
    },
    "tags": [
     "exo"
    ]
   }
  },
  {
   "cell_type": "code",
   "execution_count": 2,
   "source": [
    "# programmation avec tests\n",
    "# import doctest\n",
    "\n",
    "def somme(n):\n",
    "    \"\"\"\n",
    "    Calcule la somme des n premiers entiers.\n",
    "    params: n (int), dernier entier à ajouter\n",
    "    \n",
    "    exemples:\n",
    "    >>> somme (0) \n",
    "    0\n",
    "    >>> somme(10)\n",
    "    55\n",
    "    \"\"\"\n",
    "    if n==0:\n",
    "        return 0\n",
    "    else:\n",
    "        return n + somme(n-1)\n",
    "\n",
    "# programmation avec tests\n",
    "# doctest.testmod()"
   ],
   "outputs": [],
   "metadata": {
    "slideshow": {
     "slide_type": "subslide"
    },
    "tags": [
     "solution"
    ]
   }
  },
  {
   "cell_type": "markdown",
   "source": [
    "Voici par exemple comment on peut représenter l'évaluation de l'appel à `somme(3)`\n",
    "\n",
    "![](res/rec-somme3.png)\n",
    "\n",
    "Pour calculer la valeur renvoyée par `somme(3)`, il faut d'abord appeler `somme(2)`. Cet appel va lui même déclencher un appel à `somme(1)`, qui a son tour nécessite un appel à `somme(0)`.\n",
    "\n",
    "Ce dernier se termine directement en renvoyant la valeur 0. `somme(1)` peut alors se terminer et renvoyer le résultat de`1+0`. Enfin, l'appel à `somme(2)` peut lui même se terminer et renvoyer la valeur `2+1`.\n",
    "\n",
    "Ce qui permet à `somme(3)` de se terminer en renvoyant le résultat `3+3`.\n",
    "\n",
    "Ainsi on obtient bien la valeur 6 attendue !"
   ],
   "metadata": {
    "slideshow": {
     "slide_type": "subslide"
    },
    "tags": [
     "exemple"
    ]
   }
  },
  {
   "cell_type": "markdown",
   "source": [
    "## 1.2 Formulation récursive\n",
    "\n",
    "Une formulation récursive est constituée par :\n",
    "\n",
    "* un ou des **cas de base** (on n'a pas besoin d'appeler la fonction)\n",
    "* des **cas récursifs** (on a besoin d'appeler la fonction)\n",
    "\n",
    "Les cas de bases sont habituellement les cas de valeurs particulières pour lesquelles il est facile de déterminer le résultat."
   ],
   "metadata": {
    "slideshow": {
     "slide_type": "slide"
    }
   }
  },
  {
   "cell_type": "markdown",
   "source": [
    "### Deuxième exemple"
   ],
   "metadata": {
    "slideshow": {
     "slide_type": "subslide"
    }
   }
  },
  {
   "cell_type": "markdown",
   "source": [
    "On rappelle que la fonction $puissance$ est définie en mathématique par : $x^n = \\underbrace{x \\times x \\times \\ldots \\times x}_{n \\text{ fois}}$\n",
    "\n",
    "**Déterminer** pour la fonction *puissance* :\n",
    "\n",
    "* un cas de base\n",
    "* le cas récursif"
   ],
   "metadata": {
    "slideshow": {
     "slide_type": "fragment"
    },
    "tags": [
     "exo"
    ]
   }
  },
  {
   "cell_type": "markdown",
   "source": [
    "Écriture mathématique :\n",
    "\n",
    "$$\n",
    "x^n = \\left\\{\n",
    "    \\begin{array}{ll}\n",
    "        1 & \\text{si $n=0$} \\\\\n",
    "        x \\times x^{n-1}& \\text{si $n>0$}\n",
    "    \\end{array}\n",
    "\\right.\n",
    "$$\n",
    "\n",
    "Écriture fonctionnelle :\n",
    "$$\n",
    "puissance(x,n) = \\left\\{\n",
    "    \\begin{array}{ll}\n",
    "        1 & \\text{si $n=0$} \\\\\n",
    "        x \\times puissance(x, n-1) & \\text{si $n>0$}\n",
    "    \\end{array}\n",
    "\\right.\n",
    "$$"
   ],
   "metadata": {
    "slideshow": {
     "slide_type": "subslide"
    },
    "tags": [
     "solution"
    ]
   }
  },
  {
   "cell_type": "markdown",
   "source": [
    "Implémenter une fonction récursive `puissance(x,n)` de la fonction $puissance$."
   ],
   "metadata": {
    "slideshow": {
     "slide_type": "fragment"
    },
    "tags": [
     "exo"
    ]
   }
  },
  {
   "cell_type": "code",
   "execution_count": 3,
   "source": [
    "def puissance(x,n):\n",
    "    \"\"\"Renvoie x à la puissance x, c'est à dire\n",
    "    x × x × ... × x (avec n facteurs)\n",
    "\n",
    "    Args:\n",
    "        x (int): nombre à multiplier (base)\n",
    "        n (int): exposant de la puissance\n",
    "\n",
    "    Returns:\n",
    "        [int]: x à la puissance n\n",
    "\n",
    "    Example:\n",
    "    >>> puissance(2,10)\n",
    "    1024\n",
    "    \"\"\"\n",
    "    if n == 0:\n",
    "        return 1\n",
    "    else:\n",
    "        return x * puissance(x,n-1)"
   ],
   "outputs": [],
   "metadata": {
    "slideshow": {
     "slide_type": "subslide"
    },
    "tags": [
     "solution"
    ]
   }
  },
  {
   "cell_type": "markdown",
   "source": [
    "### Double cas de base et double récursion\n",
    "\n",
    "Il peut y avoir plusieurs cas de bases. Il peut aussi y avoir plusieurs récursions, c'est-à-dire plusieurs appels récursif à la fonction."
   ],
   "metadata": {
    "slideshow": {
     "slide_type": "subslide"
    }
   }
  },
  {
   "cell_type": "markdown",
   "source": [
    "La fonction $fibonacci(n)$ est définie récursivement, pour tout entier $n$, par :\n",
    "\n",
    "$$ \n",
    "fibonacci(n) = \n",
    "\\left\\{\n",
    "    \\begin{array}{ll}\n",
    "        0 & \\text{si $n=0$}\\\\\n",
    "        1 & \\text{si $n=1$}\\\\\n",
    "        fibonacci(n-2) + fibonacci(n-1) & \\text{si $n>1$}\n",
    "    \\end{array}\n",
    "\\right.\n",
    "$$\n",
    "\n",
    "Cette formulation récursive possède deux cas de base (pour $n=0$ et $n=1$) et une double récursion."
   ],
   "metadata": {
    "slideshow": {
     "slide_type": "fragment"
    },
    "tags": [
     "exemple"
    ]
   }
  },
  {
   "cell_type": "markdown",
   "source": [
    "**Déterminer** la valeur des 6 premiers termes de la suite de Fibonacci.\n",
    "\n",
    "**Implémenter** la fonction récursive `fibonacci(n)` qui renvoie le nième terme de la suite de Fibonacci."
   ],
   "metadata": {
    "slideshow": {
     "slide_type": "subslide"
    },
    "tags": [
     "exo"
    ]
   }
  },
  {
   "cell_type": "markdown",
   "source": [
    "$$\n",
    "\\begin{array}{lllllll}\n",
    "fibonacci(0) & = & 0 \\\\\n",
    "fibonacci(1) & = & 1 \\\\\n",
    "fibonacci(2) & = & fibonacci(0) + fibonacci(1) & = & 0+1 & = & 1 \\\\\n",
    "fibonacci(3) & = & fibonacci(1) + fibonacci(2) & = & 1+1 & = & 2 \\\\\n",
    "fibonacci(4) & = & fibonacci(2) + fibonacci(3) & = & 1+2 & = & 3 \\\\\n",
    "fibonacci(5) & = & fibonacci(3) + fibonacci(4) & = & 2+3 & = & 5\n",
    "\\end{array}\n",
    "$$"
   ],
   "metadata": {
    "slideshow": {
     "slide_type": "subslide"
    },
    "tags": [
     "solution"
    ]
   }
  },
  {
   "cell_type": "code",
   "execution_count": 4,
   "source": [
    "def fibonacci(n):\n",
    "    \"\"\"nième terme de la suite de Fibonacci\n",
    "\n",
    "    Exemples:\n",
    "    >>> fibonacci(1)\n",
    "    1\n",
    "    >>> fibonacci(5)\n",
    "    5\n",
    "    \"\"\"\n",
    "    if n == 0:\n",
    "        return 0\n",
    "    elif n == 1:\n",
    "        return 1\n",
    "    else:\n",
    "        return fibonacci(n-2) + fibonacci(n-1)"
   ],
   "outputs": [],
   "metadata": {
    "slideshow": {
     "slide_type": "subslide"
    },
    "tags": [
     "solution"
    ]
   }
  },
  {
   "cell_type": "markdown",
   "source": [
    "## 1.3 --- Activités"
   ],
   "metadata": {
    "slideshow": {
     "slide_type": "slide"
    }
   }
  },
  {
   "cell_type": "markdown",
   "source": [
    "Écrire une fonction récursive `boucle(i,k)` qui affiche les entiers compris entre `i` et `k` inclus. Par exemple, `boucle(0,3)` doit afficher les entiers, `0 1 2 3`."
   ],
   "metadata": {
    "slideshow": {
     "slide_type": "subslide"
    },
    "tags": [
     "exo"
    ]
   }
  },
  {
   "cell_type": "code",
   "execution_count": 5,
   "source": [
    "def boucle(i,k):\n",
    "    \"\"\"\n",
    "    Affiche les nombres entiers\n",
    "    compris entre i et k inclus\n",
    "    \n",
    "    Exemple :\n",
    "    >>> boucle (0,3)\n",
    "    0\n",
    "    1\n",
    "    2\n",
    "    3\n",
    "    \"\"\"\n",
    "    if i == k :\n",
    "        print (k)\n",
    "    else:\n",
    "        print (i)\n",
    "        boucle(i+1,k)"
   ],
   "outputs": [],
   "metadata": {
    "slideshow": {
     "slide_type": "subslide"
    },
    "tags": [
     "solution"
    ]
   }
  },
  {
   "cell_type": "markdown",
   "source": [
    "**Donner** une définition récursive qui correspond au calcul de la fonction factorielle $n!$ définie par:\n",
    "\n",
    "$$\n",
    "n! = \\left\\{\n",
    "\\begin{array}{ll}\n",
    "    1 & \\text{si } n=0 \\\\\n",
    "    1 \\times 2 \\times \\ldots \\times n & \\text{si } n>0\n",
    "\\end{array}\n",
    "\\right.\n",
    "$$\n",
    "\n",
    "**Donner** une fonction `fact(n)` qui implémente cette définition."
   ],
   "metadata": {
    "slideshow": {
     "slide_type": "subslide"
    },
    "tags": [
     "exo"
    ]
   }
  },
  {
   "cell_type": "markdown",
   "source": [
    "La fonction mathématique est :\n",
    "\n",
    "$$\n",
    "n! = \\left\\{\n",
    "\\begin{array}{ll}\n",
    "    1 & \\text{si } n=0 \\\\\n",
    "    n \\times (n-1)! & \\text{si } n>0\n",
    "\\end{array}\n",
    "\\right.\n",
    "$$\n"
   ],
   "metadata": {
    "slideshow": {
     "slide_type": "subslide"
    },
    "tags": [
     "solution"
    ]
   }
  },
  {
   "cell_type": "code",
   "execution_count": 6,
   "source": [
    "def fact(n):\n",
    "    \"\"\"\n",
    "    Calcule le n factoriel, c'est-à-dire : \n",
    "    n × (n-1) × ... × 2 × 1\n",
    "    \n",
    "    exemple:\n",
    "    >>> fact(0)\n",
    "    1\n",
    "    >>> fact(5)\n",
    "    120\n",
    "    \"\"\"\n",
    "    if n==0:\n",
    "        return 1\n",
    "    else:\n",
    "        return n * fact(n-1)"
   ],
   "outputs": [],
   "metadata": {
    "slideshow": {
     "slide_type": "subslide"
    },
    "tags": [
     "solution"
    ]
   }
  },
  {
   "cell_type": "markdown",
   "source": [
    "## 1.4 Définitions bien formées"
   ],
   "metadata": {
    "slideshow": {
     "slide_type": "slide"
    }
   }
  },
  {
   "cell_type": "markdown",
   "source": [
    "Il est important de respecter quelques règles élémentaires lorsqu'on écrit une définition récursive.\n",
    "\n",
    "- vérifier que la récursion **se termine**  (grâce au(x) cas de base)\n",
    "- vérifier que les valeurs utilisées respectent les domaines de définition de la fonction\n",
    "- vérifier qu'il y a une définition pour toutes les valeurs du domaine"
   ],
   "metadata": {
    "slideshow": {
     "slide_type": "subslide"
    }
   }
  },
  {
   "cell_type": "markdown",
   "source": [
    "**Relever** les problèmes concernant les trois définitions suivantes :\n",
    "\n",
    "$$\n",
    "f(n) = \\left\\{\n",
    "\\begin{array}{ll}\n",
    "    1 & \\text{si $n=0$} \\\\\n",
    "    n+f(n+1) & \\text{si $n>0$}\n",
    "\\end{array}\n",
    "\\right.\n",
    "$$\n",
    "\n",
    "$$\n",
    "g(n) = \\left\\{\n",
    "\\begin{array}{ll}\n",
    "     1& \\text{si $n=0$ }\\\\\n",
    "     n+g(n-2)& \\text{si $n>0$ }\n",
    "\\end{array}\n",
    "\\right.\n",
    "$$\n",
    "\n",
    "$$\n",
    "h(n) = \\left\\{\n",
    "\\begin{array}{ll}\n",
    "     1& \\text{si $n=0$ }\\\\\n",
    "     n+h(n-1)& \\text{si $n>1$ }\n",
    "\\end{array}\n",
    "\\right.\n",
    "$$\n"
   ],
   "metadata": {
    "slideshow": {
     "slide_type": "subslide"
    },
    "tags": [
     "exo"
    ]
   }
  },
  {
   "cell_type": "markdown",
   "source": [
    "La définition de $f$ est incorrecte car la valeur $f(n)$, pour tout $n$ strictement positif, ne permet pas d'atteindre le cas de base ($n=0$). Par exemple $f(1)=1+f(2)=1+2+f(3)=\\ldots$\n",
    "\n",
    "La définition de $g$ s'applique aux *entiers natures*. Mais par exemple la valeur $g(1) = 1+g(-1)$ et le terme $g(-1)$ n'a aucun sens pour cette définition !\n",
    "\n",
    "Il manque une valeur de l'ensemble de définition : le nombre $1$ n'a pas d'image par la fonction $h$ !"
   ],
   "metadata": {
    "slideshow": {
     "slide_type": "subslide"
    },
    "tags": [
     "solution"
    ]
   }
  },
  {
   "cell_type": "markdown",
   "source": [
    "Les définitions récursives s'appliquent à toute une variété d'objets (et pas uniquement à la définition de fonctions). Nous verrons dans l'année des **définitions récursives de structures de données**."
   ],
   "metadata": {
    "slideshow": {
     "slide_type": "subslide"
    },
    "tags": [
     "remarque"
    ]
   }
  },
  {
   "cell_type": "markdown",
   "source": [
    "## 1.5 Programmer avec des fonctions récursives"
   ],
   "metadata": {
    "slideshow": {
     "slide_type": "slide"
    }
   }
  },
  {
   "cell_type": "markdown",
   "source": [
    "Quand on programme avec des fonctions récursives, il y a **deux points**  importants à vérifier :\n",
    "\n",
    "* le choix d'une définition récursive plutôt qu'une autre aura une influence sur l'efficacité d'exécution. Jusqu'au dernier appel récursif, la pile d'exécution contient les environnements d'exécutions de **tous** les appels à la fonction récursive. Python limite explicitement le nombre d'appels récursifs dans une fonction. Après 1000 appels, l'exception (= *erreur*) `RecursionError` est levée. Pour passer cette limite à 2000 appels maximums, on exécutera le code Python suivant :\n",
    "\n",
    "\n",
    "> ```python\n",
    "> import sys\n",
    "> sys.setrecursionlimit(2000)\n",
    "> ```\n",
    "\n",
    "\n",
    "* le domaine de définition *mathématique* n'est pas toujours le même que l'ensemble des valeurs du type Python avec lesquelles la fonction Python sera appelée ;\n"
   ],
   "metadata": {
    "slideshow": {
     "slide_type": "subslide"
    }
   }
  },
  {
   "cell_type": "markdown",
   "source": [
    "La fonction *mathématique* $somme(n)$ est définie sur l'ensemble des **entiers naturels**.\n",
    "\n",
    "Mais comment empêcher d'appeler la fonction Python `somme(n)` avec autre chose qu'un entier naturel ? Ainsi, *comment empêcher un appel comme `somme(-1)` ?*\n",
    "\n",
    "Pour cela, on utilise les principes de la **programmation défensive** vue en première : on utilise l'instruction `assert n >= 0`. Ainsi, une erreur **sera déclenchée** pour tout appel avec `n < 0`.\n",
    "\n",
    "```python\n",
    "def somme(n):\n",
    "    assert n >= 0\n",
    "    if n == 0:\n",
    "        return 0\n",
    "    else:\n",
    "        return n + somme(n - 1)\n",
    "```\n"
   ],
   "metadata": {
    "slideshow": {
     "slide_type": "subslide"
    },
    "tags": [
     "exemple"
    ]
   }
  },
  {
   "cell_type": "markdown",
   "source": [
    "## À retenir\n",
    "\n",
    "Un calcul peut être décrit à l'aide d'une **définition récursive**. L'écriture d'une **fonction récursive** nécessite de distinguer les **cas de base** (pour lesquels on peut donner un résultat facilement) et les **cas récursifs** (qui font appel à la définition en cours).\n",
    "\n",
    "Il faut veiller à ce que la fonction Python ne s'applique que sur le **domaine** de la fonction mathématique (utiliser par exemple l'instruction **`assert`**).\n",
    "Enfin, il faut comprendre le modèle d'exécution des fonctions récursives pour choisir la définition qui **limite** le nombre d'appels récursifs.\n"
   ],
   "metadata": {
    "slideshow": {
     "slide_type": "subslide"
    }
   }
  },
  {
   "cell_type": "markdown",
   "source": [
    "## 1.5 Applications"
   ],
   "metadata": {
    "slideshow": {
     "slide_type": "slide"
    }
   }
  },
  {
   "cell_type": "markdown",
   "source": [
    "Écrire une fonction `nombre_de_chiffre(n)` qui renvoie le nombre de chiffre du nombre entier positif `n`. Par exemple, `nombre_de_chiffre(314159)` devra renvoyer `6`."
   ],
   "metadata": {
    "slideshow": {
     "slide_type": "subslide"
    },
    "tags": [
     "exo"
    ]
   }
  },
  {
   "cell_type": "code",
   "execution_count": 7,
   "source": [
    "def nombre_de_chiffre(n):\n",
    "    \"\"\"Nombre de chiffre d'un nombre entier\n",
    "\n",
    "    Args:\n",
    "        n (int): nombre à évaluer\n",
    "\n",
    "    Returns:\n",
    "        int: nombre de chiffre de n\n",
    "\n",
    "    Example:\n",
    "    >>> nombre_de_chiffre(314159)\n",
    "    6\n",
    "    \"\"\"\n",
    "    if n <= 9:\n",
    "        return 1\n",
    "    else:\n",
    "        return 1 + nombre_de_chiffre(n//10)"
   ],
   "outputs": [],
   "metadata": {
    "slideshow": {
     "slide_type": "subslide"
    },
    "tags": [
     "solution"
    ]
   }
  },
  {
   "cell_type": "markdown",
   "source": [
    "Soit $u_n$ la suite d'entiers définie par :\n",
    "\n",
    "$$\n",
    "u_{n+1} = \\left\\{\n",
    "\\begin{array}{ll}\n",
    "    \\frac {u_n}{ 2}  &\\text{si } u_n \\text{ est pair}, \\\\\n",
    "    3 \\times u_n + 1 &\\text{sinon}.\n",
    "\\end{array}\n",
    "\\right.\n",
    "$$\n",
    "\n",
    "avec $u_0$ un entier plus grand que 1.\n",
    "\n",
    "Écrire une fonction récursive `syracuse(u_n)` qui affiche les valeurs successives de la suite $u_n$ **tant que $u_n$ est plus grand que 1**.\n",
    "\n"
   ],
   "metadata": {
    "slideshow": {
     "slide_type": "subslide"
    },
    "tags": [
     "exo"
    ]
   }
  },
  {
   "cell_type": "code",
   "execution_count": 8,
   "source": [
    "def syracuse(u_n):\n",
    "    \"\"\"\n",
    "    Affiche les termes de la suite de Syracuse.\n",
    "    \n",
    "    exemple :\n",
    "    >>> syracuse(5)\n",
    "    5\n",
    "    16\n",
    "    8\n",
    "    4\n",
    "    2\n",
    "    1\n",
    "    \"\"\"\n",
    "    print(u_n)\n",
    "    if u_n > 1:\n",
    "        if u_n % 2 == 0:\n",
    "            syracuse(u_n//2)\n",
    "        else:\n",
    "            syracuse(3*u_n+1)"
   ],
   "outputs": [],
   "metadata": {
    "slideshow": {
     "slide_type": "subslide"
    },
    "tags": [
     "solution"
    ]
   }
  },
  {
   "cell_type": "markdown",
   "source": [
    "La conjecture de Syracuse affirme que, quelle que soit la valeur de $u_0$, il existe toujours un indice $n$ dans la suite tel que $u_n = 1$. Cette conjecture défie toujours les mathématiciens."
   ],
   "metadata": {
    "slideshow": {
     "slide_type": "subslide"
    },
    "tags": [
     "remarque"
    ]
   }
  },
  {
   "cell_type": "markdown",
   "source": [
    "En appelant $carre(x)$ la fonction qui a $x$ associe $x \\times x$, on peut utiliser une autre définition de la fonction mathématique $puissance(x,n)$ :\n",
    "$$\n",
    "\\begin{array}{ll}\n",
    "& puissance(x,n) = \\\\ \n",
    "& \\qquad\\left\\{\n",
    "    \\begin{array}{lll}\n",
    "    1& \\text{si $n=0$} \\\\\n",
    "    x& \\text{si $n=1$} \\\\\n",
    "    carre\\big(puissance(x,\\frac n2)\\big)& \\text{si $n>1$ et $n$ est pair} \\\\\n",
    "    x\\times carre\\big(puissance(x,\\frac{n-1}2)\\big)& \\text{si $x>1$ et $n$ est impair}\n",
    "    \\end{array}\n",
    "\\right.\n",
    "\\end{array}\n",
    "$$\n",
    "\n",
    "**Combien** d'appels récursifs engendre l'appel `puissance(7,28)` ? **Comparer** à la fonction `puissance(x,n)` vue dans le cours.\n",
    "\n",
    "**Implémenter** la fonction `carre(n)` puis, en suivant cette définition, la fonction `puissance(x,n)`.\n",
    "\n",
    "> *Rappel* : le test de parité est réalisé par un test à zéro du reste de la division entière par 2 (soit `r % 2 == 0`).\n"
   ],
   "metadata": {
    "slideshow": {
     "slide_type": "subslide"
    },
    "tags": [
     "exo"
    ]
   }
  },
  {
   "cell_type": "markdown",
   "source": [
    "`puissance(7,28)` $\\rightarrow$ `puissance(7,14)` $\\rightarrow$ `puissance(7,7)` $\\rightarrow$ `puissance(7,3)` $\\rightarrow$ `puissance(7,1)` $\\rightarrow$ `return 7`\n",
    "\n",
    "Il faut donc 1 appel initial et 4 appels récursifs. Pour la fonction $puissance(x,n)$ initiale, il faudrait 1 appel initial et 27 appels récursifs.\n",
    "\n",
    "De manière générale le nombre d'appel récursif est lié au nombre $\\log_2 (n)$ où $\\log_2$ est la fonction logarithme de base 2.\n",
    "\n",
    "Ici, il faut\n",
    "$1+\\lfloor \\log_2(n) \\rfloor$\n",
    "appels. Ainsi, le calcul de `puissance(x,1000)` ne nécessite que\n",
    "$1+\\lfloor \\log_2 (1000) \\rfloor = 10$\n",
    "appels !\n",
    "\n",
    "\n"
   ],
   "metadata": {
    "slideshow": {
     "slide_type": "subslide"
    },
    "tags": [
     "solution"
    ]
   }
  },
  {
   "cell_type": "markdown",
   "source": [
    "Écrire une version récursive d'une fonction qui renvoie le nombre de bits égaux à 1 d'un entier strictement positif (par ex. `nombre_de_bit(255)` doit renvoyer `5`)."
   ],
   "metadata": {
    "slideshow": {
     "slide_type": "subslide"
    },
    "tags": [
     "retenir"
    ]
   }
  },
  {
   "cell_type": "markdown",
   "source": [
    "John McCarthy a inventé la fonction $f_{91}(n)$ définie par :\n",
    "\n",
    "$$\n",
    "f_{91}(n) = \\left\\{\n",
    "\\begin{array}{ll}\n",
    "    n-10 &\\text{si $n>100$}, \\\\\n",
    "    f_{91} \\big( f_{91} (n + 11) \\big ) &\\text{si $n \\leq 100$}.\n",
    "\\end{array}\n",
    "\\right.\n",
    "$$\n",
    "\n",
    "**Implémenter** cette fonction et **donner** un tableau de valeurs de $f_{91}(n)$ pour $n \\in [\\![0..100]\\!]$."
   ],
   "metadata": {
    "slideshow": {
     "slide_type": "subslide"
    },
    "tags": [
     "retenir"
    ]
   }
  }
 ],
 "metadata": {
  "celltoolbar": "Diaporama",
  "interpreter": {
   "hash": "916dbcbb3f70747c44a77c7bcd40155683ae19c65e1c03b4aa3499c5328201f1"
  },
  "kernelspec": {
   "name": "python3",
   "display_name": "Python 3.9.2 64-bit"
  },
  "language_info": {
   "codemirror_mode": {
    "name": "ipython",
    "version": 3
   },
   "file_extension": ".py",
   "mimetype": "text/x-python",
   "name": "python",
   "nbconvert_exporter": "python",
   "pygments_lexer": "ipython3",
   "version": "3.9.2"
  },
  "latex_metadata": {
   "theme": "langage",
   "title": "1 --- Récursivité"
  },
  "rise": {
   "theme": "serif"
  }
 },
 "nbformat": 4,
 "nbformat_minor": 5
}