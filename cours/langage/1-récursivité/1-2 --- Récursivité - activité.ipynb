{
 "cells": [
  {
   "cell_type": "markdown",
   "id": "bigger-valley",
   "metadata": {},
   "source": [
    "## 1.2 --- Activités"
   ]
  },
  {
   "cell_type": "markdown",
   "id": "nasty-original",
   "metadata": {
    "tags": [
     "exo"
    ]
   },
   "source": [
    "**Donner** une définition récursive qui correspond au calcul de la fonction factorielle $n!$ définie par:\n",
    "\n",
    "$$\n",
    "n! = \\left\\{\n",
    "\\begin{array}{ll}\n",
    "    1 & \\text{si } n=0 \\\\\n",
    "    1 \\times 2 \\times \\ldots \\times n & \\text{si } n>0\n",
    "\\end{array}\n",
    "\\right.\n",
    "$$\n",
    "\n",
    "**Donner** d'une fonction `fact(n)` qui implémente cette définition."
   ]
  },
  {
   "cell_type": "markdown",
   "id": "greek-liverpool",
   "metadata": {
    "tags": [
     "solution"
    ]
   },
   "source": [
    "La fonction mathématique est :\n",
    "\n",
    "$$\n",
    "n! = \\left\\{\n",
    "\\begin{array}{ll}\n",
    "    1 & \\text{si } n=0 \\\\\n",
    "    n \\times (n-1)! & \\text{si } n>0\n",
    "\\end{array}\n",
    "\\right.\n",
    "$$\n"
   ]
  },
  {
   "cell_type": "code",
   "execution_count": 1,
   "id": "collective-romance",
   "metadata": {
    "tags": [
     "solution"
    ]
   },
   "outputs": [],
   "source": [
    "import doctest\n",
    "doctest.testmod()\n",
    "\n",
    "def fact(n):\n",
    "    \"\"\"\n",
    "    Calcule le n factoriel, c'est-à-dire : \n",
    "    n × (n-1) × ... × 2 × 1\n",
    "    \n",
    "    exemple:\n",
    "    >>> fact(0)\n",
    "    1\n",
    "    >>> fact(5)\n",
    "    120\n",
    "    \"\"\"\n",
    "    if n==0:\n",
    "        return 1\n",
    "    else:\n",
    "        return n * fact(n-1)"
   ]
  },
  {
   "cell_type": "markdown",
   "id": "verified-arthur",
   "metadata": {
    "tags": [
     "exo"
    ]
   },
   "source": [
    "Soit $u_n$ la suite d'entiers définie par :\n",
    "\n",
    "$$\n",
    "u_{n+1} = \\left\\{\n",
    "\\begin{array}{ll}\n",
    "    \\frac {u_n}{ 2}  &\\text{si } u_n \\text{ est pair}, \\\\\n",
    "    3 \\times u_n + 1 &\\text{sinon}.\n",
    "\\end{array}\n",
    "\\right.\n",
    "$$\n",
    "\n",
    "avec $u_0$ un entier plus grand que 1.\n",
    "\n",
    "Écrire une fonction récursive `syracuse(u_n)` qui affiche les valeurs successives de la suite $u_n$ **tant que $u_n$ est plus grand que 1**.\n",
    "\n"
   ]
  },
  {
   "cell_type": "markdown",
   "id": "facial-circuit",
   "metadata": {
    "tags": [
     "remarque"
    ]
   },
   "source": [
    "La conjecture de Syracuse affirme que, quelle que soit la valeur de $u_0$, il existe toujours un indice $n$ dans la suite tel que $u_n = 1$. Cette conjecture défie toujours les mathématiciens."
   ]
  },
  {
   "cell_type": "code",
   "execution_count": 19,
   "id": "ignored-airfare",
   "metadata": {
    "tags": [
     "solution"
    ]
   },
   "outputs": [
    {
     "name": "stdout",
     "output_type": "stream",
     "text": [
      "5\n",
      "16\n",
      "8\n",
      "4\n",
      "2\n",
      "1\n"
     ]
    }
   ],
   "source": [
    "import doctest\n",
    "doctest.testmod()\n",
    "\n",
    "def syracuse(u_n):\n",
    "    \"\"\"\n",
    "    Affiche les termes de la suite de Syracuse.\n",
    "    \n",
    "    exemple :\n",
    "    >>> syracuse(5)\n",
    "    5\n",
    "    16\n",
    "    8\n",
    "    4\n",
    "    2\n",
    "    1\n",
    "    \"\"\"\n",
    "    print(u_n)\n",
    "    if u_n > 1:\n",
    "        if u_n % 2 == 0:\n",
    "            syracuse(u_n//2)\n",
    "        else:\n",
    "            syracuse(3*u_n+1)"
   ]
  }
 ],
 "metadata": {
  "celltoolbar": "Tags",
  "kernelspec": {
   "display_name": "Python 3",
   "language": "python",
   "name": "python3"
  },
  "language_info": {
   "codemirror_mode": {
    "name": "ipython",
    "version": 3
   },
   "file_extension": ".py",
   "mimetype": "text/x-python",
   "name": "python",
   "nbconvert_exporter": "python",
   "pygments_lexer": "ipython3",
   "version": "3.9.2"
  },
  "latex_metadata": {
   "theme": "langage"
  }
 },
 "nbformat": 4,
 "nbformat_minor": 5
}
