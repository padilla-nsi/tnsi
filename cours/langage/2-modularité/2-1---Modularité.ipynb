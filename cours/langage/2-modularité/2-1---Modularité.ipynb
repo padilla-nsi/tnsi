{
 "cells": [
  {
   "cell_type": "markdown",
   "source": [
    "# Chap. 2 --- Modularité\n"
   ],
   "metadata": {
    "slideshow": {
     "slide_type": "slide"
    }
   }
  },
  {
   "cell_type": "markdown",
   "source": [
    "Dans ce chapitre, tu vas travailler sur :\n",
    "\n",
    "- les *modules* et les *interfaces*\n",
    "- l'*encapsulation*\n",
    "- la réutilisation de code\n",
    "- lever et rattraper des *exceptions*"
   ],
   "metadata": {
    "slideshow": {
     "slide_type": "slide"
    },
    "tags": [
     "cacher"
    ]
   }
  },
  {
   "cell_type": "markdown",
   "source": [
    "## 1.1 --- Un exemple : le paradoxe des anniversaires"
   ],
   "metadata": {
    "slideshow": {
     "slide_type": "slide"
    }
   }
  },
  {
   "cell_type": "markdown",
   "source": [],
   "metadata": {}
  }
 ],
 "metadata": {
  "celltoolbar": "Diaporama",
  "interpreter": {
   "hash": "916dbcbb3f70747c44a77c7bcd40155683ae19c65e1c03b4aa3499c5328201f1"
  },
  "kernelspec": {
   "name": "python3",
   "display_name": "Python 3.9.2 64-bit"
  },
  "language_info": {
   "codemirror_mode": {
    "name": "ipython",
    "version": 3
   },
   "file_extension": ".py",
   "mimetype": "text/x-python",
   "name": "python",
   "nbconvert_exporter": "python",
   "pygments_lexer": "ipython3",
   "version": "3.9.2"
  },
  "latex_metadata": {
   "theme": "langage",
   "title": "2 --- Modularité"
  },
  "rise": {
   "theme": "serif"
  }
 },
 "nbformat": 4,
 "nbformat_minor": 5
}