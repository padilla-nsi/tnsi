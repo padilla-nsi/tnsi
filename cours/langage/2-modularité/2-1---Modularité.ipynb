{
 "cells": [
  {
   "cell_type": "markdown",
   "source": [
    "# Chap. 2 --- Modularité ([pa.dilla.fr/10](https://pa.dilla.fr/10) ![](res/qr-td.png))\n"
   ],
   "metadata": {
    "slideshow": {
     "slide_type": "slide"
    }
   }
  },
  {
   "cell_type": "markdown",
   "source": [
    "Dans ce chapitre, tu vas travailler sur :\n",
    "\n",
    "- les *modules* et les *interfaces*\n",
    "- l'*encapsulation*\n",
    "- la réutilisation de code\n",
    "- lever et rattraper des *exceptions*"
   ],
   "metadata": {
    "slideshow": {
     "slide_type": "slide"
    },
    "tags": [
     "cacher"
    ]
   }
  },
  {
   "cell_type": "markdown",
   "source": [
    "## 1.1 --- Un exemple : le paradoxe des anniversaires"
   ],
   "metadata": {
    "slideshow": {
     "slide_type": "slide"
    }
   }
  },
  {
   "cell_type": "code",
   "execution_count": null,
   "source": [
    "# Programme 1 -- https://pa.dilla.fr/11\n",
    "def contient_doublon(t):\n",
    "    \"\"\"le tableau t contient-il un doublon ?\"\"\"\n",
    "    s = set()\n",
    "    for x in t:\n",
    "        if x in s:\n",
    "            return True\n",
    "        s.add(x)\n",
    "    return False"
   ],
   "outputs": [],
   "metadata": {
    "tags": [
     "exemple"
    ]
   }
  },
  {
   "cell_type": "code",
   "execution_count": null,
   "source": [
    "# Programme 2 -- https://pa.dilla.fr/12\n",
    "def contient_doublon(t):\n",
    "    \"\"\"le tableau t contient-il un doublon ?\"\"\"\n",
    "    s = []\n",
    "    for x in t:\n",
    "        if x in s:\n",
    "            return True\n",
    "        s.append(x)\n",
    "    return False"
   ],
   "outputs": [],
   "metadata": {
    "tags": [
     "exemple"
    ]
   }
  },
  {
   "cell_type": "code",
   "execution_count": null,
   "source": [
    "# Programme 3 -- https://pa.dilla.fr/13\n",
    "def contient_doublon(t):\n",
    "    \"\"\"le tableau t contient-il un doublon ?\"\"\"\n",
    "    s = [False] * 366\n",
    "    for x in t:\n",
    "        if s[x]:\n",
    "            return True\n",
    "        s[x] = True\n",
    "    return False"
   ],
   "outputs": [],
   "metadata": {
    "tags": [
     "exemple"
    ]
   }
  },
  {
   "cell_type": "markdown",
   "source": [
    "## 1.2 --- Factorisation du code"
   ],
   "metadata": {
    "slideshow": {
     "slide_type": "slide"
    }
   }
  },
  {
   "cell_type": "markdown",
   "source": [
    "Les trois programmes précédents se ressemblent beaucoup car ils font la même chose (mais avec des stratégies complètement différentes) et tous les trois ont la même structure :\n",
    "\n",
    "- `s` représente d'une manière ou d'une autre un ensemble de dates qu'il faut *créer*.\n",
    "- Il faut vérifier si `s` *contient* l'élément `x`.\n",
    "- Il faut être capable d'*ajouter* l'élément `x` à `s` si besoin.\n",
    "\n",
    "Ce qui donne, en délégant ces trois aspects aux fonctions `cree()`, `contient()` et `ajoute()` :\n",
    "\n",
    "```python\n",
    "def contient_doublon(t):\n",
    "    \"\"\"le tableau t contient-il un doublon ?\"\"\"\n",
    "    s = cree()\n",
    "    for x in t:\n",
    "        if contient(s,x):\n",
    "            return True\n",
    "        ajoute(s,x)\n",
    "    return False\n",
    "```"
   ],
   "metadata": {}
  },
  {
   "cell_type": "markdown",
   "source": [
    "Cette factorisation du code a de nombreux avantages :\n",
    "\n",
    "- pour **changer le mode de représentation** des dates, il ne faut plus changer `contient_doublon()`\n",
    "- l'ensemble de dates peut être **réutilisés** dans d'autres programmes\n",
    "- il y a **séparation** entre le programme qui utilise les dates et les programmes qui définissent comment sont programmées en interne ces dates.\n",
    "\n",
    "Ces trois fonctions représentent l'**interface** entre le programme qui utilise l'ensemble de dates **et** les programmes qui définissent d'une façon ou d'une autre cet ensemble."
   ],
   "metadata": {
    "tags": [
     "remarque"
    ]
   }
  },
  {
   "cell_type": "markdown",
   "source": [
    "## 2.1 --- Modules"
   ],
   "metadata": {}
  },
  {
   "cell_type": "markdown",
   "source": [
    "Une des clés du développement à grande échelle consiste à séparer proprement les différentes parties d'un programme."
   ],
   "metadata": {}
  },
  {
   "cell_type": "markdown",
   "source": [
    "Par exemple on peut séparer la définition d'une structure de données (comme l'ensemble de dates) et son utilisation.\n",
    "\n",
    "On peut aussi séparer la partie interface graphique d'une application de sa partie logique qui en constitue le cœur.\n"
   ],
   "metadata": {
    "tags": [
     "exemple"
    ]
   }
  },
  {
   "cell_type": "markdown",
   "source": [
    "Chaque morceau de code peut être placé dans un fichier différent appelé **module**.\n",
    "\n",
    "Pour importer les fonctions définies dans un module et les utiliser, il faut utiliser le mot clé `import`"
   ],
   "metadata": {
    "tags": [
     "retenir"
    ]
   }
  },
  {
   "cell_type": "markdown",
   "source": [
    "Par exemple, pour importer le module permettant de gérer les valeurs aléatoires, on importe `random` grâce à l'instruction `import random`. Auquel cas, pour utiliser la fonction `randint()` du module, il faut écrire `random.randint()`. Mais sous cette forme, cette façon d'importer est à éviter car ce sont *toutes* les fonctions du modules qui sont importées. \n",
    "\n",
    "Il est préférable de n'importer que la ou les fonctions utiles. Par exemple `from random import randint` ne va importer que la fonction `randint(a,b)` qui permet de choisir aléatoirement un nombre entier compris entre `a` et `b` inclus."
   ],
   "metadata": {
    "tags": [
     "exemple"
    ]
   }
  },
  {
   "cell_type": "markdown",
   "source": [
    "Par exemple, pour créer son propre module, il suffit de  sauvegarder dans un fichier `monModule.py` les fonctions. \n",
    "\n",
    "Pour importer les fonctionnalités d'un module, il faut que le fichier `monModule.py` soit dans le même répertoire puis alors il suffit d'utiliser le mot clé `import` en écrivant : `from monModule import ...`."
   ],
   "metadata": {
    "tags": [
     "exemple"
    ]
   }
  },
  {
   "cell_type": "markdown",
   "source": [
    "Par exemple, les fonctions `cree()`, `ajoute()` et `contient()` peuvent être sauvegarder dans le fichier `dates.py`.\n",
    "\n",
    "```python\n",
    "def cree():\n",
    "    return [False] * 366\n",
    "\n",
    "def contient(s,x):\n",
    "    return s[x]\n",
    "\n",
    "def ajoute(s,x):\n",
    "    s[x] = True\n",
    "```\n",
    "\n",
    "\n",
    "Ensuite, si l'on souhaite utiliser notre ensemble de date dans un programme, il suffit d'écrire `from date import cree, ajoute, contient` en ayant préalablement placé le fichier `date.py` dans le même répertoire que le fichier de travail `anniversaire.py` :\n",
    "\n",
    "```python\n",
    "from dates import cree, contient, ajoute\n",
    "def contient_doublon(t):\n",
    "    \"\"\"le tableau t contient-il un doublon ?\"\"\"\n",
    "    s = cree()\n",
    "    for x in t:\n",
    "        if contient(s,x):\n",
    "            return True\n",
    "        ajoute(s,x)\n",
    "    return False\n",
    "```"
   ],
   "metadata": {
    "tags": [
     "exemple"
    ]
   }
  },
  {
   "cell_type": "markdown",
   "source": [
    "Après avoir écrit votre module `date.py`, **écrire** un programme permettant de savoir combien d'élève il faut en moyenne dans une école pour qu'un anniversaire soit fêté chaque jour.\n",
    "\n",
    "Pour cela, tirer au hasard des dates et les stocker dans un ensemble jusqu'à ce que toutes les dates aient été obtenues au moins une fois.\n",
    "\n",
    "Répéter cette expérience 1000 fois et afficher une valeur moyenne."
   ],
   "metadata": {
    "tags": [
     "exo"
    ]
   }
  },
  {
   "cell_type": "code",
   "execution_count": null,
   "source": [
    "from dates import cree, contient, ajoute\n",
    "from random import randint\n",
    "\n",
    "def fete_continue():\n",
    "    compteur = 0\n",
    "    nombre_dates = 0\n",
    "    s = cree()\n",
    "    while nombre_dates < 365:\n",
    "        compteur += 1\n",
    "        x = randint(1,365)\n",
    "        if not contient(s,x):\n",
    "            nombre_dates += 1\n",
    "            ajoute(s,x)\n",
    "    return compteur\n",
    "\n",
    "n = 0\n",
    "for _ in range(1000):\n",
    "    n += fete_continue()\n",
    "\n",
    "print(\"En moyenne\", n/1000, \"élèves\")"
   ],
   "outputs": [],
   "metadata": {
    "tags": [
     "solution"
    ]
   }
  },
  {
   "cell_type": "markdown",
   "source": [
    "## 2.2 --- Interfaces"
   ],
   "metadata": {}
  },
  {
   "cell_type": "markdown",
   "source": [
    "Pour chaque module, on distingue :\n",
    "\n",
    "- son **implémentation** : c'est-à-dire le code lui même et \n",
    "- son **interface**, consistant en une énumération des fonctions définies dans le module qui sont destinées à être utilisées dans la réalisation d'autres modules, appelés *clients*."
   ],
   "metadata": {
    "tags": [
     "retenir"
    ]
   }
  },
  {
   "cell_type": "markdown",
   "source": [
    "L'interface doit expliciter ce qu'un utilisateur a besoin de connaître des fonctions proposées : *comment* et *pourquoi* les utiliser.\n",
    "\n",
    "L'objectif est que :\n",
    "\n",
    "1. ces fonctions soient suffisantes pour permettre à un utilisateur de faire appel aux fonctionnalités du module et \n",
    "2. que ces fonctions soient utilisées sans avoir besoin d'aller consulter le code du module.\n",
    "\n",
    "Pour chaque fonction il faut :\n",
    "\n",
    "- un nom\n",
    "- la liste des paramètres\n",
    "- sa spécification, c'est-à-dire les conditions auxquelles la fonction peut être appliquée et les résultats à attendre."
   ],
   "metadata": {}
  },
  {
   "cell_type": "markdown",
   "source": [
    "La documentation de l'interface peut être vue comme un **contrat** entre l'auteur du module et ses utilisateurs.\n",
    "\n",
    "C'est mieux si le nombre de choses à lire est limité, facile à comprendre et à mémoriser."
   ],
   "metadata": {
    "tags": [
     "remarque"
    ]
   }
  },
  {
   "cell_type": "markdown",
   "source": [
    "Par exemple, voici l'interface de l'ensemble de dates.\n",
    "\n",
    "|fonction|description|\n",
    "|-|-|\n",
    "`cree()`|crée et renvoie un ensemble de dates vide\n",
    "`contient(s,x)`|renvoie `True` si et seulement si l'ensemble `s` contient la date `x`\n",
    "`ajoute(s,x)`|ajoute la date `x` à l'ensemble `s`"
   ],
   "metadata": {
    "tags": [
     "exemple"
    ]
   }
  },
  {
   "cell_type": "markdown",
   "source": [
    "## 2.3 --- Encapsulation"
   ],
   "metadata": {}
  },
  {
   "cell_type": "markdown",
   "source": [
    "Comme l'auteur d'un module est libre de s'y prendre comme il le souhaite pour respecter l'interface, il peut donc utiliser toute une série de fonctions ou d'objets annexes. Ces éléments *internes* ne doivent pas être utilisés par les modules clients."
   ],
   "metadata": {}
  },
  {
   "cell_type": "markdown",
   "source": [
    "\n",
    "Ces éléments *hors interface* sont qualifiés de **privés** et on parle d'**encapsulation** pour dire qu'ils sont enfermés et que l'utilisateur n'a pas a connaître le contenu."
   ],
   "metadata": {
    "tags": [
     "retenir"
    ]
   }
  },
  {
   "cell_type": "markdown",
   "source": [
    "En Python, pour indiquer que certains éléments (variables, fonctions) sont privés, on fait précéder leur nom par le symbole `_`.  Cette écriture n'est une *convention* qu'il vaut mieux respecter. Mais rien n'empêche l'accès aux éléments privés d'un module.\n",
    "\n",
    "D'autres langages mieux adaptés aux projets à grande échelle introduisent un contrôle stricte de l'encapsulation."
   ],
   "metadata": {
    "tags": [
     "exemple"
    ]
   }
  },
  {
   "cell_type": "markdown",
   "source": [
    "## 3.1 --- Les exceptions"
   ],
   "metadata": {}
  },
  {
   "cell_type": "markdown",
   "source": [
    "Selon l'implémentation d'un module, une mauvaise utilisation des fonctions de l'interface risque d'engendre des erreurs ou des effets qui ne peuvent pas être compris et anticipés facilement. Il faudrait alors que l'utilisateur étudie le code du module ce qui contredit le principe de l'encapsulation.\n",
    "\n",
    "Une bonne pratique est de renvoyer à l'utilisateur des **erreurs explicites** et de pratiquer une **programmation defensive**.\n"
   ],
   "metadata": {}
  },
  {
   "cell_type": "markdown",
   "source": [
    "Lorsqu'un programme s'interrompt à cause d'une *erreur*, il affiche des messages variés. En programmation, ces *erreurs* sont appelées des **exceptions**."
   ],
   "metadata": {
    "tags": [
     "retenir"
    ]
   }
  },
  {
   "cell_type": "markdown",
   "source": [
    "Lorsqu'une exception est levée (c'est-à-dire détectée par l'interprète Python), l'exécution du programme s'interrompt **sauf si** une prise en charge spécifique a été prévue par le développeur."
   ],
   "metadata": {}
  },
  {
   "cell_type": "markdown",
   "source": [
    "Par exemple, voici les exceptions classiques en Python :\n",
    "\n",
    "|exception|contexte|\n",
    "|-|-|\n",
    "| `NameError` | accès à une variable inexistante\n",
    "`IndexError`| accès à un indice invalide dans un tableau\n",
    "`KeyError` | accès à une clé inexistante d'un dictionnaire\n",
    "`ZeroDivisionError` | division par zéro\n",
    "`TypeError` | opération appliquée à des valeurs incompatibles"
   ],
   "metadata": {
    "tags": [
     "exemple"
    ]
   }
  },
  {
   "cell_type": "markdown",
   "source": [
    "Tester le code ci-dessous et indiquer le nome de l'**exception** levée.\n",
    "\n",
    "```python\n",
    "t = [1,1,2,5,14,42,132]\n",
    "print (t[12])\n",
    "```"
   ],
   "metadata": {
    "tags": [
     "exo"
    ]
   }
  },
  {
   "cell_type": "markdown",
   "source": [
    "Exception `IndexError` car l'indice 12 n'existe pas dans le tableau. Il y a 7 valeurs donc les indices appartiennent ici à 0..6."
   ],
   "metadata": {
    "tags": [
     "solution"
    ]
   }
  },
  {
   "cell_type": "markdown",
   "source": [
    "## 3.2 --- Signaler un problème avec un exception"
   ],
   "metadata": {}
  },
  {
   "cell_type": "markdown",
   "source": [
    "Il est possible de lever manuellement toutes ces exceptions en faisant suivre le mot clé `raise` du nom de l'exception, lui même suivi d'une chaîne de caractère donnant l'information sur l'erreur signalée.\n",
    "\n",
    "```python\n",
    "raise IndexError('Indice trop grand')\n",
    "```"
   ],
   "metadata": {
    "tags": [
     "retenir"
    ]
   }
  },
  {
   "cell_type": "markdown",
   "source": [
    "**Définir** une fonction `ecrit(t,i,v)` qui affecte la valeur `v` à l'emplacement `t[i]` d'un tableau **et** qui lève une exception si l'indice est négatif.\n",
    "\n",
    "**Pourquoi** n'y a-t-il pas besoin de l'instruction `else`?"
   ],
   "metadata": {
    "tags": [
     "exo"
    ]
   }
  },
  {
   "cell_type": "code",
   "execution_count": null,
   "source": [
    "def ecrit(t,i,v):\n",
    "    if i < 0:\n",
    "        raise IndexError('Indice négatif')\n",
    "    t[i] = v"
   ],
   "outputs": [],
   "metadata": {
    "tags": [
     "solution"
    ]
   }
  },
  {
   "cell_type": "markdown",
   "source": [
    "Dans le module `date`, **modifier** la fonction `ajoute` afin de lever une exception si la date n'est pas dans l'intervalle 1..365.\n",
    "\n",
    "**Justifier** le type d'exception choisi."
   ],
   "metadata": {
    "tags": [
     "exo"
    ]
   }
  },
  {
   "cell_type": "code",
   "execution_count": null,
   "source": [
    "def ajoute(s,x):\n",
    "    if x < 1 or x > 365:\n",
    "        raise ValueError(\"date\", str(x), \"invalide\")\n",
    "    s[x] = True"
   ],
   "outputs": [],
   "metadata": {
    "tags": [
     "solution"
    ]
   }
  },
  {
   "cell_type": "markdown",
   "source": [
    "## 3.3 --- Rattraper une exception"
   ],
   "metadata": {}
  },
  {
   "cell_type": "markdown",
   "source": [
    "Si des exceptions sont prévisibles et correspondent à des situations connues, il est parfois préférable de ne pas interrompre le programme.\n",
    "\n",
    "Par exemple en demandant à un utilisateur une date, il est tout à fait possible qu'il ne saisisse pas un nombre entier."
   ],
   "metadata": {}
  },
  {
   "cell_type": "markdown",
   "source": [
    "**Relever** l'exception levée lorsque l'utilisateur ne saisit pas un nombre entier lors de l'exécution du code ci-dessous\n",
    "\n",
    "```python\n",
    "x = int(input(\"Entrer une date\"))\n",
    "```"
   ],
   "metadata": {
    "tags": [
     "exo"
    ]
   }
  },
  {
   "cell_type": "markdown",
   "source": [
    "La fonction `int()` lève une exception `ValueError`."
   ],
   "metadata": {
    "tags": [
     "solution"
    ]
   }
  },
  {
   "cell_type": "markdown",
   "source": [
    "Pour rattraper une exception, on va utiliser les mots-clés `try` et `except`."
   ],
   "metadata": {
    "tags": [
     "retenir"
    ]
   }
  },
  {
   "cell_type": "markdown",
   "source": [
    "Pour rattraper une exception `ValueError`, on va utiliser le mot clé `try` suivi du symbole `:` et d'un *premier bloc*. Ensuite, le mot-clé `except` suivi du nom de l'exception et du symbole `:` précède un *deuxième bloc* de code.\n",
    "\n",
    "```python\n",
    "try:\n",
    "    x = int(input(\"Entrer une date\"))\n",
    "except ValueError:\n",
    "    print(\"Prière de saisir un entier valide\")\n",
    "```"
   ],
   "metadata": {
    "tags": [
     "exemple"
    ]
   }
  },
  {
   "cell_type": "markdown",
   "source": [
    "Le premier bloc est le bloc *normal*. Si son exécution s'achève normalement (sans lever d'exception) le second bloc est ignoré.\n",
    "\n",
    "Le second bloc est le bloc *alternatif*. Si une exception est levée dans le bloc normal, alors l'exception est comparée  avec le nom précisé à la ligne `except`. Si les noms correspondent, l'exception est **rattrapée** et le bloc alternatif est exécuté **avant** de passer à la suite. Sinon, le programme s'interrompt (sauf si le tout est inclu dans une autre construction `try`/`except`).\n",
    "\n"
   ],
   "metadata": {}
  },
  {
   "cell_type": "markdown",
   "source": [
    "**Proposer** un code demandant à l'utilisateur une date à l'utilisateur tant que la date saisie est invalide."
   ],
   "metadata": {
    "tags": [
     "exo"
    ]
   }
  },
  {
   "cell_type": "code",
   "execution_count": null,
   "source": [
    "while True:\n",
    "    try:\n",
    "        x = int(input(\"Saisir une date\"))\n",
    "        break\n",
    "    except ValueError:\n",
    "        print(\"Il faut saisir un nombre entier entre 1 et 365\")\n",
    "    "
   ],
   "outputs": [],
   "metadata": {
    "tags": [
     "solution"
    ]
   }
  },
  {
   "cell_type": "markdown",
   "source": [
    "## À retenir\n",
    "\n",
    "Un grand programme est décomposé en plusieurs **modules**, dont chacun est dédié à la réalisation d'une **tâche précise**. L'**interface** d'un module décrit l'ensemble des fonctions offertes par ce module. \n",
    "\n",
    "Avec le principe d'**encapsulation** :\n",
    "\n",
    "1. il suffit de connaître l'interface pour utiliser convenablement un module,\n",
    "2. le développeur du module possède un cadre pour modifier, corriger, améliorer son programme sans nuire aux autres programmes utilisant ce module.\n",
    "\n",
    "On complète l'encapsulation d'un module en gérant explicitement à l'aide d'**exceptions** les utilisations non conformes de son interface.\n"
   ],
   "metadata": {
    "tags": [
     "retenir"
    ]
   }
  },
  {
   "cell_type": "markdown",
   "source": [
    "## 4 --- Applications"
   ],
   "metadata": {}
  },
  {
   "cell_type": "markdown",
   "source": [
    "Deux applications directes du cours."
   ],
   "metadata": {}
  },
  {
   "cell_type": "markdown",
   "source": [
    "**Réaliser** un module réalisant l'interface du cours suivant la stratégie du programme 1."
   ],
   "metadata": {
    "tags": [
     "exo"
    ]
   }
  },
  {
   "cell_type": "markdown",
   "source": [
    "**Réaliser** un module réalisant l'interface du cours suivant la stratégie du programme 2."
   ],
   "metadata": {
    "tags": [
     "exo"
    ]
   }
  },
  {
   "cell_type": "markdown",
   "source": [
    "Dans l'exercice suivant, tu vas tenter de réaliser toi-même des fonctions bien pratiques sur les tableaux..."
   ],
   "metadata": {}
  },
  {
   "cell_type": "markdown",
   "source": [
    "Sans utiliser les opérations `+` et `t[i:j]`, **écrire** un module réalisant l'interface suivante :\n",
    "\n",
    "|fonction|description|\n",
    "|-|-|\n",
    "`tranche(t,i,j)` | renvoie un nouveau tableau contenant les éléments de `t` de l'indice `i` inclus à l'indice `j` exclu (et le tableau vide si `j` $\\leq$ `i`)\n",
    "`concatenation(t1,t2)` | renvoie un nouveau tableau contenant, dans l'ordre, les éléments de `t1` puis les éléments de `t2`\n",
    "\n",
    "Attention, il ne faut pas que ces fonctions modifient les tableaux passés en paramètres."
   ],
   "metadata": {
    "tags": [
     "exo"
    ]
   }
  },
  {
   "cell_type": "code",
   "execution_count": null,
   "source": [
    "def tranche(t,i,j) -> list:\n",
    "    \"\"\"\n",
    "    Renvoie un nouveau tableau contenant les éléments\n",
    "    de `t` de l'indice `i` inclus à `j` exclu\n",
    "    (et le tableau vide si )\n",
    "\n",
    "    Args:\n",
    "        t (list): tableau Python\n",
    "        i (int): borne inf\n",
    "        j (int): borne sup (exclue)\n",
    "    \n",
    "    Return:\n",
    "        (list): extrait de t\n",
    "    \n",
    "    Exemple:\n",
    "    >>> tranche([1,2,3,4,5,6,7,8], 1, 4)\n",
    "    [2, 3, 4]\n",
    "    >>> tranche([1,2,3,4,5,6,7,8], 5, 4)\n",
    "    []\n",
    "    \"\"\"\n",
    "    if j <= i:\n",
    "        return []\n",
    "    \n",
    "    n = j-i\n",
    "    tab = [None] * n\n",
    "    for k in range(n):\n",
    "        tab[k] = t[i+k]\n",
    "\n",
    "    return tab\n",
    "\n",
    "def concatenation(t1, t2) -> list:\n",
    "    \"\"\"\n",
    "    Renvoie un nouveau tableau avec dans l'ordre\n",
    "    les éléments de t1 puis ceux de t2.\n",
    "\n",
    "    Args:\n",
    "        t1 (list): premier tableau\n",
    "        t2 (list): deuxième tableau\n",
    "\n",
    "    Returns:\n",
    "        list: t1 + t2\n",
    "    \n",
    "    Exemples:\n",
    "    >>> concatenation([1,2], [3,4])\n",
    "    [1, 2, 3, 4]\n",
    "    >>> concatenation([1,2], [])\n",
    "    [1, 2]\n",
    "    >>> concatenation([], [3,4])\n",
    "    [3, 4]\n",
    "    \"\"\"\n",
    "    l1 = len(t1)\n",
    "    l2 = len(t2)\n",
    "\n",
    "    tab = [None] * (l1+l2)\n",
    "\n",
    "    for i in range(l1):\n",
    "        tab[i] = t1[i]\n",
    "    for i in range(l2):\n",
    "        tab[l1+i] = t2[i]\n",
    "    \n",
    "    return tab"
   ],
   "outputs": [],
   "metadata": {
    "tags": [
     "cacher"
    ]
   }
  },
  {
   "cell_type": "markdown",
   "source": [
    "Les tableaux de Python sont redimentionnables : leurs nombres d'éléments peut augmenter au fil du temps (par exemple avec des opérations commme `append()`). L'activité suivante te propose de réaliser une interface de tableau redimentionnable, mais *sans utiliser les capacités natives des tableaux Python* (sinon c'est pas drôle et tu n'apprendras pas grand chose...)."
   ],
   "metadata": {}
  },
  {
   "cell_type": "markdown",
   "source": [
    "Voici l'interface minimale pour une structure de tableau redimensionnable :\n",
    "\n",
    "|fonction |description|\n",
    "|-|-|\n",
    "`cree()` | crée et renvoie un tableau vide (équivalent à `[]`)\n",
    "`lit(tr,i)` | renvoie l'élément de `tr` à l'indice `i` (équivalent à `tr[i]`)\n",
    "`ecrit(tr,i,x)` | place la valeur `x` dans la case d'indice `i` du tableau `tr` (équivalent à `tr[i] = x`)\n",
    "`ajoute(tr,x)` | ajoute le nouvel élément `x` au tableau `tr`, après ses éléments actuels (équivalent à `tr.append(x)`)"
   ],
   "metadata": {}
  },
  {
   "cell_type": "markdown",
   "source": [
    "On décide de représenter un tableau redimensionnable `tr` de $n$ éléments par un dictionnaire contenant (1) d'une part le nombre `'n'` appelé *taille* et (2) d'autre part un tableau `'t'` de longueur supérieure ou égale à $n$ appelée *capacité*.\n",
    "\n",
    "Les $n$ éléments sont stockés dans les cases d'indices $0$ à $n-1$. Les autres cases de `t` contiennent `None`.\n",
    "\n",
    "1. **Écrire** une fonction `cree()` créant et renvoyant un tableau redimensionnable de taille 0 et de capacité 8.\n",
    "2. **Écrire** les deux fonctions `lit(tr,i)` et `ecrit(tr,i,x)` en supposant que l'indice `i` est compris entre 0 (inclus) et taille de `tr` exclue.\n",
    "3. Avant d'écrire la fonction `ajoute` :\n",
    "   1. **Écrire** une fonction `ajoute_aux(tr,x)` qui ajoute `x` à la fin du tableau redimensionnable `tr` en supposant que sa capacité est suffisante.\n",
    "   2. **Écrire** une fonction `_double(tr)` qui double la capacité du tableau redimensionnable `tr` en conservant ses éléments.\n",
    "   3. **En déduire** la fonction `ajoute(tr,x)`. Lorsque le tableau redimensionnable ne peut accueillir de nouvel élément, sa capacité doit doubler."
   ],
   "metadata": {
    "tags": [
     "exo"
    ]
   }
  },
  {
   "cell_type": "code",
   "execution_count": null,
   "source": [
    "def cree() -> object:\n",
    "    return {'n':0, 't':[None]*8} \n",
    "\n",
    "\n",
    "def lit(tr, i):\n",
    "    \"\"\" \n",
    "    Exemple :\n",
    "    >>> lit({'n':2, 't':[0,1,None,None,None,None,None,None]},1)\n",
    "    1\n",
    "    \"\"\"\n",
    "    return tr['t'][i]\n",
    "\n",
    "\n",
    "def ecrit(tr, i, x):\n",
    "    \"\"\"\n",
    "    Exemple :\n",
    "    >>> tr = {'n':2, 't':[0,1,None,None,None,None,None,None]}\n",
    "    >>> ecrit(tr,1,10)\n",
    "    >>> print(tr)\n",
    "    {'n': 2, 't': [0, 10, None, None, None, None, None, None]}\n",
    "    \"\"\"\n",
    "    tr['t'][i] = x\n",
    "\n",
    "\n",
    "def _ajoute_aux(tr,x):\n",
    "    i = tr['n']\n",
    "    tr['t'][i] = x\n",
    "    tr['n'] += 1\n",
    "\n",
    "\n",
    "def _double(tr):\n",
    "    tmp = [None] * (tr['n']*2)\n",
    "    for i in range(tr['n']):\n",
    "        tmp[i] = tr['t'][i]\n",
    "    tr['t'] = tmp\n",
    "\n",
    "\n",
    "def ajoute(tr, x):\n",
    "    capacite = len(tr['t'])\n",
    "    if tr['n'] >= capacite:\n",
    "        _double(tr)\n",
    "    _ajoute_aux(tr, x)\n",
    "\n",
    "\n",
    "doctest.testmod()"
   ],
   "outputs": [],
   "metadata": {
    "tags": [
     "cacher"
    ]
   }
  },
  {
   "cell_type": "markdown",
   "source": [
    "Voici l'interface minimale pour une structure de dictionnaire.\n",
    "\n",
    "|fonction|description|\n",
    "|-|-|\n",
    "`cree()` | crée et renvoie un dictionnaire vide\n",
    "`cle(d,k)` | renvoie `True` si et seulement si le dictionnaire `d` contient la clé `k`\n",
    "`lit(d,k)` | renvoie la valeur associée à la clé `k` dans le dictionnaire `d`, et `None` si la clé `k` n'apparaît pas\n",
    "`ecrit(d,k,v)` | ajoute au dictionnaire `d` l'association entre la clé `k` et la valeur `v`, en remplaçant une éventuelle association déjà présente pour `k`\n"
   ],
   "metadata": {}
  },
  {
   "cell_type": "markdown",
   "source": [
    "On propose de réaliser cette interface de dictionnaire avec un tableau de couples clé-valeur, en faisant en sorte qu'aucune clé n'apparaisse deux fois.\n",
    "\n",
    "1. **\"Écrire** un module réalisant cela.\n",
    "2. Une des quatre fonction de l'interface ne correspond pas exactement à l'opération équivalente sur les dictionnaires de Python. **Laquelle** ?\n",
    "3. **Corriger** la description pour se rapprocher de celle de Python et adapter l'implémentation.\n"
   ],
   "metadata": {
    "tags": [
     "exo"
    ]
   }
  },
  {
   "cell_type": "code",
   "execution_count": null,
   "source": [
    "def cree():\n",
    "    return []\n",
    "\n",
    "\n",
    "def cle(d,k):\n",
    "    for (c, v) in d:\n",
    "        if c == k:\n",
    "            return True\n",
    "    return False\n",
    "\n",
    "\n",
    "def lit(d,k):\n",
    "    for (c, v) in d:\n",
    "        if c == k:\n",
    "            return v\n",
    "    return None\n",
    "\n",
    "\n",
    "def ecrit(d, k, v):\n",
    "    for i in range(len(d)):\n",
    "        if d[i][0] == k:\n",
    "            d[i] = (k, v)\n",
    "            return\n",
    "    d.append((k, v))\n",
    "\n",
    "\n"
   ],
   "outputs": [],
   "metadata": {
    "tags": [
     "cacher"
    ]
   }
  },
  {
   "cell_type": "code",
   "execution_count": null,
   "source": [
    "{'a':42}['b']"
   ],
   "outputs": [],
   "metadata": {
    "tags": [
     "cacher"
    ]
   }
  },
  {
   "cell_type": "code",
   "execution_count": null,
   "source": [
    "def lit(d, k):\n",
    "    for (c, v) in d:\n",
    "        if c == k:\n",
    "            return v\n",
    "    raise KeyError(k)"
   ],
   "outputs": [],
   "metadata": {
    "tags": [
     "cacher"
    ]
   }
  }
 ],
 "metadata": {
  "celltoolbar": "Tags",
  "interpreter": {
   "hash": "916dbcbb3f70747c44a77c7bcd40155683ae19c65e1c03b4aa3499c5328201f1"
  },
  "kernelspec": {
   "name": "python3",
   "display_name": "Python 3.9.2 64-bit"
  },
  "language_info": {
   "codemirror_mode": {
    "name": "ipython",
    "version": 3
   },
   "file_extension": ".py",
   "mimetype": "text/x-python",
   "name": "python",
   "nbconvert_exporter": "python",
   "pygments_lexer": "ipython3",
   "version": "3.9.2"
  },
  "latex_metadata": {
   "theme": "langage",
   "title": "2 --- Modularité"
  },
  "rise": {
   "theme": "serif"
  }
 },
 "nbformat": 4,
 "nbformat_minor": 5
}