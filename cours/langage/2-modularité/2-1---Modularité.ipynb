{
 "cells": [
  {
   "cell_type": "markdown",
   "id": "north-ensemble",
   "metadata": {
    "slideshow": {
     "slide_type": "slide"
    }
   },
   "source": [
    "# Chap. 2 --- Modularité\n"
   ]
  },
  {
   "cell_type": "markdown",
   "id": "adjusted-swing",
   "metadata": {
    "slideshow": {
     "slide_type": "slide"
    },
    "tags": [
     "cacher"
    ]
   },
   "source": [
    "Dans ce chapitre, tu vas travailler sur :\n",
    "\n",
    "- les *modules* et les *interfaces*\n",
    "- l'*encapsulation*\n",
    "- la réutilisation de code\n",
    "- lever et rattraper des *exceptions*"
   ]
  },
  {
   "cell_type": "markdown",
   "id": "actual-manual",
   "metadata": {
    "slideshow": {
     "slide_type": "slide"
    }
   },
   "source": [
    "## 1.1 --- Un exemple : le paradoxe des anniversaires"
   ]
  },
  {
   "cell_type": "code",
   "execution_count": 14,
   "id": "varied-economics",
   "metadata": {
    "tags": [
     "exemple"
    ]
   },
   "outputs": [],
   "source": [
    "# Programme 1\n",
    "def contient_doublon(t):\n",
    "    \"\"\"le tableau t contient-il un doublon ?\"\"\"\n",
    "    s = set()\n",
    "    for x in t:\n",
    "        if x in s:\n",
    "            return True\n",
    "        s.add(x)\n",
    "    return False"
   ]
  },
  {
   "cell_type": "code",
   "execution_count": 15,
   "id": "alpine-diesel",
   "metadata": {
    "tags": [
     "exemple"
    ]
   },
   "outputs": [],
   "source": [
    "# Programme 2\n",
    "def contient_doublon(t):\n",
    "    \"\"\"le tableau t contient-il un doublon ?\"\"\"\n",
    "    s = []\n",
    "    for x in t:\n",
    "        if x in s:\n",
    "            return True\n",
    "        s.append(x)\n",
    "    return False"
   ]
  },
  {
   "cell_type": "code",
   "execution_count": 16,
   "id": "smaller-bahamas",
   "metadata": {
    "tags": [
     "exemple"
    ]
   },
   "outputs": [],
   "source": [
    "# Programme 3\n",
    "def contient_doublon(t):\n",
    "    \"\"\"le tableau t contient-il un doublon ?\"\"\"\n",
    "    s = [False] * 366\n",
    "    for x in t:\n",
    "        if s[x]:\n",
    "            return True\n",
    "        s[x] = True\n",
    "    return False"
   ]
  },
  {
   "cell_type": "markdown",
   "id": "controlled-atmosphere",
   "metadata": {
    "slideshow": {
     "slide_type": "slide"
    }
   },
   "source": [
    "## 1.2 --- Factorisation du code"
   ]
  },
  {
   "cell_type": "markdown",
   "id": "suspended-hammer",
   "metadata": {},
   "source": [
    "Les trois programmes précédents se ressemblent beaucoup car ils font la même chose (mais avec des stratégies complètement différentes) et tous les trois ont la même structure :\n",
    "\n",
    "- `s` représente d'une manière ou d'une autre un ensemble de dates qu'il faut *créer*.\n",
    "- Il faut vérifier si `s` *contient* l'élément `x`.\n",
    "- Il faut être capable d'*ajouter* l'élément `x` à `s` si besoin.\n",
    "\n",
    "Ce qui donne, en délégant ces trois aspects aux fonctions `cree()`, `contient()` et `ajoute()` :\n",
    "\n",
    "```python\n",
    "def contient_doublon(t):\n",
    "    \"\"\"le tableau t contient-il un doublon ?\"\"\"\n",
    "    s = cree()\n",
    "    for x in t:\n",
    "        if contient(s,x):\n",
    "            return True\n",
    "        ajoute(s,x)\n",
    "    return False\n",
    "```"
   ]
  },
  {
   "cell_type": "markdown",
   "id": "pacific-antigua",
   "metadata": {
    "tags": [
     "remarque"
    ]
   },
   "source": [
    "Cette factorisation du code a de nombreux avantages :\n",
    "\n",
    "- pour **changer le mode de représentation** des dates, il ne faut plus changer `contient_doublon()`\n",
    "- l'ensemble de dates peut être **réutilisés** dans d'autres programmes\n",
    "- il y a **séparation** entre le programme qui utilise les dates et les programmes qui définissent comment sont programmées en interne ces dates.\n",
    "\n",
    "Ces trois fonctions représentent l'**interface** entre le programme qui utilise l'ensemble de dates **et** les programmes qui définissent d'une façon ou d'une autre cet ensemble."
   ]
  },
  {
   "cell_type": "markdown",
   "id": "sought-colleague",
   "metadata": {},
   "source": [
    "## 2.1 Modules"
   ]
  },
  {
   "cell_type": "markdown",
   "id": "irish-asset",
   "metadata": {},
   "source": [
    "Une des clés du développement à grande échelle consiste à séparer proprement les différentes parties d'un programme."
   ]
  },
  {
   "cell_type": "markdown",
   "id": "digital-fireplace",
   "metadata": {
    "tags": [
     "exemple"
    ]
   },
   "source": [
    "Par exemple on peut séparer la définition d'une structure de données (comme l'ensemble de dates) et son utilisation.\n",
    "\n",
    "On peut aussi séparer la partie interface graphique d'une application de sa partie logique qui en constitue le cœur.\n"
   ]
  },
  {
   "cell_type": "markdown",
   "id": "abandoned-battery",
   "metadata": {
    "tags": [
     "retenir"
    ]
   },
   "source": [
    "Chaque morceau de code peut être placé dans un fichier différent appelé **module**.\n",
    "\n",
    "Pour importer les fonctions définies dans un module et les utiliser, il faut utiliser le mot clé `import`"
   ]
  },
  {
   "cell_type": "markdown",
   "id": "selected-argentina",
   "metadata": {
    "tags": [
     "exemple"
    ]
   },
   "source": [
    "Par exemple, pour importer le module permettant de gérer les valeurs aléatoires, on importe `random` grâce à l'instruction `import random`. Auquel cas, pour utiliser la fonction `randint()` du module, il faut écrire `random.randint()`. Mais sous cette forme, cette façon d'importer est à éviter car ce sont *toutes* les fonctions du modules qui sont importées. \n",
    "\n",
    "Il est préférable de n'importer que la ou les fonctions utiles. Par exemple `from random import randint` ne va importer que la fonction `randint(a,b)` qui permet de choisir aléatoirement un nombre entier compris entre `a` et `b` inclus."
   ]
  },
  {
   "cell_type": "markdown",
   "id": "palestinian-hypothetical",
   "metadata": {
    "tags": [
     "exemple"
    ]
   },
   "source": [
    "Par exemple, pour créer son propre module, il suffit de  sauvegarder dans un fichier `monModule.py` les fonctions. \n",
    "\n",
    "Pour importer les fonctionnalités d'un module, il faut que le fichier `monModule.py` soit dans le même répertoire puis alors il suffit d'utiliser le mot clé `import` en écrivant : `from monModule import ...`."
   ]
  },
  {
   "cell_type": "markdown",
   "id": "failing-actor",
   "metadata": {
    "tags": [
     "exemple"
    ]
   },
   "source": [
    "Par exemple, les fonctions `cree()`, `ajoute()` et `contient()` peuvent être sauvegarder dans le fichier `dates.py`.\n",
    "\n",
    "```python\n",
    "def cree():\n",
    "    return [False] * 366\n",
    "\n",
    "def contient(s,x):\n",
    "    return s[x]\n",
    "\n",
    "def ajoute(s,x):\n",
    "    s[x] = True\n",
    "```\n",
    "\n",
    "\n",
    "Ensuite, si l'on souhaite utiliser notre ensemble de date dans un programme, il suffit d'écrire `from date import cree, ajoute, contient` en ayant préalablement placé le fichier `date.py` dans le même répertoire que le fichier de travail `anniversaire.py` :\n",
    "\n",
    "```python\n",
    "from dates import cree, contient, ajoute\n",
    "def contient_doublon(t):\n",
    "    \"\"\"le tableau t contient-il un doublon ?\"\"\"\n",
    "    s = cree()\n",
    "    for x in t:\n",
    "        if contient(s,x):\n",
    "            return True\n",
    "        ajoute(s,x)\n",
    "    return False\n",
    "```"
   ]
  },
  {
   "cell_type": "markdown",
   "id": "common-listing",
   "metadata": {
    "tags": [
     "exo"
    ]
   },
   "source": [
    "Après avoir écrit votre module `date.py`, **écrire** un programme permettant de savoir combien d'élève il faut en moyenne dans une école pour qu'un anniversaire soit fêté chaque jour.\n",
    "\n",
    "Pour cela, tirer au hasard des dates et les stocker dans un ensemble jusqu'à ce que toutes les dates aient été obtenues au moins une fois.\n",
    "\n",
    "Répéter cette expérience 1000 fois et afficher une valeur moyenne."
   ]
  },
  {
   "cell_type": "code",
   "execution_count": 29,
   "id": "armed-persian",
   "metadata": {
    "tags": [
     "solution"
    ]
   },
   "outputs": [
    {
     "name": "stdout",
     "output_type": "stream",
     "text": [
      "En moyenne 2388.026 élèves\n"
     ]
    }
   ],
   "source": [
    "from dates import cree, contient, ajoute\n",
    "from random import randint\n",
    "\n",
    "def fete_continue():\n",
    "    compteur = 0\n",
    "    nombre_dates = 0\n",
    "    s = cree()\n",
    "    while nombre_dates < 365:\n",
    "        compteur += 1\n",
    "        x = randint(1,365)\n",
    "        if not contient(s,x):\n",
    "            nombre_dates += 1\n",
    "            ajoute(s,x)\n",
    "    return compteur\n",
    "\n",
    "n = 0\n",
    "for _ in range(1000):\n",
    "    n += fete_continue()\n",
    "\n",
    "print(\"En moyenne\", n/1000, \"élèves\")"
   ]
  },
  {
   "cell_type": "markdown",
   "id": "latter-warehouse",
   "metadata": {},
   "source": [
    "## 2.2 Interfaces"
   ]
  },
  {
   "cell_type": "markdown",
   "id": "hindu-smell",
   "metadata": {
    "tags": [
     "retenir"
    ]
   },
   "source": [
    "Pour chaque module, on distingue :\n",
    "\n",
    "- son **implémentation** : c'est-à-dire le code lui même et \n",
    "- son **interface**, consistant en une énumération des fonctions définies dans le module qui sont destinées à être utilisées dans la réalisation d'autres modules, appelés *clients*."
   ]
  },
  {
   "cell_type": "markdown",
   "id": "increased-sitting",
   "metadata": {},
   "source": [
    "L'interface doit expliciter ce qu'un utilisateur a besoin de connaître des fonctions proposées : *comment* et *pourquoi* les utiliser.\n",
    "\n",
    "L'objectif est que :\n",
    "\n",
    "1. ces fonctions soient suffisantes pour permettre à un utilisateur de faire appel aux fonctionnalités du module et \n",
    "2. que ces fonctions soient utilisées sans avoir besoin d'aller consulter le code du module.\n",
    "\n",
    "Pour chaque fonction il faut :\n",
    "\n",
    "- un nom\n",
    "- la liste des paramètres\n",
    "- sa spécification, c'est-à-dire les conditions auxquelles la fonction peut être appliquée et les résultats à attendre."
   ]
  },
  {
   "cell_type": "markdown",
   "id": "selected-python",
   "metadata": {
    "tags": [
     "remarque"
    ]
   },
   "source": [
    "La documentation de l'interface peut être vue comme un **contrat** entre l'auteur du module et ses utilisateurs.\n",
    "\n",
    "C'est mieux si le nombre de choses à lire est limité, facile à comprendre et à mémoriser."
   ]
  },
  {
   "cell_type": "markdown",
   "id": "imperial-olive",
   "metadata": {
    "tags": [
     "exemple"
    ]
   },
   "source": [
    "Par exemple, voici l'interface de l'ensemble de dates.\n",
    "\n",
    "|fonction|description|\n",
    "|-|-|\n",
    "`cree()`|crée et renvoie un ensemble de dates vide\n",
    "`contient(s,x)`|renvoie `True` si et seulement si l'ensemble `s` contient la date `x`\n",
    "`ajoute(s,x)`|ajoute la date `x` à l'ensemble `s`"
   ]
  },
  {
   "cell_type": "markdown",
   "id": "concrete-village",
   "metadata": {},
   "source": [
    "## 2.3 Encapsulation"
   ]
  },
  {
   "cell_type": "markdown",
   "id": "appropriate-miami",
   "metadata": {},
   "source": [
    "Comme l'auteur d'un module est libre de s'y prendre comme il le souhaite pour respecter l'interface, il peut donc utiliser toute une série de fonctions ou d'objets annexes. Ces éléments *internes* ne doivent pas être utilisés par les modules clients."
   ]
  },
  {
   "cell_type": "markdown",
   "id": "enabling-finding",
   "metadata": {
    "tags": [
     "retenir"
    ]
   },
   "source": [
    "\n",
    "Ces éléments *hors interface* sont qualifiés de **privés** et on parle d'**encapsulation** pour dire qu'ils sont enfermés et que l'utilisateur n'a pas a connaître le contenu."
   ]
  },
  {
   "cell_type": "markdown",
   "id": "separated-convertible",
   "metadata": {
    "tags": [
     "exemple"
    ]
   },
   "source": [
    "En Python, pour indiquer que certains éléments (variables, fonctions) sont privés, on fait précéder leur nom par le symbole `_`.  Cette écriture n'est une *convention* qu'il vaut mieux respecter. Mais rien n'empêche l'accès aux éléments privés d'un module.\n",
    "\n",
    "D'autres langages mieux adaptés aux projets à grande échelle introduisent un contrôle stricte de l'encapsulation."
   ]
  },
  {
   "cell_type": "markdown",
   "id": "hawaiian-board",
   "metadata": {},
   "source": [
    "## 3.1 Les exceptions"
   ]
  },
  {
   "cell_type": "markdown",
   "id": "czech-harris",
   "metadata": {},
   "source": [
    "Selon l'implémentation d'un module, une mauvaise utilisation des fonctions de l'interface risque d'engendre des erreurs ou des effets qui ne peuvent pas être compris et anticipés facilement. Il faudrait alors que l'utilisateur étudie le code du module ce qui contredit le principe de l'encapsulation.\n",
    "\n",
    "Une bonne pratique est de renvoyer à l'utilisateur des **erreurs explicites** et de pratiquer une **programmation defensive**.\n"
   ]
  },
  {
   "cell_type": "markdown",
   "id": "identified-answer",
   "metadata": {
    "tags": [
     "retenir"
    ]
   },
   "source": [
    "Lorsqu'un programme s'interrompt à cause d'une *erreur*, il affiche des messages variés. En programmation, ces *erreurs* sont appelées des **exceptions**."
   ]
  },
  {
   "cell_type": "markdown",
   "id": "opponent-anthropology",
   "metadata": {},
   "source": [
    "Lorsqu'une exception est levée (c'est-à-dire détectée par l'interprète Python), l'exécution du programme s'interrompt **sauf si** une prise en charge spécifique a été prévue par le développeur."
   ]
  },
  {
   "cell_type": "markdown",
   "id": "brown-hawaii",
   "metadata": {
    "tags": [
     "exemple"
    ]
   },
   "source": [
    "Par exemple, voici les exceptions classiques en Python :\n",
    "\n",
    "|exception|contexte|\n",
    "|-|-|\n",
    "| `NameError` | accès à une variable inexistante\n",
    "`IndexError`| accès à un indice invalide dans un tableau\n",
    "`KeyError` | accès à une clé inexistante d'un dictionnaire\n",
    "`ZeroDivisionError` | division par zéro\n",
    "`TypeError` | opération appliquée à des valeurs incompatibles"
   ]
  },
  {
   "cell_type": "markdown",
   "id": "similar-bottom",
   "metadata": {
    "tags": [
     "exo"
    ]
   },
   "source": [
    "Tester le code ci-dessous et indiquer le nome de l'**exception** levée.\n",
    "\n",
    "```python\n",
    "t = [1,1,2,5,14,42,132]\n",
    "print (t[12])\n",
    "```"
   ]
  },
  {
   "cell_type": "markdown",
   "id": "advance-hayes",
   "metadata": {
    "tags": [
     "solution"
    ]
   },
   "source": [
    "Exception `IndexError` car l'indice 12 n'existe pas dans le tableau. Il y a 7 valeurs donc les indices appartiennent ici à 0..6."
   ]
  },
  {
   "cell_type": "markdown",
   "id": "afraid-headquarters",
   "metadata": {},
   "source": [
    "## 3.2 Signaler un problème avec un exception"
   ]
  },
  {
   "cell_type": "markdown",
   "id": "earned-subsection",
   "metadata": {
    "tags": [
     "retenir"
    ]
   },
   "source": [
    "Il est possible de lever manuellement toutes ces exceptions en faisant suivre le mot clé `raise` du nom de l'exception, lui même suivi d'une chaîne de caractère donnant l'information sur l'erreur signalée.\n",
    "\n",
    "```python\n",
    "raise IndexError('Indice trop grand')\n",
    "```"
   ]
  },
  {
   "cell_type": "markdown",
   "id": "scientific-whale",
   "metadata": {
    "tags": [
     "exo"
    ]
   },
   "source": [
    "**Définir** une fonction `ecrit(t,i,v)` qui affecte la valeur `v` à l'emplacement `t[i]` d'un tableau **et** qui lève une exception si l'indice est négatif.\n",
    "\n",
    "**Pourquoi** n'y a-t-il pas besoin de l'instruction `else`?"
   ]
  },
  {
   "cell_type": "code",
   "execution_count": 35,
   "id": "heated-boulder",
   "metadata": {
    "tags": [
     "solution"
    ]
   },
   "outputs": [],
   "source": [
    "def ecrit(t,i,v):\n",
    "    if i < 0:\n",
    "        raise IndexError('Indice négatif')\n",
    "    t[i] = v"
   ]
  },
  {
   "cell_type": "markdown",
   "id": "prerequisite-tuesday",
   "metadata": {
    "tags": [
     "exo"
    ]
   },
   "source": [
    "Dans le module `date`, **modifier** la fonction `ajoute` afin de lever une exception si la date n'est pas dans l'intervalle 1..365.\n",
    "\n",
    "**Justifier** le type d'exception choisi."
   ]
  },
  {
   "cell_type": "code",
   "execution_count": 37,
   "id": "adjacent-lancaster",
   "metadata": {
    "tags": [
     "solution"
    ]
   },
   "outputs": [],
   "source": [
    "def ajoute(s,x):\n",
    "    if x < 1 or x > 365:\n",
    "        raise ValueError(\"date\", str(x), \"invalide\")\n",
    "    s[x] = True"
   ]
  },
  {
   "cell_type": "markdown",
   "id": "successful-batman",
   "metadata": {},
   "source": [
    "## 3.3 Rattraper une exception"
   ]
  },
  {
   "cell_type": "markdown",
   "id": "caroline-contents",
   "metadata": {},
   "source": [
    "Si des exceptions sont prévisibles et correspondent à des situations connues, il est parfois préférable de ne pas interrompre le programme.\n",
    "\n",
    "Par exemple en demandant à un utilisateur une date, il est tout à fait possible qu'il ne saisisse pas un nombre entier."
   ]
  },
  {
   "cell_type": "markdown",
   "id": "functional-illinois",
   "metadata": {
    "tags": [
     "exo"
    ]
   },
   "source": [
    "**Relever** l'exception levée lorsque l'utilisateur ne saisit pas un nombre entier lors de l'exécution du code ci-dessous\n",
    "\n",
    "```python\n",
    "x = int(input(\"Entrer une date\"))\n",
    "```"
   ]
  },
  {
   "cell_type": "markdown",
   "id": "accessible-forestry",
   "metadata": {
    "tags": [
     "solution"
    ]
   },
   "source": [
    "La fonction `int()` lève une exception `ValueError`."
   ]
  },
  {
   "cell_type": "markdown",
   "id": "valuable-wages",
   "metadata": {
    "tags": [
     "retenir"
    ]
   },
   "source": [
    "Pour rattraper une exception, on va utiliser les mots-clés `try` et `except`."
   ]
  },
  {
   "cell_type": "markdown",
   "id": "expanded-stock",
   "metadata": {
    "tags": [
     "exemple"
    ]
   },
   "source": [
    "Pour rattraper une exception `ValueError`, on va utiliser le mot clé `try` suivi du symbole `:` et d'un *premier bloc*. Ensuite, le mot-clé `except` suivi du nom de l'exception et du symbole `:` précède un *deuxième bloc* de code.\n",
    "\n",
    "```python\n",
    "try:\n",
    "    x = int(input(\"Entrer une date\"))\n",
    "except ValueError:\n",
    "    print(\"Prière de saisir un entier valide\")\n",
    "```"
   ]
  },
  {
   "cell_type": "markdown",
   "id": "ceramic-shelf",
   "metadata": {},
   "source": [
    "Le premier bloc est le bloc *normal*. Si son exécution s'achève normalement (sans lever d'exception) le second bloc est ignoré.\n",
    "\n",
    "Le second bloc est le bloc *alternatif*. Si une exception est levée dans le bloc normal, alors l'exception est comparée  avec le nom précisé à la ligne `except`. Si les noms correspondent, l'exception est **rattrapée** et le bloc alternatif est exécuté **avant** de passer à la suite. Sinon, le programme s'interrompt (sauf si le tout est inclu dans une autre construction `try`/`except`).\n",
    "\n"
   ]
  },
  {
   "cell_type": "markdown",
   "id": "worthy-contemporary",
   "metadata": {
    "tags": [
     "exo"
    ]
   },
   "source": [
    "**Proposer** un code demandant à l'utilisateur une date à l'utilisateur tant que la date saisie est invalide."
   ]
  },
  {
   "cell_type": "code",
   "execution_count": null,
   "id": "accessory-baseline",
   "metadata": {
    "tags": [
     "solution"
    ]
   },
   "outputs": [],
   "source": [
    "while True:\n",
    "    try:\n",
    "        x = int(input(\"Saisir une date\"))\n",
    "        break\n",
    "    except ValueError:\n",
    "        print(\"Il faut saisir un nombre entier entre 1 et 365\")\n",
    "    "
   ]
  },
  {
   "cell_type": "markdown",
   "id": "caroline-telling",
   "metadata": {
    "tags": [
     "retenir"
    ]
   },
   "source": [
    "## À retenir\n",
    "\n",
    "Un grand programme est décomposé en plusieurs **modules**, dont chacun est dédié à la réalisation d'une **tâche précise**. L'**interface** d'un module décrit l'ensemble des fonctions offertes par ce module. \n",
    "\n",
    "Avec le principe d'**encapsulation** :\n",
    "\n",
    "1. il suffit de connaître l'interface pour utiliser convenablement un module,\n",
    "2. le développeur du module possède un cadre pour modifier, corriger, améliorer son programme sans nuire aux autres programmes utilisant ce module.\n",
    "\n",
    "On complète l'encapsulation d'un module en gérant explicitement à l'aide d'**exceptions** les utilisations non conformes de son interface.\n"
   ]
  }
 ],
 "metadata": {
  "celltoolbar": "Tags",
  "interpreter": {
   "hash": "916dbcbb3f70747c44a77c7bcd40155683ae19c65e1c03b4aa3499c5328201f1"
  },
  "kernelspec": {
   "display_name": "Python 3",
   "language": "python",
   "name": "python3"
  },
  "language_info": {
   "codemirror_mode": {
    "name": "ipython",
    "version": 3
   },
   "file_extension": ".py",
   "mimetype": "text/x-python",
   "name": "python",
   "nbconvert_exporter": "python",
   "pygments_lexer": "ipython3",
   "version": "3.9.2"
  },
  "latex_metadata": {
   "theme": "langage",
   "title": "2 --- Modularité"
  },
  "rise": {
   "theme": "serif"
  }
 },
 "nbformat": 4,
 "nbformat_minor": 5
}
