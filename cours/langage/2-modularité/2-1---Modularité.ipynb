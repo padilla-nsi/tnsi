{
 "cells": [
  {
   "cell_type": "markdown",
   "source": [
    "# Chap. 2 --- Modularité\n"
   ],
   "metadata": {
    "slideshow": {
     "slide_type": "slide"
    }
   }
  },
  {
   "cell_type": "markdown",
   "source": [
    "Dans ce chapitre, tu vas travailler sur :\n",
    "\n",
    "- les *modules* et les *interfaces*\n",
    "- l'*encapsulation*\n",
    "- la réutilisation de code\n",
    "- lever et rattraper des *exceptions*"
   ],
   "metadata": {
    "slideshow": {
     "slide_type": "slide"
    },
    "tags": [
     "cacher"
    ]
   }
  },
  {
   "cell_type": "markdown",
   "source": [
    "## 1.1 --- Un exemple : le paradoxe des anniversaires"
   ],
   "metadata": {
    "slideshow": {
     "slide_type": "slide"
    }
   }
  },
  {
   "cell_type": "code",
   "execution_count": 14,
   "source": [
    "# Programme 1\n",
    "def contient_doublon(t):\n",
    "    \"\"\"le tableau t contient-il un doublon ?\"\"\"\n",
    "    s = set()\n",
    "    for x in t:\n",
    "        if x in s:\n",
    "            return True\n",
    "        s.add(x)\n",
    "    return False"
   ],
   "outputs": [],
   "metadata": {}
  },
  {
   "cell_type": "code",
   "execution_count": 15,
   "source": [
    "# Programme 2\n",
    "def contient_doublon(t):\n",
    "    \"\"\"le tableau t contient-il un doublon ?\"\"\"\n",
    "    s = []\n",
    "    for x in t:\n",
    "        if x in s:\n",
    "            return True\n",
    "        s.append(x)\n",
    "    return False"
   ],
   "outputs": [],
   "metadata": {}
  },
  {
   "cell_type": "code",
   "execution_count": 16,
   "source": [
    "# Programme 3\n",
    "def contient_doublon(t):\n",
    "    \"\"\"le tableau t contient-il un doublon ?\"\"\"\n",
    "    s = [False] * 366\n",
    "    for x in t:\n",
    "        if s[x]:\n",
    "            return True\n",
    "        s[x] = True\n",
    "    return False"
   ],
   "outputs": [],
   "metadata": {}
  },
  {
   "cell_type": "markdown",
   "source": [
    "## 1.2 --- Factorisation du code"
   ],
   "metadata": {
    "slideshow": {
     "slide_type": "slide"
    }
   }
  },
  {
   "cell_type": "markdown",
   "source": [
    "Les trois programmes précédents se ressemblent beaucoup :\n",
    "\n",
    "- ils font la même chose, mais avec des stratégies complètement différentes\n",
    "- ils ont la même structure.\n",
    "\n",
    "Cette structure peut d'ailleurs se résumer en :\n",
    "\n",
    "-`s` représente d'une manière ou d'une autre un ensemble de dates qu'il faut *créer*.\n",
    "- Il faut vérifier si `s` *contient* l'élément `x`.\n",
    "- Il faut être capable d'*ajouter* l'élément `x` à `s` si besoin.\n",
    "\n",
    "Ce qui donne, en délégant ces trois aspects aux fonctions `cree()`, `contient()` et `ajoute()` :\n",
    "\n",
    "```python\n",
    "def contient_doublon(t):\n",
    "    \"\"\"le tableau t contient-il un doublon ?\"\"\"\n",
    "    s = cree()\n",
    "    for x in t:\n",
    "        if contient(s,x):\n",
    "            return True\n",
    "        ajoute(s,x)\n",
    "    return False\n",
    "```"
   ],
   "metadata": {}
  },
  {
   "cell_type": "markdown",
   "source": [
    "Ainsi :\n",
    "\n",
    "- pour changer le mode de représentation des dates, il ne faut plus changer `contient_doublon()`\n",
    "- l'ensemble de dates peut être réutilisés dans d'autres programmes\n",
    "- il y a séparation entre le programme qui utilise les dates et les programmes qui définissent comment sont programmées en interne ces dates.\n",
    "\n",
    "Ces trois fonctions représentent l'**interface** entre le programme qui utilise l'ensemble de dates **et** les programmes qui définissent d'une façon ou d'une autre cet ensemble."
   ],
   "metadata": {}
  },
  {
   "cell_type": "markdown",
   "source": [
    "## 2.1 Modules"
   ],
   "metadata": {}
  },
  {
   "cell_type": "markdown",
   "source": [
    "Une des clés du développement à grande échelle consiste à séparer proprement les différentes parties d'un programme."
   ],
   "metadata": {}
  },
  {
   "cell_type": "markdown",
   "source": [
    "Par exemple on peut séparer la définition d'une structure de données (comme l'ensemble de dates) et son utilisation.\n",
    "\n",
    "On peut aussi séparer la partie interface graphique d'une application de sa partie logique qui en constitue le cœur.\n"
   ],
   "metadata": {}
  },
  {
   "cell_type": "markdown",
   "source": [
    "Chaque morceau de code peut être placé dans un fichier différent appelé **module**.\n",
    "\n",
    "Pour importer les fonctions définies dans un module et les utiliser, il faut utiliser le mot clé `import`"
   ],
   "metadata": {}
  },
  {
   "cell_type": "markdown",
   "source": [
    "Par exemple, pour importer le module permettant de gérer les valeurs aléatoires, on importe `random` grâce à l'instruction `import random`. Auquel cas, pour utiliser la fonction `randint()` du module, il faut écrire `random.randint()`. Mais sous cette forme, cette façon d'importer est à éviter car ce sont *toutes* les fonctions du modules qui sont importées. \n",
    "\n",
    "Il est préférable de n'importer que la ou les fonctions utiles. Par exemple `from random import randint` ne va importer que la fonction `randint(a,b)` qui permet de choisir aléatoirement un nombre entier compris entre `a` et `b` inclus."
   ],
   "metadata": {}
  },
  {
   "cell_type": "markdown",
   "source": [
    "Par exemple, pour créer son propre module, il suffit de  sauvegarder dans un fichier `monModule.py` les fonctions. \n",
    "\n",
    "Pour importer les fonctionnalités d'un module, il faut que le fichier `monModule.py` soit dans le même répertoire puis alors il suffit d'utiliser le mot clé `import` en écrivant : `from monModule import ...`."
   ],
   "metadata": {}
  },
  {
   "cell_type": "markdown",
   "source": [
    "Par exemple, les fonctions `cree()`, `ajoute()` et `contient()` peuvent être sauvegarder dans le fichier `dates.py`.\n",
    "\n",
    "```python\n",
    "def cree():\n",
    "    return [False] * 366\n",
    "\n",
    "def contient(s,x):\n",
    "    return s[x]\n",
    "\n",
    "def ajoute(s,x):\n",
    "    s[x] = True\n",
    "```\n",
    "\n",
    "\n",
    "Ensuite, si l'on souhaite utiliser notre ensemble de date dans un programme, il suffit d'écrire `from date import cree, ajoute, contient` en ayant préalablement placé le fichier `date.py` dans le même répertoire que le fichier de travail `anniversaire.py` :\n",
    "\n",
    "```python\n",
    "from dates import cree, contient, ajoute\n",
    "def contient_doublon(t):\n",
    "    \"\"\"le tableau t contient-il un doublon ?\"\"\"\n",
    "    s = cree()\n",
    "    for x in t:\n",
    "        if contient(s,x):\n",
    "            return True\n",
    "        ajoute(s,x)\n",
    "    return False\n",
    "```"
   ],
   "metadata": {}
  },
  {
   "cell_type": "markdown",
   "source": [
    "Après avoir écrit votre module `date.py`, **écrire** un programme permettant de savoir combien d'élève il faut en moyenne dans une école pour qu'un anniversaire soit fêté chaque jour.\n",
    "\n",
    "Pour cela, tirer au hasard des dates et les stocker dans un ensemble jusqu'à ce que toutes les dates aient été obtenues au moins une fois.\n",
    "\n",
    "Répéter cette expérience 1000 fois et afficher une valeur moyenne."
   ],
   "metadata": {}
  },
  {
   "cell_type": "code",
   "execution_count": 29,
   "source": [
    "from dates import cree, contient, ajoute\n",
    "from random import randint\n",
    "\n",
    "def fete_continue():\n",
    "    compteur = 0\n",
    "    nombre_dates = 0\n",
    "    s = cree()\n",
    "    while nombre_dates < 365:\n",
    "        compteur += 1\n",
    "        x = randint(1,365)\n",
    "        if not contient(s,x):\n",
    "            nombre_dates += 1\n",
    "            ajoute(s,x)\n",
    "    return compteur\n",
    "\n",
    "n = 0\n",
    "for _ in range(1000):\n",
    "    n += fete_continue()\n",
    "\n",
    "print(\"En moyenne\", n/1000, \"élèves\")"
   ],
   "outputs": [
    {
     "output_type": "stream",
     "name": "stdout",
     "text": [
      "En moyenne 2388.026 élèves\n"
     ]
    }
   ],
   "metadata": {}
  },
  {
   "cell_type": "markdown",
   "source": [
    "## 2.2 Interfaces"
   ],
   "metadata": {}
  },
  {
   "cell_type": "markdown",
   "source": [
    "Pour chaque module, on distingue :\n",
    "\n",
    "- son **implémentation** : c'est-à-dire le code lui même et \n",
    "- son **interface**, consistant en une énumération des fonctions définies dans le module qui sont destinées à être utilisées dans la réalisation d'autres modules, appelés *clients*."
   ],
   "metadata": {}
  },
  {
   "cell_type": "markdown",
   "source": [
    "L'interface doit expliciter ce qu'un utilisateur a besoin de connaître des fonctions proposées : *comment* et *pourquoi* les utiliser.\n",
    "\n",
    "L'objectif est que :\n",
    "\n",
    "1. ces fonctions soient suffisantes pour permettre à un utilisateur de faire appel aux fonctionnalités du module et \n",
    "2. que ces fonctions soient utilisées sans avoir besoin d'aller consulter le code du module.\n",
    "\n",
    "Pour chaque fonction il faut :\n",
    "\n",
    "- un nom\n",
    "- la liste des paramètres\n",
    "- sa spécification, c'est-à-dire les conditions auxquelles la fonction peut être appliquée et les résultats à attendre."
   ],
   "metadata": {}
  },
  {
   "cell_type": "markdown",
   "source": [
    "La documentation de l'interface peut être vue comme un **contrat** entre l'auteur du module et ses utilisateurs.\n",
    "\n",
    "C'est mieux si le nombre de choses à lire est limité, facile à comprendre et à mémoriser."
   ],
   "metadata": {}
  },
  {
   "cell_type": "markdown",
   "source": [
    "Par exemple, voici l'interface de l'ensemble de dates.\n",
    "\n",
    "|fonction|description|\n",
    "|-|-|\n",
    "`cree()`|crée et renvoie un ensemble de dates vide\n",
    "`contient(s,x)`|renvoie `True` si et seulement si l'ensemble `s` contient la date `x`\n",
    "`ajoute(s,x)`|ajoute la date `x` à l'ensemble `s`"
   ],
   "metadata": {}
  },
  {
   "cell_type": "markdown",
   "source": [
    "## 2.3 Encapsulation"
   ],
   "metadata": {}
  },
  {
   "cell_type": "markdown",
   "source": [
    "L'auteur d'un module est libre de s'y prendre comme il le souhaite pour respecter l'interface.\n",
    "\n",
    "Le contrat porte sur le résultat et pas sur les moyens d'y parvenir.\n",
    "\n",
    "L'auteur peut donc utiliser toute une série de fonctions ou d'objets annexes"
   ],
   "metadata": {}
  }
 ],
 "metadata": {
  "celltoolbar": "Diaporama",
  "interpreter": {
   "hash": "916dbcbb3f70747c44a77c7bcd40155683ae19c65e1c03b4aa3499c5328201f1"
  },
  "kernelspec": {
   "name": "python3",
   "display_name": "Python 3.9.2 64-bit"
  },
  "language_info": {
   "codemirror_mode": {
    "name": "ipython",
    "version": 3
   },
   "file_extension": ".py",
   "mimetype": "text/x-python",
   "name": "python",
   "nbconvert_exporter": "python",
   "pygments_lexer": "ipython3",
   "version": "3.9.2"
  },
  "latex_metadata": {
   "theme": "langage",
   "title": "2 --- Modularité"
  },
  "rise": {
   "theme": "serif"
  }
 },
 "nbformat": 4,
 "nbformat_minor": 5
}