{
 "cells": [
  {
   "cell_type": "markdown",
   "source": [
    "## 1.1 --- Un exemple : le paradoxe des anniversaires"
   ],
   "metadata": {
    "slideshow": {
     "slide_type": "slide"
    }
   }
  },
  {
   "cell_type": "markdown",
   "source": [
    "### Groupe 3 --- les tableaux"
   ],
   "metadata": {
    "slideshow": {
     "slide_type": "slide"
    }
   }
  },
  {
   "cell_type": "markdown",
   "source": [
    "Connais-tu le **paradoxe des anniversaires** ? Lorsqu'on réunit 23 personnes, il y a une chance sur deux pour que deux d'entre elles soient nées le même jour.\n",
    "\n",
    "Écrivons un programme qui vérifie expérimentalement ce paradoxe.\n",
    "\n",
    "On va répéter de nombreuses fois un tirage aléatoire de 23 dates d'anniversaire, c'est-à-dire 23 entiers entre 1 et 365, on va observer combien de fois au moins deux personnes sont nées el même jour.\n",
    "\n"
   ],
   "metadata": {}
  },
  {
   "cell_type": "code",
   "execution_count": 9,
   "source": [
    "# Programme 3\n",
    "\n",
    "def contient_doublon(t):\n",
    "    \"\"\"le tableau t contient-il un doublon ?\"\"\"\n",
    "    s = [False] * 366\n",
    "    for x in t:\n",
    "        if s[x]:\n",
    "            return True\n",
    "        s[x] = True\n",
    "    return False\n",
    "\n",
    "\n",
    "# Création du tableau de dates aléatoires\n",
    "from random import randint\n",
    "\n",
    "n = 0\n",
    "n_doublons = 0\n",
    "\n",
    "while n < 1000 :\n",
    "    t = [None] * 23\n",
    "    for j in range(23):\n",
    "        t[j] = randint(1,365)\n",
    "    if contient_doublon(t):\n",
    "        n_doublons += 1\n",
    "    \n",
    "    n += 1\n",
    "\n",
    "print (n_doublons,\"doublons sur\",n,\"tirages\")\n",
    "print (\"fréquence : \", n_doublons/n)\n"
   ],
   "outputs": [
    {
     "output_type": "stream",
     "name": "stdout",
     "text": [
      "490 doublons sur 1000 tirages\n",
      "fréquence :  0.49\n"
     ]
    }
   ],
   "metadata": {}
  },
  {
   "cell_type": "markdown",
   "source": [
    "*L'**objectif** de cette activité est de présenter la fonction `contient_doublon(t)` à vos camarades.* Afin de vous aider à vous approprier la problématique, voici une liste de questions :\n",
    "\n",
    "**Analyse du programme 1 :**\n",
    "\n",
    "1. À quoi sert la boucle `while n < 1000` ?\n",
    "2. Que pensez-vous de l'affirmation du paradoxe des anniversaires ?\n",
    "\n",
    "**Utilité de la fonction `contient_doublon(t)`:**\n",
    "\n",
    "3. Dans la fonction `contient_doublon(t)`, quel est le type Python de la variable `t`?\n",
    "4. Que renvoie la fonction `contient_doublon(t)` ?\n",
    "5. Comment fonctionne la ligne `if contient_doublon(t)` ?\n",
    "6. Quel est l'intérêt de la fonction `contient_doublon(t)` ?\n",
    "\n",
    "**Fonctionnement de la fonction `contient_doublon(t)` :**\n",
    "\n",
    "7. Quel est le type Python de la variable `s` ? Que contient-elle ?\n",
    "8. Quel est le but de la commande `s[x] = True` ?\n",
    "9. Quel est l'effet de la ligne `for x in t:` ?\n",
    "10. L'instruction `if s[x]:` est-elle immédiate ?"
   ],
   "metadata": {}
  }
 ],
 "metadata": {
  "celltoolbar": "Diaporama",
  "interpreter": {
   "hash": "916dbcbb3f70747c44a77c7bcd40155683ae19c65e1c03b4aa3499c5328201f1"
  },
  "kernelspec": {
   "name": "python3",
   "display_name": "Python 3.9.2 64-bit"
  },
  "language_info": {
   "codemirror_mode": {
    "name": "ipython",
    "version": 3
   },
   "file_extension": ".py",
   "mimetype": "text/x-python",
   "name": "python",
   "nbconvert_exporter": "python",
   "pygments_lexer": "ipython3",
   "version": "3.9.2"
  },
  "latex_metadata": {
   "theme": "langage",
   "title": "2 --- Modularité"
  },
  "rise": {
   "theme": "serif"
  }
 },
 "nbformat": 4,
 "nbformat_minor": 5
}