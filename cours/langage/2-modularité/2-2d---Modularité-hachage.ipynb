{
 "cells": [
  {
   "cell_type": "markdown",
   "metadata": {
    "slideshow": {
     "slide_type": "slide"
    }
   },
   "source": [
    "## Introduction aux tables de hachages ([pa.dilla.fr/14](https://pa.dilla.fr/14) ![](https://raw.githubusercontent.com/padilla-nsi/tnsi/main/cours/langage/2-modularit%C3%A9/res/qr-hachage.png) )"
   ]
  },
  {
   "cell_type": "markdown",
   "metadata": {
    "tags": [
     "proposition"
    ]
   },
   "source": [
    "Dans le programme 2 du chapitre *Modularité*, `s` est un tableau définit par `s=[]` :\n",
    "\n",
    "- le tableau `s` est petit et prend peu de place en mémoire\n",
    "- **mais** la recherche `if x in s:` n'est pas immédiate. Dans *le pire des cas*, il faut parcourir tout le tableau pour être certain que `x` n'y est pas.\n",
    "\n",
    "Au contraire, dans le programme 3, `s` est définit par `s = [False] * 366`:\n",
    "\n",
    "- la recherche `if s[x]:` est immédiate\n",
    "- **mais** le tableau `s` prend beaucoup de place en mémoire.\n",
    "\n"
   ]
  },
  {
   "cell_type": "markdown",
   "metadata": {
    "tags": [
     "retenir"
    ]
   },
   "source": [
    "Le programme 4 ci-dessous te propose une solution qui prend le meilleur des deux tentatives précédentes :\n",
    "\n",
    "- peu de place en mémoire (comme le programme 2)\n",
    "- quasi immédiateté de la recherche (comme le programme 3).\n",
    "\n",
    "```python\n",
    "\n",
    "def contient_doublon(t):\n",
    "    \"\"\"le tableau t contient-il un doublon ?\"\"\"\n",
    "    s = [[] for _ in range(23)]\n",
    "    for x in t:\n",
    "        if x in s[x % 23]:\n",
    "            return True\n",
    "        s[x % 23].append(x)\n",
    "    return False\n",
    "```"
   ]
  },
  {
   "cell_type": "markdown",
   "metadata": {
    "tags": [
     "remarque"
    ]
   },
   "source": [
    "On crée un tableau `s` de 23 cases car on sait qu'il n'y aura 23 dates à y enregistrer. L'occupation en mémoire est donc faible.\n",
    "\n",
    "Ensuite, on attribut à chacune des 365 dates possibles une case *fixe et bien définie*. Par exemple, la date 42 sera toujours rangée dans `s[19]`.\n",
    "\n",
    "Comment sait-on que la date `42` est enregistrée dans l'emplacement `19` de `s` ? Pour obtenir ce rang (`19`) associé à la date `42`, on utilise l'opération **modulo 23** (notée `% 23`) qui renvoie le *reste de la division euclidienne par 23*. Cette opération renvoie un nombre compris entre 0..22. Ce qui est parfait car le tableau `s` contient 23 emplacements. Le calcul du rang `42 % 23` donne pour résultat `19` et est immédiat."
   ]
  },
  {
   "cell_type": "markdown",
   "metadata": {
    "tags": [
     "remarque"
    ]
   },
   "source": [
    "Mais il est **possible** que plusieurs dates soient dans la même case. Par exemple les dates 65 ou 88 se rangeront aussi dans `s[19]`.  \n",
    "\n",
    "C'est pourquoi chaque case de `s` ne contient pas une date, mais un tableau de date que nous appellerons **paquet**. C'est donc pourquoi `s = [[] for _ in range(23)]`.\n",
    "\n",
    "Pour rendre la recherche *quasi* immédiate, il faut que chaque paquet soit quasiment vide. Puisque le tirage des 23 dates est aléatoire, il faudrait beaucoup beaucoup de malchance pour qu'un grand nombre d'entre elles se trouvent dans le même paquet.\n",
    "\n",
    "Par exemple, imaginons que la date tirée soit 42. On sait *immédiatement* qu'il faut chercher dans le paquet `s[19]`. Maintenant si ce paquet contient beaucoup de dates (pas de chance !) la recherche prend du temps. Sinon, le paquet est quasiment vide et la recherche est *quasi immédiate* ! \n",
    "\n",
    "On peut donc conclure que, *en moyenne*, la recherche `x in s[x % 23]` est *quasi immédiate*."
   ]
  },
  {
   "cell_type": "markdown",
   "metadata": {
    "tags": [
     "retenir"
    ]
   },
   "source": [
    "La méthode exposée ci-dessus est une ébauche de la structure de données fondamentale **table de hachage**.\n",
    "\n",
    "Cette structure de données est sous-jacente aux **ensembles** et aux **dictionnaires** de Python. Elle est très polyvalente, permet de représenter des ensembles de taille arbitraire avec des opérations d'accès aux éléments extrêmement rapides. Cette structure de données est considérée comme la plus efficace dans la plus grande variété des cas courants !"
   ]
  },
  {
   "cell_type": "markdown",
   "metadata": {},
   "source": [
    "## Amélioration du modèle de **tables de hachages**"
   ]
  },
  {
   "cell_type": "markdown",
   "metadata": {},
   "source": [
    "Dans la suite, nous allons améliorer notre modèle de *tables de hachage* afin de : "
   ]
  },
  {
   "cell_type": "markdown",
   "metadata": {
    "tags": [
     "proposition"
    ]
   },
   "source": [
    "Représenter des ensembles de taille *arbitraire* de façon efficace. Par exemple, ne plus limiter à 23 paquets !"
   ]
  },
  {
   "cell_type": "markdown",
   "metadata": {
    "tags": [
     "proposition"
    ]
   },
   "source": [
    "Rendre vraiment aléatoire la répartition dans les paquets. Par exemple, faire en sorte que les multiples, les nombres proches ou liés les uns aux autres ne soient pas systématiquement associés au même paquet."
   ]
  },
  {
   "cell_type": "markdown",
   "metadata": {
    "tags": [
     "proposition"
    ]
   },
   "source": [
    "Rendre l'ensemble plus polyvalent en y associant autre chose que des nombres entiers. Par exemple on aimerait aussi associer des chaînes de caractères comme `\"alice\"` ou `\"bob\"` à différents paquets. "
   ]
  },
  {
   "cell_type": "markdown",
   "metadata": {
    "tags": [
     "retenir"
    ]
   },
   "source": [
    "Voici ce que donne le programme final :\n",
    "\n",
    "```python\n",
    "def cree():\n",
    "    return { 'taille':0 ,\n",
    "             'paquets': [[] for _ in range(32)] }\n",
    "\n",
    "def contient(s, x):\n",
    "    p = hash(x) % len(s['paquets'])\n",
    "    return x in s['paquets'][p]\n",
    "\n",
    "def ajoute(s,x):\n",
    "    if contient(s, x):\n",
    "        return\n",
    "    s['taille'] += 1\n",
    "    if s['taille'] > len(s['paquets']):\n",
    "        _etend(s)\n",
    "    _ajoute_aux(s['paquets'], x)\n",
    "\n",
    "def _ajoute_aux(t, x):\n",
    "    p = hash(x) % len(t)\n",
    "    t[p].append(x)\n",
    "\n",
    "def _etend(s):\n",
    "    tmp = [[] for _ in range( 2 * len(s['paquets']) )]\n",
    "    for x in enumere(s):\n",
    "        _ajoute_aux(tmp, x)\n",
    "    s['paquets'] = tmp\n",
    "\n",
    "def enumere(s):\n",
    "    tab = []\n",
    "    for paquet in s['paquets']:\n",
    "        tab.extend(paquet)\n",
    "    return tab\n",
    "```"
   ]
  },
  {
   "cell_type": "markdown",
   "metadata": {},
   "source": [
    "### Fonction de hachage"
   ]
  },
  {
   "cell_type": "markdown",
   "metadata": {},
   "source": [
    "Commençons par les deux derniers points. Pour obtenir une vraie table de hachage, on va utiliser une fonction appelée *fonction de hachage*, qui prend en paramètre un élément à stocker (nombre entier, chaîne de caractère, flottant, objet) et renvoie un nombre entier définissant le numéro dans lequel insérer l'élément.\n",
    "\n",
    "En utilisant cette fonction *modulo le nombre de paquets*, on s'assure que l'association entre un objet et son paquet est aléatoire et indépendant."
   ]
  },
  {
   "cell_type": "markdown",
   "metadata": {},
   "source": [
    "En Python, l'appel à une fonction de hachage se fait par la fonction `hash(obj)` où `obj` est l'objet à associer.\n",
    "\n",
    "Pour remplir un tableau de 23 cases avec cette fonction de hachage, on remplace tout simplement `x % 23` par `hash(x) % 23`. La fonction `hash(x)` s'occupe de la répartition aléatoire et `% 23` se charge de répartir le nombre entier obtenu en une nombre appartenant à 0..22.\n",
    "\n",
    "C'est pourquoi dans le programme on a `hash(x) % len(s['paquets'])` ou encore `hash(x) % len(t)` : on obtient le rang `p` de la date `x` en effectuant un *modulo le nombre de paquets* de la table de hachage.\n"
   ]
  },
  {
   "cell_type": "markdown",
   "metadata": {},
   "source": [
    "### Tableau de taille variable"
   ]
  },
  {
   "cell_type": "markdown",
   "metadata": {},
   "source": [
    "Afin de rendre la table de hachage efficace, il faut s'assurer que chaque paquet reste le plus petit possible. En effet, si un paquet contient beaucoup d'éléments, la recherche dans ce paquet n'est plus efficace. En revanche, si le paquet est vide ou contient un ou deux éléments, la recherche est *immédiate*.\n",
    "\n",
    "On va alors se fixer la règle suivante : "
   ]
  },
  {
   "cell_type": "markdown",
   "metadata": {
    "tags": [
     "proposition"
    ]
   },
   "source": [
    "\n",
    "*la taille de la table de hachage (le nombre de paquets) ne doit jamais être inférieure au nombre d'éléments stockés qui y sont stockés*."
   ]
  },
  {
   "cell_type": "markdown",
   "metadata": {},
   "source": [
    "\n",
    "\n",
    "Ainsi, c'est la procédure `ajoute(s,x)` qui s'occupe d'ajouter l'élément `x` à la table de hachage `s` et qui a en charge d'augmenter la taille de la table. \n",
    "\n",
    "Si `x` est déjà présent `if contient(s, x)`, on ignore toutes les instructions suivante et on appelle  un `return` tout seul qui termine l'appel à la fonction `ajoute()`.\n",
    "\n",
    "Si `x` n'est pas déjà dans `s`, alors les lignes après le `return` s'exécutent. Puisque `x` va être ajouté, on incrémente la taille de la table de hachage `s['taille'] += 1`. \n",
    "\n",
    "Ensuite la procédure vérifie si le nombre d'éléments dépasse le nombre de paquets `if s['taille'] > len(s['paquets']):`. Si c'est le cas, la procédure `_etend(s)`  va :\n",
    "\n",
    "- créer un tableau deux fois plus grand que la table de hachage `tmp = [[] for _ in range( 2 * len(s['paquets']) )]` \n",
    "- répartir tous les éléments de la table de hachage dans ce tableau temporaire `for x in enumere(s): _ajoute_aux(tmp, x)`\n",
    "- faire pointer la table de hachage vers le tableau temporaire `s['paquets'] = tmp`.\n",
    "\n",
    "Pour finir, un appel à la procédure `_ajoute_aux()` s'occupe (enfin) d'ajouter l'élément `x` dans le paquet auquel il est associé `_ajoute_aux(s['paquets'], x)`.\n",
    "\n"
   ]
  },
  {
   "cell_type": "markdown",
   "metadata": {},
   "source": [
    "### Test du module"
   ]
  },
  {
   "cell_type": "code",
   "execution_count": 11,
   "metadata": {},
   "outputs": [
    {
     "name": "stdout",
     "output_type": "stream",
     "text": [
      "483 doublons sur 1000 tirages\n",
      "fréquence :  0.483\n"
     ]
    }
   ],
   "source": [
    "# créer doublon\n",
    "def contient_doublon(t):\n",
    "    \"\"\"la structure contient-elle un doublon?\"\"\"\n",
    "    s = cree()\n",
    "    for x in t:\n",
    "        if contient(s, x):\n",
    "            return True\n",
    "        ajoute(s, x)\n",
    "    return False\n",
    "\n",
    "# Création du tableau de dates aléatoires\n",
    "from random import randint\n",
    "\n",
    "n = 0\n",
    "n_doublons = 0\n",
    "\n",
    "while n < 1000 :\n",
    "    t = [None] * 23\n",
    "    for j in range(23):\n",
    "        t[j] = randint(1,365)\n",
    "    if contient_doublon(t):\n",
    "        n_doublons += 1    \n",
    "    n += 1\n",
    "\n",
    "print (n_doublons,\"doublons sur\",n,\"tirages\")\n",
    "print (\"fréquence : \", n_doublons/n)\n"
   ]
  }
 ],
 "metadata": {
  "celltoolbar": "Tags",
  "interpreter": {
   "hash": "916dbcbb3f70747c44a77c7bcd40155683ae19c65e1c03b4aa3499c5328201f1"
  },
  "kernelspec": {
   "display_name": "Python 3.9.2 64-bit",
   "name": "python3"
  },
  "language_info": {
   "codemirror_mode": {
    "name": "ipython",
    "version": 3
   },
   "file_extension": ".py",
   "mimetype": "text/x-python",
   "name": "python",
   "nbconvert_exporter": "python",
   "pygments_lexer": "ipython3",
   "version": "3.9.2"
  },
  "latex_metadata": {
   "theme": "langage",
   "title": "2 --- Modularité"
  },
  "rise": {
   "theme": "serif"
  }
 },
 "nbformat": 4,
 "nbformat_minor": 5
}
