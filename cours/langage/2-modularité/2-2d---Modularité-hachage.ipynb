{
 "cells": [
  {
   "cell_type": "markdown",
   "source": [
    "## 1.1 --- Un exemple : le paradoxe des anniversaires"
   ],
   "metadata": {
    "slideshow": {
     "slide_type": "slide"
    }
   }
  },
  {
   "cell_type": "markdown",
   "source": [
    "### Groupe 4 --- la table de hachage"
   ],
   "metadata": {
    "slideshow": {
     "slide_type": "slide"
    }
   }
  },
  {
   "cell_type": "markdown",
   "source": [
    "Dans le programme du groupe 2, `s` est un tableau définit par `s=[]`. Le tableau `s` est petit mais la recherche `if x in s:` n'est pas immédiate. Dans le pire des cas, il faut parcourir tout le tableau pour être certain que `x` n'y est pas.\n",
    "\n",
    "Au contraire, dans le programme du groupe 3, `s = [False] * 366`. Le tableau `s` prend beaucoup de place en mémoire mais la recherche `if s[x]:` est immédiate.\n",
    "\n",
    "Le programme 4 ci-dessous te propose une solution qui prend le meilleur des deux tentatives précédents :\n",
    "\n",
    "- peu de place en mémoire (groupe 2)\n",
    "- quasi immédiateté de la recherche (groupe 3).\n"
   ],
   "metadata": {}
  },
  {
   "cell_type": "code",
   "execution_count": 32,
   "source": [
    "# Programme 4\n",
    "\n",
    "def contient_doublon(t):\n",
    "    \"\"\"le tableau t contient-il un doublon ?\"\"\"\n",
    "    s = [[] for _ in range(23)]\n",
    "    for x in t:\n",
    "        if x in s[x % 23]:\n",
    "            return True\n",
    "        s[x % 23].append(x)\n",
    "    return False"
   ],
   "outputs": [],
   "metadata": {}
  },
  {
   "cell_type": "markdown",
   "source": [
    "On prend un tableau `s` de 23 cases car on sait qu'il n'y aura 23 dates à y enregistrer. L'occupation en mémoire est donc faible.\n",
    "\n",
    "Ensuite, on attribut à chacune des 365 dates possibles une case *fixe et bien définie*. Par exemple, la date 42 sera toujours rangée dans `s[19]`.\n",
    "\n",
    "Comment sait-on que la date `42` est enregistrée dans l'emplacement `19` de `s` ? Pour obtenir ce rang (`19`) associé à la date `42`, on utilise l'opération **modulo 23** (notée `% 23`) qui renvoie le *reste de la division euclidienne par 23*. Cette opération renvoie un nombre compris entre 0..22. Ce qui est parfait car le tableau `s` contient 23 emplacements. Le calcul du rang `42 % 23` donne pour résultat `19` et est immédiat."
   ],
   "metadata": {}
  },
  {
   "cell_type": "markdown",
   "source": [
    "Mais il est **possible** que plusieurs dates soient dans la même case. Par exemple les dates 65 ou 88 se rangeront aussi dans `s[19]`.  \n",
    "\n",
    "C'est pourquoi chaque case de `s` ne contient pas une date, mais un tableau de date que nous appellerons **paquet**. C'est donc pourquoi `s = [[] for _ in range(23)]`.\n",
    "\n",
    "Pour rendre la recherche *quasi* immédiate, il faut que chaque paquet soit quasiment vide. Puisque le tirage des 23 dates est aléatoire, il faudrait beaucoup beaucoup de malchance pour qu'un grand nombre d'entre elles se trouvent dans le même paquet.\n",
    "\n",
    "Par exemple, imaginons que la date tirée soit 42. On sait *immédiatement* qu'il faut chercher dans le paquet `s[19]`. Maintenant si ce paquet contient beaucoup de dates (pas de chance !) la recherche prend du temps. Sinon, le paquet est quasiment vide et la recherche est *quasi immédiate* ! \n",
    "\n",
    "On peut donc conclure que, *en moyenne*, la recherche `x in s[x % 23]` est *quasi immédiate*."
   ],
   "metadata": {}
  },
  {
   "cell_type": "markdown",
   "source": [],
   "metadata": {}
  }
 ],
 "metadata": {
  "celltoolbar": "Diaporama",
  "interpreter": {
   "hash": "916dbcbb3f70747c44a77c7bcd40155683ae19c65e1c03b4aa3499c5328201f1"
  },
  "kernelspec": {
   "name": "python3",
   "display_name": "Python 3.9.2 64-bit"
  },
  "language_info": {
   "codemirror_mode": {
    "name": "ipython",
    "version": 3
   },
   "file_extension": ".py",
   "mimetype": "text/x-python",
   "name": "python",
   "nbconvert_exporter": "python",
   "pygments_lexer": "ipython3",
   "version": "3.9.2"
  },
  "latex_metadata": {
   "theme": "langage",
   "title": "2 --- Modularité"
  },
  "rise": {
   "theme": "serif"
  }
 },
 "nbformat": 4,
 "nbformat_minor": 5
}