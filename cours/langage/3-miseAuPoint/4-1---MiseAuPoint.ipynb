{
 "cells": [
  {
   "cell_type": "markdown",
   "source": [
    "\n",
    "|[https://pa.dilla.fr/1c](https://pa.dilla.fr/1c)| ![](res/qr.png)|\n",
    "|-|-|"
   ],
   "metadata": {}
  },
  {
   "cell_type": "markdown",
   "source": [
    "# Chap. 4 --- Mise au point de programmes \n",
    "\n"
   ],
   "metadata": {
    "slideshow": {
     "slide_type": "slide"
    }
   }
  },
  {
   "cell_type": "markdown",
   "source": [
    "Dans ce chapitre, tu vas travailler sur :\n",
    "\n",
    "- types de données\n",
    "- annotation des programmes et vérification statique\n",
    "- tester un programme\n",
    "- invariant de structure"
   ],
   "metadata": {
    "slideshow": {
     "slide_type": "slide"
    },
    "tags": [
     "cacher"
    ]
   }
  },
  {
   "cell_type": "markdown",
   "source": [
    "## 4.1 --- Types"
   ],
   "metadata": {}
  },
  {
   "cell_type": "markdown",
   "source": [
    "4.1.1 --- Les types en Python"
   ],
   "metadata": {}
  },
  {
   "cell_type": "markdown",
   "source": [
    "Chaque valeur manipulée par un programme Python est associée à un\n",
    "**type**, qui caractérise la nature de cette valeur."
   ],
   "metadata": {}
  },
  {
   "cell_type": "markdown",
   "source": [
    "La fonction `type` permet d'obtenir le type de la valeur passée en paramètre. **Utilise** cette fonction pour **déterminer** le type de `1, 3.14, True, \"abc\", None, (1, 2), [1, 2, 3], {1, 2, 3}, {'a': 1, 'b': 2}`.\n",
    "\n",
    "2. **Détermine** le type de `{}`,  d'une fonction et d'une classe."
   ],
   "metadata": {
    "tags": [
     "exo"
    ]
   }
  },
  {
   "cell_type": "markdown",
   "source": [
    "| |  | |\n",
    "|-|-|-|\n",
    "|**valeur** | **type** | **description**|\n",
    "|`1` | `int` | nombres entiers|\n",
    "`3.14` | `float` | nombres décimaux\n",
    "`True` | `bool` | booléens\n",
    "`\"abc\"` | `str` | chaînes de caractères\n",
    "`None` | `NoneType` | valeur indéfinie\n",
    "|-|-|-|\n",
    "`(1, 2)` | `tuple` | n-uplets\n",
    "`[1, 2, 3]` | `list` | tableaux\n",
    "`{1, 2, 3}` | `set` | ensembles\n",
    "`{'a': 1, 'b': 2}` | `dict` |  dictionnaires"
   ],
   "metadata": {
    "tags": [
     "solution"
    ]
   }
  },
  {
   "cell_type": "markdown",
   "source": [
    "En Python, la gestion des types est qualifiée de **dynamique** : c'est au\n",
    "moment de l'exécution du programme, lors de l'interprétation de chaque\n",
    "opération de base, que l'interprète Python vérifie la concordance entre les\n",
    "opérations et les types des valeurs utilisées."
   ],
   "metadata": {}
  },
  {
   "cell_type": "markdown",
   "source": [
    "4.1.2 --- Annoter les variables et les fonctions"
   ],
   "metadata": {}
  },
  {
   "cell_type": "markdown",
   "source": [
    "Il est **indispensable** lors de la définition d'une fonction\n",
    "d'avoir en tête les types attendus pour \n",
    "\n",
    "- les paramètres et \n",
    "- l'éventuel type du résultat.\n",
    "\n",
    "Pour la définition d'une interface, cette information est cruciale et permet d'éviter autant que possible la mauvaise utilisation d'un module."
   ],
   "metadata": {}
  },
  {
   "cell_type": "markdown",
   "source": [
    "Python accepte l'annotation des **variables** et des **fonctions**.\n"
   ],
   "metadata": {
    "tags": [
     "retenir"
    ]
   }
  },
  {
   "cell_type": "markdown",
   "source": [
    "\n",
    "Ces annotations sont facultatives dans ce langage mais obligatoires dans d'autres. Elles ont pour rôle :\n",
    "\n",
    "- de documenter le code (utile pour toute relecture)\n",
    "- de permettre une vérification *statique* (avant l'exécution) des types par des programmes externes."
   ],
   "metadata": {
    "tags": [
     "remarque"
    ]
   }
  },
  {
   "cell_type": "code",
   "execution_count": null,
   "source": [
    "# Annotation des variables\n",
    "\n",
    "x: int = 42\n"
   ],
   "outputs": [],
   "metadata": {
    "tags": [
     "exemple"
    ]
   }
  },
  {
   "cell_type": "code",
   "execution_count": null,
   "source": [
    "# Annotation des fonctions\n",
    "\n",
    "def contient_doublon(t: list) -> bool:\n",
    "    # annotation du paramètre : tableau (list)\n",
    "    #         et de la sortie : valeur booléenne (bool)\n",
    "    pass\n",
    "\n",
    "def cree () -> list :\n",
    "    # annotation de la sortie : tableau (list)\n",
    "    pass\n",
    "\n",
    "def contient(s: list, x: int) -> bool:\n",
    "    # annotation des paramètres : tableau (list)\n",
    "    #                             nb entier (int)\n",
    "    #           et de la sortie : valeur booléenne (bool)\n",
    "    pass\n",
    "\n",
    "def ajoute(s: list, x: int) -> None:\n",
    "    # annotation des paramètres      : tableau (list)\n",
    "    #                                  nb entier (int)\n",
    "    # et explicitement aucune sortie : indéfinie (None)\n",
    "    pass\n"
   ],
   "outputs": [],
   "metadata": {
    "tags": [
     "exemple"
    ]
   }
  },
  {
   "cell_type": "markdown",
   "source": [
    "4.1.3 --- Types nommés et types paramétrés"
   ],
   "metadata": {}
  },
  {
   "cell_type": "markdown",
   "source": [
    "En Python, les informations de types pour les **valeurs structurées** (n-uplets, tableaux, dictionnaires, etc.) restent **très superficielles**.\n",
    "\n",
    "Un couple d'entier (comme `(1, 2)`) et un triplet mixte (comme `(1, \"abc\", False)`) sont tous les deux le type `tuple` alors qu'ils n'ont quand même rien à voir..."
   ],
   "metadata": {
    "tags": [
     "remarque"
    ]
   }
  },
  {
   "cell_type": "markdown",
   "source": [
    "Pour préciser les types de ces valeurs structurées, il faut utiliser le module `typing`. Il définit de nouvelles versions des types de base : les types `Tuple, List, Set, Dict`.\n",
    "\n",
    "Ces nouvelles versions acceptent un ou plusieurs paramètres en fonctions du ou des types de leurs composants.\n",
    "\n",
    "|**type**|**description**|\n",
    "|-|-|\n",
    "`Tuple[int, bool]` | couple d'un entier et d'un booléen\n",
    "`List[int]` | tableau d'entiers\n",
    "`Set[str]` | ensemble de chaînes de caractères\n",
    "`Dict[str, int]` | dictionnaire dont les clés sont des chaînes de caractères et les valeurs des entiers"
   ],
   "metadata": {}
  },
  {
   "cell_type": "code",
   "execution_count": null,
   "source": [
    "from typing import List\n",
    "\n",
    "def cree () -> List[int] :\n",
    "    # annotation de la sortie : tableau d'entiers (List[int])\n",
    "    pass"
   ],
   "outputs": [],
   "metadata": {
    "tags": [
     "exemple"
    ]
   }
  },
  {
   "cell_type": "markdown",
   "source": [
    "## 4.2 --- Tester un programme"
   ],
   "metadata": {}
  },
  {
   "cell_type": "markdown",
   "source": [
    "4.2.1 --- Tester la correction d'une fonction"
   ],
   "metadata": {}
  },
  {
   "cell_type": "markdown",
   "source": [
    "Pour vérifier qu'une fonction fait bien ce qu'elle est sensée faire\n",
    "il faut effectuer des tests. "
   ],
   "metadata": {}
  },
  {
   "cell_type": "markdown",
   "source": [
    "**Implémenter** la classe `Intervalle` définissant l'intervalle `a..b` (noté aussi $[a ; b]$).\n",
    "\n",
    "2. **Ajouter** une méthode `est_vide()` vérifiant si l'intervalle est vide (un intervalle tel que $b \\leq a$ est considéré comme vide).\n",
    "3. **Vérifier** que la méthode `est_vide()` est correcte."
   ],
   "metadata": {
    "tags": [
     "exo"
    ]
   }
  },
  {
   "cell_type": "markdown",
   "source": [
    "Définissons la classe `Intervalle` qui définit un intervalle d'extrémité `self.a` et `self.b` :\n",
    "\n",
    "```python\n",
    "class Intervalle:\n",
    "    def __init__(self, debut, fin):\n",
    "        \"\"\"Intervalle d'extrémité [a ; b]\"\"\"\n",
    "        self.a = debut\n",
    "        self.b = fin\n",
    "    ...\n",
    "```\n",
    "\n",
    "et une méthode `est_vide` qui renvoie une valeur booléenne associée au prédicat *l'intervalle est vide* :\n",
    "\n",
    "```python\n",
    "    ...\n",
    "    def est_vide(self):\n",
    "        \"\"\"Est ce que l'intervalle est vide?\"\"\"\n",
    "        return self.b < self.a\n",
    "```\n",
    "\n",
    "Pour tester la fonction `est_vide` on pourra vérifier que l'exécution du programme ci-dessous affiche bien `False` puis `True`.\n",
    "\n",
    "```python\n",
    "# premier test\n",
    "mon_inter = Intervalle(5, 12)\n",
    "print( mon_inter.est_vide() )\n",
    "\n",
    "# deuxième test (écrit en une ligne)\n",
    "print( Intervalle(5,3).est_vide() )\n",
    "```\n"
   ],
   "metadata": {
    "tags": [
     "solution"
    ]
   }
  },
  {
   "cell_type": "markdown",
   "source": [
    "Le module `doctest` propose une façon pratique d'intégrer les tests et les résultats attendus **directement dans la méthode** (ou la fonction) concernée.\n",
    "Un appel à la fonction `testmod()` effectue l'ensemble des tests et vérifie si le résultats escompté est affiché. La synthèse des tests effectués est affichée dans l'interprète Python.\n",
    "\n",
    "Pour utiliser cet outil, il faut :\n",
    "\n",
    "1. importer la fonction `testmod` du module `doctest`\n",
    "2. modifier la documentation des fonctions et méthodes\n",
    "3. exécuter la fonction `testmod()`\n",
    "4. étudier l'interprète pour vérifier la bonne exécution des tests.\n"
   ],
   "metadata": {
    "tags": [
     "retenir"
    ]
   }
  },
  {
   "cell_type": "markdown",
   "source": [
    "Ainsi pour la méthode `est_vide()` de l'activité précédente, on écrira :\n",
    "\n",
    "```python\n",
    "from doctest import testmod\n",
    "\n",
    "class Intervalle\n",
    "    ...\n",
    "    def est_vide(self):\n",
    "        \"\"\"Est ce que l'intervalle est vide?\n",
    "        >>> mon_inter = Intervalle(5,12)\n",
    "        >>> mon_inter.est_vide()\n",
    "        False\n",
    "        >>> Intervalle(5, 3).est_vide()\n",
    "        True\n",
    "        \"\"\"\n",
    "        return self.b < self.a\n",
    "\n",
    "testmod()\n",
    "```\n",
    "\n",
    "On peut remarquer que :\n",
    "\n",
    "- les tests sont écrits directement dans la documentation de la fonction (docstring)\n",
    "- les instructions à interpréter sont précédées de trois chevrons `>>>`\n",
    "- les résultats attendus sont écrits directement\n",
    "- il suffit d'écrire l'instruction `testmod()` pour lancer les tests.\n",
    "\n"
   ],
   "metadata": {
    "tags": [
     "exemple"
    ]
   }
  },
  {
   "cell_type": "markdown",
   "source": [
    "4.2.2 --- Tester la correction d'un programme"
   ],
   "metadata": {}
  },
  {
   "cell_type": "markdown",
   "source": [
    "**Écrire** une fonction `tri` qui trie un tableau d'entiers, en place, par ordre croissant.\n",
    "\n",
    "On cherche maintenant à tester la fonction `tri`.\n",
    "\n",
    "2. **Proposer** une fonction `test()` qui prend en argument un tableau `t`, appelle la fonction `tri` sur ce tableau puis vérifie que le tableau `t` est bien trié.\n",
    "\n",
    "- implémenter une fonction de test naïve\n",
    "- vérifier que le tableau avant tri et après tri contient les mêmes éléments, et pour chaque élément le même nombre d'occurrence."
   ],
   "metadata": {
    "tags": [
     "exo"
    ]
   }
  },
  {
   "cell_type": "code",
   "execution_count": null,
   "source": [
    "# exemple de fonction de tri qui doit échouer :\n",
    "from typing import List\n",
    "\n",
    "def tri(t: List[int]) -> None:\n",
    "    \"\"\"Efface tout (et donc c'est trié!)\"\"\"\n",
    "    t.clear()\n",
    "\n",
    "\n",
    "def tri(t: List[int]) -> None:\n",
    "    \"\"\"Supprime les doublons mais trie\"\"\"\n",
    "    tab = []\n",
    "    for x in t:\n",
    "        if x not in tab:\n",
    "            tab.append(x)\n",
    "    tab.sort()\n",
    "    t.clear()\n",
    "    for x in tab:\n",
    "        t.append(x)\n"
   ],
   "outputs": [],
   "metadata": {}
  },
  {
   "cell_type": "markdown",
   "source": [],
   "metadata": {
    "tags": [
     "solution"
    ]
   }
  },
  {
   "cell_type": "code",
   "execution_count": null,
   "source": [
    "def occurences(t):\n",
    "    \"\"\"renvoie le dictionnaire des occurences de t\n",
    "\n",
    "    Args:\n",
    "        t (list): tableau en entrée\n",
    "    \"\"\"\n",
    "    d = {}\n",
    "    for x in t:\n",
    "        if x in d:\n",
    "            d[x] += 1\n",
    "        else:\n",
    "            d[x]  = 1\n",
    "    return d\n",
    "\n",
    "def identiques(d1, d2):\n",
    "    \"\"\"deux dictionnaires identiques\n",
    "\n",
    "    Args:\n",
    "        d1 (dict)\n",
    "        d2 (dict)\n",
    "    \"\"\"\n",
    "    for x in d1:\n",
    "        assert x in d2\n",
    "        assert d1[x] == d2[x]\n",
    "    for x in d2:\n",
    "        assert x in d1\n",
    "        assert d2[x] == d1[x]\n",
    "\n",
    "def test(t):\n",
    "    \"\"\"teste la fonction tri sur le tableau t\n",
    "\n",
    "    Args:\n",
    "        t (list): tableau à tester\n",
    "    \"\"\"\n",
    "    occ = occurences(t)\n",
    "    tri(t)\n",
    "    for i in range(0, len(t) - 1):\n",
    "        assert t[i] <= t[i+1]\n",
    "    identiques(occ, occurences(t))\n"
   ],
   "outputs": [],
   "metadata": {}
  },
  {
   "cell_type": "markdown",
   "source": [
    "Maintenant que la fonction test est correcte, on peut passer à des tests un peu plus ambitieux.\n",
    "\n",
    "1. À l'aide de la fonction `randint` de la bibliothèque `random`, crée une fonction `tableau_aleatoire(n: int, a: int, b:int) -> List[int]` qui renvoie un tableau de `n` éléments pris aléatoirement dans l'intervalle `a..b`.\n",
    "2. Utilise la fonction précédente pour effectuer 100 tests effectués sur des tableaux de différentes tailles et dont les valeurs sont prises dans des intervalles variables.\n"
   ],
   "metadata": {
    "tags": [
     "exo"
    ]
   }
  },
  {
   "cell_type": "markdown",
   "source": [],
   "metadata": {
    "tags": [
     "solution"
    ]
   }
  },
  {
   "cell_type": "code",
   "execution_count": null,
   "source": [
    "from random import randint\n",
    "from typing import List\n",
    "\n",
    "\n",
    "def tri(t):\n",
    "    \"\"\"fonction de tri correcte\"\"\"\n",
    "    t.sort()\n",
    "\n",
    "\n",
    "def tableau_aleatoire(n: int, a: int, b: int) -> List[int]:\n",
    "    return [randint(a,b) for _ in range(n)]\n",
    "\n",
    "\n",
    "for n in range(100):\n",
    "    # [0,0,...,0]\n",
    "    test(tableau_aleatoire(n,0,0))\n",
    "    # tableau avec bcp de doublons\n",
    "    test(tableau_aleatoire(n, -n//4, n//4))\n",
    "    # tableau de grande amplitude\n",
    "    test(tableau_aleatoire(n, -10*n, 10*10))"
   ],
   "outputs": [],
   "metadata": {}
  },
  {
   "cell_type": "markdown",
   "source": [
    "4.2.3 --- Tester les performances"
   ],
   "metadata": {}
  },
  {
   "cell_type": "markdown",
   "source": [
    "Après la correction, on souhaite le plus souvent vérifier les **performances** de nos programmes.\n",
    "\n",
    "La théorie permet de prédire les performances (ça s'appelle la **complexité** et nous l'étudierons dans l'année ;).\n",
    "\n"
   ],
   "metadata": {
    "tags": [
     "retenir"
    ]
   }
  },
  {
   "cell_type": "markdown",
   "source": [
    "Une façon simple et efficace est de mesurer le temps d'exécution d'un programme. Pour cela, nous allons utiliser la fonction `time()` de la bibliothèque `time` qui renvoie le nombre de secondes écoulées depuis un instant de référence (1 janvier 1970 à minuit, démarrage de l'ordinateur, etc.)."
   ],
   "metadata": {}
  },
  {
   "cell_type": "code",
   "execution_count": null,
   "source": [
    "from time import time\n",
    "\n",
    "print(time())\n",
    "print(time())"
   ],
   "outputs": [],
   "metadata": {}
  },
  {
   "cell_type": "markdown",
   "source": [
    "La valeur affichée ne nous intéresse pas, c'est la **différence** entre deux valeurs qui nous indiquera la **durée** d'exécution !"
   ],
   "metadata": {
    "tags": [
     "retenir"
    ]
   }
  },
  {
   "cell_type": "code",
   "execution_count": null,
   "source": [
    "tab = tableau_aleatoire(10_000, -1_000, 1_000)\n",
    "\n",
    "t0 = time()\n",
    "tri(tab)\n",
    "print(time() - t0)"
   ],
   "outputs": [],
   "metadata": {
    "tags": [
     "exemple"
    ]
   }
  },
  {
   "cell_type": "markdown",
   "source": [
    "Plutôt que de mesurer les performances d'un seul appel, il est préférable d'essayer de faire varier les entrées, dans le but de relier la taille de ces entrées avec la mesure du temps d'exécution. "
   ],
   "metadata": {
    "tags": [
     "retenir"
    ]
   }
  },
  {
   "cell_type": "code",
   "execution_count": null,
   "source": [
    "for k in range(10, 16):\n",
    "    n = 2 ** k\n",
    "    tab = tableau_aleatoire(n, -100, 100)\n",
    "    t = time()\n",
    "    tri (tab)\n",
    "    print(n, time() - t)"
   ],
   "outputs": [],
   "metadata": {
    "tags": [
     "exemple"
    ]
   }
  },
  {
   "cell_type": "markdown",
   "source": [
    "## 4.3 --- Invariants de structure"
   ],
   "metadata": {}
  },
  {
   "cell_type": "markdown",
   "source": [
    "Il n'est pas rare que les attributs d'une classe satisfassent des **invariants** (*propriétés qui restent vraies tout au long de l'exécution du programme*)."
   ],
   "metadata": {}
  },
  {
   "cell_type": "markdown",
   "source": [
    "Voici quelques exemples possibles d'invariants de structure :\n",
    "\n",
    "- un attribut représentant un mois de l'année a une valeur comprise entre 1 et 12 ;\n",
    "- un attribut contient un tableau d'entiers et représente le numéro de sécurité social. La taille du tableau doit être de 13 ;\n",
    "- un attribut contient une mesure d'angle qui doit être comprise entre 0 et 360° ;\n",
    "- un attribut contient un tableau qui doit être trié en permanence ;\n",
    "- deux attributs `x` et `y` représentent une position sur une grille $N \\times N$ et ils doivent donc respecter les inégalités : $0 \\leq \\texttt{x} < N$ et $0 \\leq \\texttt{y} < N$\n",
    "- etc."
   ],
   "metadata": {
    "tags": [
     "exemple"
    ]
   }
  },
  {
   "cell_type": "markdown",
   "source": [
    "**Concernant la programmation orientée objet.** Le principe d'encapsulation de la programmation objet permet d'imaginer maintenir ces invariants. Il suffit que le constructeur de la classe les garantisse puis que les méthodes qui modifient les attributs maintiennent ces invariants."
   ],
   "metadata": {
    "tags": [
     "remarque"
    ]
   }
  },
  {
   "cell_type": "markdown",
   "source": [
    "Programmation défensive pour le constructeur :\n",
    "\n",
    "```python\n",
    "class C:\n",
    "    def __init__(self, x, y):\n",
    "        if not (...invariant...):\n",
    "            raise ValueError('...explication...')\n",
    "        self.x = x\n",
    "        self.y = y\n",
    "    ...\n",
    "```\n",
    "\n",
    "Programmation défensive pour les méthodes\n",
    "\n",
    "```python\n",
    "    ...\n",
    "    def deplace(self):\n",
    "        if ...:\n",
    "            self.x += 1\n",
    "            self.y += 1\n",
    "        assert ...invariant...\n",
    "```"
   ],
   "metadata": {
    "tags": [
     "exemple"
    ]
   }
  },
  {
   "cell_type": "markdown",
   "source": [
    "Lorsque la vérification d'un invariant commence à être complexe, on peut déporter cette vérification dans une méthode spécifique.\n",
    "\n",
    "\n",
    "```python\n",
    "class C:\n",
    "    ...\n",
    "\n",
    "    def valide(self):\n",
    "        ...vérifie l'invariant...\n",
    "        ...et lève une exception si besoin...\n",
    "```\n"
   ],
   "metadata": {
    "tags": [
     "exemple"
    ]
   }
  },
  {
   "cell_type": "markdown",
   "source": [
    "Afin d'aider à la mise au point des programmes, on peut \n",
    "annoter les fonctions Python avec des **types**, qui décrivent la nature\n",
    "des arguments et des résultats. Bien qu'il ne s'agisse là que d'une forme\n",
    "de documentation supplémentaire, ignorée par l'interprète Python, des\n",
    "outils externes permettent une **vérification statique** de ces types, c'est-à-dire\n",
    "une vérification **avant** que le programme ne soit exécuté. La mise\n",
    "au point des programmes passe également par une phase de test rigoureuse,\n",
    "qui s'assure de la correction mais également des performances. Le\n",
    "test de fonctions Python peut avantageusement se contruire autour de\n",
    "l'instruction `assert`."
   ],
   "metadata": {
    "tags": [
     "retenir"
    ]
   }
  },
  {
   "cell_type": "markdown",
   "source": [
    "## 4.3 --- Exercices"
   ],
   "metadata": {}
  },
  {
   "cell_type": "markdown",
   "source": [
    "*(Capytale : ba76-90127)* Modifier l'implémentation des fonctions suivantes en proposant un type pour\n",
    "chacun de ses arguments et un type pour son résultat :\n",
    "\n",
    "Dans certains cas, il peut y avoir plusieurs solutions."
   ],
   "metadata": {
    "tags": [
     "exo"
    ]
   }
  },
  {
   "cell_type": "code",
   "execution_count": null,
   "source": [
    "def f1 (t) :\n",
    "    return t[O] + 1\n",
    "\n",
    "def f2 (x) :\n",
    "    return str(3.14 * x)\n",
    "\n",
    "def f3 (p) :\n",
    "    x, y = p\n",
    "    return 2 * x + y\n",
    "\n",
    "def f4 (s) :\n",
    "    s.add(42)\n",
    "\n",
    "def f (d, s):\n",
    "    if s != \"toto\":\n",
    "        d[s] += 1\n",
    "    return d[s]\n"
   ],
   "outputs": [],
   "metadata": {}
  },
  {
   "cell_type": "markdown",
   "source": [
    "*(Capytale : 334a-90136)* On suppose avoir écrit une fonction `mult(x, y)` qui calcule\n",
    "et renvoie le produit de deux entiers `x` et `y` reçus en arguments. L'idée est\n",
    "que cette fonction ne se contente pas d'appeler l'opération `*` mais réalise un\n",
    "autre algorithme, comme la multiplication russe, la méthode de Karatsuba, etc.\n",
    "\n",
    "1. Proposer des tests de correction pour cette fonction `mult`.\n",
    "2. Proposer ensuite des tests de performances."
   ],
   "metadata": {
    "tags": [
     "exo"
    ]
   }
  },
  {
   "cell_type": "markdown",
   "source": [
    "*(Capytale : 88da-90142)* Proposer des tests pour une fonction `miroir(ch)` qui prend\n",
    "en argument une chaîne de caractères `ch` et renvoie la chaîne contenant les\n",
    "caractères de `ch` en ordre inverse."
   ],
   "metadata": {
    "tags": [
     "exo"
    ]
   }
  },
  {
   "cell_type": "markdown",
   "source": [
    "*(Capytale : d94e-90146 )* On suppose qu'une classe contient un tableau dans un attribut `tab` et délimite une portion de ce tableau à l'aide de deux autres attributs `deb` et `fin`.\n",
    "\n",
    "La portion s'étend de l'indice `deb` inclus à l'indice `fin` exclu.\n",
    "\n",
    "**Écrire** une méthode `valide`\n",
    "\n",
    "```python\n",
    "def valide(self):\n",
    "    assert ...\n",
    "```\n",
    "\n",
    "qui vérifie que les attributs `deb` et `fin` définissent bien une portion valide\n",
    "du tableau `tab`."
   ],
   "metadata": {
    "tags": [
     "exo"
    ]
   }
  },
  {
   "cell_type": "markdown",
   "source": [
    "*(Capytale : 6f1f-90157)* On suppose avoir écrit une fonction `retire_com(nomf)`. Cette\n",
    "fonction ouvre en lecture un fichier dont le nom est donné en argument et\n",
    "qui doit obligatoirement se terminer par l'extension \".`py`\".\n",
    "\n",
    "Pour un tel fichier \"$t$`.py`\", la fonction crée un nouveau fichier \"$t$`_sanscomm.py`\" qui est une copie du fichier original dont on a retiré tous les commentaires. Si le fichier de destination existe déjà, il est écrasé. La fonction renvoie `True` en cas de succès et `False` en cas d'erreur.\n",
    "\n",
    "Lister les conditions sous lesquelles cette fonction peut renvoyer `False`."
   ],
   "metadata": {
    "tags": [
     "exo"
    ]
   }
  },
  {
   "cell_type": "markdown",
   "source": [
    "*(Capytale : 355d-90159)* On souhaite que les instances de la classe `Chrono` ébauchée ci-dessous respectent les invariants de structure suivants: \n",
    "\n",
    "- la valeur de l'attribut heures est comprise entre 0 et 23, \n",
    "- les valeurs des attributs minutes et secondes sont comprises entre 0 et 59.\n",
    "\n",
    "```python\n",
    "class Chrono:\n",
    "    \"\"\"une classe pour représenter un temps \n",
    "    mesuré en heures, minutes et secondes\"\"\"\n",
    "    def __init__(self, h, m, s):\n",
    "        self.heures   = h\n",
    "        self.minutes  = m\n",
    "        self.secondes = s\n",
    "    \n",
    "    def avance(self, s):\n",
    "        self.secondes += s\n",
    "        self.minutes  += self.secondes // 60\n",
    "        self.secondes  = self.secondes %  60\n",
    "        self.heures   += self.minutes  // 60\n",
    "        self.minutes   = self.minutes  %  60\n",
    "```\n",
    "\n",
    "1. Que manque-t-il à ce code pour que ces invariants soient bien toujours valides quoiqu'il arrive?\n",
    "2. Le corriger, en précisant au besoin la spécification de chacune des méthodes."
   ],
   "metadata": {
    "tags": [
     "exo"
    ]
   }
  }
 ],
 "metadata": {
  "celltoolbar": "Tags",
  "interpreter": {
   "hash": "916dbcbb3f70747c44a77c7bcd40155683ae19c65e1c03b4aa3499c5328201f1"
  },
  "kernelspec": {
   "display_name": "Python 3",
   "language": "python",
   "name": "python3"
  },
  "latex_metadata": {
   "theme": "langage",
   "title": "4 --- Mise au point de programmes"
  },
  "rise": {
   "theme": "serif"
  }
 },
 "nbformat": 4,
 "nbformat_minor": 5
}