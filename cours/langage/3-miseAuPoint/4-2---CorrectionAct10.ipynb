{
 "cells": [
  {
   "cell_type": "markdown",
   "metadata": {},
   "source": [
    "# Énoncé"
   ]
  },
  {
   "cell_type": "markdown",
   "metadata": {
    "tags": [
     "exo"
    ]
   },
   "source": [
    "*(Capytale : 6f1f-90157)* On suppose avoir écrit une fonction `retire_com(nomf)`. Cette\n",
    "fonction ouvre en lecture un fichier dont le nom est donné en argument et\n",
    "qui doit obligatoirement se terminer par l'extension \".`py`\".\n",
    "\n",
    "Pour un tel fichier \"$t$`.py`\", la fonction crée un nouveau fichier \"$t$`_sanscomm.py`\" qui est une copie du fichier original dont on a retiré tous les commentaires. Si le fichier de destination existe déjà, il est écrasé. La fonction renvoie `True` en cas de succès et `False` en cas d'erreur.\n",
    "\n",
    "Lister les conditions sous lesquelles cette fonction peut renvoyer `False`."
   ]
  },
  {
   "cell_type": "markdown",
   "metadata": {},
   "source": [
    "# Réponses"
   ]
  },
  {
   "cell_type": "markdown",
   "metadata": {},
   "source": [
    "*bloc de texte de réponses*"
   ]
  },
  {
   "cell_type": "code",
   "execution_count": 22,
   "metadata": {},
   "outputs": [],
   "source": [
    "# bloc de code de réponses"
   ]
  },
  {
   "cell_type": "markdown",
   "metadata": {},
   "source": [
    "# Correction"
   ]
  },
  {
   "cell_type": "markdown",
   "metadata": {},
   "source": [
    "- L'argument `nomf` ne se termine pas par `.py`\n",
    "- Le fichier `nomf` n'existe pas.\n",
    "- le fichier `nomf` existe mais l'utilisateur n'a pas les droits en lecture.\n",
    "- Le fichier `nomf` existe, mais c'est un répertoire.\n",
    "- Le fichier de sortie existe, mais l'utilisateur ne possède pas les droits en écriture sur ce fichier (il ne pourra donc pas écraser son contenu).\n",
    "- Le fichier de sortie n'existe pas et l'utilisateur n'a pas les droits en écriture sur le répertoire de destination (il ne peut donc pas créer de fichier).\n",
    "- Le fichier de destination existe et est un répertoire (l'utilisateur ne pourra pas l'écraser).\n",
    "- (Rare) Le fichier source est un lien symbolique dont la cible n'existe pas.\n",
    "- (Rare) Le nom du fichier d'entrée ou de sortie est trop long.\n",
    "- (Très Rare) Il ne reste plus assez d'espace disque pour stocker le fichier de sortie."
   ]
  },
  {
   "cell_type": "markdown",
   "metadata": {},
   "source": [
    "De façon générale, à part pour la première condition que l'on peut tester \n",
    "facilement avec `nomf.endswith(\".py\")`, on ne va pas tester individuellement\n",
    "toutes les conditions d'erreurs sur les fichiers. Il est plus judicieux d'encadrer\n",
    "les fonctions systèmes par un bloc `try except` et de rattraper les grandes\n",
    "classes d'exceptions: toutes les erreurs sauf la première et la dernière lèveront\n",
    "l'exception `OSError` avec un message approprié. La dernière sera une\n",
    "exception `IOError`."
   ]
  }
 ],
 "metadata": {
  "celltoolbar": "Tags",
  "interpreter": {
   "hash": "916dbcbb3f70747c44a77c7bcd40155683ae19c65e1c03b4aa3499c5328201f1"
  },
  "kernelspec": {
   "display_name": "Python 3.9.2 64-bit",
   "name": "python3"
  },
  "language_info": {
   "codemirror_mode": {
    "name": "ipython",
    "version": 3
   },
   "file_extension": ".py",
   "mimetype": "text/x-python",
   "name": "python",
   "nbconvert_exporter": "python",
   "pygments_lexer": "ipython3",
   "version": "3.9.2"
  },
  "latex_metadata": {
   "theme": "langage",
   "title": "4 --- Mise au point de programmes"
  },
  "rise": {
   "theme": "serif"
  }
 },
 "nbformat": 4,
 "nbformat_minor": 5
}
