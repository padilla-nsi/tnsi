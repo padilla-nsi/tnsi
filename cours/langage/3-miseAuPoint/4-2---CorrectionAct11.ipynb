{
 "cells": [
  {
   "cell_type": "markdown",
   "metadata": {},
   "source": [
    "# Énoncé"
   ]
  },
  {
   "cell_type": "markdown",
   "metadata": {
    "tags": [
     "exo"
    ]
   },
   "source": [
    "*(Capytale : **355d-90159**)*\n",
    "\n",
    "On souhaite que les instances de la classe `Chrono` ébauchée ci-dessous respectent les invariants de structure suivants: \n",
    "\n",
    "- la valeur de l'attribut heures est comprise entre 0 et 23, \n",
    "- les valeurs des attributs minutes et secondes sont comprises entre 0 et 59.\n",
    "\n",
    "```python\n",
    "class Chrono:\n",
    "    def __init__(self, h, m, s):\n",
    "        self.heures   = h\n",
    "        self.minutes  = m\n",
    "        self.secondes = s\n",
    "\n",
    "    def avance(self, s):\n",
    "        self.secondes += s\n",
    "        self.minutes  += self.secondes // 60\n",
    "        self.secondes  = self.secondes %  60\n",
    "        self.heures   += self.minutes  // 60\n",
    "        self.minutes   = self.minutes  %  60\n",
    "```\n",
    "\n",
    "1. Que manque-t-il à ce code pour que ces invariants soient bien toujours valides quoiqu'il arrive?\n",
    "2. Le corriger, en précisant au besoin la spécification de chacune des méthodes."
   ]
  },
  {
   "cell_type": "markdown",
   "metadata": {},
   "source": [
    "# Réponses"
   ]
  },
  {
   "cell_type": "markdown",
   "metadata": {},
   "source": [
    "*bloc de texte de réponses*"
   ]
  },
  {
   "cell_type": "code",
   "execution_count": 22,
   "metadata": {},
   "outputs": [],
   "source": [
    "# bloc de code de réponses"
   ]
  },
  {
   "cell_type": "markdown",
   "metadata": {},
   "source": [
    "# Correction"
   ]
  },
  {
   "cell_type": "markdown",
   "metadata": {},
   "source": [
    "Le code de la méthode `avance` ne gère pas le dépassement des heures."
   ]
  },
  {
   "cell_type": "code",
   "execution_count": 2,
   "metadata": {},
   "outputs": [],
   "source": [
    "class Chrono:\n",
    "    def __init__(self, h, m, s):\n",
    "        self.heures   = h\n",
    "        self.minutes  = m\n",
    "        self.secondes = s\n",
    "\n",
    "    def avance(self, s):\n",
    "        self.secondes += s\n",
    "        self.minutes  += self.secondes // 60\n",
    "        self.secondes  = self.secondes %  60\n",
    "        self.heures   += self.minutes  // 60\n",
    "        self.minutes   = self.minutes  %  60\n",
    "        self.heures    = self.heures   %  24    # ajout"
   ]
  },
  {
   "cell_type": "markdown",
   "metadata": {},
   "source": [
    "Le constructeur `__init__` ne fait aucune vérification. On corrige cela :"
   ]
  },
  {
   "cell_type": "code",
   "execution_count": 19,
   "metadata": {},
   "outputs": [],
   "source": [
    "class Chrono:\n",
    "    def __init__(self, h: int, m: int, s: int):\n",
    "        if   h < 0 or h > 23 \\\n",
    "          or m < 0 or m > 59 \\\n",
    "          or s < 0 or s > 59:                   # ajout\n",
    "            raise ValueError('heure invalide')  # ajout\n",
    "        self.heures   = h\n",
    "        self.minutes  = m\n",
    "        self.secondes = s\n",
    "\n",
    "    def avance(self, s):\n",
    "        self.secondes += s\n",
    "        self.minutes  += self.secondes // 60\n",
    "        self.secondes  = self.secondes %  60\n",
    "        self.heures   += self.minutes  // 60\n",
    "        self.minutes   = self.minutes  %  60\n",
    "        self.heures    = self.heures   %  24"
   ]
  }
 ],
 "metadata": {
  "celltoolbar": "Tags",
  "interpreter": {
   "hash": "916dbcbb3f70747c44a77c7bcd40155683ae19c65e1c03b4aa3499c5328201f1"
  },
  "kernelspec": {
   "display_name": "Python 3.9.2 64-bit",
   "name": "python3"
  },
  "language_info": {
   "codemirror_mode": {
    "name": "ipython",
    "version": 3
   },
   "file_extension": ".py",
   "mimetype": "text/x-python",
   "name": "python",
   "nbconvert_exporter": "python",
   "pygments_lexer": "ipython3",
   "version": "3.9.2"
  },
  "latex_metadata": {
   "theme": "langage",
   "title": "4 --- Mise au point de programmes"
  },
  "rise": {
   "theme": "serif"
  }
 },
 "nbformat": 4,
 "nbformat_minor": 5
}
