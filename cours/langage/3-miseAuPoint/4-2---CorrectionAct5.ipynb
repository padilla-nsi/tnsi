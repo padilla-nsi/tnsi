{
 "cells": [
  {
   "cell_type": "markdown",
   "metadata": {},
   "source": [
    "# Énoncé"
   ]
  },
  {
   "cell_type": "markdown",
   "metadata": {
    "tags": [
     "exo"
    ]
   },
   "source": [
    "*(Capytale : ba76-90127)* Modifier l'implémentation des fonctions suivantes en proposant un type pour\n",
    "chacun de ses arguments et un type pour son résultat :\n",
    "\n",
    "Dans certains cas, il peut y avoir plusieurs solutions."
   ]
  },
  {
   "cell_type": "code",
   "execution_count": null,
   "metadata": {},
   "outputs": [],
   "source": [
    "def f1 (t) :\n",
    "    return t[O] + 1\n",
    "\n",
    "def f2 (x) :\n",
    "    return str(3.14 * x)\n",
    "\n",
    "def f3 (p) :\n",
    "    x, y = p\n",
    "    return 2 * x + y\n",
    "\n",
    "def f4 (s) :\n",
    "    s.add(42)\n",
    "\n",
    "def f (d, s):\n",
    "    if s != \"toto\":\n",
    "        d[s] += 1\n",
    "    return d[s]\n"
   ]
  },
  {
   "cell_type": "markdown",
   "metadata": {},
   "source": [
    "# Correction"
   ]
  },
  {
   "cell_type": "code",
   "execution_count": 3,
   "metadata": {},
   "outputs": [],
   "source": [
    "from typing import List, Tuple, Set, Dict\n",
    "\n",
    "def f1 (t: List[int]) -> int :\n",
    "    return t[O] + 1\n",
    "\n",
    "def f2 (x) -> str :\n",
    "    return str(3.14 * x)\n",
    "\n",
    "def f3 (p: Tuple[int]) -> int :\n",
    "    x, y = p\n",
    "    return 2 * x + y\n",
    "\n",
    "def f4 (s: Set[int]) -> None :\n",
    "    s.add(42)\n",
    "\n",
    "def f (d: Dict[str, int], s: str) -> int:\n",
    "    if s != \"toto\":\n",
    "        d[s] += 1\n",
    "    return d[s]\n"
   ]
  }
 ],
 "metadata": {
  "celltoolbar": "Tags",
  "interpreter": {
   "hash": "916dbcbb3f70747c44a77c7bcd40155683ae19c65e1c03b4aa3499c5328201f1"
  },
  "kernelspec": {
   "display_name": "Python 3.9.2 64-bit",
   "name": "python3"
  },
  "language_info": {
   "codemirror_mode": {
    "name": "ipython",
    "version": 3
   },
   "file_extension": ".py",
   "mimetype": "text/x-python",
   "name": "python",
   "nbconvert_exporter": "python",
   "pygments_lexer": "ipython3",
   "version": "3.9.2"
  },
  "latex_metadata": {
   "theme": "langage",
   "title": "4 --- Mise au point de programmes"
  },
  "rise": {
   "theme": "serif"
  }
 },
 "nbformat": 4,
 "nbformat_minor": 5
}
