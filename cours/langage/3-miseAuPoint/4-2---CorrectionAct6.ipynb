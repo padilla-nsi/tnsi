{
 "cells": [
  {
   "cell_type": "markdown",
   "metadata": {},
   "source": [
    "# Énoncé"
   ]
  },
  {
   "cell_type": "markdown",
   "metadata": {},
   "source": [
    "Exécute le bloc de code ci-dessous pour charger le module `travail`."
   ]
  },
  {
   "cell_type": "code",
   "execution_count": 1,
   "metadata": {},
   "outputs": [],
   "source": [
    "from travail import tri0, tri1, tri2, tri3, tri4, tri5, tri6, tri7, tri8"
   ]
  },
  {
   "cell_type": "markdown",
   "metadata": {},
   "source": [
    " Tu viens d'importer dans le notebook 9 fonctions de tris : \n",
    " \n",
    " - `tri0()`, \n",
    " - `tri1()`,\n",
    " - ...\n",
    " - `tri8()`.\n",
    " \n"
   ]
  },
  {
   "cell_type": "markdown",
   "metadata": {},
   "source": [
    "En t'aidant du `Chapitre 4 - Mise au point de programme`, **implémente** une fonction `test(tab: list)` permettant de vérifier la **correction** de chacune des fonctions importée."
   ]
  },
  {
   "cell_type": "code",
   "execution_count": 2,
   "metadata": {},
   "outputs": [
    {
     "data": {
      "text/plain": [
       "Ellipsis"
      ]
     },
     "execution_count": 2,
     "metadata": {},
     "output_type": "execute_result"
    }
   ],
   "source": [
    "..."
   ]
  },
  {
   "cell_type": "markdown",
   "metadata": {},
   "source": [
    "## (Question Bonus)\n",
    "\n",
    "**Classe** les fonctions de tris correctes en fonction de leur performance."
   ]
  },
  {
   "cell_type": "markdown",
   "metadata": {},
   "source": [
    "# Correction"
   ]
  },
  {
   "cell_type": "markdown",
   "metadata": {},
   "source": [
    "## Fonctions de test et premier essai"
   ]
  },
  {
   "cell_type": "markdown",
   "metadata": {},
   "source": [
    "Comme dans le cours, on implémente la fonction de test correcte qui vérifie que **tous les** éléments du tableaux sont encore présents après le tri."
   ]
  },
  {
   "cell_type": "code",
   "execution_count": 3,
   "metadata": {},
   "outputs": [],
   "source": [
    "def _occurences(tab: list) -> dict:\n",
    "    \"\"\"\n",
    "    copie les éléments de tab dans un dictionnaire tel que :\n",
    "      key   : éléments distincts de tab\n",
    "      value : nombre d'occurence de la clé dans tab\n",
    "\n",
    "    exemple :\n",
    "    >>> _occurence([1,1,1,2,3,4,4])\n",
    "    {1: 3, 2: 1, 3: 1, 4: 2}\n",
    "    >>> _occurence([])\n",
    "    {}\n",
    "    \"\"\"\n",
    "    dic = {}\n",
    "    for elem in tab:\n",
    "        if elem not in dic:\n",
    "            dic[elem]  = 1\n",
    "        else:\n",
    "            dic[elem] += 1\n",
    "    return dic\n",
    "\n",
    "\n",
    "def _identiques(d1: dict, d2: dict):\n",
    "    \"\"\"deux dictionnaires identiques\n",
    "\n",
    "    Args:\n",
    "        d1 (dict)\n",
    "        d2 (dict)\n",
    "    \"\"\"\n",
    "    for x in d1:\n",
    "        assert x in d2\n",
    "        assert d1[x] == d2[x]\n",
    "    for x in d2:\n",
    "        assert x in d1\n",
    "        assert d2[x] == d1[x]\n",
    "\n",
    "\n",
    "def test(t: list):\n",
    "    \"\"\"teste la fonction tri sur le tableau t\n",
    "\n",
    "    Args:\n",
    "        t (list): tableau à tester\n",
    "    \"\"\"\n",
    "    occ = _occurences(t)\n",
    "    tri(t)\n",
    "    for i in range(0, len(t) - 1):\n",
    "        assert t[i] <= t[i+1]\n",
    "    _identiques(occ, _occurences(t))\n",
    "\n"
   ]
  },
  {
   "cell_type": "markdown",
   "metadata": {},
   "source": [
    "On peut tester sur un tableau la fonction `tri0`. Pour cela, on fait pointer la variable `tri` utilisée par la fonction `test()` vers la fonction de tri que l'on souhaite tester.\n",
    "\n",
    "Ici on aura : $\\overset{\\texttt{tri}}{\\fbox{\\texttt{tri0}}}$."
   ]
  },
  {
   "cell_type": "code",
   "execution_count": 4,
   "metadata": {},
   "outputs": [
    {
     "ename": "AssertionError",
     "evalue": "",
     "output_type": "error",
     "traceback": [
      "\u001b[0;31m---------------------------------------------------------------------------\u001b[0m",
      "\u001b[0;31mAssertionError\u001b[0m                            Traceback (most recent call last)",
      "\u001b[0;32m/tmp/ipykernel_30148/2921101931.py\u001b[0m in \u001b[0;36m<module>\u001b[0;34m\u001b[0m\n\u001b[1;32m      3\u001b[0m \u001b[0;34m\u001b[0m\u001b[0m\n\u001b[1;32m      4\u001b[0m \u001b[0mtab\u001b[0m \u001b[0;34m=\u001b[0m \u001b[0;34m[\u001b[0m\u001b[0;36m2\u001b[0m\u001b[0;34m,\u001b[0m \u001b[0;36m10\u001b[0m\u001b[0;34m,\u001b[0m \u001b[0;36m4\u001b[0m\u001b[0;34m,\u001b[0m \u001b[0;36m8\u001b[0m\u001b[0;34m,\u001b[0m \u001b[0;36m6\u001b[0m\u001b[0;34m,\u001b[0m \u001b[0;36m6\u001b[0m\u001b[0;34m]\u001b[0m\u001b[0;34m\u001b[0m\u001b[0;34m\u001b[0m\u001b[0m\n\u001b[0;32m----> 5\u001b[0;31m \u001b[0mtest\u001b[0m\u001b[0;34m(\u001b[0m\u001b[0mtab\u001b[0m\u001b[0;34m)\u001b[0m\u001b[0;34m\u001b[0m\u001b[0;34m\u001b[0m\u001b[0m\n\u001b[0m",
      "\u001b[0;32m/tmp/ipykernel_30148/1571782600.py\u001b[0m in \u001b[0;36mtest\u001b[0;34m(t)\u001b[0m\n\u001b[1;32m     45\u001b[0m     \u001b[0;32mfor\u001b[0m \u001b[0mi\u001b[0m \u001b[0;32min\u001b[0m \u001b[0mrange\u001b[0m\u001b[0;34m(\u001b[0m\u001b[0;36m0\u001b[0m\u001b[0;34m,\u001b[0m \u001b[0mlen\u001b[0m\u001b[0;34m(\u001b[0m\u001b[0mt\u001b[0m\u001b[0;34m)\u001b[0m \u001b[0;34m-\u001b[0m \u001b[0;36m1\u001b[0m\u001b[0;34m)\u001b[0m\u001b[0;34m:\u001b[0m\u001b[0;34m\u001b[0m\u001b[0;34m\u001b[0m\u001b[0m\n\u001b[1;32m     46\u001b[0m         \u001b[0;32massert\u001b[0m \u001b[0mt\u001b[0m\u001b[0;34m[\u001b[0m\u001b[0mi\u001b[0m\u001b[0;34m]\u001b[0m \u001b[0;34m<=\u001b[0m \u001b[0mt\u001b[0m\u001b[0;34m[\u001b[0m\u001b[0mi\u001b[0m\u001b[0;34m+\u001b[0m\u001b[0;36m1\u001b[0m\u001b[0;34m]\u001b[0m\u001b[0;34m\u001b[0m\u001b[0;34m\u001b[0m\u001b[0m\n\u001b[0;32m---> 47\u001b[0;31m     \u001b[0m_identiques\u001b[0m\u001b[0;34m(\u001b[0m\u001b[0mocc\u001b[0m\u001b[0;34m,\u001b[0m \u001b[0m_occurences\u001b[0m\u001b[0;34m(\u001b[0m\u001b[0mt\u001b[0m\u001b[0;34m)\u001b[0m\u001b[0;34m)\u001b[0m\u001b[0;34m\u001b[0m\u001b[0;34m\u001b[0m\u001b[0m\n\u001b[0m\u001b[1;32m     48\u001b[0m \u001b[0;34m\u001b[0m\u001b[0m\n",
      "\u001b[0;32m/tmp/ipykernel_30148/1571782600.py\u001b[0m in \u001b[0;36m_identiques\u001b[0;34m(d1, d2)\u001b[0m\n\u001b[1;32m     28\u001b[0m     \"\"\"\n\u001b[1;32m     29\u001b[0m     \u001b[0;32mfor\u001b[0m \u001b[0mx\u001b[0m \u001b[0;32min\u001b[0m \u001b[0md1\u001b[0m\u001b[0;34m:\u001b[0m\u001b[0;34m\u001b[0m\u001b[0;34m\u001b[0m\u001b[0m\n\u001b[0;32m---> 30\u001b[0;31m         \u001b[0;32massert\u001b[0m \u001b[0mx\u001b[0m \u001b[0;32min\u001b[0m \u001b[0md2\u001b[0m\u001b[0;34m\u001b[0m\u001b[0;34m\u001b[0m\u001b[0m\n\u001b[0m\u001b[1;32m     31\u001b[0m         \u001b[0;32massert\u001b[0m \u001b[0md1\u001b[0m\u001b[0;34m[\u001b[0m\u001b[0mx\u001b[0m\u001b[0;34m]\u001b[0m \u001b[0;34m==\u001b[0m \u001b[0md2\u001b[0m\u001b[0;34m[\u001b[0m\u001b[0mx\u001b[0m\u001b[0;34m]\u001b[0m\u001b[0;34m\u001b[0m\u001b[0;34m\u001b[0m\u001b[0m\n\u001b[1;32m     32\u001b[0m     \u001b[0;32mfor\u001b[0m \u001b[0mx\u001b[0m \u001b[0;32min\u001b[0m \u001b[0md2\u001b[0m\u001b[0;34m:\u001b[0m\u001b[0;34m\u001b[0m\u001b[0;34m\u001b[0m\u001b[0m\n",
      "\u001b[0;31mAssertionError\u001b[0m: "
     ]
    }
   ],
   "source": [
    "# AssertionError -> mauvaise fonction\n",
    "tri = tri0\n",
    "\n",
    "tab = [2, 10, 4, 8, 6, 6]\n",
    "test(tab)"
   ]
  },
  {
   "cell_type": "markdown",
   "metadata": {},
   "source": [
    "Comme on peut le constater, il y a une `AssertionError`. La fonction `tri0` est donc incorrecte."
   ]
  },
  {
   "cell_type": "markdown",
   "metadata": {},
   "source": [
    "## Test sur tableau aléatoire"
   ]
  },
  {
   "cell_type": "markdown",
   "metadata": {},
   "source": [
    "Nous allons maintenant utiliser la fonction `test()` sur un tableau de taille `n` composé d'entiers pris aléatoirement dans un intervalle."
   ]
  },
  {
   "cell_type": "code",
   "execution_count": 6,
   "metadata": {},
   "outputs": [
    {
     "name": "stdout",
     "output_type": "stream",
     "text": [
      "large : [68, -63, 72, 54, -14, -23, 59, -99, 47, 44]\n",
      "étroit: [-1, -2, 1, -1, -1, -2, 2, 0, -2, -1]\n"
     ]
    }
   ],
   "source": [
    "from random import randint\n",
    "\n",
    "def tableau_aleatoire(n: int, a: int, b: int) -> list:\n",
    "    return [randint(a,b) for _ in range(n)]\n",
    "\n",
    "\n",
    "tableau_large = tableau_aleatoire(10,-100, 100)\n",
    "print(\"large :\", tableau_large)\n",
    "\n",
    "tableau_etroit= tableau_aleatoire(10, -2, 2)\n",
    "print(\"étroit:\", tableau_etroit)\n",
    "\n"
   ]
  },
  {
   "cell_type": "markdown",
   "metadata": {},
   "source": [
    "Nous choisissons de tester la fonction `tri1` avec les deux tableaux générés aléatoirement."
   ]
  },
  {
   "cell_type": "code",
   "execution_count": 7,
   "metadata": {},
   "outputs": [],
   "source": [
    "tri = tri1\n",
    "\n",
    "test(tableau_large)\n",
    "test(tableau_etroit)"
   ]
  },
  {
   "cell_type": "markdown",
   "metadata": {},
   "source": [
    "Pas d'`AssertionError`, le test semble fonctionner."
   ]
  },
  {
   "cell_type": "markdown",
   "metadata": {},
   "source": [
    "## Tests aléatoires massifs"
   ]
  },
  {
   "cell_type": "markdown",
   "metadata": {},
   "source": [
    "Pour finir, effectuons maintenant 100 tests sur des tableaux aléatoires :\n",
    "\n",
    "- remplis de zéro\n",
    "- remplis de doublons (tableaux étroits)\n",
    "- avec aucun/peu de doublons (tableaux larges)"
   ]
  },
  {
   "cell_type": "code",
   "execution_count": 35,
   "metadata": {},
   "outputs": [],
   "source": [
    "tri = tri8\n",
    "\n",
    "for n in range(100):\n",
    "    # [0,0,...,0]\n",
    "    test(tableau_aleatoire(n,0,0))\n",
    "    # tableau avec bcp de doublons\n",
    "    test(tableau_aleatoire(n, -n//4, n//4))\n",
    "    # tableau de grande amplitude\n",
    "    test(tableau_aleatoire(n, -10*n, 10*10))"
   ]
  },
  {
   "cell_type": "markdown",
   "metadata": {},
   "source": [
    "Au final nous avons :\n",
    "\n",
    "|fonction|correcte|\n",
    "|-|-|\n",
    "`tri0`|non \n",
    "`tri1`|oui\n",
    "`tri2`|oui\n",
    "`tri3`|non\n",
    "`tri4`|non\n",
    "`tri5`|oui\n",
    "`tri6`|non\n",
    "`tri7`|oui\n",
    "`tri8`|non"
   ]
  }
 ],
 "metadata": {
  "celltoolbar": "Tags",
  "interpreter": {
   "hash": "916dbcbb3f70747c44a77c7bcd40155683ae19c65e1c03b4aa3499c5328201f1"
  },
  "kernelspec": {
   "display_name": "Python 3.9.2 64-bit",
   "name": "python3"
  },
  "language_info": {
   "codemirror_mode": {
    "name": "ipython",
    "version": 3
   },
   "file_extension": ".py",
   "mimetype": "text/x-python",
   "name": "python",
   "nbconvert_exporter": "python",
   "pygments_lexer": "ipython3",
   "version": "3.9.2"
  },
  "latex_metadata": {
   "theme": "langage",
   "title": "4 --- Mise au point de programmes"
  },
  "rise": {
   "theme": "serif"
  }
 },
 "nbformat": 4,
 "nbformat_minor": 5
}
