{
 "cells": [
  {
   "cell_type": "markdown",
   "metadata": {},
   "source": [
    "# Énoncé"
   ]
  },
  {
   "cell_type": "markdown",
   "metadata": {
    "tags": [
     "exo"
    ]
   },
   "source": [
    "*(Capytale : 334a-90136)* Vous avez à votre disposition la variable `mults` qui pointe vers le tableau de fonctions `[mult0, mult1, ...]`. Chacune de ces fonctions est une  implémentation de la multiplication qui prend en argument deux entiers `x` et `y` et renvoie leurs produit.\n",
    "\n",
    "**Exécute** le bloc de code ci-dessous qui :\n",
    "\n",
    "- importe le tableau `mults`,\n",
    "- affecte à la variable `mult` la première fonction `mult0` du tableau,\n",
    "- affiche le résultat du calcul de $3 \\times 5$ par cette fonction."
   ]
  },
  {
   "cell_type": "code",
   "execution_count": 4,
   "metadata": {},
   "outputs": [
    {
     "name": "stdout",
     "output_type": "stream",
     "text": [
      "15\n"
     ]
    }
   ],
   "source": [
    "from travail import mults\n",
    "mult = mults[0]\n",
    "print( mult(3,5) )"
   ]
  },
  {
   "cell_type": "markdown",
   "metadata": {},
   "source": [
    "0. **D'après toi**, la fonction `mults[0]` semble-t-elle correcte? Avant de répondre, essaye avec un nombre négatif... ;)\n",
    "1. **Propose** une fonction `test(mult: function, x: int, y: int)` qui vérifie la correction de la fonction `mult` avec les arguments `x` et `y`. Par exemple, pour tester le produit 3×5 avec la 3ème fonction du tableau `mutls` on écrira l'instruction `test(mults[2], 3, 5)`.\n",
    "2. *(bonus)* Propose une fonction `tests_aleatoire(mult: function)` qui effectue 100 tests sur des nombres aléatoires de `-100..100`\n",
    "3. **Propose** ensuite des tests de performances."
   ]
  },
  {
   "cell_type": "markdown",
   "metadata": {},
   "source": [
    "# Réponses"
   ]
  },
  {
   "cell_type": "markdown",
   "metadata": {},
   "source": [
    "*bloc de texte de réponses*"
   ]
  },
  {
   "cell_type": "code",
   "execution_count": 22,
   "metadata": {},
   "outputs": [],
   "source": [
    "# bloc de code de réponses"
   ]
  },
  {
   "cell_type": "markdown",
   "metadata": {},
   "source": [
    "# Correction"
   ]
  },
  {
   "cell_type": "markdown",
   "metadata": {},
   "source": [
    "La fonction mults[0] est **incorrecte** : elle effectue la multiplication mais fait des erreurs de signes avec les nombres négatifs."
   ]
  },
  {
   "cell_type": "code",
   "execution_count": 16,
   "metadata": {},
   "outputs": [],
   "source": [
    "def test(mult, x, y):\n",
    "    assert mult(x, y) == x * y\n",
    "    assert mult(y, x) == x * y\n",
    "    assert mult(0, x) == 0\n",
    "    assert mult(x, 0) == 0\n",
    "    assert mult(1, x) == x\n",
    "    assert mult(x, 1) == x\n"
   ]
  },
  {
   "cell_type": "code",
   "execution_count": 79,
   "metadata": {},
   "outputs": [
    {
     "data": {
      "text/plain": [
       "15"
      ]
     },
     "execution_count": 79,
     "metadata": {},
     "output_type": "execute_result"
    }
   ],
   "source": [
    "# test correct\n",
    "test(mults[0], 3, 5)"
   ]
  },
  {
   "cell_type": "code",
   "execution_count": 77,
   "metadata": {},
   "outputs": [
    {
     "ename": "AssertionError",
     "evalue": "",
     "output_type": "error",
     "traceback": [
      "\u001b[0;31m---------------------------------------------------------------------------\u001b[0m",
      "\u001b[0;31mAssertionError\u001b[0m                            Traceback (most recent call last)",
      "\u001b[0;32m/tmp/ipykernel_18332/1462622503.py\u001b[0m in \u001b[0;36m<module>\u001b[0;34m\u001b[0m\n\u001b[1;32m      1\u001b[0m \u001b[0;31m# test incorrect\u001b[0m\u001b[0;34m\u001b[0m\u001b[0;34m\u001b[0m\u001b[0;34m\u001b[0m\u001b[0m\n\u001b[0;32m----> 2\u001b[0;31m \u001b[0mtest\u001b[0m\u001b[0;34m(\u001b[0m\u001b[0mmults\u001b[0m\u001b[0;34m[\u001b[0m\u001b[0;36m0\u001b[0m\u001b[0;34m]\u001b[0m\u001b[0;34m,\u001b[0m \u001b[0;34m-\u001b[0m\u001b[0;36m3\u001b[0m\u001b[0;34m,\u001b[0m \u001b[0;36m5\u001b[0m\u001b[0;34m)\u001b[0m\u001b[0;34m\u001b[0m\u001b[0;34m\u001b[0m\u001b[0m\n\u001b[0m\u001b[1;32m      3\u001b[0m \u001b[0mmults\u001b[0m\u001b[0;34m[\u001b[0m\u001b[0;36m2\u001b[0m\u001b[0;34m]\u001b[0m\u001b[0;34m(\u001b[0m\u001b[0;36m3\u001b[0m\u001b[0;34m,\u001b[0m\u001b[0;36m5\u001b[0m\u001b[0;34m)\u001b[0m\u001b[0;34m\u001b[0m\u001b[0;34m\u001b[0m\u001b[0m\n",
      "\u001b[0;32m/tmp/ipykernel_18332/1213608755.py\u001b[0m in \u001b[0;36mtest\u001b[0;34m(mult, x, y)\u001b[0m\n\u001b[1;32m      1\u001b[0m \u001b[0;32mdef\u001b[0m \u001b[0mtest\u001b[0m\u001b[0;34m(\u001b[0m\u001b[0mmult\u001b[0m\u001b[0;34m,\u001b[0m \u001b[0mx\u001b[0m\u001b[0;34m,\u001b[0m \u001b[0my\u001b[0m\u001b[0;34m)\u001b[0m\u001b[0;34m:\u001b[0m\u001b[0;34m\u001b[0m\u001b[0;34m\u001b[0m\u001b[0m\n\u001b[0;32m----> 2\u001b[0;31m     \u001b[0;32massert\u001b[0m \u001b[0mmult\u001b[0m\u001b[0;34m(\u001b[0m\u001b[0mx\u001b[0m\u001b[0;34m,\u001b[0m \u001b[0my\u001b[0m\u001b[0;34m)\u001b[0m \u001b[0;34m==\u001b[0m \u001b[0mx\u001b[0m \u001b[0;34m*\u001b[0m \u001b[0my\u001b[0m\u001b[0;34m\u001b[0m\u001b[0;34m\u001b[0m\u001b[0m\n\u001b[0m\u001b[1;32m      3\u001b[0m     \u001b[0;32massert\u001b[0m \u001b[0mmult\u001b[0m\u001b[0;34m(\u001b[0m\u001b[0my\u001b[0m\u001b[0;34m,\u001b[0m \u001b[0mx\u001b[0m\u001b[0;34m)\u001b[0m \u001b[0;34m==\u001b[0m \u001b[0mx\u001b[0m \u001b[0;34m*\u001b[0m \u001b[0my\u001b[0m\u001b[0;34m\u001b[0m\u001b[0;34m\u001b[0m\u001b[0m\n\u001b[1;32m      4\u001b[0m     \u001b[0;32massert\u001b[0m \u001b[0mmult\u001b[0m\u001b[0;34m(\u001b[0m\u001b[0;36m0\u001b[0m\u001b[0;34m,\u001b[0m \u001b[0mx\u001b[0m\u001b[0;34m)\u001b[0m \u001b[0;34m==\u001b[0m \u001b[0;36m0\u001b[0m\u001b[0;34m\u001b[0m\u001b[0;34m\u001b[0m\u001b[0m\n\u001b[1;32m      5\u001b[0m     \u001b[0;32massert\u001b[0m \u001b[0mmult\u001b[0m\u001b[0;34m(\u001b[0m\u001b[0mx\u001b[0m\u001b[0;34m,\u001b[0m \u001b[0;36m0\u001b[0m\u001b[0;34m)\u001b[0m \u001b[0;34m==\u001b[0m \u001b[0;36m0\u001b[0m\u001b[0;34m\u001b[0m\u001b[0;34m\u001b[0m\u001b[0m\n",
      "\u001b[0;31mAssertionError\u001b[0m: "
     ]
    }
   ],
   "source": [
    "# test incorrect\n",
    "test(mults[0], -3, 5)"
   ]
  },
  {
   "cell_type": "code",
   "execution_count": 33,
   "metadata": {},
   "outputs": [],
   "source": [
    "from random import randint\n",
    "def tests_aleatoires(mult):\n",
    "    for _ in range(1_000):\n",
    "        x = randint(-100, 100)\n",
    "        y = randint(-100, 100)\n",
    "        test(mult, x, y)\n",
    "\n",
    "tests_aleatoires(mults[2])"
   ]
  },
  {
   "cell_type": "markdown",
   "metadata": {},
   "source": [
    "On propose dans la suite une fonction qui teste les performances (complexité temporelle) en fonction de `n` le nombre de chiffres de `x` et de `y`.\n",
    "\n",
    "On prend par exemple des valeurs de `n` qui doublent à chaque étape. Pour construire des nombres aléatoires de `n` chiffres on tire au hasard entre $10^{n-1}$ et $10^n -1$."
   ]
  },
  {
   "cell_type": "code",
   "execution_count": 74,
   "metadata": {},
   "outputs": [
    {
     "name": "stdout",
     "output_type": "stream",
     "text": [
      "2 5.4836273193359375e-06\n",
      "4 6.67572021484375e-06\n",
      "8 1.1682510375976562e-05\n",
      "16 2.1696090698242188e-05\n",
      "32 3.790855407714844e-05\n",
      "64 6.866455078125e-05\n",
      "128 0.00010442733764648438\n",
      "256 0.0002503395080566406\n",
      "512 0.0006775856018066406\n",
      "1024 0.002157449722290039\n",
      "2048 0.010970115661621094\n",
      "4096 0.03624606132507324\n",
      "8192 0.11714816093444824\n",
      "16384 0.39868927001953125\n",
      "32768 1.6218297481536865\n"
     ]
    }
   ],
   "source": [
    "# affichage simple des valeurs \n",
    "# quand n est ×2, la durée est ×4\n",
    "\n",
    "from time import time\n",
    "from random import randint\n",
    "\n",
    "for k in range(1,16):\n",
    "    n = 2 ** k\n",
    "    min = 10**(n-1)\n",
    "    max = 10**n     - 1\n",
    "    x = randint(min, max)\n",
    "    y = randint(min, max)\n",
    "    t = time()\n",
    "    z = mults[4](x, y)\n",
    "    duree = time() - t\n",
    "    print(n, duree)"
   ]
  },
  {
   "cell_type": "code",
   "execution_count": 76,
   "metadata": {},
   "outputs": [
    {
     "data": {
      "image/png": "[encoded data removed]",
      "text/plain": [
       "<Figure size 432x288 with 1 Axes>"
      ]
     },
     "metadata": {
      "needs_background": "light"
     },
     "output_type": "display_data"
    }
   ],
   "source": [
    "# Affichage du nuage de points\n",
    "\n",
    "import matplotlib.pyplot as plt \n",
    "\n",
    "X = []\n",
    "Y = []\n",
    "\n",
    "for k in range(10,16):\n",
    "    n = 2 ** k\n",
    "    min = 10**(n-1)\n",
    "    max = 10**n     - 1\n",
    "    x = randint(min, max)\n",
    "    y = randint(min, max)\n",
    "    t = time()\n",
    "    z = mults[4](x, y)\n",
    "    duree = time() - t\n",
    "    X.append(n)\n",
    "    Y.append(duree)\n",
    "\n",
    "plt.plot(X,Y)\n",
    "plt.scatter(X, Y)\n",
    "\n",
    "plt.show()"
   ]
  }
 ],
 "metadata": {
  "celltoolbar": "Tags",
  "interpreter": {
   "hash": "916dbcbb3f70747c44a77c7bcd40155683ae19c65e1c03b4aa3499c5328201f1"
  },
  "kernelspec": {
   "display_name": "Python 3.9.2 64-bit",
   "name": "python3"
  },
  "language_info": {
   "codemirror_mode": {
    "name": "ipython",
    "version": 3
   },
   "file_extension": ".py",
   "mimetype": "text/x-python",
   "name": "python",
   "nbconvert_exporter": "python",
   "pygments_lexer": "ipython3",
   "version": "3.9.2"
  },
  "latex_metadata": {
   "theme": "langage",
   "title": "4 --- Mise au point de programmes"
  },
  "rise": {
   "theme": "serif"
  }
 },
 "nbformat": 4,
 "nbformat_minor": 5
}
