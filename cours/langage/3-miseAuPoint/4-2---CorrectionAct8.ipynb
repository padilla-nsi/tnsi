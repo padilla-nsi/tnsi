{
 "cells": [
  {
   "cell_type": "markdown",
   "metadata": {},
   "source": [
    "# Énoncé"
   ]
  },
  {
   "cell_type": "markdown",
   "metadata": {
    "tags": [
     "exo"
    ]
   },
   "source": [
    "*(Capytale : 88da-90142)* Proposer des tests pour une fonction `miroir(ch)` qui prend\n",
    "en argument une chaîne de caractères `ch` et renvoie la chaîne contenant les\n",
    "caractères de `ch` en ordre inverse.\n",
    "\n",
    "*(dans ce notebook, vous avez à votre disposition 5 fonctions `miroir` différentes...plus ou moins correctes)*"
   ]
  },
  {
   "cell_type": "code",
   "execution_count": 44,
   "metadata": {},
   "outputs": [
    {
     "data": {
      "text/plain": [
       "'ISN'"
      ]
     },
     "execution_count": 44,
     "metadata": {},
     "output_type": "execute_result"
    }
   ],
   "source": [
    "def miroir0(ch):\n",
    "    ch2 = \"\"\n",
    "    for c in ch:\n",
    "        ch2 = c + ch2\n",
    "    return ch2\n",
    "\n",
    "\n",
    "def miroir1(ch):\n",
    "    ch2 = \"\"\n",
    "    for c in ch:\n",
    "        ch2 = ch2 + c\n",
    "    return ch2\n",
    "\n",
    "\n",
    "def miroir2(ch):\n",
    "    ch2 = \"\"\n",
    "    for i in range(len(ch)-1,-1,-1):\n",
    "        ch2 += ch[i]\n",
    "    return ch2\n",
    "\n",
    "\n",
    "def miroir3(ch):\n",
    "    ch2 = set()\n",
    "    for c in ch:\n",
    "        ch2.add(c)\n",
    "    ch3 = \"\"\n",
    "    for c in ch2:\n",
    "        ch3 += c\n",
    "    return ch3\n",
    "\n",
    "\n",
    "def miroir4(ch):\n",
    "    tab = []\n",
    "    for c in ch:\n",
    "        tab.append(c)\n",
    "    ch2 = \"\"\n",
    "    for _ in range(len(tab)):\n",
    "        ch2 += tab.pop()\n",
    "    return ch2\n",
    "\n",
    "\n",
    "miroirs = [miroir0, miroir1, miroir2, miroir3, miroir4]\n",
    "miroir = miroirs[0] # sélection de la première fonction\n",
    "miroir('NSI')\n"
   ]
  },
  {
   "cell_type": "markdown",
   "metadata": {},
   "source": [
    "# Réponses"
   ]
  },
  {
   "cell_type": "markdown",
   "metadata": {},
   "source": [
    "*bloc de texte de réponses*"
   ]
  },
  {
   "cell_type": "code",
   "execution_count": 22,
   "metadata": {},
   "outputs": [],
   "source": [
    "# bloc de code de réponses"
   ]
  },
  {
   "cell_type": "markdown",
   "metadata": {},
   "source": [
    "# Correction"
   ]
  },
  {
   "cell_type": "markdown",
   "metadata": {},
   "source": [
    "On va vérifier que la longueur de la chaîne est la même et que les caractères sont inversés :"
   ]
  },
  {
   "cell_type": "code",
   "execution_count": 65,
   "metadata": {},
   "outputs": [],
   "source": [
    "def test(ch):\n",
    "    n = len(ch)\n",
    "    ch2 = miroir0(ch)\n",
    "    assert len(ch2) == n\n",
    "    for i in range(n):\n",
    "        assert ch2[i] == ch[n - 1 - i]"
   ]
  },
  {
   "cell_type": "code",
   "execution_count": 67,
   "metadata": {},
   "outputs": [],
   "source": [
    "# variante plus simple/courte en utilisant les slices ch[::-1]\n",
    "def test_variante(ch):\n",
    "    assert miroir2(ch) == ch[::-1]"
   ]
  },
  {
   "cell_type": "markdown",
   "metadata": {},
   "source": [
    "Créons maintenant une fonction qui construit une chaine aléatoire de longueur `n`"
   ]
  },
  {
   "cell_type": "code",
   "execution_count": 68,
   "metadata": {},
   "outputs": [],
   "source": [
    "from random import randint\n",
    "\n",
    "def chaine_aleatoire(n):\n",
    "    txt = ''\n",
    "    for _ in range(n):\n",
    "        txt += chr(randint(65,90))\n",
    "    return txt\n",
    "\n",
    "def chaine_aleatoire_optim(n):\n",
    "    \"\"\"variante en une ligne\"\"\"\n",
    "    return ''.join([ chr( randint(65,90) ) for _ in range(n) ])"
   ]
  },
  {
   "cell_type": "markdown",
   "metadata": {},
   "source": [
    "puis un jeu de 100 tests aléatoires :"
   ]
  },
  {
   "cell_type": "code",
   "execution_count": 69,
   "metadata": {},
   "outputs": [],
   "source": [
    "for n in range(100):\n",
    "    test( chaine_aleatoire(n) )"
   ]
  }
 ],
 "metadata": {
  "celltoolbar": "Tags",
  "interpreter": {
   "hash": "916dbcbb3f70747c44a77c7bcd40155683ae19c65e1c03b4aa3499c5328201f1"
  },
  "kernelspec": {
   "display_name": "Python 3.9.2 64-bit",
   "name": "python3"
  },
  "language_info": {
   "codemirror_mode": {
    "name": "ipython",
    "version": 3
   },
   "file_extension": ".py",
   "mimetype": "text/x-python",
   "name": "python",
   "nbconvert_exporter": "python",
   "pygments_lexer": "ipython3",
   "version": "3.9.2"
  },
  "latex_metadata": {
   "theme": "langage",
   "title": "4 --- Mise au point de programmes"
  },
  "rise": {
   "theme": "serif"
  }
 },
 "nbformat": 4,
 "nbformat_minor": 5
}
