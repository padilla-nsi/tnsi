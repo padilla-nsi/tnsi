{
 "cells": [
  {
   "cell_type": "markdown",
   "metadata": {},
   "source": [
    "# Énoncé"
   ]
  },
  {
   "cell_type": "markdown",
   "metadata": {
    "tags": [
     "exo"
    ]
   },
   "source": [
    "*(Capytale : d94e-90146 )* On suppose qu'une classe contient un tableau dans un attribut `tab` et délimite une portion de ce tableau à l'aide de deux autres attributs `deb` et `fin`.\n",
    "\n",
    "La portion s'étend de l'indice `deb` inclus à l'indice `fin` exclu.\n",
    "\n",
    "**Écrire** une méthode `valide`\n",
    "\n",
    "```python\n",
    "def valide(self):\n",
    "    assert ...\n",
    "```\n",
    "\n",
    "qui vérifie que les attributs `deb` et `fin` définissent bien une portion valide\n",
    "du tableau `tab`."
   ]
  },
  {
   "cell_type": "markdown",
   "metadata": {},
   "source": [
    "# Réponses"
   ]
  },
  {
   "cell_type": "markdown",
   "metadata": {},
   "source": [
    "*bloc de texte de réponses*"
   ]
  },
  {
   "cell_type": "code",
   "execution_count": 22,
   "metadata": {},
   "outputs": [],
   "source": [
    "# bloc de code de réponses"
   ]
  },
  {
   "cell_type": "markdown",
   "metadata": {},
   "source": [
    "# Correction"
   ]
  },
  {
   "cell_type": "code",
   "execution_count": 1,
   "metadata": {},
   "outputs": [],
   "source": [
    "class tableau:\n",
    "    ...\n",
    "\n",
    "    def valide(self):\n",
    "        assert 0 <= self.debut\n",
    "        assert self.debut < self.fin \n",
    "        assert self.fin <= len(self.tab)\n",
    "\n",
    "    def valide_optim(self):\n",
    "        assert 0 <= self.debut <  self.fin <= len(self.tab)"
   ]
  }
 ],
 "metadata": {
  "celltoolbar": "Tags",
  "interpreter": {
   "hash": "916dbcbb3f70747c44a77c7bcd40155683ae19c65e1c03b4aa3499c5328201f1"
  },
  "kernelspec": {
   "display_name": "Python 3.9.2 64-bit",
   "name": "python3"
  },
  "language_info": {
   "codemirror_mode": {
    "name": "ipython",
    "version": 3
   },
   "file_extension": ".py",
   "mimetype": "text/x-python",
   "name": "python",
   "nbconvert_exporter": "python",
   "pygments_lexer": "ipython3",
   "version": "3.9.2"
  },
  "latex_metadata": {
   "theme": "langage",
   "title": "4 --- Mise au point de programmes"
  },
  "rise": {
   "theme": "serif"
  }
 },
 "nbformat": 4,
 "nbformat_minor": 5
}
