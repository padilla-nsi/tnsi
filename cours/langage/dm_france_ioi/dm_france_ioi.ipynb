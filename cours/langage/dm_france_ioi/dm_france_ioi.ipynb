{
 "cells": [
  {
   "cell_type": "markdown",
   "source": [
    "# France IOI"
   ],
   "metadata": {}
  },
  {
   "cell_type": "markdown",
   "source": [
    "Objectifs à atteindre sur France IOI pour le **8 novembre 2022** (rentrée des vacances de la Toussaint). Attention, cela demande un très gros travail (entre 15 et 20h !) et donc de l'**organisation**."
   ],
   "metadata": {}
  },
  {
   "cell_type": "markdown",
   "source": [
    "**Niveau 1 (33 problèmes)**\n",
    "\n",
    "- [http://pa.dilla.fr/K](http://pa.dilla.fr/K)\n",
    ": lecture de l'entrée (10 problèmes)\n",
    "- [http://pa.dilla.fr/L](http://pa.dilla.fr/L)\n",
    ": structures imbriquées (8 problèmes)\n",
    "- [http://pa.dilla.fr/M](http://pa.dilla.fr/M)\n",
    ": conditions avancées (10 problèmes)\n",
    "- [http://pa.dilla.fr/N](http://pa.dilla.fr/N)\n",
    ": répétitions conditionnées (5 problèmes)\n",
    " \n",
    "**Niveau 2 (44 problèmes)**\n",
    "\n",
    "- [http://pa.dilla.fr/O](http://pa.dilla.fr/O)\n",
    ": Nombres à virgules et autres outils\n",
    "  (11 problèmes)\n",
    "- [http://pa.dilla.fr/P](http://pa.dilla.fr/P)\n",
    ": Découverte des tableaux\n",
    " (10 problèmes)\n",
    "- [http://pa.dilla.fr/Q](http://pa.dilla.fr/Q)\n",
    ": Chaînes de caractères\n",
    " (14 problèmes)\n",
    "- [http://pa.dilla.fr/R](http://pa.dilla.fr/R)\n",
    ": Fonctions\n",
    " (9 problèmes)\n",
    "\n",
    "**Niveau 3 (5 problèmes)**\n",
    "\n",
    "- [http://pa.dilla.fr/S](http://pa.dilla.fr/S)\n",
    ": déblocage niveau 3\n",
    " (5 problèmes)"
   ],
   "metadata": {
    "tags": [
     "exo"
    ]
   }
  }
 ],
 "metadata": {
  "celltoolbar": "Tags",
  "interpreter": {
   "hash": "916dbcbb3f70747c44a77c7bcd40155683ae19c65e1c03b4aa3499c5328201f1"
  },
  "kernelspec": {
   "name": "python3",
   "display_name": "Python 3.9.2 64-bit"
  },
  "language_info": {
   "codemirror_mode": {
    "name": "ipython",
    "version": 3
   },
   "file_extension": ".py",
   "mimetype": "text/x-python",
   "name": "python",
   "nbconvert_exporter": "python",
   "pygments_lexer": "ipython3",
   "version": "3.9.2"
  },
  "latex_metadata": {
   "theme": "langage",
   "title": "DM TNSI --- France IOI"
  }
 },
 "nbformat": 4,
 "nbformat_minor": 2
}