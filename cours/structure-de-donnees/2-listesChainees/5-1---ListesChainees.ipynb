{
 "cells": [
  {
   "cell_type": "markdown",
   "id": "7401d01d",
   "metadata": {
    "slideshow": {
     "slide_type": "slide"
    }
   },
   "source": [
    "# Chap. 5 --- Listes chaînées\n"
   ]
  },
  {
   "cell_type": "markdown",
   "id": "eeae0e14",
   "metadata": {
    "slideshow": {
     "slide_type": "slide"
    }
   },
   "source": [
    "## 1 --- Introduction"
   ]
  },
  {
   "cell_type": "markdown",
   "id": "48c00b33",
   "metadata": {},
   "source": [
    "## 1.1 --- Méthodes de base sur les tableaux\n"
   ]
  },
  {
   "cell_type": "markdown",
   "id": "6192d519",
   "metadata": {},
   "source": [
    "Les tableaux en Python possèdent 2 méthodes essentielles extrêmement efficaces : `pop` et `append`.\n"
   ]
  },
  {
   "cell_type": "markdown",
   "id": "4f3c43bd",
   "metadata": {},
   "source": [
    "### `append()`"
   ]
  },
  {
   "cell_type": "markdown",
   "id": "c15bbd42",
   "metadata": {
    "tags": [
     "retenir"
    ]
   },
   "source": [
    "La méthode `append` ajoute un élément à la fin d'un tableau"
   ]
  },
  {
   "cell_type": "code",
   "execution_count": 1,
   "id": "3f3ea4f2",
   "metadata": {},
   "outputs": [],
   "source": [
    "nb_premiers = ['un', 'trois', 'cinq', 'sept', 'onze']\n",
    "\n",
    "# ajoute le nombre 13 dans le tableau\n",
    "nb_premiers.append('treize')"
   ]
  },
  {
   "cell_type": "markdown",
   "id": "75736166",
   "metadata": {},
   "source": [
    "Rien ne s'affiche ? C'est normal car `append` est une **méthode** qui agit sur l'objet `nb_premiers`. L'objet a été modifié mais *on ne le voit pas*.\n"
   ]
  },
  {
   "cell_type": "code",
   "execution_count": 2,
   "id": "6778bd8c",
   "metadata": {},
   "outputs": [
    {
     "name": "stdout",
     "output_type": "stream",
     "text": [
      "['un', 'trois', 'cinq', 'sept', 'onze', 'treize']\n"
     ]
    }
   ],
   "source": [
    "# Affiche le contenu de la variable\n",
    "# nb_premiers\n",
    "\n",
    "print(nb_premiers)"
   ]
  },
  {
   "cell_type": "markdown",
   "id": "305a41ce",
   "metadata": {},
   "source": [
    "Comme tu peux le voir, le tableau a bien été modifié !\n"
   ]
  },
  {
   "cell_type": "markdown",
   "id": "6ad17bf3",
   "metadata": {
    "tags": [
     "exo"
    ]
   },
   "source": [
    "\n",
    "**Dans le bloc suivant, implémenter la fonction `pair(n: int) -> list` qui renvoie un tableau contenant les `n` premiers nombres pairs en commençant par 0**\n",
    "\n",
    "*Exemple 1 : `print(pair(5))` devrait afficher `[0, 2, 4, 6, 8]`.*\n",
    "\n",
    "*Exemple 2 : `tab_pairs = pair(10)` ne devrait rien afficher mais seulement affecter à `tab_pairs` le tableau des 10 premiers nombres premiers.*"
   ]
  },
  {
   "cell_type": "code",
   "execution_count": 3,
   "id": "e4d6386e",
   "metadata": {
    "tags": [
     "solution"
    ]
   },
   "outputs": [
    {
     "name": "stdout",
     "output_type": "stream",
     "text": [
      "[0, 2, 4, 6, 8]\n"
     ]
    }
   ],
   "source": [
    "def pair(n):\n",
    "    tab = []\n",
    "    for i in range(n):\n",
    "        tab.append(i * 2)\n",
    "    return tab\n",
    "\n",
    "\n",
    "print(pair(5))"
   ]
  },
  {
   "cell_type": "markdown",
   "id": "7c2e16cf",
   "metadata": {},
   "source": [
    "### `pop()`"
   ]
  },
  {
   "cell_type": "markdown",
   "id": "60901497",
   "metadata": {
    "tags": [
     "retenir"
    ]
   },
   "source": [
    "La méthode `pop` fait deux choses :\n",
    "\n",
    "- supprimer le dernier élément du tableau\n",
    "- renvoyer l'élément supprimé"
   ]
  },
  {
   "cell_type": "code",
   "execution_count": 4,
   "id": "06cf9ab9",
   "metadata": {},
   "outputs": [
    {
     "data": {
      "text/plain": [
       "'sept'"
      ]
     },
     "execution_count": 4,
     "metadata": {},
     "output_type": "execute_result"
    }
   ],
   "source": [
    "nb_premiers.pop()\n",
    "nb_premiers.pop()\n",
    "nb_premiers.pop()"
   ]
  },
  {
   "cell_type": "markdown",
   "id": "4805fa42",
   "metadata": {},
   "source": [
    "Normalement, le bloc précédent affiche `'sept'`.\n",
    "\n",
    "En effet, \n",
    "\n",
    "- le premier appel à la méthode `pop` supprime le dernier élément (`treize`) et le renvoie. Il n'y a pas d'affectation donc cette information se perd.\n",
    "- le deuxième appel à la méthode `pop` supprime le dernier élément (`onze`) et le renvoie. Il n'y a pas d'affectation donc cette information se perd.\n",
    "- le troisième appel à la méthode `pop` supprime le dernier élément (`sept`) et le renvoie. Il n'y a pas d'affectation donc cette information se perd. **Mais** comme on travaille dans un notebook, la dernière ligne de code est affichée si elle renvoie quelque chose (ce qui est le cas ici).\n",
    "\n"
   ]
  },
  {
   "cell_type": "markdown",
   "id": "386a0294",
   "metadata": {},
   "source": [
    "Si on en a besoin, on peut affecter le dernier élément supprimé à une variable pour le réutiliser plus tard."
   ]
  },
  {
   "cell_type": "code",
   "execution_count": 5,
   "id": "61187834",
   "metadata": {},
   "outputs": [
    {
     "name": "stdout",
     "output_type": "stream",
     "text": [
      "cinqcinqcinqcinqcinq\n"
     ]
    }
   ],
   "source": [
    "dernier = nb_premiers.pop()\n",
    "\n",
    "texte = dernier * 5\n",
    "\n",
    "print(texte)"
   ]
  },
  {
   "cell_type": "markdown",
   "id": "29cc1271",
   "metadata": {
    "tags": [
     "exo"
    ]
   },
   "source": [
    "**Implémenter la fonction `vide(tab: list) -> None` qui vide un tableau élémént par élément en commençant par la fin et en affichant à chaque fois l'élément supprimé.**\n",
    "\n",
    "*Exemple 1 : `vide([2, 4, 6])` doit afficher `6`, puis `4` puis `2`.*\n",
    "\n",
    "*Exemple 2 : le code suivant*\n",
    "```python\n",
    "annee = [1998, 2003, 2004, 2008, 2021]\n",
    "vide(annee)\n",
    "print(annee)\n",
    "```\n",
    "*doit afficher `2021`, puis `2008`, puis `2004`, puis `2003` puis `1998` puis `[]`. Le dernier affichage s'explique car le tableau `annee` est vide à la fin.*"
   ]
  },
  {
   "cell_type": "code",
   "execution_count": 6,
   "id": "36bf24be",
   "metadata": {
    "tags": [
     "solution"
    ]
   },
   "outputs": [],
   "source": [
    "def vide(tab):\n",
    "    n = len(tab)\n",
    "    for i in range(n):\n",
    "        print(tab.pop())\n",
    "\n"
   ]
  },
  {
   "cell_type": "code",
   "execution_count": 7,
   "id": "b4b2f681",
   "metadata": {
    "tags": [
     "exemple"
    ]
   },
   "outputs": [
    {
     "name": "stdout",
     "output_type": "stream",
     "text": [
      "2021\n",
      "2008\n",
      "2004\n",
      "2003\n",
      "1998\n",
      "[]\n"
     ]
    }
   ],
   "source": [
    "annee = [1998, 2003, 2004, 2008, 2021]\n",
    "vide(annee)\n",
    "print(annee)"
   ]
  },
  {
   "cell_type": "markdown",
   "id": "325488cb",
   "metadata": {},
   "source": [
    "## 1.2 --- Ajouter un élément au début d'un tableau\n"
   ]
  },
  {
   "cell_type": "markdown",
   "id": "5003f76c",
   "metadata": {},
   "source": [
    "Les tableaux de Python permettent par exemple d'insérer\n",
    "ou de supprimer efficacement des éléments à la fin d'un tableau, avec les opérations `append` et `pop`, mais se prêtent mal à l'insertion ou la suppression d'un élément à une autre position. \n",
    "\n",
    "En effet, les éléments d'un tableau étant contigus et ordonnés en mémoire, insérer un élément dans une séquence\n",
    "demande de déplacer tous les éléments qui le suivent pour lui laisser une place.\n",
    "\n",
    "Si par exemple on veut insérer une valeur v à la pemière position d'un tableau \n",
    "\n",
    "|1|1|2|3|5|8|13|\n",
    "|-|-|-|-|-|-|-|\n",
    "\n",
    "il faut d'une façon ou d'une autre construire le nouveau tableau\n",
    "\n",
    "\n",
    "|v|1|1|2|3|5|8|13|\n",
    "|-|-|-|-|-|-|-|-|\n"
   ]
  },
  {
   "cell_type": "markdown",
   "id": "e3d24ba5",
   "metadata": {
    "tags": [
     "remarque"
    ]
   },
   "source": [
    "Cette opération est cependant très coûteuse, car elle déplace tous les éléments du tableau d'une case vers la droite après avoir agrandi le tableau.\n",
    "\n",
    "**En effet**, avec une telle opération :\n",
    "\n",
    "1. On commence donc par agrandir le tableau, en ajoutant un nouvel élément à la fin avec `append`.\n",
    "\n",
    "|1|1|2|3|5|8|13|`None`|\n",
    "|-|-|-|-|-|-|-|-|\n",
    "\n",
    "2. Puis on décale tous les éléments d'une case vers la droite, en prenant soin de commencer par le dernier et de terminer par le premier.\n",
    "\n",
    "|1|1|1|2|3|5|8|13|\n",
    "|-|-|-|-|-|-|-|-|\n",
    "\n",
    "3. Enfin, on écrit la valeur v dans la première case du tableau.\n",
    "\n",
    "|v|1|1|2|3|5|8|13|\n",
    "|-|-|-|-|-|-|-|-|"
   ]
  },
  {
   "cell_type": "markdown",
   "id": "ee2cef98",
   "metadata": {
    "tags": [
     "exo"
    ]
   },
   "source": [
    "**Utiliser la description de l'algorithme en 3 étapes ci-dessus pour implémenter la fonction `entete(tab: list, val: int) -> None` qui insère en début de tableau le nombre entier `val`.**\n",
    "\n",
    "Exemples et tests :\n",
    "\n",
    "        >>> tab_impairs = [3, 5, 7, 9]\n",
    "        >>> entete(tab_impairs, 1)\n",
    "        >>> \n",
    "        [1, 3, 5, 7, 9]\n",
    "        "
   ]
  },
  {
   "cell_type": "code",
   "execution_count": 8,
   "id": "f8d9e27b",
   "metadata": {
    "tags": [
     "solution"
    ]
   },
   "outputs": [],
   "source": [
    "def entete(tab, val):\n",
    "    \"\"\"\n",
    "    Procédure qui modifie tab \n",
    "    en ajoutant val en tête du tableau.\n",
    "    \"\"\"\n",
    "    # étape 1\n",
    "    tab.append(None)\n",
    "\n",
    "    # étape 2\n",
    "    n = len(tab)\n",
    "    for i in range(n-1, 0, -1):\n",
    "        # parcours de n-1 (inclus) à 0 (exclus) \n",
    "        # en soustrayant 1 à chaque tour de boucle\n",
    "        temp = tab[i-1]\n",
    "        tab[i-1] = tab[i]\n",
    "        tab[i] = temp\n",
    "\n",
    "    # étape 3    \n",
    "    tab[0] = val\n"
   ]
  },
  {
   "cell_type": "code",
   "execution_count": 9,
   "id": "25929b3b",
   "metadata": {
    "tags": [
     "exemple"
    ]
   },
   "outputs": [
    {
     "name": "stdout",
     "output_type": "stream",
     "text": [
      "[1, 3, 5, 7, 9]\n"
     ]
    }
   ],
   "source": [
    "tab_impairs = [3, 5, 7, 9]\n",
    "entete(tab_impairs, 1)\n",
    "print(tab_impairs)"
   ]
  },
  {
   "cell_type": "markdown",
   "id": "70c9fe4a",
   "metadata": {
    "tags": [
     "retenir"
    ]
   },
   "source": [
    "En Python, la méthode `insert(index:int, val)` est équivalente à `entete` si on définit `index` à `0`.\n",
    "\n",
    "Ainsi, `tab.insert(0, 42)` est équivalent à `entete(tab, 42)`."
   ]
  },
  {
   "cell_type": "markdown",
   "id": "bff9faad",
   "metadata": {
    "tags": [
     "remarque"
    ]
   },
   "source": [
    "Mais comme on l'a dit plus haut, que l'on utilise `entete` ou `insert` on a réalisé au total un nombre d'opérations proportionnel à la taille du tableau. Si par exemple le tableau contient un million d'éléments, on fera un million d'opérations pour ajouter un premier élément. En outre, supprimer le premier élément serait tout aussi coûteux, pour les mêmes raisons."
   ]
  },
  {
   "cell_type": "markdown",
   "id": "bff9faad",
   "metadata": {},
   "source": [
    "\n",
    "Dans ce chapitre nous étudions une structure de données, la **liste chaînée**,\n",
    "qui d'une part apporte une meilleure solution au problème de l'insertion et\n",
    "de la suppression au début d'une séquence d'éléments, et d'autre part servira\n",
    "de brique de base à plusieurs autres structures dans les prochains chapitres."
   ]
  },
  {
   "cell_type": "markdown",
   "id": "d2e90f3a",
   "metadata": {
    "tags": [
     "exo"
    ]
   },
   "source": [
    "**Implémenter à l'aide de la méthode `pop` une fonction `supprime(tab: list)` qui supprime le premier élément du tableau `tab`.**\n",
    "\n",
    "*Exemple : Le code suivant*\n",
    "```python\n",
    "tab_impairs = [3, 5, 7, 9]\n",
    "supprime(tab_impairs)\n",
    "print(tab_impairs)\n",
    "```\n",
    "*doit afficher `[5, 7, 9]`*"
   ]
  },
  {
   "cell_type": "code",
   "execution_count": 26,
   "id": "83c48ac4",
   "metadata": {
    "tags": [
     "solution"
    ]
   },
   "outputs": [],
   "source": [
    "def supprime(tab):\n",
    "    \"\"\"\n",
    "    Procédure qui supprime le premier élément d'un tableau\n",
    "    en utilisant la méthode pop\n",
    "\n",
    "    Args:\n",
    "        tab (list): tableau à modifier\n",
    "    \"\"\"\n",
    "    n = len(tab)\n",
    "    for i in range(n-1):\n",
    "        # parcours le tableau de façon ascendante\n",
    "        # en s'arrêtant une cellule avant la fin\n",
    "        temp = tab[i+1]\n",
    "        tab[i+1] = tab[i]\n",
    "        tab[i] = temp\n",
    "\n",
    "    # modification du tableau\n",
    "    tab.pop()\n",
    "\n"
   ]
  },
  {
   "cell_type": "code",
   "execution_count": 27,
   "id": "199b655a",
   "metadata": {
    "tags": [
     "exemple"
    ]
   },
   "outputs": [
    {
     "name": "stdout",
     "output_type": "stream",
     "text": [
      "[5, 7, 9]\n"
     ]
    }
   ],
   "source": [
    "tab_impairs = [3, 5, 7, 9]\n",
    "supprime(tab_impairs)\n",
    "print(tab_impairs)"
   ]
  }
 ],
 "metadata": {
  "celltoolbar": "Tags",
  "interpreter": {
   "hash": "916dbcbb3f70747c44a77c7bcd40155683ae19c65e1c03b4aa3499c5328201f1"
  },
  "kernelspec": {
   "display_name": "Python 3.9.2 64-bit",
   "name": "python3"
  },
  "language_info": {
   "codemirror_mode": {
    "name": "ipython",
    "version": 3
   },
   "file_extension": ".py",
   "mimetype": "text/x-python",
   "name": "python",
   "nbconvert_exporter": "python",
   "pygments_lexer": "ipython3",
   "version": "3.9.2"
  },
  "latex_metadata": {
   "theme": "structure",
   "title": "5 --- Listes chaînées"
  },
  "rise": {
   "theme": "serif"
  }
 },
 "nbformat": 4,
 "nbformat_minor": 5
}
