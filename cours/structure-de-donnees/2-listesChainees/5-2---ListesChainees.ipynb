{
 "cells": [
  {
   "cell_type": "markdown",
   "metadata": {
    "slideshow": {
     "slide_type": "slide"
    }
   },
   "source": [
    "## 2 --- Structure de liste chaînée\n"
   ]
  },
  {
   "cell_type": "markdown",
   "metadata": {},
   "source": [
    "Une **liste chaînée** permet avant tout de réprésenter une liste dont les éléments sont chaînés entres eux, permettant ainsi le passage d'un élément à l'élément suivant."
   ]
  },
  {
   "cell_type": "markdown",
   "metadata": {},
   "source": [
    "Ainsi, chaque élément est stocké dans un bloc mémoire que l'on pourra appeler **maillon**. Ce maillon possède deux informations : la valeur stockée et l'adresse mémoire du maillon suivant.\n",
    "\n",
    "Par exemple on a illustré une liste contenant trois éléments, respectivement 1, 2 et 3.\n",
    "\n",
    "![exemple de liste](maillon2.png)\n",
    "\n",
    "Chaque élément de la liste est matérialisé par un emplacement en mémoire contenant d'une part sa valeur (dans la case de gauche) et d'autre part l'adresse mémoire de la valeur suivante (dans la case de droite).\n",
    "\n",
    "Dans le cas du dernier élément, qui ne possède pas de valeur suivante, on utilise une valeur spéciale désignée ici par le symbole $\\bot$ et marquant la fin de la liste"
   ]
  },
  {
   "cell_type": "markdown",
   "metadata": {},
   "source": [
    "Une façon traditionnelle de représenter une liste chaînée en Python consiste à utiliser une classe décrivant les maillons de la liste, de sorte que **chaque élément de la liste est matérialisé par un objet de cette classe**. \n",
    "\n",
    "**Implémenter la classe `Maillon` possédant deux attributs : `valeur` pour la valeur de l'élément (l'entier, dans notre exemple) ; et `suivant` pour le maillon suivant de la liste.**\n",
    "\n",
    "*Exemple 1 : pour affecter à `m2` le maillon contenant la valeur `3` et n'ayant aucun maillon suivant on écrira l'instruction `m2 = Maillon(3, None)`.*\n",
    "\n",
    "*Exemple 2 : Pour construire une liste, on applique le constructeur autant de fois qu'il y a d'éléments dans la liste. Ainsi pour construire la liste 1, 2, 3 du schéma que l'on stocke dans la variable `lst` on écrira : `lst = Maillon(1, Maillon(2, Maillon(3, None)))`.*"
   ]
  },
  {
   "cell_type": "code",
   "execution_count": null,
   "metadata": {},
   "outputs": [],
   "source": [
    "class Maillon:\n",
    "    ...\n",
    "\n",
    "\n",
    "lst = Maillon(1, Maillon(2, Maillon(3, None)))"
   ]
  },
  {
   "cell_type": "markdown",
   "metadata": {},
   "source": [
    "![exemple de liste avec la classe Maillon](maillon.png)"
   ]
  },
  {
   "cell_type": "markdown",
   "metadata": {},
   "source": [
    "La valeur contenue dans la variable lst est l'adresse mémoire de l'objet contenant la valeur 1,"
   ]
  },
  {
   "cell_type": "markdown",
   "metadata": {},
   "source": [
    "### Définition récursive d'une liste chaînée\n",
    "\n",
    "Comme on le voit, une liste est soit la valeur `None`, soit un objet de la classe `Maillon` dont l'attribut `suivant` contient une liste. C'est là une **définition récursive** de la notion de liste."
   ]
  },
  {
   "cell_type": "markdown",
   "metadata": {},
   "source": [
    "### Représentation alternatives\n",
    "\n",
    "On peut représenter une liste chaînée par autre chose qu'un classe :\n",
    "\n",
    "- avec des couples : `lst = (1, (2, (3, None)))`\n",
    "- avec des tableaux à deux éléments : `lst = [1, [2, [3, None]]]`\n",
    "- avec des champs nommés (dictionnaires)\n",
    "\n"
   ]
  },
  {
   "cell_type": "markdown",
   "metadata": {},
   "source": [
    "### Variantes des listes chaînées\n",
    "\n",
    "Il existe de nombreuses variantes des listes chaînées :\n",
    "\n",
    "- listes cycliques (le dernier élément est lié au premier)\n",
    "- listes doublement chaînées où chaque élément est lié à l'élément suivant **et** à l'élément précédent dans la liste\n",
    "- listes cycliques doublement chaînées\n",
    "- etc."
   ]
  }
 ],
 "metadata": {
  "celltoolbar": "Tags",
  "interpreter": {
   "hash": "916dbcbb3f70747c44a77c7bcd40155683ae19c65e1c03b4aa3499c5328201f1"
  },
  "kernelspec": {
   "display_name": "Python 3.9.2 64-bit",
   "name": "python3"
  },
  "language_info": {
   "codemirror_mode": {
    "name": "ipython",
    "version": 3
   },
   "file_extension": ".py",
   "mimetype": "text/x-python",
   "name": "python",
   "nbconvert_exporter": "python",
   "pygments_lexer": "ipython3",
   "version": "3.9.2"
  },
  "latex_metadata": {
   "theme": "structure",
   "title": "3 --- P.O.O."
  },
  "rise": {
   "theme": "serif"
  }
 },
 "nbformat": 4,
 "nbformat_minor": 5
}
