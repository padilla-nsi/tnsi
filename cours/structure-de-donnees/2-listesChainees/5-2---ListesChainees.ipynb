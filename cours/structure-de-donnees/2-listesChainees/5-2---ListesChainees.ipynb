{
 "cells": [
  {
   "cell_type": "markdown",
   "id": "52b20290",
   "metadata": {
    "slideshow": {
     "slide_type": "slide"
    }
   },
   "source": [
    "## 2 --- Structure de liste chaînée\n"
   ]
  },
  {
   "cell_type": "markdown",
   "id": "e109a314",
   "metadata": {},
   "source": [
    "Une **liste chaînée** permet avant tout de réprésenter une liste dont les éléments sont chaînés entres eux, permettant ainsi le passage d'un élément à l'élément suivant."
   ]
  },
  {
   "cell_type": "markdown",
   "id": "30d32c9c",
   "metadata": {
    "tags": [
     "retenir"
    ]
   },
   "source": [
    "Ainsi, chaque élément est stocké dans un bloc mémoire que l'on pourra appeler **maillon**. Ce maillon possède deux informations : la `valeur` stockée et l'adresse mémoire du maillon `suivant`.\n",
    "\n"
   ]
  },
  {
   "cell_type": "markdown",
   "id": "651d1e5a",
   "metadata": {
    "tags": [
     "exemple"
    ]
   },
   "source": [
    "Par exemple on a illustré une liste contenant trois éléments, respectivement 1, 2 et 3.\n",
    "\n",
    "![exemple de liste](maillon2.png)\n",
    "\n",
    "Chaque élément de la liste est matérialisé par un emplacement en mémoire contenant d'une part sa valeur (dans la case de gauche) et d'autre part l'adresse mémoire de la valeur suivante (dans la case de droite).\n",
    "\n",
    "Dans le cas du dernier élément, qui ne possède pas de valeur suivante, on utilise une valeur spéciale désignée ici par le symbole $\\bot$ et marquant la fin de la liste"
   ]
  },
  {
   "cell_type": "markdown",
   "id": "3b6eafd3",
   "metadata": {},
   "source": [
    "Une façon traditionnelle de représenter une liste chaînée en Python consiste à utiliser une classe décrivant les maillons de la liste, de sorte que **chaque élément de la liste est matérialisé par un objet de cette classe**. \n",
    "\n",
    "**Implémenter la classe `Maillon` possédant deux attributs : `valeur` pour la valeur de l'élément (l'entier, dans notre exemple) ; et `suivant` pour le maillon suivant de la liste.**\n",
    "\n"
   ]
  },
  {
   "cell_type": "markdown",
   "id": "ea61f0e1",
   "metadata": {
    "tags": [
     "exemple"
    ]
   },
   "source": [
    "*Exemple 1 : pour affecter à `m2` le maillon contenant la valeur `3` et n'ayant aucun maillon suivant on écrira l'instruction `m2 = Maillon(3, None)`.*\n"
   ]
  },
  {
   "cell_type": "markdown",
   "id": "15668b03",
   "metadata": {
    "tags": [
     "exemple"
    ]
   },
   "source": [
    "\n",
    "*Exemple 2 : Pour construire une liste, on applique le constructeur autant de fois qu'il y a d'éléments dans la liste. Ainsi pour construire la liste 1, 2, 3 du schéma que l'on stocke dans la variable `lst` on écrira : `lst = Maillon(1, Maillon(2, Maillon(3, None)))`.*\n"
   ]
  },
  {
   "cell_type": "code",
   "execution_count": 11,
   "id": "c18a4128",
   "metadata": {},
   "outputs": [
    {
     "data": {
      "text/plain": [
       "TestResults(failed=0, attempted=12)"
      ]
     },
     "execution_count": 11,
     "metadata": {},
     "output_type": "execute_result"
    }
   ],
   "source": [
    "from doctest import testmod\n",
    "\n",
    "class Maillon:\n",
    "    \"\"\"\n",
    "    Une classe pour représenter le maillon d'une liste\n",
    "\n",
    "    Attributs\n",
    "    ---------\n",
    "    valeur : type\n",
    "        valeur contenue dans le maillon\n",
    "    suivant : maillon\n",
    "        maillon suivant ou None si pas de maillon\n",
    "    \"\"\"\n",
    "\n",
    "    def __init__(self, valeur, suivant):\n",
    "        \"\"\"Constructeur de classe\n",
    "\n",
    "        Args:\n",
    "            valeur (type): valeur stockée dans le maillon\n",
    "            suivant (maillon): maillon suivant ou None\n",
    "\n",
    "        Exemples et tests:\n",
    "        >>> l3 = Maillon(3, None)\n",
    "        >>> assert (l3.valeur == 3)\n",
    "        >>> assert (l3.suivant == None)\n",
    "        \n",
    "        >>> l2 = Maillon(2, l3)\n",
    "        >>> assert (l2.valeur == 2)\n",
    "        >>> assert (l2.suivant.valeur == 3)\n",
    "\n",
    "        >>> l1 = Maillon(1, l2)\n",
    "        >>> assert (l1.valeur == 1)\n",
    "        >>> assert (l1.suivant.valeur == 2)\n",
    "        >>> assert (l1.suivant.suivant.valeur == 3)\n",
    "        >>> assert (l1.suivant.suivant.suivant == None)\n",
    "        \n",
    "        >>> l1.suivant.suivant.suivant.valeur\n",
    "        Traceback (most recent call last):\n",
    "        AttributeError: 'NoneType' object has no attribute 'valeur'\n",
    "        \"\"\"\n",
    "        self.valeur = valeur\n",
    "        self.suivant = suivant\n",
    "\n",
    "\n",
    "\n",
    "lst = Maillon(1, Maillon(2, Maillon(3, None)))\n",
    "\n",
    "testmod()"
   ]
  },
  {
   "cell_type": "markdown",
   "id": "d1473749",
   "metadata": {},
   "source": [
    "![exemple de liste avec la classe Maillon](maillon.png)"
   ]
  },
  {
   "cell_type": "markdown",
   "id": "515d5c2f",
   "metadata": {},
   "source": [
    "La valeur contenue dans la variable lst est l'adresse mémoire de l'objet contenant la valeur 1,"
   ]
  },
  {
   "cell_type": "markdown",
   "id": "89ea1ffa",
   "metadata": {},
   "source": [
    "### Définition récursive d'une liste chaînée\n",
    "\n",
    "Comme on le voit, une liste est soit la valeur `None`, soit un objet de la classe `Maillon` dont l'attribut `suivant` contient une liste. C'est là une **définition récursive** de la notion de liste."
   ]
  },
  {
   "cell_type": "markdown",
   "id": "0ab6948b",
   "metadata": {
    "tags": [
     "remarque"
    ]
   },
   "source": [
    "**Représentation alternatives**\n",
    "\n",
    "On peut représenter une liste chaînée par autre chose qu'un classe :\n",
    "\n",
    "- avec des couples : `lst = (1, (2, (3, None)))`\n",
    "- avec des tableaux à deux éléments : `lst = [1, [2, [3, None]]]`\n",
    "- avec des champs nommés (dictionnaires)\n",
    "\n"
   ]
  },
  {
   "cell_type": "markdown",
   "id": "0167f13e",
   "metadata": {
    "tags": [
     "remarque"
    ]
   },
   "source": [
    "**Variantes des listes chaînées**\n",
    "\n",
    "Il existe de nombreuses variantes des listes chaînées :\n",
    "\n",
    "- listes cycliques (le dernier élément est lié au premier)\n",
    "- listes doublement chaînées où chaque élément est lié à l'élément suivant **et** à l'élément précédent dans la liste\n",
    "- listes cycliques doublement chaînées\n",
    "- etc."
   ]
  }
 ],
 "metadata": {
  "celltoolbar": "Tags",
  "interpreter": {
   "hash": "916dbcbb3f70747c44a77c7bcd40155683ae19c65e1c03b4aa3499c5328201f1"
  },
  "kernelspec": {
   "display_name": "Python 3.9.2 64-bit",
   "name": "python3"
  },
  "language_info": {
   "codemirror_mode": {
    "name": "ipython",
    "version": 3
   },
   "file_extension": ".py",
   "mimetype": "text/x-python",
   "name": "python",
   "nbconvert_exporter": "python",
   "pygments_lexer": "ipython3",
   "version": "3.9.2"
  },
  "latex_metadata": {
   "theme": "structure",
   "title": "5 --- Listes chaînées"
  },
  "rise": {
   "theme": "serif"
  }
 },
 "nbformat": 4,
 "nbformat_minor": 5
}
