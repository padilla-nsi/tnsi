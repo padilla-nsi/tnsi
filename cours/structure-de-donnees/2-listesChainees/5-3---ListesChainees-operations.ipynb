{
 "cells": [
  {
   "cell_type": "markdown",
   "id": "d5b6c31c",
   "metadata": {
    "slideshow": {
     "slide_type": "slide"
    }
   },
   "source": [
    "## 3 --- Opérations sur les listes\n"
   ]
  },
  {
   "cell_type": "markdown",
   "id": "814afd93",
   "metadata": {},
   "source": [
    "Comme on l'a vu dans la partie 2, on se munit pour la suite d'une classe `Maillon` possède deux attributs : `valeur` et `suivant`."
   ]
  },
  {
   "cell_type": "code",
   "execution_count": 1,
   "id": "9d3526b5",
   "metadata": {},
   "outputs": [],
   "source": [
    "from doctest import testmod"
   ]
  },
  {
   "cell_type": "code",
   "execution_count": 2,
   "id": "8762b894",
   "metadata": {},
   "outputs": [
    {
     "data": {
      "text/plain": [
       "TestResults(failed=0, attempted=12)"
      ]
     },
     "execution_count": 2,
     "metadata": {},
     "output_type": "execute_result"
    }
   ],
   "source": [
    "class Maillon:\n",
    "    \"\"\"\n",
    "    Une classe pour représenter le maillon d'une liste\n",
    "\n",
    "    Attributs\n",
    "    ---------\n",
    "    valeur : type\n",
    "        valeur contenue dans le maillon\n",
    "    suivant : maillon\n",
    "        maillon suivant ou None si pas de maillon\n",
    "    \"\"\"\n",
    "\n",
    "    def __init__(self, valeur, suivant):\n",
    "        \"\"\"Constructeur de classe\n",
    "\n",
    "        Args:\n",
    "            valeur (type): valeur stockée dans le maillon\n",
    "            suivant (maillon): maillon suivant ou None\n",
    "\n",
    "        Exemples et tests:\n",
    "        >>> l3 = Maillon(3, None)\n",
    "        >>> assert (l3.valeur == 3)\n",
    "        >>> assert (l3.suivant == None)\n",
    "        \n",
    "        >>> l2 = Maillon(2, l3)\n",
    "        >>> assert (l2.valeur == 2)\n",
    "        >>> assert (l2.suivant.valeur == 3)\n",
    "\n",
    "        >>> l1 = Maillon(1, l2)\n",
    "        >>> assert (l1.valeur == 1)\n",
    "        >>> assert (l1.suivant.valeur == 2)\n",
    "        >>> assert (l1.suivant.suivant.valeur == 3)\n",
    "        >>> assert (l1.suivant.suivant.suivant == None)\n",
    "        \n",
    "        >>> l1.suivant.suivant.suivant.valeur\n",
    "        Traceback (most recent call last):\n",
    "        AttributeError: 'NoneType' object has no attribute 'valeur'\n",
    "        \"\"\"\n",
    "        self.valeur = valeur\n",
    "        self.suivant = suivant\n",
    "\n",
    "\n",
    "testmod()\n"
   ]
  },
  {
   "cell_type": "markdown",
   "id": "97d57024",
   "metadata": {},
   "source": [
    "### 3.1 --- Longueur d'une liste\n"
   ]
  },
  {
   "cell_type": "markdown",
   "id": "170d2420",
   "metadata": {},
   "source": [
    "#### Par une fonction récursive\n"
   ]
  },
  {
   "cell_type": "markdown",
   "id": "88d768b3",
   "metadata": {},
   "source": [
    "L'objectif est d'implémenter une fonction récursive `longueur` qui reçoit en argument une liste `lst` et renvoie sa longueur.\n",
    "\n",
    "Il faut distinguer le **cas de base** (c'est-à-dire une liste vide ne contenant aucun maillon) et le **cas récursif** c'est-à-dire une liste contenant au moins un maillon.\n",
    "\n",
    "1. pour le cas de base, il faut renvoyer `0` car c'est une liste de longueur nulle ;\n",
    "2. pour le cas récursif, il faut renvoyer la somme de `1` (pour le premier maillon) avec la longueur de la liste `lst.suivant` (que l'on calcule récursivement)"
   ]
  },
  {
   "cell_type": "markdown",
   "id": "8cc72e17",
   "metadata": {
    "tags": [
     "exo"
    ]
   },
   "source": [
    "**Implémenter la fonction récursive `longueur(lst) -> int` qui renvoie la longueur de la liste `lst`.**\n",
    "\n",
    "*Exemple 1 : l'instruction `print( longueur(Maillon(42, None)) )` doit afficher `1` car cette liste ne contient qu'un seul maillon.* :\n",
    "\n",
    "        >>> print( longueur(Maillon(42, None)) )\n",
    "        1\n",
    "\n",
    "*Exemple 2 : l'instruction `print( longueur(None) )` doit afficher `0` car c'est la liste vide.*\n",
    "\n",
    "        >>> print( longueur(None) )\n",
    "        0\n",
    "\n",
    "*Exemple 3 : l'instruction `print(longueur( Maillon(1, Maillon(2, Maillon(3, None))) ))` doit afficher `3`.*\n",
    "\n",
    "        >>> print(longueur( Maillon(1, Maillon(2, Maillon(3, None))) ))\n",
    "        3"
   ]
  },
  {
   "cell_type": "code",
   "execution_count": 3,
   "id": "f34a6624",
   "metadata": {
    "tags": [
     "solution"
    ]
   },
   "outputs": [
    {
     "name": "stdout",
     "output_type": "stream",
     "text": [
      "1\n",
      "0\n",
      "3\n"
     ]
    }
   ],
   "source": [
    "def longueur(lst):\n",
    "    \"\"\" longueur d'une liste chaînée\n",
    "    \n",
    "    Exemples et tests:\n",
    "    >>> lst = Maillon(42, None)\n",
    "    >>> assert longueur(lst) == 1\n",
    "\n",
    "    >>> lst = None\n",
    "    >>> assert longueur(lst) == 0\n",
    "\n",
    "    >>> lst = Maillon(1, Maillon(2, Maillon(3, None)))\n",
    "    >>> assert longueur(lst) == 3\n",
    "    \"\"\"\n",
    "    if lst == None:\n",
    "        return 0\n",
    "    return 1 + longueur(lst.suivant)\n",
    "\n",
    "\n",
    "testmod()\n",
    "\n",
    "print(longueur(Maillon(42, None)) )\n",
    "print(longueur(None) )\n",
    "print(longueur( Maillon(1, Maillon(2, Maillon(3, None))) ))"
   ]
  },
  {
   "cell_type": "markdown",
   "id": "97f30ed5",
   "metadata": {
    "tags": [
     "remarque"
    ]
   },
   "source": [
    "**Complexité temporelle.** Il est clair que la complexité du calcul de la longueur est\n",
    "directement proportionnelle à la longueur elle-même, puisqu'on réalise un nombre constant d'opérations pour chaque maillon de la liste. Ainsi, pour une liste `lst` de mille maillons, longueur(lst) va effectuer mille tests, mille appels récursifs et mille additions dans sa version récursive."
   ]
  },
  {
   "cell_type": "markdown",
   "id": "7638deb0",
   "metadata": {},
   "source": [
    "#### Par une fonction itérative\n"
   ]
  },
  {
   "cell_type": "markdown",
   "id": "72fbe3ca",
   "metadata": {},
   "source": [
    "L'objectif est maintenant d'implémenter une version **itérative** de la fonction `longueur` qui reçoit en argument une liste `lst` et renvoie sa longueur.\n",
    "\n"
   ]
  },
  {
   "cell_type": "markdown",
   "id": "b3a37f41",
   "metadata": {
    "tags": [
     "retenir"
    ]
   },
   "source": [
    "**Idée de l'algorithme.** Définir :\n",
    "\n",
    "- une variable accumulateur qui stocke la longueur de la liste parcourue qui vaut initialement 0\n",
    "- une variable contenant le maillon courant qui vaut initialement `lst` (car lst est une liste et une liste pointe vers le premier maillon\n",
    "\n",
    "![algo récursif](maillon3.png)\n",
    "\n",
    "Puis tant que le maillon courant n'est pas `None`, il faut incrémenter l'accumulateur de 1 et mettre à jour le maillon courant avec le maillon suivant.\n",
    "\n",
    "Lorsque le boucle s'arrête, c'est que le maillon courant est `None` et donc tous les maillons ont été visités. Il faut alors renvoyer l'accumulateur qui contient le nombre de maillons visités, qui est égal à la longueur de la liste."
   ]
  },
  {
   "cell_type": "markdown",
   "id": "b027dc55",
   "metadata": {
    "tags": [
     "exo"
    ]
   },
   "source": [
    "**Implémenter la fonction itérative `longueur(lst) -> int` qui renvoie la longueur de la liste `lst`.**\n",
    "\n",
    "*Exemple 1 : l'instruction `print( longueur(Maillon(42, None)) )` doit afficher `1` car cette liste ne contient qu'un seul maillon.*\n",
    "\n",
    "        >>> print( longueur(Maillon(42, None)) )\n",
    "        1\n",
    "\n",
    "*Exemple 2 : l'instruction `print( longueur(None) )` doit afficher `0` car c'est la liste vide.*\n",
    "\n",
    "        >>> print( longueur(None) )\n",
    "        0\n",
    "\n",
    "*Exemple 3 : l'instruction `print(longueur( Maillon(1, Maillon(2, Maillon(3, None))) ))` doit afficher `3`.*\n",
    "\n",
    "        >>> print(longueur( Maillon(1, Maillon(2, Maillon(3, None))) ))\n",
    "        3"
   ]
  },
  {
   "cell_type": "code",
   "execution_count": 4,
   "id": "f6265b79",
   "metadata": {
    "tags": [
     "solution"
    ]
   },
   "outputs": [
    {
     "name": "stdout",
     "output_type": "stream",
     "text": [
      "1\n",
      "0\n",
      "3\n"
     ]
    }
   ],
   "source": [
    "def longueur(lst):\n",
    "    \"\"\" longueur d'une liste chaînée\n",
    "    \n",
    "    Exemples et tests:\n",
    "    >>> lst = Maillon(42, None)\n",
    "    >>> assert longueur(lst) == 1\n",
    "\n",
    "    >>> lst = None\n",
    "    >>> assert longueur(lst) == 0\n",
    "\n",
    "    >>> lst = Maillon(1, Maillon(2, Maillon(3, None)))\n",
    "    >>> assert longueur(lst) == 3\n",
    "    \"\"\"\n",
    "    longueur_actuelle = 0\n",
    "    maillon_actuel = lst\n",
    "\n",
    "    while maillon_actuel is not None:\n",
    "        longueur_actuelle = longueur_actuelle + 1\n",
    "        maillon_actuel = maillon_actuel.suivant\n",
    "    \n",
    "    return longueur_actuelle\n",
    "\n",
    "\n",
    "testmod()\n",
    "\n",
    "\n",
    "print(longueur(Maillon(42, None)) )\n",
    "print(longueur(None) )\n",
    "print(longueur( Maillon(1, Maillon(2, Maillon(3, None))) ))"
   ]
  },
  {
   "cell_type": "markdown",
   "id": "ae777035",
   "metadata": {},
   "source": [
    "### 3.2 --- Nième élément d'une liste\n"
   ]
  },
  {
   "cell_type": "markdown",
   "id": "7af00a40",
   "metadata": {},
   "source": [
    "Comme pour la fonction précédente, on peut implémenter une version itérative et une version récursive de la fonction demandée..."
   ]
  },
  {
   "cell_type": "markdown",
   "id": "0c491a57",
   "metadata": {
    "tags": [
     "exo"
    ]
   },
   "source": [
    "**Implémenter une version itérative de la fonction `nieme_element(n, lst)` qui renvoie le $n$-ième élément d'une liste chaînée. Évidement on prend par convention que le premier élément est désigné par $n=0$.**\n",
    "\n",
    "*Exemple 1 : `print( nieme_element(1, Maillon(42, None)) )` affiche `IndexError` car la liste chaînée n'a qu'un seul maillon (à l'indice $0$) et donc pas de maillons à l'indice $1$.*\n",
    "\n",
    "        >>> print( nieme_element(1, Maillon(42, None)) )\n",
    "        Traceback (most recent call last):\n",
    "        IndexError: index out of range\n",
    "\n",
    "*Exemple 2 : `print( nieme_element(1, Maillon(1, Maillon(2, Maillon(3, None)))) )`affiche `2` car le maillon d'indice `1` contient la valeur `2`.*\n",
    "\n",
    "        >>> print( nieme_element(1, Maillon(1, Maillon(2, Maillon(3, None)))) )\n",
    "        2"
   ]
  },
  {
   "cell_type": "code",
   "execution_count": 5,
   "id": "042daa36",
   "metadata": {
    "tags": [
     "solution"
    ]
   },
   "outputs": [
    {
     "data": {
      "text/plain": [
       "TestResults(failed=0, attempted=23)"
      ]
     },
     "execution_count": 5,
     "metadata": {},
     "output_type": "execute_result"
    }
   ],
   "source": [
    "def nieme_element(n, lst):\n",
    "    \"\"\" nieme element d'une liste chaînée\n",
    "        version itérative\n",
    "    \n",
    "    Exemples et tests:\n",
    "    >>> lst = Maillon(1, Maillon(2, Maillon(3, None)))\n",
    "    >>> assert nieme_element(0, lst) == 1\n",
    "    >>> assert nieme_element(1, lst) == 2\n",
    "    >>> assert nieme_element(2, lst) == 3\n",
    "\n",
    "    >>> nieme_element(3, lst)\n",
    "    Traceback (most recent call last):\n",
    "    IndexError: index out of range\n",
    "    \"\"\"\n",
    "    if n >= longueur(lst):\n",
    "        raise IndexError('index out of range')\n",
    "\n",
    "    maillon_actuel = lst\n",
    "    for _ in range(n):\n",
    "        maillon_actuel = maillon_actuel.suivant\n",
    "    return maillon_actuel.valeur\n",
    "\n",
    "\n",
    "testmod()"
   ]
  },
  {
   "cell_type": "markdown",
   "id": "b4560544",
   "metadata": {
    "tags": [
     "exo"
    ]
   },
   "source": [
    "**Implémenter une version récursive de la fonction `nieme_element(n, lst)` qui renvoie le $n$-ième élément d'une liste chaînée. Évidement on prend par convention que le premier élément est désigné par $n=0$.**\n",
    "\n",
    "*Exemple 1 : `print( nieme_element(1, Maillon(42, None)) )` affiche `IndexError` car la liste chaînée n'a qu'un seul maillon (à l'indice $0$) et donc pas de maillons à l'indice $1$.*\n",
    "\n",
    "        >>> print( nieme_element(1, Maillon(42, None)) )\n",
    "        IndexError\n",
    "\n",
    "*Exemple 2 : `print( nieme_element.(1, Maillon(1, Maillon(2, Maillon(3, None)))) )`affiche `2` car le maillon d'indice `1` contient la valeur `2`.*\n",
    "\n",
    "        >>> print( nieme_element.(1, Maillon(1, Maillon(2, Maillon(3, None)))) )\n",
    "        2"
   ]
  },
  {
   "cell_type": "code",
   "execution_count": 6,
   "id": "5f351dee",
   "metadata": {
    "tags": [
     "solution"
    ]
   },
   "outputs": [
    {
     "data": {
      "text/plain": [
       "TestResults(failed=0, attempted=23)"
      ]
     },
     "execution_count": 6,
     "metadata": {},
     "output_type": "execute_result"
    }
   ],
   "source": [
    "def nieme_element(n, lst):\n",
    "    \"\"\" nieme element d'une liste chaînée\n",
    "        version itérative\n",
    "    \n",
    "    Exemples et tests:\n",
    "    >>> lst = Maillon(1, Maillon(2, Maillon(3, None)))\n",
    "    >>> assert nieme_element(0, lst) == 1\n",
    "    >>> assert nieme_element(1, lst) == 2\n",
    "    >>> assert nieme_element(2, lst) == 3\n",
    "\n",
    "    >>> assert nieme_element(3, lst) == 3\n",
    "    Traceback (most recent call last):\n",
    "    IndexError: index out of range\n",
    "    \"\"\"\n",
    "    if n >= longueur(lst):\n",
    "        raise IndexError('index out of range')\n",
    "\n",
    "    if n == 0:\n",
    "        return lst.valeur\n",
    "\n",
    "    return nieme_element(n - 1, lst.suivant)\n",
    "\n",
    "\n",
    "testmod()"
   ]
  },
  {
   "cell_type": "markdown",
   "id": "e2e10dc2",
   "metadata": {},
   "source": [
    "### 3.3 --- Concaténation de deux listes\n"
   ]
  },
  {
   "cell_type": "markdown",
   "id": "82479ca0",
   "metadata": {},
   "source": [
    "Considérons maintenant l'opération consistant à mettre bout à bout les éléments de deux listes données. On appelle cela la **concaténation** de deux listes. Ainsi, si la première liste contient 1,2,3 et la seconde 4,5 alors le résultat de la concaténation est la liste 1,2,3,4,5. \n",
    "\n",
    "Nous choisissons d'écrire la concaténation sous la forme d'une fonction `concatener(l1, l2)` qui reçoit deux listes en arguments et renvoie une troisième liste contenant la concaténation."
   ]
  },
  {
   "cell_type": "markdown",
   "id": "9b08e0d7",
   "metadata": {
    "tags": [
     "retenir"
    ]
   },
   "source": [
    "\n",
    "\n",
    "L'algorithme **récursif** est très simple :\n",
    "\n",
    "- si la liste `l1` est vide, la concaténation est identique à `l2` et il suffit de renvoyer `l2`\n",
    "- sinon, le premier élément de la concaténation est le premier élément de `l1` et le reste de la concaténation est obtenu récursivement en concaténant le reste de `l1` avec `l2`."
   ]
  },
  {
   "cell_type": "markdown",
   "id": "2ce684d0",
   "metadata": {
    "tags": [
     "exo"
    ]
   },
   "source": [
    "**Implémenter la version récursive de la fonction `concatener` qui prend deux listes `l1` et `l2` en argument et renvoie la concaténation des deux listes.**\n",
    "\n",
    "Exemples et tests:\n",
    "\n",
    "        >>> l1 = Maillon(1, Maillon(2, Maillon(3, None)))\n",
    "        >>> l2 = Maillon(4, Maillon(5, None))\n",
    "        >>> l3 = concatener(l1, l2)\n",
    "        >>> assert nieme_element(0, l3) == 1\n",
    "        >>> assert nieme_element(1, l3) == 2\n",
    "        >>> assert nieme_element(2, l3) == 3\n",
    "        >>> assert nieme_element(3, l3) == 4\n",
    "        >>> assert nieme_element(4, l3) == 5\n",
    "\n",
    "        >>> nieme_element(5, l3)\n",
    "        Traceback (most recent call last):\n",
    "        IndexError: index out of range\n",
    "\n"
   ]
  },
  {
   "cell_type": "code",
   "execution_count": 7,
   "id": "22cda843",
   "metadata": {
    "tags": [
     "solution"
    ]
   },
   "outputs": [
    {
     "data": {
      "text/plain": [
       "TestResults(failed=0, attempted=32)"
      ]
     },
     "execution_count": 7,
     "metadata": {},
     "output_type": "execute_result"
    }
   ],
   "source": [
    "def concatener(start_lst, end_lst):\n",
    "    \"\"\" concaténer deux liste de façon récursive\n",
    "    \n",
    "    Exemples et tests:\n",
    "    >>> l1 = Maillon(1, Maillon(2, Maillon(3, None)))\n",
    "    >>> l2 = Maillon(4, Maillon(5, None))\n",
    "    >>> l3 = concatener(l1, l2)\n",
    "    >>> assert nieme_element(0, l3) == 1\n",
    "    >>> assert nieme_element(1, l3) == 2\n",
    "    >>> assert nieme_element(2, l3) == 3\n",
    "    >>> assert nieme_element(3, l3) == 4\n",
    "    >>> assert nieme_element(4, l3) == 5\n",
    "\n",
    "    >>> nieme_element(5, l3)\n",
    "    Traceback (most recent call last):\n",
    "    IndexError: index out of range\n",
    "\n",
    "    \"\"\"\n",
    "    if longueur(start_lst) == 0:\n",
    "        return end_lst\n",
    "\n",
    "    premier_element = Maillon(start_lst.valeur, None)\n",
    "    reste = concatener(start_lst.suivant, end_lst)\n",
    "    premier_element.suivant = reste\n",
    "    return premier_element\n",
    "\n",
    "\n",
    "testmod()\n"
   ]
  },
  {
   "cell_type": "markdown",
   "id": "9b4e403a",
   "metadata": {
    "tags": [
     "remarque"
    ]
   },
   "source": [
    "Il est important de comprendre ici que les listes passées en argument à la fonction concatener ne sont pas modifiées. Plus précisément, les éléments de la liste `l1` sont copiés et ceux de `12` sont partagés. Illustrons-le avec la concaténation des listes 1, 2, 3 et 4, 5. Après les trois instructions \n",
    "\n",
    "```python\n",
    "l1 = Maillon(1, Maillon(2, Maillon(3, None)))\n",
    "l2 = Maillon(4, Maillon(5, None))\n",
    "l3 = concatener(l1, l2)\n",
    "```\n",
    "\n",
    "on a la situation suivante avec 8 maillons au total :\n",
    "\n",
    "![concaténation de deux listes](maillon4.png)\n"
   ]
  },
  {
   "cell_type": "markdown",
   "id": "2e63faa1",
   "metadata": {},
   "source": [
    "### 3.4 --- Renverser une liste\n"
   ]
  },
  {
   "cell_type": "markdown",
   "id": "b3e1dcfb",
   "metadata": {
    "tags": [
     "exo"
    ]
   },
   "source": [
    "**Implémenter une fonction `renverser(lst)` qui reçoit en argument une liste comme 1, 2, 3 et renvoie la liste renversée 3, 2, 1.**\n",
    "\n",
    "Exemples et tests:\n",
    "\n",
    "        >>> l1 = Maillon(1, Maillon(2, Maillon(3, None)))\n",
    "        >>> l2 = renverser(l1)\n",
    "        >>> assert nieme_element(0, l2) == 3\n",
    "        >>> assert nieme_element(1, l2) == 2\n",
    "        >>> assert nieme_element(2, l2) == 1\n",
    "\n",
    "        >>> nieme_element(3, l2)\n",
    "        Traceback (most recent call last):\n",
    "        IndexError: index out of range"
   ]
  },
  {
   "cell_type": "code",
   "execution_count": 8,
   "id": "421082d6",
   "metadata": {
    "tags": [
     "solution"
    ]
   },
   "outputs": [
    {
     "data": {
      "text/plain": [
       "TestResults(failed=0, attempted=38)"
      ]
     },
     "execution_count": 8,
     "metadata": {},
     "output_type": "execute_result"
    }
   ],
   "source": [
    "def renverser(lst):\n",
    "    \"\"\" renvoyer une nouvelle liste chainée renversée\n",
    "    \n",
    "    Exemples et tests:\n",
    "    >>> l1 = Maillon(1, Maillon(2, Maillon(3, None)))\n",
    "    >>> l2 = renverser(l1)\n",
    "    >>> assert nieme_element(0, l2) == 3\n",
    "    >>> assert nieme_element(1, l2) == 2\n",
    "    >>> assert nieme_element(2, l2) == 1\n",
    "\n",
    "    >>> nieme_element(3, l2)\n",
    "    Traceback (most recent call last):\n",
    "    IndexError: index out of range\n",
    "    \"\"\"\n",
    "    n = longueur(lst)\n",
    "    new_lst = None\n",
    "    for i in range(n):\n",
    "        valeur = nieme_element(i, lst)\n",
    "        new_lst = Maillon(valeur, new_lst)\n",
    "    return new_lst\n",
    "\n",
    "\n",
    "testmod()"
   ]
  }
 ],
 "metadata": {
  "celltoolbar": "Tags",
  "interpreter": {
   "hash": "916dbcbb3f70747c44a77c7bcd40155683ae19c65e1c03b4aa3499c5328201f1"
  },
  "kernelspec": {
   "display_name": "Python 3.9.2 64-bit",
   "name": "python3"
  },
  "language_info": {
   "codemirror_mode": {
    "name": "ipython",
    "version": 3
   },
   "file_extension": ".py",
   "mimetype": "text/x-python",
   "name": "python",
   "nbconvert_exporter": "python",
   "pygments_lexer": "ipython3",
   "version": "3.9.2"
  },
  "latex_metadata": {
   "theme": "structure",
   "title": "5 --- Listes chaînées"
  },
  "rise": {
   "theme": "serif"
  }
 },
 "nbformat": 4,
 "nbformat_minor": 5
}
