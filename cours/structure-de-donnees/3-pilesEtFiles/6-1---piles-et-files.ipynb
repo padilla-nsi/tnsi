{
 "cells": [
  {
   "cell_type": "markdown",
   "id": "87853742",
   "metadata": {
    "slideshow": {
     "slide_type": "slide"
    }
   },
   "source": [
    "# Chap. 6 --- Piles et files"
   ]
  },
  {
   "cell_type": "markdown",
   "id": "e24d9329",
   "metadata": {},
   "source": [
    "## 6.1 --- Introduction"
   ]
  },
  {
   "cell_type": "markdown",
   "id": "52262e42",
   "metadata": {},
   "source": [
    "Tout comme les *tableaux*, **Pile** et **File** sont des structures de données qui permettent de (1) **stocker** des ensembles d'objets et (2) **ajouter**/**retirer** des objets un à un."
   ]
  },
  {
   "cell_type": "markdown",
   "id": "8387f842",
   "metadata": {},
   "source": [
    "Dans une **pile** (en anglais *stack*), chaque opération `depile` retire l'élément arrivé le plus récemment. Pour imaginer cette structure, il suffit de penser à une *pile d'assiettes* : on ajoute une assiette sur le sommet et quant on retire une assiette, c'est forcément celle du sommet.\n",
    "\n",
    "\n",
    "| |\n",
    "|:-:|\n",
    "| ![image de piles](img-pile.png) |\n",
    "| *Dernier entré, premier sorti* (en anglais **LIFO** pour *last in, first out*) |\n"
   ]
  },
  {
   "cell_type": "markdown",
   "id": "6e64c0c9",
   "metadata": {},
   "source": [
    "Dans une **file** (en anglais *queue*), chaque opération `defile` retire l'élément *qui avait été ajouté* le premier. Pour imaginer cette structure, on pense à une file d'attente dans laquelle (1) les personnes arrivent à tour de rôle, (2) patientent et (3) sont servies dans leur ordre d'arrivé.\n",
    "\n",
    "\n",
    "| |\n",
    "|:-:|\n",
    "| ![image de file](img-file.png) |\n",
    "| *Premier arrivé, premier sorti* (en anglais **FIFO** pour *first in, first out*) |1"
   ]
  },
  {
   "cell_type": "markdown",
   "id": "b88f93ef",
   "metadata": {},
   "source": [
    "## 6.2 --- Interface commune aux piles et aux files"
   ]
  },
  {
   "cell_type": "markdown",
   "id": "67e0d414",
   "metadata": {},
   "source": [
    "Classiquement, chacune de ces deux structures a une **interface** proposant au\n",
    "minimum les quatre opérations suivantes :\n",
    "\n",
    "|  |  | |\n",
    "|:-:|:-:|:-|\n",
    "| **pile** | **file** | **opérations** |\n",
    "| `Pile()` | `File()` | créer une structure initialement vide |\n",
    "| `est_vide()` | `est_vide()` | tester si une structure est vide |\n",
    "| `empile()` | `enfile()` | ajouter un élément à une structure |\n",
    "| `depile()` | `defile()` | retirer et obtenir un élément d'une structure |\n",
    "\n"
   ]
  },
  {
   "cell_type": "markdown",
   "id": "3a695394",
   "metadata": {},
   "source": [
    "Comme pour les tableaux et les listes chaînées, on préconisé pour les piles et les files une **structures homogènes**. C'est-à-dire que tous les éléments stockés aient le même type. \n",
    "\n"
   ]
  },
  {
   "cell_type": "markdown",
   "id": "7e6ff0c4",
   "metadata": {},
   "source": [
    "Dans ce cours, nos structures de pile et de file seront considérées **mutables** : chaque opération d'ajout ou de retrait d'un élément **modifie la pile ou la file** à laquelle elle s'applique.\n",
    "\n",
    "Mais il aurait été tout à fait possible d'en décider autrement."
   ]
  },
  {
   "cell_type": "markdown",
   "id": "b88f93ef",
   "metadata": {},
   "source": [
    "## 6.3 --- Interface et utilisation d'une pile"
   ]
  },
  {
   "cell_type": "markdown",
   "id": "de6dfbb1",
   "metadata": {},
   "source": [
    "Détaillons l'interface des piles.\n",
    "\n",
    "| interface | explications et commentaires |\n",
    "|-|-|\n",
    "| `Pile[T]` | le type des piles contenant des éléments de type `T`. Par exemple `T` peut être `int` pour les nombres entiers ou encore `str` pour les chaînes de caractères |\n",
    "| `est_vide(p: Pile[T]) -> bool` | prend en paramètre une pile `p` et renvoie un booléen indiquant si la pile est vide ou pas |\n",
    "| `creer_pile() -> Pile[T]` | aucun paramètre et renvoie une pile vide capable de contenir n'importe quel type d'élément `T` |\n",
    "| `empiler(p: Pile[T], e: T) -> None` | ajout de l'élément `e` au sommet de la pile `p` (*push* en anglais), fonction qui prend en paramètre une pile `p`  et l'élément `e` de type `T` homogène avec celui des éléments de la pile |\n",
    "| `depiler(p: Pile[T]) -> T` | retrait de l'élément au sommet de la pile `p` (*pop* en anglais) qui prend en paramètre la pile `p` et renvoie l'élément qui en a été retiré. On suppose que la pile est non vide et une exception est levée le cas échéant |\n",
    "\n"
   ]
  },
  {
   "cell_type": "markdown",
   "id": "73ab1cd4",
   "metadata": {},
   "source": [
    "Exemple d'utilisation des piles : Considérons un navigateur web dans lequel on s'intéresse à deux opérations : **aller** à une nouvelle page et **revenir** à la page précédente. On veut que le bouton de retour en arrière permette de remonter une à une les pages précédentes, et ce jusqu'au début de la navigation. \n",
    "\n",
    "En plus de l'adresse courante, qui peut être stockée dans une variable à part, il nous faut donc conserver l'ensemble des pages précédentes auxquelles il est possible de revenir. *Puisque le retour en arrière se fait vers la dernière page qui a été quittée*, la discipline ***dernier entré, premier sorti*** des piles est exactement ce dont nous avons besoin pour cet ensemble."
   ]
  },
  {
   "cell_type": "markdown",
   "id": "6512c9f3",
   "metadata": {},
   "source": [
    "## 6.4 --- Interface et utilisation d'une file"
   ]
  },
  {
   "cell_type": "markdown",
   "id": "b6ea933d",
   "metadata": {},
   "source": [
    "Comme pour les piles, on note `File[T]` le type des files contenant des éléments de type `T`.\n",
    "\n",
    "| **interface** | **explications et commentaires** |\n",
    "|-|-|\n",
    "| `File[T]` | le type des files contenant des éléments de type `T` |\n",
    "| `creer_file() -> File[T]` | créer une file vide |\n",
    "| `est_vide(f: File[T]) -> bool` | renvoie `True` si `f` est vide et `False` sinon |\n",
    "| `enfiler(f: File[T], e) -> None` | ajoute l'élément `e` à la fin de la file `f` |\n",
    "| `defiler(f: File[T]) -> T` | retirer et renvoyer l'élément situé au début de la file `f` |"
   ]
  },
  {
   "cell_type": "markdown",
   "id": "9dfcca66",
   "metadata": {},
   "source": [
    "Exemple d'utilisation des files : Considérons le jeu de cartes de la bataille. Chaque joueur possède un paquet de cartes et pose à chaque manche la carte prise **sur le dessus du paquet**. Le vainqueur de la manche récupère alors les cartes posées, pour les placer **au-dessous de son paquet**.\n",
    "\n",
    "En plus des cartes posées au centre de la table nous avons besoin de conserver en mémoire le paquet de cartes de chaque joueur. *Puisque les cartes sont remises dans un paquet à une extrémité et prélevées à l'autre*, la discipline ***premier entré, premier sorti*** des files est exactement ce dont nous avons besoin pour chacun de ces ensembles."
   ]
  },
  {
   "cell_type": "markdown",
   "id": "d92bf99b",
   "metadata": {},
   "source": [
    "## 6.5 --- Réalisation d'une pile avec une liste chaînée"
   ]
  },
  {
   "cell_type": "markdown",
   "id": "d9aec2f3",
   "metadata": {},
   "source": [
    "La structure de **liste chaînée** donne une manière élémentaire de réaliser une pile. Empiler un nouvel élément revient à ajouter un nouveau maillon en tête de liste, tandis que dépiler un élément revient à supprimer le maillon de tête.\n",
    "\n",
    "On peut ainsi construire une classe `Pile` définie par un unique attribut contenu associé à l'ensemble des éléments de la pile, stockés sous la forme d'une liste chaînée."
   ]
  },
  {
   "cell_type": "markdown",
   "id": "ab05ba8a",
   "metadata": {},
   "source": [
    "Implémenter le constructeur de la classe `Pile` qui construit une pile vide en définissant son attribut `contenu` comme la liste vide `None`.\n",
    "\n",
    "Exemple et test :\n",
    "\n",
    "        >>> p = Pile()\n",
    "        >>> print(p.contenu)\n",
    "        None\n"
   ]
  },
  {
   "cell_type": "markdown",
   "id": "2f1bda3c",
   "metadata": {},
   "source": [
    "Étendre la classe `Pile` en implémentant la méthode `est_vide`.\n",
    "\n",
    "Exemples et tests :\n",
    "\n",
    "        >>> p = Pile()\n",
    "        >>> print(p.est_vide())\n",
    "        True\n",
    "        >>> p.contenu = Maillon(1, None)\n",
    "        >>> print(p.est_vide())\n",
    "        False"
   ]
  },
  {
   "cell_type": "markdown",
   "id": "0bbc0ee8",
   "metadata": {},
   "source": [
    "Implémenter la méthode `empile` dans la classe `Pile`. Pour cela construire une nouvelle liste chaînée dont le premier maillon contient :\n",
    "\n",
    "- valeur : la valeur à empiler\n",
    "- suivant : le premier maillon de la liste d'origine de la pile\n",
    "\n",
    "Puis mettre à jour le contenu de la pile avec cette nouvelle liste.\n",
    "\n",
    "\n",
    "Exemple et tests:\n",
    "\n",
    "        >>> p = Pile()\n",
    "        >>> p.empiler(1)\n",
    "        >>> assert not p.est_vide()\n",
    "        >>> print(p.contenu.valeur)\n",
    "        1\n",
    "        >>> p.empiler(2)\n",
    "        >>> print(p.contenu.valeur)\n",
    "        2"
   ]
  },
  {
   "cell_type": "markdown",
   "id": "5a5134d9",
   "metadata": {},
   "source": [
    "## 6.5 --- Réalisation d'une file avec une liste (mutable)"
   ]
  },
  {
   "cell_type": "markdown",
   "id": "91447356",
   "metadata": {},
   "source": [
    "## 6.6 --- Réalisation d'une file avec deux piles"
   ]
  }
 ],
 "metadata": {
  "celltoolbar": "Tags",
  "interpreter": {
   "hash": "916dbcbb3f70747c44a77c7bcd40155683ae19c65e1c03b4aa3499c5328201f1"
  },
  "kernelspec": {
   "display_name": "Python 3.9.2 64-bit",
   "name": "python3"
  },
  "language_info": {
   "codemirror_mode": {
    "name": "ipython",
    "version": 3
   },
   "file_extension": ".py",
   "mimetype": "text/x-python",
   "name": "python",
   "nbconvert_exporter": "python",
   "pygments_lexer": "ipython3",
   "version": "3.9.2"
  },
  "latex_metadata": {
   "theme": "structure",
   "title": "6 --- Piles et files"
  },
  "rise": {
   "theme": "serif"
  }
 },
 "nbformat": 4,
 "nbformat_minor": 5
}
