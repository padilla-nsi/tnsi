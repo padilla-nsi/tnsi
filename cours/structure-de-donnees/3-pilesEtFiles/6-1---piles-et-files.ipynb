{
 "cells": [
  {
   "cell_type": "code",
   "execution_count": 1,
   "id": "cce6a40d",
   "metadata": {},
   "outputs": [],
   "source": [
    "from doctest import testmod"
   ]
  },
  {
   "cell_type": "markdown",
   "id": "87853742",
   "metadata": {
    "slideshow": {
     "slide_type": "slide"
    }
   },
   "source": [
    "# Chap. 6 --- Piles et files"
   ]
  },
  {
   "cell_type": "markdown",
   "id": "e24d9329",
   "metadata": {},
   "source": [
    "## 6.1 --- Introduction"
   ]
  },
  {
   "cell_type": "markdown",
   "id": "52262e42",
   "metadata": {
    "tags": [
     "retenir"
    ]
   },
   "source": [
    "Tout comme les *tableaux*, **Pile** et **File** sont des structures de données qui permettent de (1) **stocker** des ensembles d'objets et (2) **ajouter**/**retirer** des objets un à un."
   ]
  },
  {
   "cell_type": "markdown",
   "id": "8387f842",
   "metadata": {},
   "source": [
    "Dans une **pile** (en anglais *stack*), chaque opération `depile` retire l'élément arrivé le plus récemment. Pour imaginer cette structure, il suffit de penser à une *pile d'assiettes* : on ajoute une assiette sur le sommet et quant on retire une assiette, c'est forcément celle du sommet.\n",
    "\n",
    "\n",
    "| |\n",
    "|:-:|\n",
    "| ![image de piles](img-pile.png) |\n",
    "| *Dernier entré, premier sorti* (en anglais **LIFO** pour *last in, first out*) |\n"
   ]
  },
  {
   "cell_type": "markdown",
   "id": "6e64c0c9",
   "metadata": {},
   "source": [
    "Dans une **file** (en anglais *queue*), chaque opération `defile` retire l'élément *qui avait été ajouté* le premier. Pour imaginer cette structure, on pense à une file d'attente dans laquelle (1) les personnes arrivent à tour de rôle, (2) patientent et (3) sont servies dans leur ordre d'arrivé.\n",
    "\n",
    "\n",
    "| |\n",
    "|:-:|\n",
    "| ![image de file](img-file.png) |\n",
    "| *Premier arrivé, premier sorti* (en anglais **FIFO** pour *first in, first out*) |1"
   ]
  },
  {
   "cell_type": "markdown",
   "id": "bb6731f1",
   "metadata": {},
   "source": [
    "## 6.2 --- Interface commune aux piles et aux files"
   ]
  },
  {
   "cell_type": "markdown",
   "id": "67e0d414",
   "metadata": {},
   "source": [
    "Classiquement, chacune de ces deux structures a une **interface** proposant au\n",
    "minimum les quatre opérations suivantes :\n",
    "\n",
    "|  |  | |\n",
    "|:-:|:-:|:-|\n",
    "| **pile** | **file** | **opérations** |\n",
    "| `Pile()` | `File()` | créer une structure initialement vide |\n",
    "| `est_vide()` | `est_vide()` | tester si une structure est vide |\n",
    "| `empile()` | `enfile()` | ajouter un élément à une structure |\n",
    "| `depile()` | `defile()` | retirer et obtenir un élément d'une structure |\n",
    "\n"
   ]
  },
  {
   "cell_type": "markdown",
   "id": "3a695394",
   "metadata": {
    "tags": [
     "remarque"
    ]
   },
   "source": [
    "Comme pour les tableaux et les listes chaînées, on préconisé pour les piles et les files une **structures homogènes**. C'est-à-dire que tous les éléments stockés aient le même type. \n",
    "\n"
   ]
  },
  {
   "cell_type": "markdown",
   "id": "7e6ff0c4",
   "metadata": {
    "tags": [
     "remarque"
    ]
   },
   "source": [
    "Dans ce cours, nos structures de pile et de file seront considérées **mutables** : chaque opération d'ajout ou de retrait d'un élément **modifie la pile ou la file** à laquelle elle s'applique.\n",
    "\n",
    "Mais il aurait été tout à fait possible d'en décider autrement."
   ]
  },
  {
   "cell_type": "markdown",
   "id": "b88f93ef",
   "metadata": {},
   "source": [
    "## 6.3 --- Interface et utilisation d'une pile"
   ]
  },
  {
   "cell_type": "markdown",
   "id": "de6dfbb1",
   "metadata": {},
   "source": [
    "Détaillons l'interface des piles.\n",
    "\n",
    "| interface | explications et commentaires |\n",
    "|-|-|\n",
    "| `Pile[T]` | le type des piles contenant des éléments de type `T`. Par exemple `T` peut être `int` pour les nombres entiers ou encore `str` pour les chaînes de caractères |\n",
    "| `est_vide(p: Pile[T]) -> bool` | prend en paramètre une pile `p` et renvoie un booléen indiquant si la pile est vide ou pas |\n",
    "| `creer_pile() -> Pile[T]` | aucun paramètre et renvoie une pile vide capable de contenir n'importe quel type d'élément `T` |\n",
    "| `empiler(p: Pile[T], e: T) -> None` | ajout de l'élément `e` au sommet de la pile `p` (*push* en anglais), fonction qui prend en paramètre une pile `p`  et l'élément `e` de type `T` homogène avec celui des éléments de la pile |\n",
    "| `depiler(p: Pile[T]) -> T` | retrait de l'élément au sommet de la pile `p` (*pop* en anglais) qui prend en paramètre la pile `p` et renvoie l'élément qui en a été retiré. On suppose que la pile est non vide et une exception est levée le cas échéant |\n",
    "\n"
   ]
  },
  {
   "cell_type": "markdown",
   "id": "73ab1cd4",
   "metadata": {
    "tags": [
     "exemple"
    ]
   },
   "source": [
    "Exemple d'utilisation des piles : Considérons un navigateur web dans lequel on s'intéresse à deux opérations : **aller** à une nouvelle page et **revenir** à la page précédente. On veut que le bouton de retour en arrière permette de remonter une à une les pages précédentes, et ce jusqu'au début de la navigation. \n",
    "\n",
    "En plus de l'adresse courante, qui peut être stockée dans une variable à part, il nous faut donc conserver l'ensemble des pages précédentes auxquelles il est possible de revenir. *Puisque le retour en arrière se fait vers la dernière page qui a été quittée*, la discipline ***dernier entré, premier sorti*** des piles est exactement ce dont nous avons besoin pour cet ensemble."
   ]
  },
  {
   "cell_type": "markdown",
   "id": "6512c9f3",
   "metadata": {},
   "source": [
    "## 6.4 --- Interface et utilisation d'une file"
   ]
  },
  {
   "cell_type": "markdown",
   "id": "b6ea933d",
   "metadata": {},
   "source": [
    "Comme pour les piles, on note `File[T]` le type des files contenant des éléments de type `T`.\n",
    "\n",
    "| **interface** | **explications et commentaires** |\n",
    "|-|-|\n",
    "| `File[T]` | le type des files contenant des éléments de type `T` |\n",
    "| `creer_file() -> File[T]` | créer une file vide |\n",
    "| `est_vide(f: File[T]) -> bool` | renvoie `True` si `f` est vide et `False` sinon |\n",
    "| `enfiler(f: File[T], e) -> None` | ajoute l'élément `e` à la fin de la file `f` |\n",
    "| `defiler(f: File[T]) -> T` | retirer et renvoyer l'élément situé au début de la file `f` |"
   ]
  },
  {
   "cell_type": "markdown",
   "id": "9dfcca66",
   "metadata": {
    "tags": [
     "exemle"
    ]
   },
   "source": [
    "Exemple d'utilisation des files : Considérons le jeu de cartes de la bataille. Chaque joueur possède un paquet de cartes et pose à chaque manche la carte prise **sur le dessus du paquet**. Le vainqueur de la manche récupère alors les cartes posées, pour les placer **au-dessous de son paquet**.\n",
    "\n",
    "En plus des cartes posées au centre de la table nous avons besoin de conserver en mémoire le paquet de cartes de chaque joueur. *Puisque les cartes sont remises dans un paquet à une extrémité et prélevées à l'autre*, la discipline ***premier entré, premier sorti*** des files est exactement ce dont nous avons besoin pour chacun de ces ensembles."
   ]
  },
  {
   "cell_type": "markdown",
   "id": "d92bf99b",
   "metadata": {},
   "source": [
    "## 6.5 --- Réalisation d'une pile avec une liste chaînée"
   ]
  },
  {
   "cell_type": "markdown",
   "id": "d9aec2f3",
   "metadata": {},
   "source": [
    "La structure de **liste chaînée** donne une manière élémentaire de réaliser une pile. Empiler un nouvel élément revient à ajouter un nouveau maillon en tête de liste, tandis que dépiler un élément revient à supprimer le maillon de tête.\n",
    "\n",
    "On peut ainsi construire une classe `Pile` définie par un unique attribut contenu associé à l'ensemble des éléments de la pile, stockés sous la forme d'une liste chaînée."
   ]
  },
  {
   "cell_type": "markdown",
   "id": "ab05ba8a",
   "metadata": {
    "tags": [
     "exo"
    ]
   },
   "source": [
    "Implémenter le constructeur de la classe `Pile` qui construit une pile vide en définissant son attribut `contenu` comme la liste vide `None`.\n",
    "\n",
    "Exemple et test :\n",
    "\n",
    "        >>> p = Pile()\n",
    "        >>> print(p.contenu)\n",
    "        None\n"
   ]
  },
  {
   "cell_type": "code",
   "execution_count": 2,
   "id": "596a8abb",
   "metadata": {},
   "outputs": [
    {
     "data": {
      "text/plain": [
       "TestResults(failed=0, attempted=2)"
      ]
     },
     "execution_count": 2,
     "metadata": {},
     "output_type": "execute_result"
    }
   ],
   "source": [
    "from doctest import testmod\n",
    "\n",
    "\n",
    "class Maillon:\n",
    "    \"\"\" Maillon d'une liste chaînée \"\"\"\n",
    "    def __init__(self, valeur, suivant):\n",
    "        self.valeur  = valeur\n",
    "        self.suivant = suivant\n",
    "\n",
    "class Pile:\n",
    "    \"\"\"\n",
    "    Encapsulation des piles à l'aide des Maillons de listes chaînées.\n",
    "    \"\"\"\n",
    "    def __init__(self):\n",
    "        \"\"\"\n",
    "        Constructeur de Pile.\n",
    "\n",
    "        Exemple et tests:\n",
    "        >>> p = Pile()\n",
    "        >>> print(p.contenu)\n",
    "        None\n",
    "        \"\"\"\n",
    "        self.contenu = None\n",
    "\n",
    "\n",
    "# tests de la classe\n",
    "testmod()"
   ]
  },
  {
   "cell_type": "markdown",
   "id": "2f1bda3c",
   "metadata": {
    "tags": [
     "exo"
    ]
   },
   "source": [
    "Étendre la classe `Pile` en implémentant la méthode `est_vide`.\n",
    "\n",
    "Exemples et tests :\n",
    "\n",
    "        >>> p = Pile()\n",
    "        >>> print(p.est_vide())\n",
    "        True\n",
    "        >>> p.contenu = Maillon(1, None)\n",
    "        >>> print(p.est_vide())\n",
    "        False"
   ]
  },
  {
   "cell_type": "code",
   "execution_count": 3,
   "id": "d2a7c9de",
   "metadata": {},
   "outputs": [
    {
     "data": {
      "text/plain": [
       "TestResults(failed=0, attempted=4)"
      ]
     },
     "execution_count": 3,
     "metadata": {},
     "output_type": "execute_result"
    }
   ],
   "source": [
    "# attention, lorsqu'on implémente une \n",
    "# classe en une seule fois, il faut écrire\n",
    "# `class Pile:`.\n",
    "# La syntaxe `class Pile(Ma_Classe):` est utilisée\n",
    "# dans ce notebook (et dans les juges en lignes)\n",
    "# pour étendre la classe existante Ma_Classe et lui\n",
    "# ajouter de nouvelles méthodes.\n",
    "#\n",
    "# Ici, la classe Pile s'étend elle même !\n",
    "\n",
    "class Pile(Pile):\n",
    "    def est_vide(self) -> bool:\n",
    "        \"\"\"\n",
    "        Est ce que la pile est vide ?\n",
    "\n",
    "        Returns:\n",
    "            bool: True si et seulement si la pile est vide\n",
    "\n",
    "        Exemple et test:\n",
    "        >>> p = Pile()\n",
    "        >>> print(p.est_vide())\n",
    "        True\n",
    "        >>> p.contenu = Maillon(1, None)\n",
    "        >>> print(p.est_vide())\n",
    "        False\n",
    "        \"\"\"\n",
    "        return self.contenu is None\n",
    "\n",
    "\n",
    "testmod()"
   ]
  },
  {
   "cell_type": "markdown",
   "id": "0bbc0ee8",
   "metadata": {
    "tags": [
     "exo"
    ]
   },
   "source": [
    "Implémenter la méthode `empiler` dans la classe `Pile`. Pour cela construire une nouvelle liste chaînée dont le premier maillon contient :\n",
    "\n",
    "- valeur : la valeur à empiler\n",
    "- suivant : le premier maillon de la liste d'origine de la pile\n",
    "\n",
    "Puis mettre à jour le contenu de la pile avec cette nouvelle liste.\n",
    "\n",
    "\n",
    "Exemple et tests:\n",
    "\n",
    "        >>> p = Pile()\n",
    "        >>> p.empiler(1)\n",
    "        >>> assert not p.est_vide()\n",
    "        >>> print(p.contenu.valeur)\n",
    "        1\n",
    "        >>> p.empiler(2)\n",
    "        >>> print(p.contenu.valeur)\n",
    "        2"
   ]
  },
  {
   "cell_type": "markdown",
   "id": "b965560a",
   "metadata": {},
   "source": [
    "![Empiler un maillon](img-empiler.png)"
   ]
  },
  {
   "cell_type": "code",
   "execution_count": 4,
   "id": "bbcac215",
   "metadata": {},
   "outputs": [
    {
     "data": {
      "text/plain": [
       "TestResults(failed=0, attempted=6)"
      ]
     },
     "execution_count": 4,
     "metadata": {},
     "output_type": "execute_result"
    }
   ],
   "source": [
    "\n",
    "# attention, lorsqu'on implémente une \n",
    "# classe en une seule fois, il faut écrire\n",
    "# `class Pile:`.\n",
    "# La syntaxe `class Pile(Ma_Classe):` est utilisée\n",
    "# dans ce notebook (et dans les juges en lignes)\n",
    "# pour étendre la classe existante Ma_Classe et lui\n",
    "# ajouter de nouvelles méthodes.\n",
    "#\n",
    "# Ici, la classe Pile s'étend elle même !\n",
    "\n",
    "class Pile(Pile):\n",
    "    def empiler(self, valeur):\n",
    "            \"\"\"\n",
    "            Empile valeur dans la pile courante.\n",
    "\n",
    "            Args:\n",
    "                valeur (T): valeur à empiler\n",
    "\n",
    "            Exemple et tests:\n",
    "            >>> p = Pile()\n",
    "            >>> p.empiler(1)\n",
    "            >>> assert not p.est_vide()\n",
    "            >>> print(p.contenu.valeur)\n",
    "            1\n",
    "            >>> p.empiler(2)\n",
    "            >>> print(p.contenu.valeur)\n",
    "            2\n",
    "            \"\"\"\n",
    "            tete_courante = self.contenu\n",
    "            tete_nouvelle = Maillon(valeur, tete_courante)\n",
    "            self.contenu = tete_nouvelle\n",
    "\n",
    "            # version courte ;)\n",
    "            # self.contenu = Maillon(valeur, self.contenu)\n",
    "\n",
    "\n",
    "testmod()"
   ]
  },
  {
   "cell_type": "markdown",
   "id": "3fe3fe4d",
   "metadata": {
    "tags": [
     "exo"
    ]
   },
   "source": [
    "Pour finir, implémenter `depiler` afin de récupérer la valeur au sommet de la pile. \n",
    "\n",
    "Si la pile est vide, lever une exception indiquant : `\"IndexError: depiler sur une pile vide\"`. \n",
    "\n",
    "Sinon, il faut récupérer la valeur du premier maillon puis retirer ce maillon de la liste chaînée. Pour cela, le nouveau maillon de tête doit être le maillon suivant du maillon supprimé.\n",
    "\n",
    "Enfin, après la mise à jour de la liste chaînée, il faut renvoyer la valeur qui avait été prélevée dans le maillon de tête d'origine.\n",
    "\n",
    "\n",
    "Exemple et tests:\n",
    "\n",
    "        >>> p = Pile()\n",
    "        >>> p.empiler(1)\n",
    "        >>> p.empiler(2)\n",
    "        >>> v = p.depiler()\n",
    "        >>> print(v)\n",
    "        2\n",
    "        >>> v = p.depiler()\n",
    "        >>> print(v)\n",
    "        1\n",
    "        >>> v = p.depiler()\n",
    "        Traceback (most recent call last):\n",
    "        IndexError: depiler sur une pile vide"
   ]
  },
  {
   "cell_type": "markdown",
   "id": "c156a044",
   "metadata": {},
   "source": [
    "![Algorithme pour depiler](img-depiler.png)"
   ]
  },
  {
   "cell_type": "code",
   "execution_count": 5,
   "id": "274065de",
   "metadata": {},
   "outputs": [
    {
     "data": {
      "text/plain": [
       "TestResults(failed=0, attempted=8)"
      ]
     },
     "execution_count": 5,
     "metadata": {},
     "output_type": "execute_result"
    }
   ],
   "source": [
    "# attention, lorsqu'on implémente une \n",
    "# classe en une seule fois, il faut écrire\n",
    "# `class Pile:`.\n",
    "# La syntaxe `class Pile(Ma_Classe):` est utilisée\n",
    "# dans ce notebook (et dans les juges en lignes)\n",
    "# pour étendre la classe existante Ma_Classe et lui\n",
    "# ajouter de nouvelles méthodes.\n",
    "#\n",
    "# Ici, la classe Pile s'étend elle même !\n",
    "\n",
    "\n",
    "class Pile(Pile):\n",
    "    def depiler(self):\n",
    "        \"\"\"\n",
    "        Dépile la valeur de tête de la pile.\n",
    "\n",
    "        Raises:\n",
    "            IndexError: si la pile est vide\n",
    "\n",
    "        Returns:\n",
    "            T: valeur de tête de la pile\n",
    "\n",
    "        Exemple et tests:\n",
    "        >>> p = Pile()\n",
    "        >>> p.empiler(1)\n",
    "        >>> p.empiler(2)\n",
    "        >>> v = p.depiler()\n",
    "        >>> print(v)\n",
    "        2\n",
    "        >>> v = p.depiler()\n",
    "        >>> print(v)\n",
    "        1\n",
    "        >>> v = p.depiler()\n",
    "        Traceback (most recent call last):\n",
    "        IndexError: depiler sur une pile vide\n",
    "        \"\"\"\n",
    "        if self.est_vide():\n",
    "            raise IndexError(\"depiler sur une pile vide\")\n",
    "        \n",
    "        tete = self.contenu\n",
    "        valeur_tete = tete.valeur\n",
    "        maillon_suivant = tete.suivant\n",
    "        self.contenu = maillon_suivant\n",
    "        \n",
    "        return valeur_tete\n",
    "\n",
    "\n",
    "testmod()"
   ]
  },
  {
   "cell_type": "markdown",
   "id": "6eaa10a1",
   "metadata": {},
   "source": [
    "## 6.6 --- Réalisation d'une file avec une liste mutable"
   ]
  },
  {
   "cell_type": "markdown",
   "id": "603383d7",
   "metadata": {},
   "source": [
    "La structure de liste chaînée donne également une manière de réaliser une file, à condition de considérer la variante des *listes chaînées mutables*. \n",
    "\n",
    "En effet, on peut retirer l'élément de tête en\n",
    "retirant le maillon de tête. MAIS, l'ajout d'un nouvel élément à l'arrière de la file revient à ajouter un nouveau maillon en queue de liste. **Une mutation intervient** à cet endroit : alors que le maillon qui était le dernier de la liste chaînée avant l'ajout n'avait pas de suivant définie, il a comme suivant après l'ajout le nouveau maillon créé pour le nouvel élément."
   ]
  },
  {
   "cell_type": "markdown",
   "id": "c9ffeb9c",
   "metadata": {},
   "source": [
    "Autre différence avec la structure de pile, il faut accéder *efficacement* au dernier maillon.\n",
    "\n",
    "Pour cela, le plus intéressant est de conserver dans notre structure de donnée un attribut permettant d'accéder directement au dernier maillon."
   ]
  },
  {
   "cell_type": "markdown",
   "id": "91c7dd24",
   "metadata": {
    "tags": [
     "exo"
    ]
   },
   "source": [
    "On peut ainsi construire une classe `File` dont le constructeur définit deux\n",
    "attributs, l'un appelé `tete` et l'autre appelé `queue`, et désignant respectivement le premier maillon et le dernier maillon de la liste chaînée utilisée pour stocker les éléments.\n",
    "\n",
    "Implémenter le constructeur de la classe `File` qui définit les deux attributs `tete` et `queue` et les initialise à `None`.\n",
    "\n",
    "Exemples et tests:\n",
    "\n",
    "        >>> f = File()\n",
    "        >>> print(f.tete)\n",
    "        None\n",
    "        >>> print(f.queue)\n",
    "        None"
   ]
  },
  {
   "cell_type": "code",
   "execution_count": 6,
   "id": "ed5d4d95",
   "metadata": {},
   "outputs": [
    {
     "data": {
      "text/plain": [
       "TestResults(failed=0, attempted=11)"
      ]
     },
     "execution_count": 6,
     "metadata": {},
     "output_type": "execute_result"
    }
   ],
   "source": [
    "class Maillon:\n",
    "    \"\"\" Maillon d'une liste chaînée \"\"\"\n",
    "    def __init__(self, valeur, suivant):\n",
    "        self.valeur  = valeur\n",
    "        self.suivant = suivant\n",
    "\n",
    "class File:\n",
    "    def __init__(self):\n",
    "        \"\"\"\n",
    "        Exemples et tests:\n",
    "        >>> f = File()\n",
    "        >>> print(f.tete)\n",
    "        None\n",
    "        >>> print(f.queue)\n",
    "        None\n",
    "        \"\"\"\n",
    "        self.tete  = None\n",
    "        self.queue = None\n",
    "\n",
    "\n",
    "testmod()"
   ]
  },
  {
   "cell_type": "markdown",
   "id": "95a9c446",
   "metadata": {
    "tags": [
     "exo"
    ]
   },
   "source": [
    "La file vide est caractérisée par le fait qu'elle ne contient aucun maillon.\n",
    "En conséquence, sa tête et sa queue sont indéfinies. En outre, l'un comme\n",
    "l'autre ne peut valoir `None` que dans ce cas. Pour tester la vacuité de la file, il suffit donc de consulter l'un des deux attributs.\n",
    "\n",
    "Implémenter la méthode `est_vide()` qui renvoie `True` si et seulement si l'attribut `tete` vaut `None`.\n",
    "\n",
    "Exemples et tests:\n",
    "\n",
    "        >>> f = File()\n",
    "        >>> print(f.est_vide())\n",
    "        True\n",
    "        >>> f.tete = Maillon(1, None)\n",
    "        >>> print(f.est_vide())\n",
    "        False"
   ]
  },
  {
   "cell_type": "code",
   "execution_count": 7,
   "id": "52b17735",
   "metadata": {},
   "outputs": [
    {
     "data": {
      "text/plain": [
       "TestResults(failed=0, attempted=12)"
      ]
     },
     "execution_count": 7,
     "metadata": {},
     "output_type": "execute_result"
    }
   ],
   "source": [
    "# attention, lorsqu'on implémente une \n",
    "# classe en une seule fois, il faut écrire\n",
    "# `class File:`.\n",
    "# La syntaxe `class File(Ma_Classe):` est utilisée\n",
    "# dans ce notebook (et dans les juges en lignes)\n",
    "# pour étendre la classe existante Ma_Classe et lui\n",
    "# ajouter de nouvelles méthodes.\n",
    "#\n",
    "# Ici, la classe File s'étend elle même !\n",
    " \n",
    "class File(File):\n",
    "\n",
    "    def est_vide(self):\n",
    "        \"\"\"\n",
    "        Est ce que la file est vide?\n",
    "\n",
    "        Returns:\n",
    "            bool: True ssi la file est vide\n",
    "        \n",
    "        Exemples et tests:\n",
    "        >>> f = File()\n",
    "        >>> print(f.est_vide())\n",
    "        True\n",
    "        >>> f.tete = Maillon(1, None)\n",
    "        >>> print(f.est_vide())\n",
    "        False\n",
    "        \"\"\"\n",
    "        return self.tete is None\n",
    "    \n",
    "\n",
    "\n",
    "testmod()"
   ]
  },
  {
   "cell_type": "markdown",
   "id": "c7df2dd3",
   "metadata": {},
   "source": [
    "L'ajout d'un nouvel élément à l'arrière de la file demande de créer un nouveau maillon. Ce maillon prend la dernière place, et n'a donc pas de maillon suivant.\n",
    "\n",
    "Ce maillon est alors définie comme suivant le maillon de queue actuel.\n",
    "\n",
    "On a cependant besoin de traiter le cas particulier où il n'existe pas de maillon de queue, qui correspond à une file initialement vide. Dans ce cas le nouveau maillon devient l'unique maillon de la file, et donc son maillon de tête.\n",
    "\n",
    "Pour finir, dans tous les cas, notre nouveau maillon devient en outre le nouveau maillon de de queue de la file."
   ]
  },
  {
   "cell_type": "markdown",
   "id": "b8644f06",
   "metadata": {
    "tags": [
     "exo"
    ]
   },
   "source": [
    "En suivant l'algorithme décrit ci-dessus, implémenter la méthode `enfiler` qui admet comme argument une `valeur` à ajouter en queue de file.\n",
    "\n",
    "Exemples et tests:\n",
    "\n",
    "        >>> f = File()\n",
    "        >>> f.enfiler(1)\n",
    "        >>> print(f.tete.valeur)\n",
    "        1\n",
    "        >>> print(f.queue.valeur)\n",
    "        1\n",
    "        >>> f.enfiler(2)\n",
    "        >>> f.enfiler(3)\n",
    "        >>> print(f.tete.valeur)\n",
    "        1\n",
    "        >>> print(f.queue.valeur)\n",
    "        3"
   ]
  },
  {
   "cell_type": "markdown",
   "id": "8e3d6d77",
   "metadata": {},
   "source": [
    "![Algorithme pour enfiler une valeur](img-enfiler.png)"
   ]
  },
  {
   "cell_type": "code",
   "execution_count": 8,
   "id": "5e6fd8c7",
   "metadata": {},
   "outputs": [
    {
     "data": {
      "text/plain": [
       "TestResults(failed=0, attempted=16)"
      ]
     },
     "execution_count": 8,
     "metadata": {},
     "output_type": "execute_result"
    }
   ],
   "source": [
    "class File(File):\n",
    "    def enfiler(self, valeur):\n",
    "        \"\"\"\n",
    "        Ajoute la valeur à la fin de la file\n",
    "\n",
    "        Args:\n",
    "            valeur (T): valeur à ajouter\n",
    "        \n",
    "        Exemples et tests:\n",
    "        >>> f = File()\n",
    "        >>> f.enfiler(1)\n",
    "        >>> print(f.tete.valeur)\n",
    "        1\n",
    "        >>> print(f.queue.valeur)\n",
    "        1\n",
    "        >>> f.enfiler(2)\n",
    "        >>> f.enfiler(3)\n",
    "        >>> print(f.tete.valeur)\n",
    "        1\n",
    "        >>> print(f.queue.valeur)\n",
    "        3\n",
    "        \"\"\"\n",
    "        nouveau = Maillon(valeur, None)\n",
    "\n",
    "        if self.est_vide():\n",
    "            self.tete = nouveau\n",
    "        else:\n",
    "            self.queue.suivant = nouveau\n",
    "        \n",
    "        self.queue = nouveau\n",
    "\n",
    "\n",
    "testmod()"
   ]
  },
  {
   "cell_type": "markdown",
   "id": "004e4103",
   "metadata": {},
   "source": [
    "Pour retirer un élément il s'agit de supprimer le premier maillon de la file,\n",
    "exactement comme il avait été fait lors de l'utilisation d'une liste chaînée\n",
    "pour réaliser une pile. Cependant, si le maillon retiré est le dernier, on veut également redéfinir l'attribut `self.queue` à `None`, afin de maintenir\n",
    "notre invariant qu'une file vide a ses deux attributs qui valent `None`."
   ]
  },
  {
   "cell_type": "markdown",
   "id": "85f41bad",
   "metadata": {
    "tags": [
     "exo"
    ]
   },
   "source": [
    "Implémenter la méthode `defiler` qui retire le premier maillon de la file et renvoie la valeur de ce maillon.\n",
    "\n",
    "Exemples et tests:\n",
    "\n",
    "        >>> f = File()\n",
    "        >>> f.enfiler(1)\n",
    "        >>> f.enfiler(2)\n",
    "        >>> f.enfiler(3)\n",
    "        >>> print( f.defiler() )\n",
    "        1\n",
    "        >>> assert f.queue.valeur == 3\n",
    "        >>> print( f.defiler() )\n",
    "        2\n",
    "        >>> assert f.queue.valeur == 3\n",
    "        >>> print( f.defiler() )\n",
    "        3\n",
    "        >>> assert f.tete  == None\n",
    "        >>> assert f.queue == None\n",
    "        >>> f.defiler()\n",
    "        Traceback (most recent call last):\n",
    "        IndexError: defiler sur une file vide"
   ]
  },
  {
   "cell_type": "markdown",
   "id": "c8773ddc",
   "metadata": {},
   "source": [
    "![Algorithme pour defiler une valeur](img-defiler.png)"
   ]
  },
  {
   "cell_type": "code",
   "execution_count": 9,
   "id": "506b0da6",
   "metadata": {},
   "outputs": [
    {
     "data": {
      "text/plain": [
       "TestResults(failed=0, attempted=20)"
      ]
     },
     "execution_count": 9,
     "metadata": {},
     "output_type": "execute_result"
    }
   ],
   "source": [
    "class File(File):\n",
    "    def defiler(self):\n",
    "        \"\"\"\n",
    "        Supprime et renvoie le premier élément de la file\n",
    "\n",
    "        Raises:\n",
    "            IndexError: si la file est vide\n",
    "\n",
    "        Returns:\n",
    "            T: valeur du premier élément de la file\n",
    "        \n",
    "        Exemples et tests:\n",
    "        >>> f = File()\n",
    "        >>> f.enfiler(1)\n",
    "        >>> f.enfiler(2)\n",
    "        >>> f.enfiler(3)\n",
    "        >>> print( f.defiler() )\n",
    "        1\n",
    "        >>> assert f.queue.valeur == 3\n",
    "        >>> print( f.defiler() )\n",
    "        2\n",
    "        >>> assert f.queue.valeur == 3\n",
    "        >>> print( f.defiler() )\n",
    "        3\n",
    "        >>> assert f.tete  == None\n",
    "        >>> assert f.queue == None\n",
    "        >>> f.defiler()\n",
    "        Traceback (most recent call last):\n",
    "        IndexError: defiler sur une file vide\n",
    "        \"\"\"\n",
    "        if self.est_vide():\n",
    "            raise IndexError(\"defiler sur une file vide\")\n",
    "        \n",
    "        valeur = self.tete.valeur\n",
    "        self.tete = self.tete.suivant\n",
    "\n",
    "        if self.tete is None:\n",
    "            self.queue = None\n",
    "\n",
    "        return valeur\n",
    "\n",
    "\n",
    "testmod()"
   ]
  },
  {
   "cell_type": "markdown",
   "id": "3087c9a7",
   "metadata": {},
   "source": [
    "\n",
    "\n",
    "## 6.7 --- Réalisation d'une pile avec les tableaux de Python"
   ]
  },
  {
   "cell_type": "markdown",
   "id": "58dd42b3",
   "metadata": {
    "tags": [
     "exo"
    ]
   },
   "source": [
    "Les tableaux de Python réalisent également directement une structure de pile, avec leurs opérations `append` et `pop` qui s'exécutent en moyenne en temps constant. Cette richesse des tableaux redimensionnables propre au langage Python peut donc donner une définition en apparence très simple à une autre version de la classe `Pile`.\n",
    "\n",
    "Implémenter la classe `Pile` en utilisant la structure `list` pour y stocker les valeurs.\n",
    "\n",
    "Exemples et tests :\n",
    "\n",
    "    >>> p = Pile()\n",
    "    >>> print(p.contenu)\n",
    "    []\n",
    "\n",
    "    >>> print(p.est_vide())\n",
    "    True\n",
    "\n",
    "    >>> p.empiler(1)\n",
    "    >>> print(p.est_vide())\n",
    "    False\n",
    "    >>> print(p.contenu)\n",
    "    [1]\n",
    "    >>> p.empiler(2)\n",
    "    >>> p.empiler(3)\n",
    "    >>> print(p.contenu)\n",
    "    [1, 2, 3]\n",
    "\n",
    "    >>> v = p.depiler()\n",
    "    >>> print(v)\n",
    "    3\n",
    "    >>> v = p.depiler()\n",
    "    >>> print(v)\n",
    "    2\n",
    "    >>> v = p.depiler()\n",
    "    >>> print(v)\n",
    "    1\n",
    "    >>> v = p.depiler()\n",
    "    Traceback (most recent call last):\n",
    "    IndexError: depiler sur une pile vide\n",
    "     \n"
   ]
  },
  {
   "cell_type": "code",
   "execution_count": 10,
   "id": "25418c80",
   "metadata": {},
   "outputs": [
    {
     "data": {
      "text/plain": [
       "TestResults(failed=0, attempted=34)"
      ]
     },
     "execution_count": 10,
     "metadata": {},
     "output_type": "execute_result"
    }
   ],
   "source": [
    "class Pile:\n",
    "    \"\"\"\n",
    "    Classe Pile\n",
    "    (implémentée avec les tableaux Python)\n",
    "    \"\"\"\n",
    "    def __init__(self):\n",
    "        \"\"\"        \n",
    "        Exemples et tests :\n",
    "        >>> p = Pile()\n",
    "        >>> print(p.contenu)\n",
    "        []\n",
    "        \"\"\"\n",
    "        self.contenu = []\n",
    "    \n",
    "    def est_vide(self):\n",
    "        \"\"\"\n",
    "        Exemples et tests :\n",
    "        >>> p = Pile()\n",
    "        >>> print(p.est_vide())\n",
    "        True\n",
    "        \"\"\"\n",
    "        return self.contenu == []\n",
    "    \n",
    "    def empiler(self, valeur):\n",
    "        \"\"\"\n",
    "        Exemples et tests :\n",
    "        >>> p = Pile()\n",
    "        >>> p.empiler(1)\n",
    "        >>> print(p.est_vide())\n",
    "        False\n",
    "        >>> print(p.contenu)\n",
    "        [1]\n",
    "        >>> p.empiler(2)\n",
    "        >>> p.empiler(3)\n",
    "        >>> print(p.contenu)\n",
    "        [1, 2, 3]\n",
    "        \"\"\"\n",
    "        self.contenu.append(valeur)\n",
    "\n",
    "    def depiler(self):\n",
    "        \"\"\"\n",
    "        Exemples et tests :\n",
    "        >>> p = Pile()\n",
    "        >>> p.empiler(1)\n",
    "        >>> p.empiler(2)\n",
    "        >>> p.empiler(3)\n",
    "        >>> v = p.depiler()\n",
    "        >>> print(v)\n",
    "        3\n",
    "        >>> v = p.depiler()\n",
    "        >>> print(v)\n",
    "        2\n",
    "        >>> v = p.depiler()\n",
    "        >>> print(v)\n",
    "        1\n",
    "        >>> v = p.depiler()\n",
    "        Traceback (most recent call last):\n",
    "        IndexError: depiler sur une pile vide\n",
    "        \"\"\"\n",
    "        if self.est_vide():\n",
    "            raise IndexError(\"depiler sur une pile vide\")\n",
    "        return self.contenu.pop()\n",
    "\n",
    "\n",
    "testmod()"
   ]
  },
  {
   "cell_type": "markdown",
   "id": "fe04795b",
   "metadata": {},
   "source": [
    "\n",
    "\n",
    "## 6.8 --- Réaliser une file avec deux piles"
   ]
  },
  {
   "cell_type": "markdown",
   "id": "795619a9",
   "metadata": {},
   "source": [
    "Une réalisation radicalement différente de cette même structure de file consiste à utiliser **deux piles**."
   ]
  },
  {
   "cell_type": "markdown",
   "id": "ab9c4208",
   "metadata": {
    "tags": [
     "exemple"
    ]
   },
   "source": [
    "Illustrons cette construction par un exemple.\n",
    "\n",
    "On prend pour cela modèle sur un jeu de cartes où l'on disposerait d'une pioche, au sommet de laquelle on prend des cartes (disposées face cachée), et d'une défausse, au sommet de laquelle on en repose (disposées face visible).\n",
    "\n",
    "Chacun de ces deux paquets de cartes est une **pile**, et ces deux paquets forment ensemble la réserve de cartes. On a ensuite la discipline suivante :\n",
    "\n",
    "- toute carte prise dans la réserve est retirée dans l'une de ces piles (la pioche),\n",
    "- toute carte remise dans la réserve est ajoutée à l'autre pile (la défausse)\n",
    "\n",
    "S'ajoute un mécanisme liant les deux paquets: une fois la pioche vide on retourne la défausse pour en faire une nouvelle pioche, laissant à la place une défausse vide.\n",
    "\n",
    "Cette gestion des cartes correspond à une structure de file : une fois la pioche initiale vidée, les cartes seront piochées précisément dans l'ordre dans lequel elles ont été défaussées. \n",
    "\n",
    "*La première défaussée sera la première piochée* (**FIFO**)."
   ]
  },
  {
   "cell_type": "markdown",
   "id": "2a4e5e44",
   "metadata": {},
   "source": [
    "On peut donc définir une nouvelle version de la classe `File` utilisant ce principe. Une file réalisée ainsi est caractérisée par deux attributs `entree` et `sortie` :\n",
    "\n",
    "- le premier contenant une pile dans laquelle on ajoute les nouveaux éléments et\n",
    "- le second une pile d'où l'on prend les éléments retirés.\n"
   ]
  },
  {
   "cell_type": "markdown",
   "id": "e6e9c760",
   "metadata": {},
   "source": [
    "Une file ainsi crée est vide lorsque ces deux piles sont toutes les deux vides."
   ]
  },
  {
   "cell_type": "markdown",
   "id": "01445d74",
   "metadata": {},
   "source": [
    "Ajouter un nouvel élément consiste simplement à empiler cet élément sur la pile d'entrée."
   ]
  },
  {
   "cell_type": "markdown",
   "id": "36769512",
   "metadata": {},
   "source": [
    "Retirer un élément est l'opération la plus délicate.\n",
    "\n",
    "1. Pour commencer, deux cas de figures :\n",
    "   - Si la pile de sortie **n'est pas vide** (cas simple), il suffit de dépiler son premier élément.\n",
    "   - Sinon la pile de sortie **est vide** (cas délicat). Il faut alors commencer par retourner la pile d'entrée pour la mettre à la place de la pile de sortie. On peut réaliser cette opération intermédiaire en transférant un à un tous les éléments de la pile d'entrée sur la pile de sortie. En effet, le premier élément prélevé sur la pile d'entrée est le dernier entrant (discipline LIFO de la pile utilisée), c'est-à-dire celui qui devra sortir de la file après tous les autres (discipline FIFO de la file que l'on veut réaliser), et il sortira bien le dernier puisqu'il sera ajouté le premier sur la pile de sortie (discipline LIFO de la pile utilisée).\n",
    "2. On peut alors maintenant dépiler le premier élément de la nouvelle pile de sortie, qui, s'il y a eu retournement, était auparavant le dernier élément de la pile d'entrée. À moins que cette pile soit encore vide (ce qui signifierait que les deux piles étaient vide), et donc la file est également vide.\n",
    "\n"
   ]
  },
  {
   "cell_type": "markdown",
   "id": "cb8affa6",
   "metadata": {
    "tags": [
     "exo"
    ]
   },
   "source": [
    "Implémenter la classe File en utilisant deux pile. \n",
    "\n",
    "Exemples et tests :\n",
    "\n",
    "        >>> f = File()\n",
    "        >>> print(type(f.entree))\n",
    "        <class '__main__.Pile'>\n",
    "        >>> print(type(f.sortie))\n",
    "        <class '__main__.Pile'>\n",
    "\n",
    "        >>> f = File()\n",
    "        >>> print(f.est_vide())\n",
    "        True\n",
    "        >>> f.entree.empiler(1)\n",
    "        >>> print(f.est_vide())\n",
    "        False\n",
    "        >>> f.entree.depiler()\n",
    "        1\n",
    "        >>> f.sortie.empiler(1)\n",
    "        >>> print(f.est_vide())\n",
    "        False\n",
    "\n",
    "        >>> f = File()\n",
    "        >>> f.enfiler(1)\n",
    "        >>> f.enfiler(2)\n",
    "        >>> f.enfiler(3)\n",
    "        >>> f.entree.depiler()\n",
    "        3\n",
    "        >>> f.entree.depiler()\n",
    "        2\n",
    "        >>> f.entree.depiler()\n",
    "        1\n",
    "\n",
    "        >>> f = File()\n",
    "        >>> f.enfiler(1)\n",
    "        >>> f.enfiler(2)\n",
    "        >>> f.enfiler(3)\n",
    "        >>> f.defiler()\n",
    "        1\n",
    "        >>> f.defiler()\n",
    "        2\n",
    "        >>> f.defiler()\n",
    "        3\n",
    "        >>> f.defiler()\n",
    "        Traceback (most recent call last):\n",
    "        IndexError: defiler sur file vide\n",
    "\n"
   ]
  },
  {
   "cell_type": "code",
   "execution_count": 12,
   "id": "c6a0c782",
   "metadata": {},
   "outputs": [
    {
     "data": {
      "text/plain": [
       "TestResults(failed=0, attempted=47)"
      ]
     },
     "execution_count": 12,
     "metadata": {},
     "output_type": "execute_result"
    }
   ],
   "source": [
    "class File:\n",
    "    def __init__(self):\n",
    "        \"\"\" \n",
    "        Exemples et tests:\n",
    "        >>> f = File()\n",
    "        >>> print(type(f.entree))\n",
    "        <class '__main__.Pile'>\n",
    "        >>> print(type(f.sortie))\n",
    "        <class '__main__.Pile'>\n",
    "        \"\"\"\n",
    "        self.entree = Pile()\n",
    "        self.sortie = Pile()\n",
    "\n",
    "    def est_vide(self):\n",
    "        \"\"\" \n",
    "        Exemples et tests :\n",
    "        >>> f = File()\n",
    "        >>> print(f.est_vide())\n",
    "        True\n",
    "        >>> f.entree.empiler(1)\n",
    "        >>> print(f.est_vide())\n",
    "        False\n",
    "        >>> f.entree.depiler()\n",
    "        1\n",
    "        >>> f.sortie.empiler(1)\n",
    "        >>> print(f.est_vide())\n",
    "        False\n",
    "        \"\"\"\n",
    "        return self.entree.est_vide() and self.sortie.est_vide()\n",
    "\n",
    "\n",
    "    def enfiler(self, valeur):\n",
    "        \"\"\" \n",
    "        Exemples et tests\n",
    "        >>> f = File()\n",
    "        >>> f.enfiler(1)\n",
    "        >>> f.enfiler(2)\n",
    "        >>> f.enfiler(3)\n",
    "        >>> f.entree.depiler()\n",
    "        3\n",
    "        >>> f.entree.depiler()\n",
    "        2\n",
    "        >>> f.entree.depiler()\n",
    "        1\n",
    "        \"\"\"\n",
    "        self.entree.empiler(valeur)\n",
    "\n",
    "    def defiler(self):\n",
    "        \"\"\" \n",
    "        Exemples et tests :\n",
    "        >>> f = File()\n",
    "        >>> f.enfiler(1)\n",
    "        >>> f.enfiler(2)\n",
    "        >>> f.enfiler(3)\n",
    "        >>> f.defiler()\n",
    "        1\n",
    "        >>> f.defiler()\n",
    "        2\n",
    "        >>> f.defiler()\n",
    "        3\n",
    "        >>> f.defiler()\n",
    "        Traceback (most recent call last):\n",
    "        IndexError: defiler sur file vide\n",
    "        \"\"\"\n",
    "        if self.sortie.est_vide():\n",
    "            while not self.entree.est_vide():\n",
    "                valeur = self.entree.depiler()\n",
    "                self.sortie.empiler(valeur)\n",
    "        \n",
    "        if self.sortie.est_vide():\n",
    "            raise IndexError(\"defiler sur file vide\")\n",
    "\n",
    "        return self.sortie.depiler()\n",
    "\n",
    "testmod()"
   ]
  }
 ],
 "metadata": {
  "celltoolbar": "Tags",
  "interpreter": {
   "hash": "916dbcbb3f70747c44a77c7bcd40155683ae19c65e1c03b4aa3499c5328201f1"
  },
  "kernelspec": {
   "display_name": "Python 3.9.2 64-bit",
   "name": "python3"
  },
  "language_info": {
   "codemirror_mode": {
    "name": "ipython",
    "version": 3
   },
   "file_extension": ".py",
   "mimetype": "text/x-python",
   "name": "python",
   "nbconvert_exporter": "python",
   "pygments_lexer": "ipython3",
   "version": "3.9.2"
  },
  "latex_metadata": {
   "theme": "structure",
   "title": "6 --- Piles et files"
  },
  "rise": {
   "theme": "serif"
  }
 },
 "nbformat": 4,
 "nbformat_minor": 5
}
