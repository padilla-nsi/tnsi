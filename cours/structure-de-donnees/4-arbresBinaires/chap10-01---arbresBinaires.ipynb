{
 "cells": [
  {
   "cell_type": "markdown",
   "id": "persistent-worse",
   "metadata": {
    "slideshow": {
     "slide_type": "slide"
    }
   },
   "source": [
    "# Chap. 10 --- Arbres binaires"
   ]
  },
  {
   "cell_type": "markdown",
   "id": "afraid-falls",
   "metadata": {},
   "source": [
    "Les structures de *piles* et de *files* sont bien adaptées pour des **énumérations séquentielles**.\n",
    "\n",
    "Mais elles sont peut efficace pour des accès ponctuels à des positions arbitraires. En effet, il faudrait pour cela parcourir tous les maillons de puis la tête jusqu'à la position cherchée. Or ce procédé prend en moyenne un temps proportionnel au nombre d'élément stocké... Ce qui est trop lent."
   ]
  },
  {
   "cell_type": "markdown",
   "id": "noted-environment",
   "metadata": {},
   "source": [
    "## 10.1 --- Structures arborescentes"
   ]
  },
  {
   "cell_type": "markdown",
   "id": "unauthorized-resident",
   "metadata": {},
   "source": [
    "Les structures arborescentes forment une autre famille de structures chaînées. L'avantage est que le nombre de sauts à effectuer pour aller du point de départ jusqu'à une position souhaitée est potentiellement bien moindre !\n",
    "\n",
    "#### Exemple de structures arborescentes\n",
    "\n",
    "**arborescence des fichiers** d'un ordinateur (organisation en répertoires, partant du répertoire racine) (quelques saut de répertoires pour accéder à n'importe quel fichier parmis des dizaines de milliers) (mais il faut aller dans la bonne direction...)\n",
    "\n",
    "#### Généralisation\n",
    "\n",
    "Ce principe d'un **point de départ unique** à partir duquel une structure chaînée se scinde à chaque étape en plusieurs branches donne l'idée générale de la structure d'**arbre** en informatique.\n",
    "\n",
    "Cette structure est à la base d'innombrables structures de données. Elle permet en outre une organisation hiérarchique de l'information. Ce qui est utile pour représenter des programmes, des formules de logique, le contenu de pages web, etc.\n",
    "\n",
    "Dans ce chapitre, nous nous concentrerons sur les **arbres binaires** que nous considérons comme la forme la plus élémentaire."
   ]
  },
  {
   "cell_type": "markdown",
   "id": "pacific-roulette",
   "metadata": {},
   "source": [
    "## 10.2 --- Définition et propriété des arbres binaires"
   ]
  },
  {
   "cell_type": "markdown",
   "id": "temporal-laundry",
   "metadata": {},
   "source": [
    "Voici un exemple d'arbre binaire. La **racine** de l'arbre est représentée en haut.\n",
    "\n",
    "![](img-01.png)"
   ]
  },
  {
   "cell_type": "markdown",
   "id": "framed-indonesian",
   "metadata": {},
   "source": [
    "### Définition"
   ]
  },
  {
   "cell_type": "markdown",
   "id": "controversial-bankruptcy",
   "metadata": {},
   "source": [
    "Un arbre binaire est un ensemble fini de nœuds qui est :\n",
    "\n",
    "- soit l'arbre vide : il ne contient aucun nœud\n",
    "- soit un arbre non vide avec ses nœuds structurés de la façon suivante :\n",
    "  - un nœud **racine**\n",
    "  - les autres nœuds séparés en deux sous-ensemble :\n",
    "    - le **sous-arbre gauche** (qui peut être un arbre vide)\n",
    "    - le **sous-arbre droit** (qui peut être un arbre vide)\n",
    "  - le nœud racine est relié aux racines des sous-arbres gauche et droit"
   ]
  },
  {
   "cell_type": "markdown",
   "id": "exposed-chair",
   "metadata": {},
   "source": [
    "### Taille d'un arbre\n",
    "\n",
    "La taille d'un arbre est définie par son nombre de nœud.\n",
    "\n",
    "Dans l'exemple illustré, nous avons un arbre de taille 4. Le sous-arbre gauche contient 2 nœuds et le sous-arbre droit en contient 1. On a également représenté les liaisons entre les nœuds et leurs sous-arbres vides. Ainsi on met en évidence qu'un nœud possède toujours deux sous-arbres (même si l'un, ou l'autre, ou les deux peuvent être vides).\n",
    "\n",
    "\n",
    "### Feuille\n",
    "\n",
    "Lorsqu'un nœud a deux sous-arbres vides, on parle de **feuille**.\n",
    "\n",
    "![exemple de feuille](img-02.png)\n",
    "\n",
    "Attention, une feuille n'est pas un arbre vide. En effet, une feuille possède 1 nœud, un arbre vide possède 0 nœud."
   ]
  },
  {
   "cell_type": "markdown",
   "id": "static-adventure",
   "metadata": {},
   "source": [
    "<div class=\"alert alert-warning\" role=\"alert\">\n",
    "    \n",
    "### Activité\n",
    "\n",
    "Dessiner tous les arbres binaires ayant respectivement 3 et 4 nœuds.\n",
    "\n",
    "</div>"
   ]
  },
  {
   "cell_type": "markdown",
   "id": "promising-settle",
   "metadata": {},
   "source": [
    "..."
   ]
  },
  {
   "cell_type": "markdown",
   "id": "clear-street",
   "metadata": {},
   "source": [
    "            0   0\n",
    "           /     \\\n",
    "          0       0\n",
    "\n",
    "\n",
    "          \n",
    "          0         0     0     0       0\n",
    "         / \\       /     /       \\       \\\n",
    "        0   0     0     0         0       0\n",
    "                 /       \\       /         \\\n",
    "                0         0     0           0\n",
    "\n",
    "            0     0     0     0          0  0   0   0   \n",
    "           / \\   / \\   / \\   / \\        /  /   /   /\n",
    "          0   0 0   0 0   0 0   0      0  0   0   0 \n",
    "         /       \\       /       \\    /  /     \\   \\     ...\n",
    "        0         0     0         0  0  0       0   0\n",
    "                                    /    \\     /     \\\n",
    "                                   0      0   0       0"
   ]
  },
  {
   "cell_type": "markdown",
   "id": "amazing-struggle",
   "metadata": {},
   "source": [
    "<div class=\"alert alert-warning\" role=\"alert\">\n",
    "    \n",
    "### Activité\n",
    "\n",
    "Sachant qu'il y a 1 arbre binaire vide, 1 arbre binaire contenant 1 nœud, 2 arbres binaires contenant 2 nœuds, 5 arbres binaires contenant 3 nœuds et 14 arbres binaires contenant 4 nœuds, **calculer** le nombre d'arbres binaires contenant 5 nœuds. On ne cherchera pas à les construire tous, mais seulement à les dénombrer.\n",
    "\n",
    "</div>"
   ]
  },
  {
   "cell_type": "markdown",
   "id": "occasional-broad",
   "metadata": {},
   "source": [
    "..."
   ]
  },
  {
   "cell_type": "markdown",
   "id": "brave-powell",
   "metadata": {},
   "source": [
    "### Hauteur\n",
    "\n",
    "**Définition itérative** : On définit la **hauteur** d'un arbre comme étant le plus grand nombre de nœuds rencontrés en descendant de la racine jusqu'à un arbre vide. Tous les nœuds sont comptés (racine et feuille comprises).\n",
    "\n",
    "**Définition récursive** : On définit la hauteur d'un arbre de la façon suivante :\n",
    "- un arbre *vide* a pour hauteur 0 ;\n",
    "- un arbre *non vide* a pour hauteur le maximum des hauteurs de ses sous-arbres, augmenté de 1.\n",
    "\n",
    "\n",
    "#### Exemple\n",
    "\n",
    "L'arbre de l'exemple illustré a une hauteur de 3."
   ]
  },
  {
   "cell_type": "markdown",
   "id": "accepted-exposure",
   "metadata": {},
   "source": [
    "<div class=\"alert alert-warning\" role=\"alert\">\n",
    "    \n",
    "### Activité\n",
    "\n",
    "1. Déterminer la hauteur minimale et la hauteur maximale d'une arbre possédant $N=7$ nœuds.\n",
    "2. Déterminer le nombre de nœuds minimal et maximal d'un arbre de hauteur 4.\n",
    "3. Proposer un encadrement du nombre de nœud $N$ en fonction de la hauteur $h$.\n",
    "\n",
    "</div>"
   ]
  },
  {
   "cell_type": "markdown",
   "id": "capable-theology",
   "metadata": {},
   "source": []
  },
  {
   "cell_type": "markdown",
   "id": "purple-center",
   "metadata": {},
   "source": [
    "Si $N$ désigne la taille d'un arbre binaire (ie le nombre de nœuds) et $h$ sa hauteur, alors on a les inégalités suivantes : \n",
    "\n",
    "$$h \\leq N \\leq 2^h - 1 $$\n",
    "\n",
    "- $h \\leq N$ car un arbre de hauteur $h$ possède au moins $h$ nœuds. Il y a égalité lorsque l'arbre est linéaire (c'est un *peigne*)\n",
    "- $N$ vaut $2^h - 1 $ lorsque l'arbre est *parfait* et où toutes les feuilles ont exactement la même profondeur."
   ]
  },
  {
   "cell_type": "markdown",
   "id": "focused-feature",
   "metadata": {},
   "source": [
    "#### Remarque\n",
    "\n",
    "La hauteur est une notion importante qui joue un grand rôle lorsque la complexité des algorithmes dépend directement de la hauteur des arbres."
   ]
  },
  {
   "cell_type": "markdown",
   "id": "covered-italy",
   "metadata": {},
   "source": [
    "## 10.3 --- Représentation en Python"
   ]
  },
  {
   "cell_type": "markdown",
   "id": "stunning-burns",
   "metadata": {},
   "source": [
    "Il y a de nombreuses façons de représenter un arbre binaire en Python"
   ]
  },
  {
   "cell_type": "markdown",
   "id": "rising-recipient",
   "metadata": {},
   "source": [
    "### Par un objet\n",
    "\n",
    "Chaque nœud peut être un objet de la classe `Noeud` qui possède trois attributs :\n",
    "- `gauche` : le sous-arbre gauche\n",
    "- `valeur` : la valeur contenu dans le nœud\n",
    "- `droit`  : le sous-arbre droit\n",
    "\n",
    "Par ailleurs le sous-arbre vide est représenté par la valeur `None`."
   ]
  },
  {
   "cell_type": "code",
   "execution_count": 1,
   "id": "valuable-plant",
   "metadata": {},
   "outputs": [],
   "source": [
    "class Noeud:\n",
    "    \"\"\"un noeud d'un arbre binaire\"\"\"\n",
    "    def __init__(self, g, v, d):\n",
    "        self.gauche = g\n",
    "        self.valeur = v\n",
    "        self.droit  = d"
   ]
  },
  {
   "cell_type": "markdown",
   "id": "alternative-mistress",
   "metadata": {},
   "source": [
    "<div class=\"alert alert-warning\" role=\"alert\">\n",
    "    \n",
    "### Activité\n",
    "\n",
    "Implémenter l'arbre suivant à l'aide de la classe `Noeud`.\n",
    "\n",
    "![arbre à implémenter](img-03.png)\n",
    "\n",
    "</div>"
   ]
  },
  {
   "cell_type": "code",
   "execution_count": 2,
   "id": "constitutional-academy",
   "metadata": {},
   "outputs": [],
   "source": [
    "a = Noeud( Noeud(None, \"B\", Noeud(None, \"C\", None)), \"A\", Noeud(None, \"D\", None))"
   ]
  },
  {
   "cell_type": "markdown",
   "id": "opposed-bruce",
   "metadata": {},
   "source": [
    "![un arbre contenant 4 éléments](img-04.png)"
   ]
  },
  {
   "cell_type": "markdown",
   "id": "adequate-baptist",
   "metadata": {},
   "source": [
    "### Représentations alternatives\n",
    "\n",
    "Exactement comme pour les listes chaînées, d'autres représentations sont possibles. Plutôt qu'une classe, on pourrait utiliser un triplet."
   ]
  },
  {
   "cell_type": "markdown",
   "id": "designed-imperial",
   "metadata": {},
   "source": [
    "<div class=\"alert alert-warning\" role=\"alert\">\n",
    "    \n",
    "### Activité\n",
    "\n",
    "Représenter l'arbre précédent à l'aide de triplet.\n",
    "\n",
    "</div>"
   ]
  },
  {
   "cell_type": "code",
   "execution_count": 3,
   "id": "mexican-counter",
   "metadata": {},
   "outputs": [],
   "source": [
    "a = ((None, \"B\", (None, \"C\", None)), \"A\", (None, \"D\", None))"
   ]
  },
  {
   "cell_type": "markdown",
   "id": "marked-swaziland",
   "metadata": {},
   "source": [
    "<div class=\"alert alert-warning\" role=\"alert\">\n",
    "    \n",
    "### Activité\n",
    "\n",
    "Représenter l'arbre précédent à l'aide de d'un dictionnaire\n",
    "\n",
    "</div>"
   ]
  },
  {
   "cell_type": "code",
   "execution_count": 5,
   "id": "progressive-language",
   "metadata": {},
   "outputs": [],
   "source": [
    "a = {\"g\":{\"g\":None, \"v\":\"B\", \"d\":{\"g\":None, \"v\":\"C\", \"d\":None}}, \"v\":\"A\", \"d\":{\"g\":None, \"v\":\"D\", \"d\":None}}"
   ]
  },
  {
   "cell_type": "markdown",
   "id": "guided-citizen",
   "metadata": {},
   "source": [
    "<div class=\"alert alert-warning\" role=\"alert\">\n",
    "    \n",
    "### Activité\n",
    "\n",
    "Représenter l'arbre précédent à l'aide de d'un tableau.\n",
    "\n",
    "</div>"
   ]
  },
  {
   "cell_type": "code",
   "execution_count": 6,
   "id": "conceptual-venture",
   "metadata": {},
   "outputs": [],
   "source": [
    "a = [[None, \"B\", [None, \"C\", None]], \"A\", [None, \"D\", None]]"
   ]
  },
  {
   "cell_type": "markdown",
   "id": "preliminary-concrete",
   "metadata": {},
   "source": [
    "### Orientation\n",
    "\n",
    "Comme pour les listes *doublement* chaînées, il est possible de relier chaque nœud à son parent.\n",
    "\n",
    "Il suffit d'ajouter un quatrième attribut `parent` à la classe `Noeud`.\n",
    "\n",
    "![arbre binaire doublement chaîné](img-05.png)"
   ]
  },
  {
   "cell_type": "markdown",
   "id": "atmospheric-support",
   "metadata": {},
   "source": [
    "### Homogénéité\n",
    "\n",
    "Comme pour les liste, les arbres peuvent contenir n'importe quel type **mais** nous recommandons une utilisation *homogène* des arbres (où les valeurs contenues dans les nœuds sont de même type)."
   ]
  },
  {
   "cell_type": "markdown",
   "id": "serial-incidence",
   "metadata": {},
   "source": [
    "## 10.4 --- Algorithme des arbres binaires"
   ]
  },
  {
   "cell_type": "markdown",
   "id": "after-variety",
   "metadata": {},
   "source": [
    "### Taille d'un arbre"
   ]
  },
  {
   "cell_type": "markdown",
   "id": "necessary-breath",
   "metadata": {},
   "source": [
    "#### Algorithme"
   ]
  },
  {
   "cell_type": "markdown",
   "id": "overall-volume",
   "metadata": {},
   "source": [
    "#### Efficacité"
   ]
  },
  {
   "cell_type": "markdown",
   "id": "athletic-league",
   "metadata": {},
   "source": [
    "### Hauteur d'un arbre"
   ]
  },
  {
   "cell_type": "markdown",
   "id": "unlimited-scene",
   "metadata": {},
   "source": [
    "#### Algorithme"
   ]
  },
  {
   "cell_type": "markdown",
   "id": "instructional-poultry",
   "metadata": {},
   "source": [
    "#### Efficacité"
   ]
  },
  {
   "cell_type": "markdown",
   "id": "changing-detector",
   "metadata": {},
   "source": [
    "### Parcours d'un arbre binaire"
   ]
  },
  {
   "cell_type": "markdown",
   "id": "assumed-question",
   "metadata": {},
   "source": [
    "#### Algorithme Parcours infixe"
   ]
  },
  {
   "cell_type": "markdown",
   "id": "immune-relationship",
   "metadata": {},
   "source": [
    "#### Autres parcours\n",
    "\n",
    "- parcours préfixe\n",
    "- parcours suffixe"
   ]
  },
  {
   "cell_type": "markdown",
   "id": "hybrid-benchmark",
   "metadata": {},
   "source": [
    "## 10.5 --- Exercices"
   ]
  },
  {
   "cell_type": "markdown",
   "id": "centered-macintosh",
   "metadata": {},
   "source": [
    "<div class=\"alert alert-warning\" role=\"alert\">\n",
    "\n",
    "### Exercice 1\n",
    "\n",
    "Écrire une fonction `affiche(a)` qui imprime un arbre sous la forme suivante :\n",
    "\n",
    "- pour un arbre vide, on n'imprime rien;\n",
    "- pour un nœud, on imprime \n",
    "  - une parenthèse ouvrante,\n",
    "  - son sous-arbre gauche (récursivement),\n",
    "  - sa valeur,\n",
    "  - son sous-arbre droit (récursivement), puis enfin \n",
    "  - une parenthèse fermante.\n",
    "\n",
    "Par exemple, pour l'arbre du cours `\"ABCD\"`, il devra s'afficher :\n",
    "\n",
    "```python\n",
    "((B(C))A(D))\n",
    "```\n",
    "\n",
    "</div>"
   ]
  },
  {
   "cell_type": "markdown",
   "id": "homeless-credit",
   "metadata": {},
   "source": [
    "<div class=\"alert alert-warning\" role=\"alert\">\n",
    "\n",
    "### Exercice 2\n",
    "\n",
    "Dessiner l'arbre binaire sur lequel la fonction `affiche` de l'exercice 1 produit la sortie\n",
    "\n",
    "```python\n",
    "(1((2)3))\n",
    "```\n",
    "\n",
    "D'une manière générale, expliquer comment retrouver l'arbre dont l'affichage est donné.\n",
    "\n",
    "</div>"
   ]
  },
  {
   "cell_type": "markdown",
   "id": "green-atlas",
   "metadata": {},
   "source": [
    "<div class=\"alert alert-warning\" role=\"alert\">\n",
    "\n",
    "### Exercice 3\n",
    "\n",
    "Ajouter à la classe `Noeud` une méthode `__eq__` permettant de tester l'égalité entre deux arbres binaires à l'aide de l'opérateur `==`.\n",
    "\n",
    "</div>"
   ]
  },
  {
   "cell_type": "markdown",
   "id": "residential-miniature",
   "metadata": {},
   "source": [
    "<div class=\"alert alert-warning\" role=\"alert\">\n",
    "\n",
    "### Exercice 4\n",
    "\n",
    "Écrire une fonction `parfait(h)` qui reçoit en argument un entier `h` supérieur ou égal à 0 et qui renvoie un arbre binaire parfait de hauteur `h`.\n",
    "</div>"
   ]
  },
  {
   "cell_type": "markdown",
   "id": "constant-algorithm",
   "metadata": {},
   "source": [
    "<div class=\"alert alert-warning\" role=\"alert\">\n",
    "\n",
    "### Exercice 5\n",
    "\n",
    "Écrire une fonction `peigne_gauche(h)` qui reçoit en argument un nombre entier `h` $\\geq 0$ et qui renvoie  un peigne de hauteur `h` où chaque nœud a un sous-arbre droit qui est vide.\n",
    "\n",
    "</div>"
   ]
  },
  {
   "cell_type": "markdown",
   "id": "moral-rental",
   "metadata": {},
   "source": [
    "<div class=\"alert alert-warning\" role=\"alert\">\n",
    "\n",
    "### Exercice 6\n",
    "\n",
    "Écrire une fonction `est_peigne_gauche(a)` qui renvoie `True` si et seulement si `a` est un peigne à gauche.\n",
    "\n",
    "</div>"
   ]
  },
  {
   "cell_type": "markdown",
   "id": "norwegian-kingston",
   "metadata": {},
   "source": [
    "<div class=\"alert alert-warning\" role=\"alert\">\n",
    "\n",
    "### Exercice 7\n",
    "\n",
    "Donner 5 arbres de taille 3 différents dont les nœuds contiennent les valeurs 1, 2, 3 et pour lesquels la fonction `parcours_infixe()` affiche à chaque fois :\n",
    "\n",
    "```python\n",
    "1\n",
    "2\n",
    "3\n",
    "```\n",
    "dans cet ordre.\n",
    "\n",
    "</div>"
   ]
  }
 ],
 "metadata": {
  "celltoolbar": "Tags",
  "interpreter": {
   "hash": "916dbcbb3f70747c44a77c7bcd40155683ae19c65e1c03b4aa3499c5328201f1"
  },
  "kernelspec": {
   "display_name": "Python 3",
   "language": "python",
   "name": "python3"
  },
  "language_info": {
   "codemirror_mode": {
    "name": "ipython",
    "version": 3
   },
   "file_extension": ".py",
   "mimetype": "text/x-python",
   "name": "python",
   "nbconvert_exporter": "python",
   "pygments_lexer": "ipython3",
   "version": "3.9.2"
  },
  "latex_metadata": {
   "theme": "structure",
   "title": "10 --- Arbres binaires"
  },
  "rise": {
   "theme": "serif"
  }
 },
 "nbformat": 4,
 "nbformat_minor": 5
}
