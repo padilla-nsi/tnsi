{
 "cells": [
  {
   "cell_type": "markdown",
   "id": "4e15afd5",
   "metadata": {},
   "source": [
    "## 10.4 --- Algorithme des arbres binaires (corrections)"
   ]
  },
  {
   "cell_type": "markdown",
   "id": "039d8fab",
   "metadata": {},
   "source": [
    "### Taille d'un arbre"
   ]
  },
  {
   "cell_type": "markdown",
   "id": "cb1b4a00",
   "metadata": {},
   "source": [
    "#### Algorithme"
   ]
  },
  {
   "cell_type": "code",
   "execution_count": 1,
   "id": "fb5ad05e",
   "metadata": {},
   "outputs": [],
   "source": [
    "class Noeud:\n",
    "    \"\"\" classe Noeud d'un arbre binaire \"\"\"\n",
    "    def __init__(self, g, v, d):\n",
    "        self.gauche = g \n",
    "        self.valeur = v \n",
    "        self.droit  = d\n"
   ]
  },
  {
   "cell_type": "code",
   "execution_count": 2,
   "id": "572845d0",
   "metadata": {},
   "outputs": [],
   "source": [
    "def taille(a):\n",
    "    \"\"\" Taille d'un arbre binaire a.\n",
    "\n",
    "    Args:\n",
    "        a (Noeud): noeud racine de l'arbre\n",
    "\n",
    "    Returns:\n",
    "        int: nombre de noeud de l'arbre binaire a\n",
    "    \"\"\"\n",
    "    if a is None:\n",
    "        return 0\n",
    "    \n",
    "    t_g = taille(a.gauche)\n",
    "    t_d = taille(a.droit)\n",
    "    \n",
    "    t   = 1 + t_g + t_d\n",
    "\n",
    "    return t"
   ]
  },
  {
   "cell_type": "markdown",
   "id": "cb1b4a00",
   "metadata": {},
   "source": [
    "#### Efficacité"
   ]
  },
  {
   "cell_type": "markdown",
   "id": "f967c9f1",
   "metadata": {},
   "source": [
    "### Hauteur d'un arbre"
   ]
  },
  {
   "cell_type": "markdown",
   "id": "cb1b4a00",
   "metadata": {},
   "source": [
    "#### Algorithme"
   ]
  },
  {
   "cell_type": "code",
   "execution_count": 3,
   "id": "418e567e",
   "metadata": {},
   "outputs": [],
   "source": [
    "def hauteur(a):\n",
    "    \"\"\"Hauteur de l'arbre binaire a\n",
    "\n",
    "    Args:\n",
    "        a (Noeud): noeud racine de l'arbre\n",
    "\n",
    "    Returns:\n",
    "        int: hauteur de l'arbre (distance maximale entre\n",
    "        la racine et ses feuilles)\n",
    "    \"\"\"\n",
    "    if a is None:\n",
    "        return 0\n",
    "    \n",
    "    h_g = hauteur(a.gauche)\n",
    "    h_d = hauteur(a.droit)\n",
    "\n",
    "    h   = 1 + max(h_g, h_d)\n",
    "\n",
    "    return h"
   ]
  },
  {
   "cell_type": "markdown",
   "id": "cb1b4a00",
   "metadata": {},
   "source": [
    "#### Efficacité"
   ]
  },
  {
   "cell_type": "markdown",
   "id": "94765a3a",
   "metadata": {},
   "source": [
    "### Parcours d'un arbre binaire"
   ]
  },
  {
   "cell_type": "markdown",
   "id": "efc3cf9b",
   "metadata": {},
   "source": [
    "#### Algorithme Parcours infixe"
   ]
  },
  {
   "cell_type": "code",
   "execution_count": 4,
   "id": "903391fe",
   "metadata": {},
   "outputs": [],
   "source": [
    "def parcours_infixe(a):\n",
    "    \"\"\"\n",
    "    Liste des valeurs de l'arbre a donnée \n",
    "    en suivant l'ordre infixe.\n",
    "\n",
    "    Args:\n",
    "        a (Noeud): noeud racine de l'arbre\n",
    "\n",
    "    Returns:\n",
    "        str: valeurs de tous les noeuds parcourus selon infixe\n",
    "    \"\"\"\n",
    "    if a is None:\n",
    "        return \"\"\n",
    "\n",
    "    texte  = parcours_infixe(a.gauche)\n",
    "    texte += str(a.valeur)\n",
    "    texte += parcours_infixe(a.droit)\n",
    "\n",
    "    return texte"
   ]
  },
  {
   "cell_type": "markdown",
   "id": "a63e238c",
   "metadata": {},
   "source": [
    "#### Autres parcours\n",
    "\n",
    "- parcours préfixe\n",
    "- parcours suffixe"
   ]
  },
  {
   "cell_type": "markdown",
   "id": "bc279c79",
   "metadata": {},
   "source": [
    "## 10.5 --- Exercices (corrections)"
   ]
  },
  {
   "cell_type": "markdown",
   "id": "faa3a32a",
   "metadata": {},
   "source": [
    "<div class=\"alert alert-warning\" role=\"alert\">\n",
    "\n",
    "### Exercice 1\n",
    "\n",
    "Écrire une fonction `affiche(a)` qui imprime un arbre sous la forme suivante :\n",
    "\n",
    "- pour un arbre vide, on n'imprime rien;\n",
    "- pour un nœud, on imprime \n",
    "  - une parenthèse ouvrante,\n",
    "  - son sous-arbre gauche (récursivement),\n",
    "  - sa valeur,\n",
    "  - son sous-arbre droit (récursivement), puis enfin \n",
    "  - une parenthèse fermante.\n",
    "\n",
    "Par exemple, pour l'arbre du cours `\"ABCD\"`, il devra s'afficher :\n",
    "\n",
    "```python\n",
    "((B(C))A(D))\n",
    "```\n",
    "\n",
    "</div>"
   ]
  },
  {
   "cell_type": "code",
   "execution_count": 5,
   "id": "0fd814e3",
   "metadata": {},
   "outputs": [],
   "source": [
    "def affiche(a):\n",
    "    \"\"\"\n",
    "    Affiche les valeurs des noeuds de l'arbre a\n",
    "    selon le parcours infixe.\n",
    "\n",
    "    Args:\n",
    "        a (Noeud): noeud racine de l'arbre\n",
    "\n",
    "    Returns:\n",
    "        str: valeurs des noeuds séparées par des parenthèses\n",
    "    \"\"\"\n",
    "    if a is None:\n",
    "        return \"\"\n",
    "    \n",
    "    texte  = \"(\"\n",
    "    texte += affiche(a.gauche)\n",
    "    texte += str(a.valeur)\n",
    "    texte += affiche(a.droit)\n",
    "    texte += \")\"\n",
    "\n",
    "    return texte"
   ]
  },
  {
   "cell_type": "markdown",
   "id": "faa3a32a",
   "metadata": {},
   "source": [
    "<div class=\"alert alert-warning\" role=\"alert\">\n",
    "\n",
    "### Exercice 2\n",
    "\n",
    "Dessiner l'arbre binaire sur lequel la fonction `affiche` de l'exercice 1 produit la sortie\n",
    "\n",
    "```python\n",
    "(1((2)3))\n",
    "```\n",
    "\n",
    "D'une manière générale, expliquer comment retrouver l'arbre dont l'affichage est donné.\n",
    "\n",
    "</div>"
   ]
  },
  {
   "cell_type": "markdown",
   "id": "faa3a32a",
   "metadata": {},
   "source": [
    "<div class=\"alert alert-warning\" role=\"alert\">\n",
    "\n",
    "### Exercice 3\n",
    "\n",
    "Ajouter à la classe `Noeud` une méthode `__eq__` permettant de tester l'égalité entre deux arbres binaires à l'aide de l'opérateur `==`.\n",
    "\n",
    "</div>"
   ]
  },
  {
   "cell_type": "code",
   "execution_count": 6,
   "id": "611fa530",
   "metadata": {},
   "outputs": [],
   "source": [
    "class Noeud:\n",
    "    def __init__(self, g, v, d):\n",
    "        self.gauche = g \n",
    "        self.valeur = v \n",
    "        self.droit  = d\n",
    "\n",
    "    def __eq__(self, a):\n",
    "        \"\"\"Méthode permettant d'utiliser '==' entre noeuds\n",
    "\n",
    "        Args:\n",
    "            a (Noeud): arbre à comparer à self\n",
    "\n",
    "        Returns:\n",
    "            bool: True <=> les valeurs de tous les noeuds de\n",
    "                           self et de a sont égales\n",
    "        \"\"\" \n",
    "        if a is None:\n",
    "            return False\n",
    "\n",
    "        if not(self.valeur == a.valeur):\n",
    "            return False\n",
    "        \n",
    "        if not(self.gauche == a.gauche):\n",
    "            return False\n",
    "        \n",
    "        if not(self.droit == a.droit):\n",
    "            return False\n",
    "        \n",
    "        return True\n"
   ]
  },
  {
   "cell_type": "markdown",
   "id": "faa3a32a",
   "metadata": {},
   "source": [
    "<div class=\"alert alert-warning\" role=\"alert\">\n",
    "\n",
    "### Exercice 4\n",
    "\n",
    "Écrire une fonction `parfait(h)` qui reçoit en argument un entier `h` supérieur ou égal à 0 et qui renvoie un arbre binaire parfait de hauteur `h`.\n",
    "</div>"
   ]
  },
  {
   "cell_type": "code",
   "execution_count": 7,
   "id": "5946085f",
   "metadata": {},
   "outputs": [],
   "source": [
    "def parfait(h):\n",
    "    \"\"\"Générer un arbre parfait de taille h.\n",
    "\n",
    "    Args:\n",
    "        h (int): hauteur de l'arbre parfait à générer\n",
    "\n",
    "    Returns:\n",
    "        Noeud: racine de l'arbre parfait\n",
    "    \"\"\"\n",
    "    if h == 0:\n",
    "        return None\n",
    "    \n",
    "    return Noeud(parfait(h-1), h, parfait(h-1))"
   ]
  },
  {
   "cell_type": "markdown",
   "id": "faa3a32a",
   "metadata": {},
   "source": [
    "<div class=\"alert alert-warning\" role=\"alert\">\n",
    "\n",
    "### Exercice 5\n",
    "\n",
    "Écrire une fonction `peigne_gauche(h)` qui reçoit en argument un nombre entier `h` $\\geq 0$ et qui renvoie  un peigne de hauteur `h` où chaque nœud a un sous-arbre droit qui est vide.\n",
    "\n",
    "</div>"
   ]
  },
  {
   "cell_type": "code",
   "execution_count": 8,
   "id": "b3e6c50f",
   "metadata": {},
   "outputs": [],
   "source": [
    "def peigne_gauche(h):\n",
    "    \"\"\" Générer un arbre de type peigne gauche de hauteur h.\n",
    "\n",
    "    Args:\n",
    "        h (int): hauteur de l'arbre à générer\n",
    "\n",
    "    Returns:\n",
    "        Noeud: racine de l'arbre de type peigne gauche\n",
    "                de hauteur h \n",
    "    \"\"\"\n",
    "    if h == 0:\n",
    "        return None\n",
    "\n",
    "    return Noeud(peigne_gauche(h-1), h, None)"
   ]
  },
  {
   "cell_type": "markdown",
   "id": "faa3a32a",
   "metadata": {},
   "source": [
    "<div class=\"alert alert-warning\" role=\"alert\">\n",
    "\n",
    "### Exercice 6\n",
    "\n",
    "Écrire une fonction `est_peigne_gauche(a)` qui renvoie `True` si et seulement si `a` est un peigne à gauche.\n",
    "\n",
    "</div>"
   ]
  },
  {
   "cell_type": "code",
   "execution_count": 9,
   "id": "1d391bf5",
   "metadata": {},
   "outputs": [],
   "source": [
    "def est_peigne_gauche(a):\n",
    "    \"\"\" Est ce que l'arbre a est de type peigne gauche ?\n",
    "\n",
    "    Imports :\n",
    "        hauteur(a) : renvoie la hauteur de a\n",
    "        peigne_gauche(h) : renvoie un arbre de hauteur h\n",
    "\n",
    "    Args:\n",
    "        a (Noeud): racine de l'arbre a\n",
    "\n",
    "    Returns:\n",
    "        bool: True <=> a est un arbre de type peigne gauche\n",
    "    \"\"\"\n",
    "    h = hauteur(a)\n",
    "    p_g = peigne_gauche(h)\n",
    "\n",
    "    return p_g == a"
   ]
  },
  {
   "cell_type": "markdown",
   "id": "faa3a32a",
   "metadata": {},
   "source": [
    "<div class=\"alert alert-warning\" role=\"alert\">\n",
    "\n",
    "### Exercice 7\n",
    "\n",
    "Donner 5 arbres de taille 3 différents dont les nœuds contiennent les valeurs 1, 2, 3 et pour lesquels la fonction `parcours_infixe()` affiche à chaque fois :\n",
    "\n",
    "```python\n",
    "1\n",
    "2\n",
    "3\n",
    "```\n",
    "dans cet ordre.\n",
    "\n",
    "</div>"
   ]
  }
 ],
 "metadata": {
  "celltoolbar": "Tags",
  "interpreter": {
   "hash": "916dbcbb3f70747c44a77c7bcd40155683ae19c65e1c03b4aa3499c5328201f1"
  },
  "kernelspec": {
   "display_name": "Python 3.9.2 64-bit",
   "name": "python3"
  },
  "language_info": {
   "codemirror_mode": {
    "name": "ipython",
    "version": 3
   },
   "file_extension": ".py",
   "mimetype": "text/x-python",
   "name": "python",
   "nbconvert_exporter": "python",
   "pygments_lexer": "ipython3",
   "version": "3.9.2"
  },
  "latex_metadata": {
   "theme": "structure",
   "title": "10 --- Arbres binaires"
  },
  "rise": {
   "theme": "serif"
  }
 },
 "nbformat": 4,
 "nbformat_minor": 5
}
