{
 "cells": [
  {
   "cell_type": "code",
   "execution_count": 1,
   "id": "cce6a40d",
   "metadata": {},
   "outputs": [],
   "source": [
    "from doctest import testmod"
   ]
  },
  {
   "cell_type": "markdown",
   "id": "87853742",
   "metadata": {
    "slideshow": {
     "slide_type": "slide"
    }
   },
   "source": [
    "# Chap. 11 --- Arbres binaires de recherche"
   ]
  },
  {
   "cell_type": "markdown",
   "id": "1083baf2",
   "metadata": {},
   "source": [
    "Imaginons une bibliothèque qui contienne vraiment beaucoup de livres, répartis dans 17576 salles reliées les unes aux autres par des portes. Chaque salle contient une porte d'entrée et, possiblement, deux portes de sorties vers deux autres salles. Pour retrouver facilement l'emplacement d'un livre, les bibliothécaires astucieux ont eu l'idée suivante. \n",
    "\n",
    "Dans la toute première salle, dans laquelle on entre par la porte d'entrée de la bibliothèque, ils ont mis tous les ouvrages dont le titre commence par NAA. Si en revanche le titre commence par trois lettres venant avant NAA dans l'ordre alphabétique, alors il faut prendre la porte de sortie de gauche. Sinon, il faut prendre la porte\n",
    "de sortie de droite. On continue alors la recherche dans la salle suivante. Si on est allé dans la salle de gauche, par exemple, on y trouve tous les ouvrages dont le titre commence par GNA. Là, de même, si le titre commence par trois lettres venant avant GNA dans l'ordre alphabétique, alors il faut prendre la porte de sortie de gauche, sinon la porte de droite. Et ainsi de suite jusqu'à ce qu'on parvienne à la salle contenant tous les livres dont les trois premières lettres du titre sont celles du titre qui nous intéresse. \n",
    "\n",
    "Une telle organisation est incroyablement efficace."
   ]
  },
  {
   "cell_type": "markdown",
   "id": "e6b4a6be",
   "metadata": {},
   "source": [
    "<div class=\"alert alert-warning\" role=\"alert\">\n",
    "\n",
    "**Activité**\n",
    "\n",
    "Combien de salles au maximum pour trouver un ouvrage ?\n",
    "</div>"
   ]
  },
  {
   "cell_type": "markdown",
   "id": "76160798",
   "metadata": {},
   "source": [
    "Bibliothèque de $17 576$ salles.\n",
    "\n",
    "![](img02.png?1)"
   ]
  },
  {
   "cell_type": "markdown",
   "id": "9d4f42c8",
   "metadata": {},
   "source": [
    "## 11.1 --- Notion"
   ]
  },
  {
   "cell_type": "markdown",
   "id": "39a5c4a3",
   "metadata": {},
   "source": [
    "Un **arbre binaire de recherche** (abrégé en **ABR** dans la suite) est un arbre binaire dont les nœuds contiennent des valeurs\n",
    "qui peuvent être comparées entre elles (par exemple des entiers ou des chaînes de caractères), et tel que pour tout nœud de l'arbre :\n",
    "\n",
    "- **toutes les valeurs situées dans le sous-arbre gauche sont plus petites que la valeur située dans le nœud**,\n",
    "- **toutes les valeurs situées dans le sous-arbre droit sont plus grandes que la valeur située dans le nœud**.\n",
    "\n"
   ]
  },
  {
   "cell_type": "markdown",
   "id": "e6b4a6be",
   "metadata": {},
   "source": [
    "<div class=\"alert alert-warning\" role=\"alert\">\n",
    "\n",
    "**Activité**\n",
    "\n",
    "Quel(s) est(sont) les arbres binaires qui ne sont pas de recherche ?\n",
    "\n",
    "![](img03.png)\n",
    "\n",
    "</div>"
   ]
  },
  {
   "cell_type": "markdown",
   "id": "05e26f95",
   "metadata": {},
   "source": [
    "### Représentation en Python"
   ]
  },
  {
   "cell_type": "markdown",
   "id": "b7bad356",
   "metadata": {},
   "source": [
    "- classe `Noeud`\n",
    "- valeurs comparables avec `<, <=, >, >=` (non codé)\n",
    "- vérifie propriété d'ABR (non codé)"
   ]
  },
  {
   "cell_type": "markdown",
   "id": "25ef1757",
   "metadata": {},
   "source": [
    "### Opérations"
   ]
  },
  {
   "cell_type": "markdown",
   "id": "c08283a6",
   "metadata": {},
   "source": [
    "- `taille`\n",
    "- `hauteur`\n",
    "- `parcours_infixe`"
   ]
  },
  {
   "cell_type": "markdown",
   "id": "e6b4a6be",
   "metadata": {},
   "source": [
    "<div class=\"alert alert-warning\" role=\"alert\">\n",
    "\n",
    "**Activité**\n",
    "\n",
    "Qu'affiche un parcours infixe sur un arbre binaire de recherche ?\n",
    "\n",
    "</div>"
   ]
  },
  {
   "cell_type": "markdown",
   "id": "c7352e66",
   "metadata": {},
   "source": [
    "## 11.2 --- Recherche dans un ABR"
   ]
  },
  {
   "cell_type": "markdown",
   "id": "e8253173",
   "metadata": {},
   "source": [
    "La propriété des ABR => recherche extrêmement efficace car à chaque étape, on élimine complètement la recherche dans un des sous arbres."
   ]
  },
  {
   "cell_type": "code",
   "execution_count": 9,
   "id": "39bed218",
   "metadata": {},
   "outputs": [],
   "source": [
    "class Noeud:\n",
    "    def __init__(self, g, v, d):\n",
    "        self.gauche = g\n",
    "        self.valeur = v \n",
    "        self.droit  = d"
   ]
  },
  {
   "cell_type": "code",
   "execution_count": 23,
   "id": "a7635488",
   "metadata": {},
   "outputs": [],
   "source": [
    "def appartient(x, a):\n",
    "    if a is None:\n",
    "        return False\n",
    "    \n",
    "    if x < a.valeur:\n",
    "        return appartient(x, a.gauche)\n",
    "    elif x > a.valeur:\n",
    "        return appartient(x, a.droit)\n",
    "    else:\n",
    "        return True\n"
   ]
  },
  {
   "cell_type": "code",
   "execution_count": 26,
   "id": "4bfdeb3a",
   "metadata": {},
   "outputs": [
    {
     "data": {
      "text/plain": [
       "True"
      ]
     },
     "execution_count": 26,
     "metadata": {},
     "output_type": "execute_result"
    }
   ],
   "source": [
    "a_1 = Noeud( Noeud (None, 1, Noeud(None, 2, None)), 3, Noeud(None, 4, None) )\n",
    "a_2 = Noeud( Noeud(Noeud(None, 1, None), 2, None),  3, Noeud(None, 4, None) )\n",
    "\n",
    "appartient(0, a_1)\n",
    "appartient(3, a_1)"
   ]
  },
  {
   "cell_type": "markdown",
   "id": "85faeb68",
   "metadata": {},
   "source": [
    "#### Efficacité"
   ]
  },
  {
   "cell_type": "markdown",
   "id": "4b95aafa",
   "metadata": {},
   "source": [
    "- Si ABR équitablement répartit : très efficace\n",
    "- Pire cas : recherche infructueuse dans un peigne\n",
    "- coût de la recherche majorée par la hauteur"
   ]
  },
  {
   "cell_type": "markdown",
   "id": "8acdf35f",
   "metadata": {},
   "source": [
    "## 11.3 --- Ajout dans un ABR"
   ]
  },
  {
   "cell_type": "markdown",
   "id": "432c3f07",
   "metadata": {},
   "source": [
    "On fait le choix de considérer la classe `Noeud` comme immuable.\n",
    "La fonction `ajoute` ne modifie donc pas un arbre, mais renvoie un *nouvel* arbre contenant `x` et tous les éléments de `a`."
   ]
  },
  {
   "cell_type": "code",
   "execution_count": 29,
   "id": "541eeb31",
   "metadata": {},
   "outputs": [],
   "source": [
    "def ajoute(x, a):\n",
    "    if a is None:\n",
    "        return Noeud(None, x, None)\n",
    "    \n",
    "    if x < a.valeur:\n",
    "        return Noeud( ajoute(x, a.gauche) , a.valeur, a.droit)\n",
    "    else:\n",
    "        return Noeud(a.gauche, a.valeur, ajoute(x, a.droit) )\n",
    "    "
   ]
  },
  {
   "cell_type": "markdown",
   "id": "dd76e804",
   "metadata": {},
   "source": [
    "#### Efficacité"
   ]
  },
  {
   "cell_type": "markdown",
   "id": "b75b5a7b",
   "metadata": {},
   "source": [
    "- ressemble à appartient (car même décision à chaque étape)\n",
    "- majorée par la hauteur\n",
    "- complexité mémoire comme compléxité temporelle car autant de noeud que d'appels récursifs"
   ]
  },
  {
   "cell_type": "markdown",
   "id": "e6b4a6be",
   "metadata": {},
   "source": [
    "<div class=\"alert alert-warning\" role=\"alert\">\n",
    "\n",
    "**Activité**\n",
    "\n",
    "Détailler ce qui ce passe en mémoire lorsqu'on effectue la séquence suivante :\n",
    "\n",
    "```python\n",
    "a = ajoute(3, None)\n",
    "a = ajoute(1, a)\n",
    "a = ajoute(4, a)\n",
    "```\n",
    "\n",
    "</div>"
   ]
  },
  {
   "cell_type": "markdown",
   "id": "e6b4a6be",
   "metadata": {},
   "source": [
    "<div class=\"alert alert-warning\" role=\"alert\">\n",
    "\n",
    "**Activité**\n",
    "\n",
    "Quel ABR est renvoyé si on ajoute à l'arbre précédent la valeur 3 ?\n",
    "\n",
    "</div>"
   ]
  },
  {
   "cell_type": "markdown",
   "id": "be6ac3b8",
   "metadata": {},
   "source": [
    "## 11.4 --- Suppression dans un ABR (HP)"
   ]
  },
  {
   "cell_type": "code",
   "execution_count": 31,
   "id": "024ff87c",
   "metadata": {},
   "outputs": [],
   "source": [
    "def minimum(a):\n",
    "    if a is None:\n",
    "        return None\n",
    "    if a.gauche is None:    # racine est minimum\n",
    "        return a.valeur\n",
    "    else:\n",
    "        return minimum(a.gauche)\n",
    "\n",
    "def supprime_minimum(a):\n",
    "    assert a is not None\n",
    "    if a.gauche is None:\n",
    "        return a.droit\n",
    "    return Noeud(supprime_minimum(a.gauche), a.valeur, a.droit)\n",
    "\n",
    "def supprime(x, a):\n",
    "    if a is None:\n",
    "        return None\n",
    "\n",
    "    if x < a.valeur:\n",
    "        return Noeud(supprime(x, a.gauche), a.valeur, a.droit)\n",
    "    elif x > a.valeur:\n",
    "        return Noeud(a.gauche, a.valeur, supprime(x, a.droit))\n",
    "    # supprimer la racine !\n",
    "    elif a.droit is None:\n",
    "        return a.gauche\n",
    "    else:\n",
    "        return Noeud(a.gauche, minimum(a.droit), supprime_minimum(a.droit))"
   ]
  },
  {
   "cell_type": "markdown",
   "id": "d343d421",
   "metadata": {},
   "source": [
    "## 11.5 --- Encapsulation dans un objet"
   ]
  },
  {
   "cell_type": "code",
   "execution_count": 33,
   "id": "e685a1d1",
   "metadata": {},
   "outputs": [],
   "source": [
    "class ABR:\n",
    "    def __init__ (self):\n",
    "        self.racine = None\n",
    "    \n",
    "    def ajouter(self, x):\n",
    "        self.racine = ajoute(x, self.racine)\n",
    "    \n",
    "    def contient(self, x):\n",
    "        return appartient(x, self.racine)"
   ]
  },
  {
   "cell_type": "markdown",
   "id": "e6b4a6be",
   "metadata": {},
   "source": [
    "<div class=\"alert alert-warning\" role=\"alert\">\n",
    "\n",
    "**Activité**\n",
    "\n",
    "Représenter la mémoire après la séquence suivante :\n",
    "\n",
    "```python\n",
    "a = ABR()\n",
    "a.ajouter(3)\n",
    "a.ajouter(1)\n",
    "a.ajouter(4)\n",
    "a.ajouter(2)\n",
    "```\n",
    "\n",
    "</div>"
   ]
  },
  {
   "cell_type": "markdown",
   "id": "722a82cb",
   "metadata": {},
   "source": [
    "![](img04.png)"
   ]
  },
  {
   "cell_type": "markdown",
   "id": "e77c5ca1",
   "metadata": {},
   "source": [
    "## 11.6 --- Arbre équilibré"
   ]
  },
  {
   "cell_type": "markdown",
   "id": "8da6e229",
   "metadata": {},
   "source": [
    "- il est possible de s'assurer que la hauteur d'un ABR ne soit pas trop grande\n",
    "- arbres AVL\n",
    "- arbres rouges/noirs"
   ]
  },
  {
   "cell_type": "markdown",
   "id": "2c6e6ea5",
   "metadata": {},
   "source": [
    "## 11.7 --- Activités"
   ]
  },
  {
   "cell_type": "markdown",
   "id": "e6b4a6be",
   "metadata": {},
   "source": [
    "<div class=\"alert alert-warning\" role=\"alert\">\n",
    "\n",
    "**Exercice 1**\n",
    "\n",
    "Pourquoi la bibliothèque donnée en exemple au début de ce chapitre contient-elle 17576 salles?\n",
    "\n",
    "</div>"
   ]
  },
  {
   "cell_type": "markdown",
   "id": "0febee2e",
   "metadata": {},
   "source": [
    "Car il y a $26^3 = 17 576$ mots de trois lettres."
   ]
  },
  {
   "cell_type": "markdown",
   "id": "cdaac9f5",
   "metadata": {},
   "source": [
    "<div class=\"alert alert-warning\" role=\"alert\">\n",
    "\n",
    "**Exercice 2** \n",
    "\n",
    "Donner tous les ABR formés de trois nœuds et contenant les entiers 1, 2 et 3.\n",
    "\n",
    "</div>"
   ]
  },
  {
   "cell_type": "markdown",
   "id": "5b296658",
   "metadata": {},
   "source": [
    "![](img01.png)"
   ]
  },
  {
   "cell_type": "markdown",
   "id": "3b71e036",
   "metadata": {},
   "source": [
    "<div class=\"alert alert-warning\" role=\"alert\">\n",
    "\n",
    "**Exercice 3**\n",
    "\n",
    "Dans un ABR, où se trouve le plus petit élément? En déduire une fonction `minimum(a)` qui renvoie le plus petit élément de l'ABR `a`. Si l'arbre `a` est vide, alors cette fonction renvoie `None`.\n",
    "\n",
    "</div>"
   ]
  },
  {
   "cell_type": "markdown",
   "id": "41338eeb",
   "metadata": {},
   "source": [
    "Par définition d'un ABR, le plus petit élément se trouve en bas à gauche de l'arbre."
   ]
  },
  {
   "cell_type": "code",
   "execution_count": 1,
   "id": "cb6ae2f0",
   "metadata": {},
   "outputs": [],
   "source": [
    "def minimum(a):\n",
    "    if a is None:\n",
    "        return None\n",
    "\n",
    "    if a.gauche is None:\n",
    "        return a.valeur\n",
    "    else:\n",
    "        return minimum(a.gauche)"
   ]
  },
  {
   "cell_type": "markdown",
   "id": "1f73041e",
   "metadata": {},
   "source": [
    "<div class=\"alert alert-warning\" role=\"alert\">\n",
    "\n",
    "**Exercice 4**\n",
    "\n",
    "Écrire une variante de la fonction `ajoute` du cours qui n'ajoute pas l'élément `x` à l'arbre `a` s'il est déjà dedans.\n",
    "\n",
    "</div>"
   ]
  },
  {
   "cell_type": "code",
   "execution_count": 28,
   "id": "739d9c6c",
   "metadata": {},
   "outputs": [],
   "source": [
    "def ajoute(x, a):\n",
    "    if a is None:\n",
    "        return Noeud(None, x, None)\n",
    "    \n",
    "    if x < a.valeur:\n",
    "        gauche = ajoute(x, a.gauche)\n",
    "        return Noeud(gauche, a.valeur, a.droit)\n",
    "    elif x > a.valeur:\n",
    "        droit = ajoute(x, a.droit)\n",
    "        return Noeud(a.gauche, a.valeur, droit)\n",
    "    else:\n",
    "        return a # car x est déjà dans a"
   ]
  },
  {
   "cell_type": "markdown",
   "id": "883d9e3b",
   "metadata": {},
   "source": [
    "<div class=\"alert alert-warning\" role=\"alert\">\n",
    "\n",
    "**Exercice 5**\n",
    "\n",
    "Écrire une fonction `compte(x, a)` qui renvoie le nombre d'occurrences de `x` dans l'ABR `a`. \n",
    "\n",
    "On ne suppose pas que l'arbre `a` a été construit à partir de la fonction `ajoute`, mais seulement qu'il s'agit d'un ABR. Cela veut dire qu'une valeur égale à la racine peut se trouver encore dans le sous-arbre gauche autant que dans le sous-arbre droit. Cela étant, on s'attachera à ne pas descendre dans les sous-arbres dans lesquels on est certain que la valeur `x` ne peut apparaître.\n",
    "\n",
    "</div>"
   ]
  },
  {
   "cell_type": "markdown",
   "id": "c22cebc7",
   "metadata": {},
   "source": [
    "Lorsque `x` est strictement plus petit ou strictement plus grand que `a.valeur`, il suffit d'aller d'un seul côté. En cas d'égalité, en\n",
    "revanche, il faut continuer à compter des deux côtés."
   ]
  },
  {
   "cell_type": "code",
   "execution_count": 3,
   "id": "b8f3f267",
   "metadata": {},
   "outputs": [],
   "source": [
    "def compte(x, a):\n",
    "    if a is None:\n",
    "        return 0\n",
    "    \n",
    "    if x < a.valeur:\n",
    "        return compte(x, a.gauche)\n",
    "    elif x > a.valeur:\n",
    "        return compte(x, a.droit)\n",
    "    else:\n",
    "        return 1 + compte(x, a.gauche) + compte(x, a.droit)"
   ]
  },
  {
   "cell_type": "markdown",
   "id": "6aecde4c",
   "metadata": {},
   "source": [
    "<div class=\"alert alert-warning\" role=\"alert\">\n",
    "\n",
    "**Exercice 6**\n",
    "\n",
    "Écrire une fonction `remplir(a, t)` qui ajoute tous les éléments\n",
    "de l'arbre `a` dans le tableau `t`, dans l'ordre **infixe**.\n",
    "\n",
    "Chaque élément `x` est ajouté au tableau `t` avec `t.append (x)`.\n",
    "\n",
    "Ajouter ensuite une méthode `lister(self)` à la classe `ABR` qui renvoie un nouveau tableau contenant tous les éléments de l'ABR `self` par ordre croissant.\n",
    "\n",
    "</div>"
   ]
  },
  {
   "cell_type": "markdown",
   "id": "5a33a42c",
   "metadata": {},
   "source": [
    "C'est un cas particulier de parcours infixe :"
   ]
  },
  {
   "cell_type": "code",
   "execution_count": 4,
   "id": "1dfb7290",
   "metadata": {},
   "outputs": [],
   "source": [
    "def remplir(a, t):\n",
    "    if a is None:\n",
    "        return\n",
    "    \n",
    "    remplir(a.gauche, t)\n",
    "    t.append(a.valeur)\n",
    "    remplir(a.droit, t)"
   ]
  },
  {
   "cell_type": "markdown",
   "id": "db57e211",
   "metadata": {},
   "source": [
    "Pour la méthode `lister`, on crée un nouveau tableau, que l'on remplit avec\n",
    "la fonction `remplir`."
   ]
  },
  {
   "cell_type": "code",
   "execution_count": 5,
   "id": "e282ce3a",
   "metadata": {},
   "outputs": [],
   "source": [
    "def lister(self):\n",
    "    t = []\n",
    "    remplir(self.racine, t)\n",
    "    return t"
   ]
  },
  {
   "cell_type": "markdown",
   "id": "6a7c9647",
   "metadata": {},
   "source": [
    "<div class=\"alert alert-warning\" role=\"alert\">\n",
    "\n",
    "**Exercice 7**\n",
    "\n",
    "En utilisant l'exercice précédent, écrire une fonction `trier(t)` qui reçoit en argument un tableau d'entiers et renvoie un tableau trié contenant les mêmes éléments.\n",
    "\n",
    "Quelle est l'efficacité de ce tri?\n",
    "\n",
    "</div>"
   ]
  },
  {
   "cell_type": "markdown",
   "id": "80971985",
   "metadata": {},
   "source": [
    "L'idée est d'ajouter tous les éléments du tableau `t` dans un ABR, puis d'utiliser la méthode `lister` développée exercice précédemment."
   ]
  },
  {
   "cell_type": "code",
   "execution_count": 6,
   "id": "466b4d8d",
   "metadata": {},
   "outputs": [],
   "source": [
    "def trier(t):\n",
    "    a = ABR()\n",
    "    for x in t:\n",
    "        a.ajouter(x)\n",
    "    return a.lister()"
   ]
  },
  {
   "cell_type": "markdown",
   "id": "d612b22a",
   "metadata": {},
   "source": [
    "L'efficacité de ce tri dépend fortement de la répartition des éléments dans\n",
    "le tableau initial. Si par exemple les éléments sont déjà triés dans le tableau initial, alors l'arbre sera un peigne et le coût de la construction de l'ABR sera donc quadratique."
   ]
  }
 ],
 "metadata": {
  "celltoolbar": "Tags",
  "interpreter": {
   "hash": "916dbcbb3f70747c44a77c7bcd40155683ae19c65e1c03b4aa3499c5328201f1"
  },
  "kernelspec": {
   "display_name": "Python 3.9.2 64-bit",
   "name": "python3"
  },
  "language_info": {
   "codemirror_mode": {
    "name": "ipython",
    "version": 3
   },
   "file_extension": ".py",
   "mimetype": "text/x-python",
   "name": "python",
   "nbconvert_exporter": "python",
   "pygments_lexer": "ipython3",
   "version": "3.9.2"
  },
  "latex_metadata": {
   "theme": "structure",
   "title": "11 --- Arbres binaires de Recherche"
  },
  "rise": {
   "theme": "serif"
  }
 },
 "nbformat": 4,
 "nbformat_minor": 5
}
