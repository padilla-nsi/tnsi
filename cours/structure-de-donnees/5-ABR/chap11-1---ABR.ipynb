{
 "cells": [
  {
   "cell_type": "markdown",
   "id": "87853742",
   "metadata": {
    "slideshow": {
     "slide_type": "slide"
    }
   },
   "source": [
    "# Chap. 11 --- Arbres binaires de recherche"
   ]
  },
  {
   "cell_type": "markdown",
   "id": "1083baf2",
   "metadata": {},
   "source": [
    "Imaginons une bibliothèque qui contienne vraiment beaucoup de livres, répartis dans 17576 salles reliées les unes aux autres par des portes. Chaque salle contient une porte d'entrée et, possiblement, deux portes de sorties vers deux autres salles. Pour retrouver facilement l'emplacement d'un livre, les bibliothécaires astucieux ont eu l'idée suivante. \n",
    "\n",
    "Dans la toute première salle, dans laquelle on entre par la porte d'entrée de la bibliothèque, ils ont mis tous les ouvrages dont le titre commence par NAA. Si en revanche le titre commence par trois lettres venant avant NAA dans l'ordre alphabétique, alors il faut prendre la porte de sortie de gauche. Sinon, il faut prendre la porte\n",
    "de sortie de droite. On continue alors la recherche dans la salle suivante. Si on est allé dans la salle de gauche, par exemple, on y trouve tous les ouvrages dont le titre commence par GNA. Là, de même, si le titre commence par trois lettres venant avant GNA dans l'ordre alphabétique, alors il faut prendre la porte de sortie de gauche, sinon la porte de droite. Et ainsi de suite jusqu'à ce qu'on parvienne à la salle contenant tous les livres dont les trois premières lettres du titre sont celles du titre qui nous intéresse. \n",
    "\n",
    "Une telle organisation est incroyablement efficace."
   ]
  },
  {
   "cell_type": "markdown",
   "id": "76160798",
   "metadata": {},
   "source": [
    "![](img02.png)"
   ]
  },
  {
   "cell_type": "markdown",
   "id": "e6b4a6be",
   "metadata": {},
   "source": [
    "<div class=\"alert alert-warning\" role=\"alert\">\n",
    "\n",
    "**Activité**\n",
    "\n",
    "Combien de salles au maximum pour trouver un ouvrage ?\n",
    "</div>"
   ]
  },
  {
   "cell_type": "markdown",
   "id": "eb84e2ed",
   "metadata": {},
   "source": [
    "**Réponse** pas plus de 15 salles car on peut modéliser par un arbre binaire et que que $2^{14} < 17~576 < 2^{15}$."
   ]
  },
  {
   "cell_type": "markdown",
   "id": "9d4f42c8",
   "metadata": {},
   "source": [
    "## 11.1 --- Notion"
   ]
  },
  {
   "cell_type": "markdown",
   "id": "39a5c4a3",
   "metadata": {},
   "source": [
    "Un **arbre binaire de recherche** (abrégé en **ABR** dans la suite) est un arbre binaire dont les nœuds contiennent des valeurs\n",
    "qui peuvent être comparées entre elles (par exemple des entiers ou des chaînes de caractères), et tel que pour tout nœud de l'arbre :\n",
    "\n",
    "- **toutes les valeurs situées dans le sous-arbre gauche sont plus petites que la valeur située dans le nœud**,\n",
    "- **toutes les valeurs situées dans le sous-arbre droit sont plus grandes que la valeur située dans le nœud**.\n",
    "\n"
   ]
  },
  {
   "cell_type": "markdown",
   "id": "e6b4a6be",
   "metadata": {},
   "source": [
    "<div class=\"alert alert-warning\" role=\"alert\">\n",
    "\n",
    "**Activité**\n",
    "\n",
    "Quel(s) est(sont) les arbres binaires qui ne sont pas de recherche ?\n",
    "\n",
    "![](img03.png)\n",
    "\n",
    "</div>"
   ]
  },
  {
   "cell_type": "markdown",
   "id": "ee162367",
   "metadata": {},
   "source": [
    "**Réponse** : le (3) ne respecte par la propriété ABR"
   ]
  },
  {
   "cell_type": "markdown",
   "id": "05e26f95",
   "metadata": {},
   "source": [
    "### Représentation en Python"
   ]
  },
  {
   "cell_type": "markdown",
   "id": "b7bad356",
   "metadata": {},
   "source": [
    "- classe `Noeud`\n",
    "- valeurs comparables avec `<, <=, >, >=` (non codé)\n",
    "- vérifie propriété d'ABR (non codé)"
   ]
  },
  {
   "cell_type": "markdown",
   "id": "25ef1757",
   "metadata": {},
   "source": [
    "### Opérations"
   ]
  },
  {
   "cell_type": "markdown",
   "id": "c08283a6",
   "metadata": {},
   "source": [
    "- `taille`\n",
    "- `hauteur`\n",
    "- `parcours_infixe`"
   ]
  },
  {
   "cell_type": "markdown",
   "id": "e6b4a6be",
   "metadata": {},
   "source": [
    "<div class=\"alert alert-warning\" role=\"alert\">\n",
    "\n",
    "**Activité**\n",
    "\n",
    "Qu'affiche un parcours infixe sur un arbre binaire de recherche ?\n",
    "\n",
    "</div>"
   ]
  },
  {
   "cell_type": "markdown",
   "id": "1553bdf2",
   "metadata": {},
   "source": [
    "**Réponse** : un affichage par ordre croissant"
   ]
  },
  {
   "cell_type": "markdown",
   "id": "e6b4a6be",
   "metadata": {},
   "source": [
    "<div class=\"alert alert-warning\" role=\"alert\">\n",
    "\n",
    "**Activité**\n",
    "\n",
    "Implémenter la classe `Noeud` ainsi que les fonctions `taille`, `hauteur` et `parcours_infixe`.\n",
    "\n",
    "</div>"
   ]
  },
  {
   "cell_type": "code",
   "execution_count": 70,
   "id": "6b33aaa5",
   "metadata": {},
   "outputs": [],
   "source": [
    "class Noeud:\n",
    "    def __init__(self, g, v, d):\n",
    "        self.gauche = g\n",
    "        self.valeur = v \n",
    "        self.droit  = d\n",
    "    \n",
    "    \n",
    "def taille(a):\n",
    "    if a is None:\n",
    "        return 0\n",
    "\n",
    "    return 1 + taille(a.gauche) + taille(a.droit)\n",
    "\n",
    "    \n",
    "def hauteur(a):\n",
    "    if a is None:\n",
    "        return 0\n",
    "    \n",
    "    return 1 + max(hauteur(a.gauche), hauteur(a.droit))\n",
    "\n",
    "    \n",
    "def parcours_infixe(a):\n",
    "    if a is None:\n",
    "        return \"None\"\n",
    "    \n",
    "    return \"(\" + parcours_infixe(a.gauche) + \", \" + str(a.valeur) + \", \" + parcours_infixe(a.droit) + \")\""
   ]
  },
  {
   "cell_type": "markdown",
   "id": "c7352e66",
   "metadata": {},
   "source": [
    "## 11.2 --- Recherche dans un ABR"
   ]
  },
  {
   "cell_type": "markdown",
   "id": "e8253173",
   "metadata": {},
   "source": [
    "La propriété des ABR => recherche extrêmement efficace car à chaque étape, on élimine complètement la recherche dans un des sous arbres."
   ]
  },
  {
   "cell_type": "code",
   "execution_count": 71,
   "id": "a7635488",
   "metadata": {},
   "outputs": [],
   "source": [
    "def appartient(x, a):\n",
    "    if a is None:\n",
    "        return False\n",
    "    \n",
    "    if x < a.valeur:\n",
    "        return appartient(x, a.gauche)\n",
    "    elif x > a.valeur:\n",
    "        return appartient(x, a.droit)\n",
    "    else:\n",
    "        return True\n"
   ]
  },
  {
   "cell_type": "markdown",
   "id": "e6b4a6be",
   "metadata": {},
   "source": [
    "<div class=\"alert alert-warning\" role=\"alert\">\n",
    "\n",
    "**Activité**\n",
    "\n",
    "Soit `a_1`, `a_2` et `a_3` les arbres ci-dessous :\n",
    "    \n",
    "![](img03.png)\n",
    "    \n",
    "Détailler le déroulement de l'algorithme lors des appels `appartient(5, a_1)` et `appartient(1, a_2)`.\n",
    "\n",
    "</div>"
   ]
  },
  {
   "cell_type": "code",
   "execution_count": 75,
   "id": "4bfdeb3a",
   "metadata": {},
   "outputs": [
    {
     "name": "stdout",
     "output_type": "stream",
     "text": [
      "((None, 1, (None, 2, None)), 3, (None, 4, None))\n",
      "(((None, 1, None), 2, None), 3, (None, 4, None))\n",
      "False\n",
      "True\n"
     ]
    }
   ],
   "source": [
    "a_1 = Noeud( Noeud (None, 1, Noeud(None, 2, None)), 3, Noeud(None, 4, None) )\n",
    "a_2 = Noeud( Noeud(Noeud(None, 1, None), 2, None),  3, Noeud(None, 4, None) )\n",
    "\n",
    "print(parcours_infixe(a_1))\n",
    "print(parcours_infixe(a_2))\n",
    "\n",
    "print(appartient(0, a_1))\n",
    "print(appartient(3, a_1))"
   ]
  },
  {
   "cell_type": "markdown",
   "id": "85faeb68",
   "metadata": {},
   "source": [
    "#### Efficacité"
   ]
  },
  {
   "cell_type": "markdown",
   "id": "4b95aafa",
   "metadata": {},
   "source": [
    "- Si ABR équitablement répartit : très efficace\n",
    "- Pire cas : recherche infructueuse dans un peigne\n",
    "- coût de la recherche majorée par la hauteur"
   ]
  },
  {
   "cell_type": "markdown",
   "id": "8acdf35f",
   "metadata": {},
   "source": [
    "## 11.3 --- Ajout dans un ABR"
   ]
  },
  {
   "cell_type": "markdown",
   "id": "432c3f07",
   "metadata": {},
   "source": [
    "On fait le choix de considérer la classe `Noeud` comme immuable.\n",
    "La fonction `ajoute` ne modifie donc pas un arbre, mais renvoie un *nouvel* arbre contenant `x` et tous les éléments de `a`."
   ]
  },
  {
   "cell_type": "code",
   "execution_count": 29,
   "id": "541eeb31",
   "metadata": {},
   "outputs": [],
   "source": [
    "def ajoute(x, a):\n",
    "    if a is None:\n",
    "        return Noeud(None, x, None)\n",
    "    \n",
    "    if x < a.valeur:\n",
    "        return Noeud( ajoute(x, a.gauche) , a.valeur, a.droit)\n",
    "    else:\n",
    "        return Noeud(a.gauche, a.valeur, ajoute(x, a.droit) )\n",
    "    "
   ]
  },
  {
   "cell_type": "markdown",
   "id": "dd76e804",
   "metadata": {},
   "source": [
    "#### Efficacité"
   ]
  },
  {
   "cell_type": "markdown",
   "id": "b75b5a7b",
   "metadata": {},
   "source": [
    "- ressemble à appartient (car même décision à chaque étape)\n",
    "- majorée par la hauteur\n",
    "- complexité mémoire comme compléxité temporelle car autant de noeud que d'appels récursifs"
   ]
  },
  {
   "cell_type": "markdown",
   "id": "e6b4a6be",
   "metadata": {},
   "source": [
    "<div class=\"alert alert-warning\" role=\"alert\">\n",
    "\n",
    "**Activité**\n",
    "\n",
    "Détailler ce qui ce passe en mémoire lorsqu'on effectue la séquence suivante :\n",
    "\n",
    "```python\n",
    "a = ajoute(3, None)\n",
    "a = ajoute(1, a)\n",
    "a = ajoute(4, a)\n",
    "```\n",
    "\n",
    "</div>"
   ]
  },
  {
   "cell_type": "markdown",
   "id": "e6b4a6be",
   "metadata": {},
   "source": [
    "<div class=\"alert alert-warning\" role=\"alert\">\n",
    "\n",
    "**Activité**\n",
    "\n",
    "Quel ABR est renvoyé si on ajoute à l'arbre précédent la valeur 3 ?\n",
    "\n",
    "</div>"
   ]
  },
  {
   "cell_type": "markdown",
   "id": "be6ac3b8",
   "metadata": {},
   "source": [
    "## 11.4 --- Suppression dans un ABR (HP)"
   ]
  },
  {
   "cell_type": "code",
   "execution_count": 31,
   "id": "024ff87c",
   "metadata": {},
   "outputs": [],
   "source": [
    "def minimum(a):\n",
    "    if a is None:\n",
    "        return None\n",
    "    if a.gauche is None:    # racine est minimum\n",
    "        return a.valeur\n",
    "    else:\n",
    "        return minimum(a.gauche)\n",
    "\n",
    "def supprime_minimum(a):\n",
    "    assert a is not None\n",
    "    if a.gauche is None:\n",
    "        return a.droit\n",
    "    return Noeud(supprime_minimum(a.gauche), a.valeur, a.droit)\n",
    "\n",
    "def supprime(x, a):\n",
    "    if a is None:\n",
    "        return None\n",
    "\n",
    "    if x < a.valeur:\n",
    "        return Noeud(supprime(x, a.gauche), a.valeur, a.droit)\n",
    "    elif x > a.valeur:\n",
    "        return Noeud(a.gauche, a.valeur, supprime(x, a.droit))\n",
    "    # supprimer la racine !\n",
    "    elif a.droit is None:\n",
    "        return a.gauche\n",
    "    else:\n",
    "        return Noeud(a.gauche, minimum(a.droit), supprime_minimum(a.droit))"
   ]
  },
  {
   "cell_type": "markdown",
   "id": "d343d421",
   "metadata": {},
   "source": [
    "## 11.5 --- Encapsulation dans un objet"
   ]
  },
  {
   "cell_type": "code",
   "execution_count": 33,
   "id": "e685a1d1",
   "metadata": {},
   "outputs": [],
   "source": [
    "class ABR:\n",
    "    def __init__ (self):\n",
    "        self.racine = None\n",
    "    \n",
    "    def ajouter(self, x):\n",
    "        self.racine = ajoute(x, self.racine)\n",
    "    \n",
    "    def contient(self, x):\n",
    "        return appartient(x, self.racine)"
   ]
  },
  {
   "cell_type": "markdown",
   "id": "e6b4a6be",
   "metadata": {},
   "source": [
    "<div class=\"alert alert-warning\" role=\"alert\">\n",
    "\n",
    "**Activité**\n",
    "\n",
    "Représenter la mémoire après la séquence suivante :\n",
    "\n",
    "```python\n",
    "a = ABR()\n",
    "a.ajouter(3)\n",
    "a.ajouter(1)\n",
    "a.ajouter(4)\n",
    "a.ajouter(2)\n",
    "```\n",
    "\n",
    "</div>"
   ]
  },
  {
   "cell_type": "markdown",
   "id": "722a82cb",
   "metadata": {},
   "source": [
    "![](img04.png)"
   ]
  },
  {
   "cell_type": "markdown",
   "id": "e77c5ca1",
   "metadata": {},
   "source": [
    "## 11.6 --- Arbre équilibré"
   ]
  },
  {
   "cell_type": "markdown",
   "id": "8da6e229",
   "metadata": {},
   "source": [
    "- il est possible de s'assurer que la hauteur d'un ABR ne soit pas trop grande\n",
    "- arbres AVL\n",
    "- arbres rouges/noirs"
   ]
  }
 ],
 "metadata": {
  "celltoolbar": "Tags",
  "interpreter": {
   "hash": "916dbcbb3f70747c44a77c7bcd40155683ae19c65e1c03b4aa3499c5328201f1"
  },
  "kernelspec": {
   "display_name": "Python 3.9.2 64-bit",
   "name": "python3"
  },
  "language_info": {
   "codemirror_mode": {
    "name": "ipython",
    "version": 3
   },
   "file_extension": ".py",
   "mimetype": "text/x-python",
   "name": "python",
   "nbconvert_exporter": "python",
   "pygments_lexer": "ipython3",
   "version": "3.9.2"
  },
  "latex_metadata": {
   "theme": "structure",
   "title": "11 --- Arbres binaires de Recherche"
  },
  "rise": {
   "theme": "serif"
  }
 },
 "nbformat": 4,
 "nbformat_minor": 5
}
