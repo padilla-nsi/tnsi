{
 "cells": [
  {
   "cell_type": "markdown",
   "id": "anonymous-dominant",
   "metadata": {
    "slideshow": {
     "slide_type": "slide"
    }
   },
   "source": [
    "# Chap. 11 --- Arbres binaires de recherche"
   ]
  },
  {
   "cell_type": "markdown",
   "id": "according-zambia",
   "metadata": {},
   "source": [
    "<div class=\"alert alert-warning\" role=\"alert\">\n",
    "\n",
    "**Activité**\n",
    "\n",
    "Combien de salles au maximum pour trouver un ouvrage ?\n",
    "</div>"
   ]
  },
  {
   "cell_type": "markdown",
   "id": "significant-kitty",
   "metadata": {},
   "source": [
    "**Réponse** pas plus de 15 salles car on peut modéliser par un arbre binaire et que que $2^{14} < 17~576 < 2^{15}$."
   ]
  },
  {
   "cell_type": "markdown",
   "id": "maritime-thesaurus",
   "metadata": {},
   "source": [
    "## 11.1 --- Notion"
   ]
  },
  {
   "cell_type": "markdown",
   "id": "owned-snowboard",
   "metadata": {},
   "source": [
    "<div class=\"alert alert-warning\" role=\"alert\">\n",
    "\n",
    "**Activité**\n",
    "\n",
    "Quel(s) est(sont) les arbres binaires qui ne sont pas de recherche ?\n",
    "\n",
    "![](https://raw.githubusercontent.com/padilla-nsi/tnsi/main/cours/structure-de-donnees/5-ABR/img03.png)\n",
    "\n",
    "</div>"
   ]
  },
  {
   "cell_type": "markdown",
   "id": "polar-company",
   "metadata": {},
   "source": [
    "**Réponse** : le (3) ne respecte par la propriété ABR"
   ]
  },
  {
   "cell_type": "markdown",
   "id": "popular-diabetes",
   "metadata": {},
   "source": [
    "<div class=\"alert alert-warning\" role=\"alert\">\n",
    "\n",
    "**Activité**\n",
    "\n",
    "Qu'affiche un parcours infixe sur un arbre binaire de recherche ?\n",
    "\n",
    "</div>"
   ]
  },
  {
   "cell_type": "markdown",
   "id": "middle-contents",
   "metadata": {},
   "source": [
    "**Réponse** : un affichage par ordre croissant"
   ]
  },
  {
   "cell_type": "markdown",
   "id": "indian-stamp",
   "metadata": {},
   "source": [
    "<div class=\"alert alert-warning\" role=\"alert\">\n",
    "\n",
    "**Activité**\n",
    "\n",
    "Implémenter la classe `Noeud` ainsi que les fonctions `taille`, `hauteur` et `parcours_infixe`.\n",
    "\n",
    "</div>"
   ]
  },
  {
   "cell_type": "code",
   "execution_count": 70,
   "id": "experimental-cargo",
   "metadata": {},
   "outputs": [],
   "source": [
    "class Noeud:\n",
    "    def __init__(self, g, v, d):\n",
    "        self.gauche = g\n",
    "        self.valeur = v \n",
    "        self.droit  = d\n",
    "    \n",
    "    \n",
    "def taille(a):\n",
    "    if a is None:\n",
    "        return 0\n",
    "\n",
    "    return 1 + taille(a.gauche) + taille(a.droit)\n",
    "\n",
    "    \n",
    "def hauteur(a):\n",
    "    if a is None:\n",
    "        return 0\n",
    "    \n",
    "    return 1 + max(hauteur(a.gauche), hauteur(a.droit))\n",
    "\n",
    "    \n",
    "def parcours_infixe(a):\n",
    "    if a is None:\n",
    "        return \"None\"\n",
    "    \n",
    "    return \"(\" + parcours_infixe(a.gauche) + \", \" + str(a.valeur) + \", \" + parcours_infixe(a.droit) + \")\""
   ]
  },
  {
   "cell_type": "markdown",
   "id": "after-solomon",
   "metadata": {},
   "source": [
    "## 11.2 --- Recherche dans un ABR"
   ]
  },
  {
   "cell_type": "markdown",
   "id": "heard-bosnia",
   "metadata": {},
   "source": [
    "La propriété des ABR => recherche extrêmement efficace car à chaque étape, on élimine complètement la recherche dans un des sous arbres."
   ]
  },
  {
   "cell_type": "code",
   "execution_count": 71,
   "id": "sophisticated-madonna",
   "metadata": {},
   "outputs": [],
   "source": [
    "def appartient(x, a):\n",
    "    if a is None:\n",
    "        return False\n",
    "    \n",
    "    if x < a.valeur:\n",
    "        return appartient(x, a.gauche)\n",
    "    elif x > a.valeur:\n",
    "        return appartient(x, a.droit)\n",
    "    else:\n",
    "        return True\n"
   ]
  },
  {
   "cell_type": "markdown",
   "id": "spanish-victor",
   "metadata": {},
   "source": [
    "<div class=\"alert alert-warning\" role=\"alert\">\n",
    "\n",
    "**Activité**\n",
    "\n",
    "Soit `a_1`, `a_2` et `a_3` les arbres ci-dessous :\n",
    "    \n",
    "![](https://raw.githubusercontent.com/padilla-nsi/tnsi/main/cours/structure-de-donnees/5-ABR/img03.png)\n",
    "    \n",
    "Détailler le déroulement de l'algorithme lors des appels `appartient(5, a_1)` et `appartient(1, a_2)`.\n",
    "\n",
    "</div>"
   ]
  },
  {
   "cell_type": "code",
   "execution_count": 75,
   "id": "latin-mandate",
   "metadata": {},
   "outputs": [
    {
     "name": "stdout",
     "output_type": "stream",
     "text": [
      "((None, 1, (None, 2, None)), 3, (None, 4, None))\n",
      "(((None, 1, None), 2, None), 3, (None, 4, None))\n",
      "False\n",
      "True\n"
     ]
    }
   ],
   "source": [
    "a_1 = Noeud( Noeud (None, 1, Noeud(None, 2, None)), 3, Noeud(None, 4, None) )\n",
    "a_2 = Noeud( Noeud(Noeud(None, 1, None), 2, None),  3, Noeud(None, 4, None) )\n",
    "\n",
    "print(parcours_infixe(a_1))\n",
    "print(parcours_infixe(a_2))\n",
    "\n",
    "print(appartient(0, a_1))\n",
    "print(appartient(3, a_1))"
   ]
  },
  {
   "cell_type": "markdown",
   "id": "medieval-necessity",
   "metadata": {},
   "source": [
    "## 11.3 --- Ajout dans un ABR"
   ]
  },
  {
   "cell_type": "markdown",
   "id": "internal-leather",
   "metadata": {},
   "source": [
    "On fait le choix de considérer la classe `Noeud` comme immuable.\n",
    "La fonction `ajoute` ne modifie donc pas un arbre, mais renvoie un *nouvel* arbre contenant `x` et tous les éléments de `a`."
   ]
  },
  {
   "cell_type": "code",
   "execution_count": 29,
   "id": "single-method",
   "metadata": {},
   "outputs": [],
   "source": [
    "def ajoute(x, a):\n",
    "    if a is None:\n",
    "        return Noeud(None, x, None)\n",
    "    \n",
    "    if x < a.valeur:\n",
    "        return Noeud( ajoute(x, a.gauche) , a.valeur, a.droit)\n",
    "    else:\n",
    "        return Noeud(a.gauche, a.valeur, ajoute(x, a.droit) )\n",
    "    "
   ]
  },
  {
   "cell_type": "markdown",
   "id": "running-musical",
   "metadata": {},
   "source": [
    "<div class=\"alert alert-warning\" role=\"alert\">\n",
    "\n",
    "**Activité**\n",
    "\n",
    "Détailler ce qui ce passe en mémoire lorsqu'on effectue la séquence suivante :\n",
    "\n",
    "```python\n",
    "a = ajoute(3, None)\n",
    "a = ajoute(1, a)\n",
    "a = ajoute(4, a)\n",
    "```\n",
    "\n",
    "</div>"
   ]
  },
  {
   "cell_type": "markdown",
   "id": "decreased-background",
   "metadata": {},
   "source": [
    "<div class=\"alert alert-warning\" role=\"alert\">\n",
    "\n",
    "**Activité**\n",
    "\n",
    "Quel ABR est renvoyé si on ajoute à l'arbre précédent la valeur 3 ?\n",
    "\n",
    "</div>"
   ]
  },
  {
   "cell_type": "markdown",
   "id": "analyzed-pixel",
   "metadata": {},
   "source": [
    "## 11.4 --- Suppression dans un ABR (HP)"
   ]
  },
  {
   "cell_type": "code",
   "execution_count": 31,
   "id": "precise-given",
   "metadata": {},
   "outputs": [],
   "source": [
    "def minimum(a):\n",
    "    if a is None:\n",
    "        return None\n",
    "    if a.gauche is None:    # racine est minimum\n",
    "        return a.valeur\n",
    "    else:\n",
    "        return minimum(a.gauche)\n",
    "\n",
    "def supprime_minimum(a):\n",
    "    assert a is not None\n",
    "    if a.gauche is None:\n",
    "        return a.droit\n",
    "    return Noeud(supprime_minimum(a.gauche), a.valeur, a.droit)\n",
    "\n",
    "def supprime(x, a):\n",
    "    if a is None:\n",
    "        return None\n",
    "\n",
    "    if x < a.valeur:\n",
    "        return Noeud(supprime(x, a.gauche), a.valeur, a.droit)\n",
    "    elif x > a.valeur:\n",
    "        return Noeud(a.gauche, a.valeur, supprime(x, a.droit))\n",
    "    # supprimer la racine !\n",
    "    elif a.droit is None:\n",
    "        return a.gauche\n",
    "    else:\n",
    "        return Noeud(a.gauche, minimum(a.droit), supprime_minimum(a.droit))"
   ]
  },
  {
   "cell_type": "markdown",
   "id": "engaging-packaging",
   "metadata": {},
   "source": [
    "## 11.5 --- Encapsulation dans un objet"
   ]
  },
  {
   "cell_type": "code",
   "execution_count": 33,
   "id": "conventional-transcription",
   "metadata": {},
   "outputs": [],
   "source": [
    "class ABR:\n",
    "    def __init__ (self):\n",
    "        self.racine = None\n",
    "    \n",
    "    def ajouter(self, x):\n",
    "        self.racine = ajoute(x, self.racine)\n",
    "    \n",
    "    def contient(self, x):\n",
    "        return appartient(x, self.racine)"
   ]
  },
  {
   "cell_type": "markdown",
   "id": "representative-commonwealth",
   "metadata": {},
   "source": [
    "<div class=\"alert alert-warning\" role=\"alert\">\n",
    "\n",
    "**Activité**\n",
    "\n",
    "Représenter la mémoire après la séquence suivante :\n",
    "\n",
    "```python\n",
    "a = ABR()\n",
    "a.ajouter(3)\n",
    "a.ajouter(1)\n",
    "a.ajouter(4)\n",
    "a.ajouter(2)\n",
    "```\n",
    "\n",
    "</div>"
   ]
  },
  {
   "cell_type": "markdown",
   "id": "radical-climate",
   "metadata": {},
   "source": [
    "![](https://raw.githubusercontent.com/padilla-nsi/tnsi/main/cours/structure-de-donnees/5-ABR/img04.png)"
   ]
  }
 ],
 "metadata": {
  "celltoolbar": "Tags",
  "interpreter": {
   "hash": "916dbcbb3f70747c44a77c7bcd40155683ae19c65e1c03b4aa3499c5328201f1"
  },
  "kernelspec": {
   "display_name": "Python 3",
   "language": "python",
   "name": "python3"
  },
  "language_info": {
   "codemirror_mode": {
    "name": "ipython",
    "version": 3
   },
   "file_extension": ".py",
   "mimetype": "text/x-python",
   "name": "python",
   "nbconvert_exporter": "python",
   "pygments_lexer": "ipython3",
   "version": "3.9.2"
  },
  "latex_metadata": {
   "theme": "structure",
   "title": "11 --- Arbres binaires de Recherche"
  },
  "rise": {
   "theme": "serif"
  }
 },
 "nbformat": 4,
 "nbformat_minor": 5
}
