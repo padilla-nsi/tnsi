{
 "cells": [
  {
   "cell_type": "markdown",
   "id": "2c6e6ea5",
   "metadata": {},
   "source": [
    "## 11.7 --- Activités"
   ]
  },
  {
   "cell_type": "markdown",
   "id": "e6b4a6be",
   "metadata": {},
   "source": [
    "<div class=\"alert alert-warning\" role=\"alert\">\n",
    "\n",
    "**Exercice 1**\n",
    "\n",
    "Pourquoi la bibliothèque donnée en exemple au début de ce chapitre contient-elle 17576 salles?\n",
    "\n",
    "</div>"
   ]
  },
  {
   "cell_type": "markdown",
   "id": "0febee2e",
   "metadata": {},
   "source": [
    "Car il y a $26^3 = 17 576$ mots de trois lettres."
   ]
  },
  {
   "cell_type": "markdown",
   "id": "cdaac9f5",
   "metadata": {},
   "source": [
    "<div class=\"alert alert-warning\" role=\"alert\">\n",
    "\n",
    "**Exercice 2** \n",
    "\n",
    "Donner tous les ABR formés de trois nœuds et contenant les entiers 1, 2 et 3.\n",
    "\n",
    "</div>"
   ]
  },
  {
   "cell_type": "markdown",
   "id": "5b296658",
   "metadata": {},
   "source": [
    "![](img01.png)"
   ]
  },
  {
   "cell_type": "markdown",
   "id": "3b71e036",
   "metadata": {},
   "source": [
    "<div class=\"alert alert-warning\" role=\"alert\">\n",
    "\n",
    "**Exercice 3**\n",
    "\n",
    "Dans un ABR, où se trouve le plus petit élément? En déduire une fonction `minimum(a)` qui renvoie le plus petit élément de l'ABR `a`. Si l'arbre `a` est vide, alors cette fonction renvoie `None`.\n",
    "\n",
    "</div>"
   ]
  },
  {
   "cell_type": "markdown",
   "id": "41338eeb",
   "metadata": {},
   "source": [
    "Par définition d'un ABR, le plus petit élément se trouve en bas à gauche de l'arbre."
   ]
  },
  {
   "cell_type": "code",
   "execution_count": 1,
   "id": "cb6ae2f0",
   "metadata": {},
   "outputs": [],
   "source": [
    "def minimum(a):\n",
    "    if a is None:\n",
    "        return None\n",
    "\n",
    "    if a.gauche is None:\n",
    "        return a.valeur\n",
    "    else:\n",
    "        return minimum(a.gauche)"
   ]
  },
  {
   "cell_type": "markdown",
   "id": "1f73041e",
   "metadata": {},
   "source": [
    "<div class=\"alert alert-warning\" role=\"alert\">\n",
    "\n",
    "**Exercice 4**\n",
    "\n",
    "Écrire une variante de la fonction `ajoute` du cours qui n'ajoute pas l'élément `x` à l'arbre `a` s'il est déjà dedans.\n",
    "\n",
    "</div>"
   ]
  },
  {
   "cell_type": "code",
   "execution_count": 28,
   "id": "739d9c6c",
   "metadata": {},
   "outputs": [],
   "source": [
    "def ajoute(x, a):\n",
    "    if a is None:\n",
    "        return Noeud(None, x, None)\n",
    "    \n",
    "    if x < a.valeur:\n",
    "        gauche = ajoute(x, a.gauche)\n",
    "        return Noeud(gauche, a.valeur, a.droit)\n",
    "    elif x > a.valeur:\n",
    "        droit = ajoute(x, a.droit)\n",
    "        return Noeud(a.gauche, a.valeur, droit)\n",
    "    else:\n",
    "        return a # car x est déjà dans a"
   ]
  },
  {
   "cell_type": "markdown",
   "id": "883d9e3b",
   "metadata": {},
   "source": [
    "<div class=\"alert alert-warning\" role=\"alert\">\n",
    "\n",
    "**Exercice 5**\n",
    "\n",
    "Écrire une fonction `compte(x, a)` qui renvoie le nombre d'occurrences de `x` dans l'ABR `a`. \n",
    "\n",
    "On ne suppose pas que l'arbre `a` a été construit à partir de la fonction `ajoute`, mais seulement qu'il s'agit d'un ABR. Cela veut dire qu'une valeur égale à la racine peut se trouver encore dans le sous-arbre gauche autant que dans le sous-arbre droit. Cela étant, on s'attachera à ne pas descendre dans les sous-arbres dans lesquels on est certain que la valeur `x` ne peut apparaître.\n",
    "\n",
    "</div>"
   ]
  },
  {
   "cell_type": "markdown",
   "id": "c22cebc7",
   "metadata": {},
   "source": [
    "Lorsque `x` est strictement plus petit ou strictement plus grand que `a.valeur`, il suffit d'aller d'un seul côté. En cas d'égalité, en\n",
    "revanche, il faut continuer à compter des deux côtés."
   ]
  },
  {
   "cell_type": "code",
   "execution_count": 3,
   "id": "b8f3f267",
   "metadata": {},
   "outputs": [],
   "source": [
    "def compte(x, a):\n",
    "    if a is None:\n",
    "        return 0\n",
    "    \n",
    "    if x < a.valeur:\n",
    "        return compte(x, a.gauche)\n",
    "    elif x > a.valeur:\n",
    "        return compte(x, a.droit)\n",
    "    else:\n",
    "        return 1 + compte(x, a.gauche) + compte(x, a.droit)"
   ]
  },
  {
   "cell_type": "markdown",
   "id": "6aecde4c",
   "metadata": {},
   "source": [
    "<div class=\"alert alert-warning\" role=\"alert\">\n",
    "\n",
    "**Exercice 6**\n",
    "\n",
    "Écrire une fonction `remplir(a, t)` qui ajoute tous les éléments\n",
    "de l'arbre `a` dans le tableau `t`, dans l'ordre **infixe**.\n",
    "\n",
    "Chaque élément `x` est ajouté au tableau `t` avec `t.append (x)`.\n",
    "\n",
    "Ajouter ensuite une méthode `lister(self)` à la classe `ABR` qui renvoie un nouveau tableau contenant tous les éléments de l'ABR `self` par ordre croissant.\n",
    "\n",
    "</div>"
   ]
  },
  {
   "cell_type": "markdown",
   "id": "5a33a42c",
   "metadata": {},
   "source": [
    "C'est un cas particulier de parcours infixe :"
   ]
  },
  {
   "cell_type": "code",
   "execution_count": 4,
   "id": "1dfb7290",
   "metadata": {},
   "outputs": [],
   "source": [
    "def remplir(a, t):\n",
    "    if a is None:\n",
    "        return\n",
    "    \n",
    "    remplir(a.gauche, t)\n",
    "    t.append(a.valeur)\n",
    "    remplir(a.droit, t)"
   ]
  },
  {
   "cell_type": "markdown",
   "id": "db57e211",
   "metadata": {},
   "source": [
    "Pour la méthode `lister`, on crée un nouveau tableau, que l'on remplit avec\n",
    "la fonction `remplir`."
   ]
  },
  {
   "cell_type": "code",
   "execution_count": 5,
   "id": "e282ce3a",
   "metadata": {},
   "outputs": [],
   "source": [
    "def lister(self):\n",
    "    t = []\n",
    "    remplir(self.racine, t)\n",
    "    return t"
   ]
  },
  {
   "cell_type": "markdown",
   "id": "6a7c9647",
   "metadata": {},
   "source": [
    "<div class=\"alert alert-warning\" role=\"alert\">\n",
    "\n",
    "**Exercice 7**\n",
    "\n",
    "En utilisant l'exercice précédent, écrire une fonction `trier(t)` qui reçoit en argument un tableau d'entiers et renvoie un tableau trié contenant les mêmes éléments.\n",
    "\n",
    "Quelle est l'efficacité de ce tri?\n",
    "\n",
    "</div>"
   ]
  },
  {
   "cell_type": "markdown",
   "id": "80971985",
   "metadata": {},
   "source": [
    "L'idée est d'ajouter tous les éléments du tableau `t` dans un ABR, puis d'utiliser la méthode `lister` développée exercice précédemment."
   ]
  },
  {
   "cell_type": "code",
   "execution_count": 6,
   "id": "466b4d8d",
   "metadata": {},
   "outputs": [],
   "source": [
    "def trier(t):\n",
    "    a = ABR()\n",
    "    for x in t:\n",
    "        a.ajouter(x)\n",
    "    return a.lister()"
   ]
  },
  {
   "cell_type": "markdown",
   "id": "d612b22a",
   "metadata": {},
   "source": [
    "L'efficacité de ce tri dépend fortement de la répartition des éléments dans\n",
    "le tableau initial. Si par exemple les éléments sont déjà triés dans le tableau initial, alors l'arbre sera un peigne et le coût de la construction de l'ABR sera donc quadratique."
   ]
  }
 ],
 "metadata": {
  "celltoolbar": "Tags",
  "interpreter": {
   "hash": "916dbcbb3f70747c44a77c7bcd40155683ae19c65e1c03b4aa3499c5328201f1"
  },
  "kernelspec": {
   "display_name": "Python 3.9.2 64-bit",
   "name": "python3"
  },
  "language_info": {
   "codemirror_mode": {
    "name": "ipython",
    "version": 3
   },
   "file_extension": ".py",
   "mimetype": "text/x-python",
   "name": "python",
   "nbconvert_exporter": "python",
   "pygments_lexer": "ipython3",
   "version": "3.9.2"
  },
  "latex_metadata": {
   "theme": "structure",
   "title": "11 --- Arbres binaires de Recherche"
  },
  "rise": {
   "theme": "serif"
  }
 },
 "nbformat": 4,
 "nbformat_minor": 5
}
