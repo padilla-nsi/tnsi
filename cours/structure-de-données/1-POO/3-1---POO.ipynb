{
 "cells": [
  {
   "cell_type": "markdown",
   "source": [
    "# Chap. 3 --- Programmation Orienté Objet ([pa.dilla.fr/10](https://pa.dilla.fr/10) )\n"
   ],
   "metadata": {
    "slideshow": {
     "slide_type": "slide"
    }
   }
  },
  {
   "cell_type": "markdown",
   "source": [
    "Voici les notions introduites dans ce chapitre :\n",
    "\n",
    "- définition de classes\n",
    "- création et manipulation d'objets\n",
    "- attributs et méthodes"
   ],
   "metadata": {
    "slideshow": {
     "slide_type": "slide"
    },
    "tags": [
     "cacher"
    ]
   }
  },
  {
   "cell_type": "markdown",
   "source": [
    "## 1 --- Classes et attributs : structurer les données"
   ],
   "metadata": {
    "slideshow": {
     "slide_type": "slide"
    }
   }
  },
  {
   "cell_type": "markdown",
   "source": [
    "Une **classe** définit et nomme une structure de données de base du langage qui peut regrouper plusieurs composantes de natures variées"
   ],
   "metadata": {}
  },
  {
   "cell_type": "markdown",
   "source": [
    "Chacune de ces composantes est appelée un **attribut** et est doté d'un nom."
   ],
   "metadata": {}
  },
  {
   "cell_type": "markdown",
   "source": [
    "Par exemple, voici une manipulation de trois nombres entiers représentant des durées (heures, minutes, secondes).\n",
    "\n",
    "On décide d'appeler la classe `Chrono` et de la munir de trois attributs : `heures`, `minutes` et `secondes`.\n",
    "\n",
    "Voici alors comment on pourrait figurer le temps *21 heures, 34 minutes et 55 secondes* :\n",
    "\n",
    "![](res/chrono00.png)"
   ],
   "metadata": {}
  },
  {
   "cell_type": "markdown",
   "source": [
    "### 1.1 --- Description d'une classe"
   ],
   "metadata": {}
  },
  {
   "cell_type": "markdown",
   "source": [
    "Voici comment définir cette structure sous la forme d'une *classe* :"
   ],
   "metadata": {}
  },
  {
   "cell_type": "code",
   "execution_count": 2,
   "source": [
    "class Chrono:\n",
    "    \"\"\"\n",
    "    Une classe pour représenter un temps mesuré\n",
    "    en heures, minutes et secondes.\"\"\"\n",
    "    def __init__(self, h, m, s):\n",
    "        self.heures = h\n",
    "        self.minutes = m\n",
    "        self.secondes = s"
   ],
   "outputs": [],
   "metadata": {}
  },
  {
   "cell_type": "markdown",
   "source": [
    "Pour définir une nouvelle classe, on utilise :\n",
    "\n",
    "1. le mot-clé **`class`** \n",
    "2. suivi du nom choisi pour la classe et \n",
    "3. suivi par les deux-points `:`.\n",
    "\n",
    "Tout le reste de la définition est alors en retrait (indentation).\n",
    "\n",
    "Par convention, le nom de la classe doit commencer par une **lettre majuscule**.\n",
    "\n",
    "Suivent alors \n",
    "\n",
    "- une documentation puis \n",
    "- la définition d'une fonction `__init__` possédant \n",
    "  - comme premier paramètre `self` puis ensuite \n",
    "  - les trois paramètres correspondants aux trois composantes d'un objet admettant possédant la structure de `chrono`.\n",
    "\n",
    "Les instructions de la forme `self.xxx = ` correspondent aux affectations des valeurs aux trois attributs de la classe."
   ],
   "metadata": {}
  },
  {
   "cell_type": "markdown",
   "source": [
    "### 1.2 --- Création d'un objet"
   ],
   "metadata": {}
  },
  {
   "cell_type": "markdown",
   "source": [
    "Une fois la classe définie, un élément correspondant à la structure `Chrono` peut être construit avec une expression de la forme $\\texttt{Chrono(}h, m, s \\texttt{)}$."
   ],
   "metadata": {}
  },
  {
   "cell_type": "markdown",
   "source": [
    "On appelle un tel élément un **objet** ou une **instance de la classe** `Chrono`."
   ],
   "metadata": {}
  },
  {
   "cell_type": "markdown",
   "source": [
    "Ainsi, pour définir et affecter à la variable `t` un objet représentant notre temps *\"21 heures, 34 mintes et 55 secondes\"* on écrit :\n",
    "\n",
    "```python\n",
    "t = Chrono(21, 34, 55)\n",
    "```"
   ],
   "metadata": {}
  },
  {
   "cell_type": "markdown",
   "source": [
    "On remarque que, comme pour les tableaux, la variable `t` ne contient pas à strictement parler l'objet **mais** un pointeur vers le bloc de mémoire qui a été alloué à cet objet.\n",
    "\n",
    "La situation correspond donc au schéma suivant :\n",
    "\n",
    "![](res/chrono01.png)"
   ],
   "metadata": {}
  },
  {
   "cell_type": "markdown",
   "source": [
    "### 1.3 --- Manipulation des attributs"
   ],
   "metadata": {}
  },
  {
   "cell_type": "markdown",
   "source": [
    "On peut accéder aux attributs d'un objet `t` de la classe `Chrono` avec la notation `t.a` où `a` désigne le nom de l'attribut visé. \n",
    "\n",
    "Tout comme les cases d'un tableau, les attributs d'un objets sont mutables : on peut les consulter **et** les modifier."
   ],
   "metadata": {}
  },
  {
   "cell_type": "code",
   "execution_count": 4,
   "source": [
    "t = Chrono(21, 34, 55)\n",
    "\n",
    "t.secondes"
   ],
   "outputs": [
    {
     "output_type": "execute_result",
     "data": {
      "text/plain": [
       "55"
      ]
     },
     "metadata": {},
     "execution_count": 4
    }
   ],
   "metadata": {}
  },
  {
   "cell_type": "code",
   "execution_count": 5,
   "source": [
    "t.secondes = t.secondes + 1\n",
    "t.secondes"
   ],
   "outputs": [
    {
     "output_type": "execute_result",
     "data": {
      "text/plain": [
       "56"
      ]
     },
     "metadata": {},
     "execution_count": 5
    }
   ],
   "metadata": {}
  },
  {
   "cell_type": "markdown",
   "source": [
    "On parle bien d'**attribut d'un objet** car chaque objet possède pour ses attributs des valeurs qui lui sont propres. On parle alors aussi d'**attribut d'instance**.\n"
   ],
   "metadata": {}
  },
  {
   "cell_type": "markdown",
   "source": [
    "Ainsi, chaque objet de la classe `Chrono` possède trois attributs dont les valeurs sont indépendantes des valeurs des attributs (de même nom) des autres instances.\n",
    "\n",
    "Les définitions `t = Chrono(21, 34, 55)` et `u = Chrono(5, 8, 13)` conduisent donc à la situation suivante :\n",
    "\n",
    "![](res/chrono01.png) ![](res/chrono02.png)\n",
    "\n",
    "Une avancée de cinq secondes du chronomètre `t` mènerait ainsi à la situation suivante :\n",
    "\n",
    "![](res/chrono03.png) ![](res/chrono02.png)\n"
   ],
   "metadata": {}
  },
  {
   "cell_type": "markdown",
   "source": [
    "Une classe peut également définir des **attributs de classe**, dont la valeur est attachée à la classe elle même."
   ],
   "metadata": {}
  },
  {
   "cell_type": "markdown",
   "source": [
    "Ainsi :\n",
    "\n",
    "```python\n",
    "class Chrono:\n",
    "    heure_max = 24\n",
    "    ...\n",
    "```\n",
    "\n",
    "On peut consulter de tels attributs depuis n'importe quelle instance avec `t.heure_max` ou depuis la classe elle même avec `Chrono.heure_max`.\n",
    "\n",
    "On peut modifier cet attribut de classe en y accédant via la classe elle même pour que la modification soit perseptible par toutes les instances présentes et futures :\n",
    "\n",
    "```python\n",
    "Chrono.heure_max = 12\n",
    "``` \n",
    "\n"
   ],
   "metadata": {}
  },
  {
   "cell_type": "markdown",
   "source": [
    "## 2 --- Méthodes : manipuler les données"
   ],
   "metadata": {}
  },
  {
   "cell_type": "markdown",
   "source": [
    "Dans le *paradigme* de la programmation objet, la notion de classe est associée à la notion d'*encapsulation* : un programme manipulant un objet n'est pas censé accéder librement à la totalité de son contenu.\n",
    "\n",
    "L'utilisateur n'a pas à savoir ou à accéder aux détails d'implémentation.\n",
    "\n",
    "La manipulation de l'objet passe donc de préférence par une interface constituée de fonctions dédiées qui font partie de la définition de la calsse et sont appelée les **méthodes** de cette classe."
   ],
   "metadata": {}
  },
  {
   "cell_type": "markdown",
   "source": [
    "### 2.1 --- Utilisation d'un méthode"
   ],
   "metadata": {}
  },
  {
   "cell_type": "markdown",
   "source": [
    "Les méthodes d'une classe servent à manipuler les objets de cette classe. Même si les méthodes sont des fonctions qui peuvent recevoir des paramètres, chaque appel de méthode s'applique avant tout à un objet de la classe concerné.\n",
    "\n"
   ],
   "metadata": {}
  },
  {
   "cell_type": "markdown",
   "source": [
    "L'appel d'une méthode `texte` s'appliquant au chronomètre `t` et renvoyant une chaîne de caractères décrivant le temps représenté par `t` est réalisé par l'instruction `t.texte()` et elle pourra renvoyer la chaîne de caractère `'21h 34h 55s'`."
   ],
   "metadata": {}
  },
  {
   "cell_type": "markdown",
   "source": [
    "Cette notation pour l'appel de méthode est la même notation pointée que l'accès aux attributs de `t`. **Mais** la paire de parenthèse fait bien apparaître une méthode, comme pour une fonction sans paramètre.\n",
    "\n",
    "Lorsqu'un méthode dépend d'autres paramètres que cet objet principal `t`, ces autres paramètres apparaissent de la manière habituelle.\n"
   ],
   "metadata": {}
  },
  {
   "cell_type": "markdown",
   "source": [
    "Par exemple, s'il existe une méthode `avance` faisant avancer le chronomètre `t` d'un *certain* nombre de secondes passé en paramètre, on écrira pour avancer le chronomètre de 5 secondes :\n",
    "\n",
    "```python\n",
    "t.avance(5)\n",
    "``` \n",
    "\n",
    "Ainsi un nouvel appel à `t.texte()` renverra cette fois-ci `'21h 35m 0s'`. "
   ],
   "metadata": {}
  },
  {
   "cell_type": "markdown",
   "source": [
    "Comme le montre l'exemple, on ne manipule pas directement les attributs d'un objet. On utilise pour cela des méthodes ce qui préserve l'encapsulation du code."
   ],
   "metadata": {}
  },
  {
   "cell_type": "markdown",
   "source": [
    "On a déjà rencontré des notations de ce type comme par exemple `tab.append(42)` pour ajouter le nombre `42` au tableau `tab`."
   ],
   "metadata": {}
  },
  {
   "cell_type": "markdown",
   "source": [
    "Les paramètres des méthodes peuvent être aussi bien des valeurs de base (nombre, chaîne de caractère, tableau, etc.) que des objets."
   ],
   "metadata": {}
  },
  {
   "cell_type": "markdown",
   "source": [
    "Par exemple si pour la classe `Chrono` on admet l'existence des méthodes suivantes :\n",
    "\n",
    "- `egale` s'appliquant à deux chronomètres pour tester l'égalité des temps représentés\n",
    "- `clone` s'appliquant à un chronomètre `t` et renvoyant un nouveau chronomètre initialisé au même temps que `t`\n",
    "\n",
    "On pourra alors écrire l'instruction suivante \n",
    "\n",
    "```python\n",
    "u = t.clone()\n",
    "t.egale(u)\n",
    "```\n",
    "\n",
    "qui nous renverra `True`.\n",
    "\n",
    "Puis après `t.avance(3)`, l'instruction `t.egale(u)` nous renverra alors `False`."
   ],
   "metadata": {}
  },
  {
   "cell_type": "markdown",
   "source": [
    "### 2.2 --- Définition d'une méthode"
   ],
   "metadata": {}
  },
  {
   "cell_type": "markdown",
   "source": [
    "Comme nous venons de le voir, une méthode d'une classe peut être vue comme une fonction ordinaire, pouvant dépendre d'un nombre de paramètres arbitraire **sauf** qu'elle doit avoir obligatoirement pour **premier paramètre** un objet de la classe. Une méthode ne peut donc pas avoir zéro paramètre.\n",
    "\n",
    "La définition d'une méthode de classe se fait avec la même notation que la définition d'un fonction. Le premier paramètre est systématiquement appelé `self`. Comme ce paramètre est un objet, on pourra accéder à ses attributs avec la notation `self.a`\n"
   ],
   "metadata": {}
  },
  {
   "cell_type": "markdown",
   "source": [
    "Ainsi, les fonctions `texte` et `avance` de la classe `Chrono` peuvent être implémentée de la façon suivante :\n",
    "\n",
    "```python\n",
    "class Chrono:\n",
    "    ...\n",
    "    def texte(self):\n",
    "        return (  str(self.heures)   + 'h '\n",
    "                + str(self.minutes)  + 'min '\n",
    "                + str(self.secondes) + 's'   )\n",
    "\n",
    "    def avance(self, s):\n",
    "        self.secondes += s\n",
    "        \n",
    "        # dépassement secondes\n",
    "        self.minutes += self.secondes // 60\n",
    "        self.secondes = self.secondes %  60\n",
    "\n",
    "        # dépassement minutes\n",
    "        self.heures += self.minutes // 60\n",
    "        self.minutes = self.minutes %  60\n",
    "``` \n"
   ],
   "metadata": {}
  },
  {
   "cell_type": "markdown",
   "source": [
    "### 2.3 --- Constructeur"
   ],
   "metadata": {}
  },
  {
   "cell_type": "markdown",
   "source": [
    "La construction d'un nouvel objet avec une expression comme `Chrono(21, 34, 55)` déclenche deux choses :\n",
    "\n",
    "- la création de l'objet lui même\n",
    "- l'appel à une méthode spéciale chargée d'initialiser les valeurs des attributs. Cette méthode, appelée **constructeur**, est définie par le programmeur. En Python, il s'agit de la méthode `__init__` que nous avons pu observer dans le premier exemple.\n",
    "\n",
    "\n",
    "La définition de la méthode spéciale `__init__` ne se distingue pas des autres méthodes ordinaires : son premier paramètre est `self` et représente l'objet auquel elle s'applique. Les autres paramètres sont donnés explicitement lors de la construction."
   ],
   "metadata": {}
  },
  {
   "cell_type": "markdown",
   "source": [
    "### 2.4 --- Autre méthodes particulières en Python\n"
   ],
   "metadata": {}
  },
  {
   "cell_type": "markdown",
   "source": [],
   "metadata": {}
  }
 ],
 "metadata": {
  "celltoolbar": "Tags",
  "interpreter": {
   "hash": "916dbcbb3f70747c44a77c7bcd40155683ae19c65e1c03b4aa3499c5328201f1"
  },
  "kernelspec": {
   "name": "python3",
   "display_name": "Python 3",
   "language": "python"
  },
  "latex_metadata": {
   "theme": "structure",
   "title": "3 --- P.O.O."
  },
  "rise": {
   "theme": "serif"
  },
  "language_info": {
   "name": "python",
   "version": "3.9.2",
   "mimetype": "text/x-python",
   "codemirror_mode": {
    "name": "ipython",
    "version": 3
   },
   "pygments_lexer": "ipython3",
   "nbconvert_exporter": "python",
   "file_extension": ".py"
  }
 },
 "nbformat": 4,
 "nbformat_minor": 5
}