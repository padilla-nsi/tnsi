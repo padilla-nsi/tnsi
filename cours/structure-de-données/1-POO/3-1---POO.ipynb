{
 "cells": [
  {
   "cell_type": "markdown",
   "id": "scheduled-ready",
   "metadata": {
    "slideshow": {
     "slide_type": "slide"
    }
   },
   "source": [
    "# Chap. 3 --- Programmation Orienté Objet ([pa.dilla.fr/10](https://pa.dilla.fr/10) )\n"
   ]
  },
  {
   "cell_type": "markdown",
   "id": "extraordinary-kenya",
   "metadata": {
    "slideshow": {
     "slide_type": "slide"
    },
    "tags": [
     "cacher"
    ]
   },
   "source": [
    "Voici les notions introduites dans ce chapitre :\n",
    "\n",
    "- définition de classes\n",
    "- création et manipulation d'objets\n",
    "- attributs et méthodes"
   ]
  },
  {
   "cell_type": "markdown",
   "id": "smart-wheel",
   "metadata": {
    "slideshow": {
     "slide_type": "slide"
    }
   },
   "source": [
    "## 1 --- Classes et attributs : structurer les données"
   ]
  },
  {
   "cell_type": "markdown",
   "id": "hybrid-consistency",
   "metadata": {
    "tags": [
     "retenir"
    ]
   },
   "source": [
    "Une **classe** définit et nomme une structure de données de base du langage qui peut regrouper plusieurs composantes de natures variées"
   ]
  },
  {
   "cell_type": "markdown",
   "id": "hybrid-gibson",
   "metadata": {
    "tags": [
     "retenir"
    ]
   },
   "source": [
    "Chacune de ces composantes est appelée un **attribut** et est doté d'un nom."
   ]
  },
  {
   "cell_type": "markdown",
   "id": "greenhouse-bristol",
   "metadata": {
    "tags": [
     "exemple"
    ]
   },
   "source": [
    "Par exemple, voici une manipulation de trois nombres entiers représentant des durées (heures, minutes, secondes).\n",
    "\n",
    "On décide d'appeler la classe `Chrono` et de la munir de trois attributs : `heures`, `minutes` et `secondes`.\n",
    "\n",
    "Voici alors comment on pourrait figurer le temps *21 heures, 34 minutes et 55 secondes* :\n",
    "\n",
    "![](res/chrono00.png)"
   ]
  },
  {
   "cell_type": "markdown",
   "id": "overall-citizen",
   "metadata": {},
   "source": [
    "### 1.1 --- Description d'une classe"
   ]
  },
  {
   "cell_type": "markdown",
   "id": "israeli-intake",
   "metadata": {},
   "source": [
    "Voici comment définir cette structure sous la forme d'une *classe* :"
   ]
  },
  {
   "cell_type": "code",
   "execution_count": null,
   "id": "isolated-covering",
   "metadata": {
    "tags": [
     "exemple"
    ]
   },
   "outputs": [],
   "source": [
    "class Chrono:\n",
    "    \"\"\"\n",
    "    Une classe pour représenter un temps mesuré\n",
    "    en heures, minutes et secondes.\"\"\"\n",
    "    def __init__(self, h, m, s):\n",
    "        self.heures = h\n",
    "        self.minutes = m\n",
    "        self.secondes = s"
   ]
  },
  {
   "cell_type": "markdown",
   "id": "subtle-inquiry",
   "metadata": {},
   "source": [
    "Pour définir une nouvelle classe, on utilise :\n",
    "\n",
    "1. le mot-clé **`class`** \n",
    "2. suivi du nom choisi pour la classe et \n",
    "3. suivi par les deux-points `:`.\n",
    "\n",
    "Tout le reste de la définition est alors en retrait (indentation).\n",
    "\n",
    "Par convention, le nom de la classe doit commencer par une **lettre majuscule**.\n",
    "\n",
    "Suivent alors \n",
    "\n",
    "- une documentation puis \n",
    "- la définition d'une fonction `__init__` possédant \n",
    "  - comme premier paramètre `self` puis ensuite \n",
    "  - les trois paramètres correspondants aux trois composantes d'un objet admettant possédant la structure de `chrono`.\n",
    "\n",
    "Les instructions de la forme `self.xxx = ` correspondent aux affectations des valeurs aux trois attributs de la classe."
   ]
  },
  {
   "cell_type": "markdown",
   "id": "cloudy-wallpaper",
   "metadata": {},
   "source": [
    "### 1.2 --- Création d'un objet"
   ]
  },
  {
   "cell_type": "markdown",
   "id": "indirect-square",
   "metadata": {},
   "source": [
    "Une fois la classe définie, un élément correspondant à la structure `Chrono` peut être construit avec une expression de la forme $\\texttt{Chrono(}h, m, s \\texttt{)}$."
   ]
  },
  {
   "cell_type": "markdown",
   "id": "powerful-reservoir",
   "metadata": {
    "tags": [
     "retenir"
    ]
   },
   "source": [
    "On appelle un tel élément un **objet** ou une **instance de la classe** `Chrono`."
   ]
  },
  {
   "cell_type": "markdown",
   "id": "indoor-gallery",
   "metadata": {
    "tags": [
     "exemple"
    ]
   },
   "source": [
    "Ainsi, pour définir et affecter à la variable `t` un objet représentant notre temps *\"21 heures, 34 mintes et 55 secondes\"* on écrit :\n",
    "\n",
    "```python\n",
    "t = Chrono(21, 34, 55)\n",
    "```"
   ]
  },
  {
   "cell_type": "markdown",
   "id": "present-zoning",
   "metadata": {
    "tags": [
     "remarque"
    ]
   },
   "source": [
    "On remarque que, comme pour les tableaux, la variable `t` ne contient pas à strictement parler l'objet **mais** un pointeur vers le bloc de mémoire qui a été alloué à cet objet.\n",
    "\n",
    "La situation correspond donc au schéma suivant :\n",
    "\n",
    "![](res/chrono01.png)"
   ]
  },
  {
   "cell_type": "markdown",
   "id": "dramatic-anaheim",
   "metadata": {},
   "source": [
    "### 1.3 --- Manipulation des attributs"
   ]
  },
  {
   "cell_type": "markdown",
   "id": "arranged-september",
   "metadata": {},
   "source": [
    "On peut accéder aux attributs d'un objet `t` de la classe `Chrono` avec la notation `t.a` où `a` désigne le nom de l'attribut visé. \n",
    "\n",
    "Tout comme les cases d'un tableau, les attributs d'un objets sont mutables : on peut les consulter **et** les modifier."
   ]
  },
  {
   "cell_type": "code",
   "execution_count": null,
   "id": "stretch-prison",
   "metadata": {},
   "outputs": [],
   "source": [
    "t = Chrono(21, 34, 55)\n",
    "\n",
    "t.secondes"
   ]
  },
  {
   "cell_type": "code",
   "execution_count": null,
   "id": "dressed-harrison",
   "metadata": {},
   "outputs": [],
   "source": [
    "t.secondes = t.secondes + 1\n",
    "t.secondes"
   ]
  },
  {
   "cell_type": "markdown",
   "id": "developed-debut",
   "metadata": {
    "tags": [
     "retenir"
    ]
   },
   "source": [
    "On parle bien d'**attribut d'un objet** car chaque objet possède pour ses attributs des valeurs qui lui sont propres. On parle alors aussi d'**attribut d'instance**.\n"
   ]
  },
  {
   "cell_type": "markdown",
   "id": "minor-nickel",
   "metadata": {
    "tags": [
     "exemple"
    ]
   },
   "source": [
    "Ainsi, chaque objet de la classe `Chrono` possède trois attributs dont les valeurs sont indépendantes des valeurs des attributs (de même nom) des autres instances.\n",
    "\n",
    "Les définitions `t = Chrono(21, 34, 55)` et `u = Chrono(5, 8, 13)` conduisent donc à la situation suivante :\n",
    "\n",
    "![](res/chrono01.png) ![](res/chrono02.png)\n",
    "\n",
    "Une avancée de cinq secondes du chronomètre `t` mènerait ainsi à la situation suivante :\n",
    "\n",
    "![](res/chrono03.png) ![](res/chrono02.png)\n"
   ]
  },
  {
   "cell_type": "markdown",
   "id": "stupid-gossip",
   "metadata": {
    "tags": [
     "retenir"
    ]
   },
   "source": [
    "Une classe peut également définir des **attributs de classe**, dont la valeur est attachée à la classe elle même."
   ]
  },
  {
   "cell_type": "markdown",
   "id": "initial-review",
   "metadata": {
    "tags": [
     "exemple"
    ]
   },
   "source": [
    "Ainsi :\n",
    "\n",
    "```python\n",
    "class Chrono:\n",
    "    heure_max = 24\n",
    "    ...\n",
    "```\n",
    "\n",
    "On peut consulter de tels attributs depuis n'importe quelle instance avec `t.heure_max` ou depuis la classe elle même avec `Chrono.heure_max`.\n",
    "\n",
    "On peut modifier cet attribut de classe en y accédant via la classe elle même pour que la modification soit perseptible par toutes les instances présentes et futures :\n",
    "\n",
    "```python\n",
    "Chrono.heure_max = 12\n",
    "``` \n",
    "\n"
   ]
  },
  {
   "cell_type": "markdown",
   "id": "elder-growing",
   "metadata": {},
   "source": [
    "## 2 --- Méthodes : manipuler les données"
   ]
  },
  {
   "cell_type": "markdown",
   "id": "falling-manual",
   "metadata": {},
   "source": [
    "Dans le *paradigme* de la programmation objet, la notion de classe est associée à la notion d'*encapsulation* : un programme manipulant un objet n'est pas censé accéder librement à la totalité de son contenu.\n",
    "\n",
    "L'utilisateur n'a pas à savoir ou à accéder aux détails d'implémentation.\n",
    "\n",
    "La manipulation de l'objet passe donc de préférence par une interface constituée de fonctions dédiées qui font partie de la définition de la calsse et sont appelée les **méthodes** de cette classe."
   ]
  },
  {
   "cell_type": "markdown",
   "id": "latest-korean",
   "metadata": {},
   "source": [
    "### 2.1 --- Utilisation d'un méthode"
   ]
  },
  {
   "cell_type": "markdown",
   "id": "noted-while",
   "metadata": {},
   "source": [
    "Les méthodes d'une classe servent à manipuler les objets de cette classe. Même si les méthodes sont des fonctions qui peuvent recevoir des paramètres, chaque appel de méthode s'applique avant tout à un objet de la classe concerné.\n",
    "\n"
   ]
  },
  {
   "cell_type": "markdown",
   "id": "pretty-relief",
   "metadata": {
    "tags": [
     "exemple"
    ]
   },
   "source": [
    "L'appel d'une méthode `texte` s'appliquant au chronomètre `t` et renvoyant une chaîne de caractères décrivant le temps représenté par `t` est réalisé par l'instruction `t.texte()` et elle pourra renvoyer la chaîne de caractère `'21h 34h 55s'`."
   ]
  },
  {
   "cell_type": "markdown",
   "id": "established-converter",
   "metadata": {},
   "source": [
    "Cette notation pour l'appel de méthode est la même notation pointée que l'accès aux attributs de `t`. **Mais** la paire de parenthèse fait bien apparaître une méthode, comme pour une fonction sans paramètre.\n",
    "\n",
    "Lorsqu'un méthode dépend d'autres paramètres que cet objet principal `t`, ces autres paramètres apparaissent de la manière habituelle.\n"
   ]
  },
  {
   "cell_type": "markdown",
   "id": "further-windsor",
   "metadata": {
    "tags": [
     "exemple"
    ]
   },
   "source": [
    "Par exemple, s'il existe une méthode `avance` faisant avancer le chronomètre `t` d'un *certain* nombre de secondes passé en paramètre, on écrira pour avancer le chronomètre de 5 secondes :\n",
    "\n",
    "```python\n",
    "t.avance(5)\n",
    "``` \n",
    "\n",
    "Ainsi un nouvel appel à `t.texte()` renverra cette fois-ci `'21h 35m 0s'`. "
   ]
  },
  {
   "cell_type": "markdown",
   "id": "figured-beatles",
   "metadata": {
    "tags": [
     "remarque"
    ]
   },
   "source": [
    "Comme le montre l'exemple, on ne manipule pas directement les attributs d'un objet. On utilise pour cela des méthodes ce qui préserve l'encapsulation du code."
   ]
  },
  {
   "cell_type": "markdown",
   "id": "naughty-tackle",
   "metadata": {
    "tags": [
     "exemple"
    ]
   },
   "source": [
    "On a déjà rencontré des notations de ce type comme par exemple `tab.append(42)` pour ajouter le nombre `42` au tableau `tab`."
   ]
  },
  {
   "cell_type": "markdown",
   "id": "broken-festival",
   "metadata": {},
   "source": [
    "Les paramètres des méthodes peuvent être aussi bien des valeurs de base (nombre, chaîne de caractère, tableau, etc.) que des objets."
   ]
  },
  {
   "cell_type": "markdown",
   "id": "stupid-prague",
   "metadata": {
    "tags": [
     "exemple"
    ]
   },
   "source": [
    "Par exemple si pour la classe `Chrono` on admet l'existence des méthodes suivantes :\n",
    "\n",
    "- `egale` s'appliquant à deux chronomètres pour tester l'égalité des temps représentés\n",
    "- `clone` s'appliquant à un chronomètre `t` et renvoyant un nouveau chronomètre initialisé au même temps que `t`\n",
    "\n",
    "On pourra alors écrire l'instruction suivante \n",
    "\n",
    "```python\n",
    "u = t.clone()\n",
    "t.egale(u)\n",
    "```\n",
    "\n",
    "qui nous renverra `True`.\n",
    "\n",
    "Puis après `t.avance(3)`, l'instruction `t.egale(u)` nous renverra alors `False`."
   ]
  },
  {
   "cell_type": "markdown",
   "id": "wooden-competition",
   "metadata": {},
   "source": [
    "### 2.2 --- Définition d'une méthode"
   ]
  },
  {
   "cell_type": "markdown",
   "id": "integral-muscle",
   "metadata": {},
   "source": [
    "Comme nous venons de le voir, une méthode d'une classe peut être vue comme une fonction ordinaire, pouvant dépendre d'un nombre de paramètres arbitraire **sauf** qu'elle doit avoir obligatoirement pour **premier paramètre** un objet de la classe. Une méthode ne peut donc pas avoir zéro paramètre.\n",
    "\n",
    "La définition d'une méthode de classe se fait avec la même notation que la définition d'un fonction. Le premier paramètre est systématiquement appelé `self`. Comme ce paramètre est un objet, on pourra accéder à ses attributs avec la notation `self.a`\n"
   ]
  },
  {
   "cell_type": "markdown",
   "id": "actual-viking",
   "metadata": {
    "tags": [
     "exemple"
    ]
   },
   "source": [
    "Ainsi, les fonctions `texte` et `avance` de la classe `Chrono` peuvent être implémentée de la façon suivante :\n",
    "\n",
    "```python\n",
    "class Chrono:\n",
    "    ...\n",
    "    def texte(self):\n",
    "        return (  str(self.heures)   + 'h '\n",
    "                + str(self.minutes)  + 'min '\n",
    "                + str(self.secondes) + 's'   )\n",
    "\n",
    "    def avance(self, s):\n",
    "        self.secondes += s\n",
    "        \n",
    "        # dépassement secondes\n",
    "        self.minutes += self.secondes // 60\n",
    "        self.secondes = self.secondes %  60\n",
    "\n",
    "        # dépassement minutes\n",
    "        self.heures += self.minutes // 60\n",
    "        self.minutes = self.minutes %  60\n",
    "``` \n"
   ]
  },
  {
   "cell_type": "markdown",
   "id": "supposed-adult",
   "metadata": {},
   "source": [
    "### 2.3 --- Constructeur"
   ]
  },
  {
   "cell_type": "markdown",
   "id": "touched-wrapping",
   "metadata": {
    "tags": [
     "retenir"
    ]
   },
   "source": [
    "La construction d'un nouvel objet avec une expression comme `Chrono(21, 34, 55)` déclenche deux choses :\n",
    "\n",
    "- la création de l'objet lui même\n",
    "- l'appel à une méthode spéciale chargée d'initialiser les valeurs des attributs. Cette méthode, appelée **constructeur**, est définie par le programmeur. En Python, il s'agit de la méthode `__init__` que nous avons pu observer dans le premier exemple.\n",
    "\n",
    "\n",
    "La définition de la méthode spéciale `__init__` ne se distingue pas des autres méthodes ordinaires : son premier paramètre est `self` et représente l'objet auquel elle s'applique. Les autres paramètres sont donnés explicitement lors de la construction."
   ]
  },
  {
   "cell_type": "markdown",
   "id": "modular-gender",
   "metadata": {},
   "source": [
    "### 2.4 --- Autre méthodes particulières en Python\n"
   ]
  },
  {
   "cell_type": "markdown",
   "id": "forward-modeling",
   "metadata": {},
   "source": [
    "Il existe en Python d'autres *méthodes particulières* : \n",
    "\n",
    "| méthode | appel | effet |\n",
    "|-|-|-|\n",
    "`__str__(self)` | `str(t)` | renvoie une chaîne de caractère décrivant `t`\n",
    "`__lt__(self, u)` | `t < u` | revoie `True` si `t` est strictement plus petit que `True`\n",
    "`__hash__(self)` | `hash(t)` | donne un code de hachage pour `t`, par exemple pour l'utiliser comme clé d'un dictionnaire `d` \n",
    "`__len__(self)` | `len(t)` | renvoie un nombre entier définissant la taille  de `t`\n",
    "`__contains__(self, x)` | `x in t` | renvoie `True` si et seulement si `x` est dans la collection `t`\n",
    "`__getitem__(self, i)` | `t[i]` | renvoie le `i`-ième élément de `t`"
   ]
  },
  {
   "cell_type": "markdown",
   "id": "veterinary-ribbon",
   "metadata": {
    "tags": [
     "exemple"
    ]
   },
   "source": [
    "Par exemple, la méthode `texte` de la classe `Chrono` correspond exactement au rôle de la méthode `__str__`... mais ne bénéficie pas de la syntaxe allégée"
   ]
  },
  {
   "cell_type": "markdown",
   "id": "stainless-seller",
   "metadata": {},
   "source": [
    "#### Égalité entre deux objets\n",
    "\n",
    "Par défaut, la comparaison avec `==` entre deux objets ne renvoie `True` que lorsqu'elle est appliquée deux fois au même objet, ayant la même adresse mémoire.\n",
    "\n",
    "Pour que la comparaison s'effectue en fonction de la valeur des attributs, il faut définir la méthode spéciale `__eq__(self, obj)`."
   ]
  },
  {
   "cell_type": "markdown",
   "id": "sweet-presence",
   "metadata": {
    "tags": [
     "remarque"
    ]
   },
   "source": [
    "On remarque que deux classes différents peuvent sans problème définir des attributs de même nom. Il n'y a aucun conflit dans ce cas là car une classe définit un *espace de noms*, c'est-à-dire une zone mémoire séparée des autres en ce qui concerne le nommage des variables et des autres éléments.\n",
    "\n",
    "Par exemple les attributs `.x`  ou `.y` peuvent être utilisés dans plusieurs classes différentes sans risque de confusion."
   ]
  },
  {
   "cell_type": "markdown",
   "id": "western-pioneer",
   "metadata": {
    "tags": [
     "retenir"
    ]
   },
   "source": [
    "#### Méthodes de classe\n",
    "\n",
    "Il existe des attributs de classe et il existe aussi des **méthodes de classe**, dont la valeur ne dépend pas des instances mais est partagée au niveau de la classe entière.\n",
    "\n",
    "Ces méthodes de classes sont appelées en programmation objet des **méthodes statiques**."
   ]
  },
  {
   "cell_type": "markdown",
   "id": "relevant-discussion",
   "metadata": {
    "tags": [
     "exemple"
    ]
   },
   "source": [
    "Par exemple : \n",
    "\n",
    "(1) méthode pertinente pour réaliser des fonctions auxilières ne travaillant pas directement sur les objets de la classe \n",
    "\n",
    "```python\n",
    "def est_seconde_valide(s):\n",
    "    return 0 <= s and s < 60\n",
    "``` \n",
    "\n",
    "Une instruction `Chrono.est_seconde_valide(64)` renvoie donc `False`."
   ]
  },
  {
   "cell_type": "markdown",
   "id": "mature-cocktail",
   "metadata": {
    "tags": [
     "exemple"
    ]
   },
   "source": [
    "\n",
    "(2) opérations d'appliquant à plusieurs instances aux rôles symétriques et dont aucune n'est modifiée (pas d'effets de bords) :\n",
    "\n",
    "```python\n",
    "def max(t1, t2):\n",
    "    if t1.heures > t2.heures:\n",
    "        return t1\n",
    "    elif t2.heures > t1.heures:\n",
    "        return t2\n",
    "    elif t1.minutes > t2.minutes:\n",
    "        ...\n",
    "``` \n",
    "\n",
    "Une instruction `Chrono.max(t,u)` renvoie donc l'objet (sa classe et son adresse mémoire) comme par exemple `<__main__.Chrono object at 0x10d8ac198>`"
   ]
  },
  {
   "cell_type": "markdown",
   "id": "mineral-protest",
   "metadata": {},
   "source": [
    "### 2.4 --- Une classe pour les ensembles"
   ]
  },
  {
   "cell_type": "code",
   "execution_count": null,
   "id": "wrong-mambo",
   "metadata": {
    "tags": [
     "exemple"
    ]
   },
   "outputs": [],
   "source": [
    "class Ensemble:\n",
    "    def __init__(self):\n",
    "        self.taille = 0\n",
    "        self.dates = [False] * 366\n",
    "\n",
    "    def contient(self, x):\n",
    "        return self.dates[x]\n",
    "    \n",
    "    def ajoute(self, x):\n",
    "        if not self.contient(x):\n",
    "            self.taille += 1\n",
    "            self.dates[x] = True\n",
    "\n",
    "def contient_doublon(t):\n",
    "    s = Ensemble()\n",
    "    for x in t:\n",
    "        if s.contient(x):\n",
    "            return True\n",
    "        s.ajoute(x)\n",
    "    return False"
   ]
  },
  {
   "cell_type": "markdown",
   "id": "committed-proposal",
   "metadata": {},
   "source": [
    "Le programme ci-dessus donne une adaptation du programme du *chapitre 2 --- Modularité* sous la forme d'une classe.\n",
    "\n",
    "Puisqu'une classe peut regrouper plusieurs données, nous en profitons pour mémoriser la taille de l'ensemble de dates. Cela permettrait par exemple une définition simple d'une méthode `__len__`\n",
    "\n",
    "```python\n",
    "class Ensemble:\n",
    "    ...\n",
    "    def __len__(self):\n",
    "        return self.taille\n",
    "``` \n",
    "\n"
   ]
  },
  {
   "cell_type": "markdown",
   "id": "marked-coach",
   "metadata": {
    "tags": [
     "remarque"
    ]
   },
   "source": [
    "Plusieurs remarques :\n",
    "\n",
    "- L'appel à la fonction `cree()` est remplacée par un appel au constructeur `Ensemble()`.\n",
    "- Les appels de fonctions `contient(s,x)` et `ajoute(s,x)` sont transformés en appels de méthodes `s.contient(x)` et `s.ajoute(x)`."
   ]
  },
  {
   "cell_type": "markdown",
   "id": "warming-payroll",
   "metadata": {},
   "source": [
    "## 3 --- Retour sur l'encapsulation"
   ]
  },
  {
   "cell_type": "markdown",
   "id": "demonstrated-soundtrack",
   "metadata": {},
   "source": [
    "Dans la philosophie objet, l'interaction avec les objets se fait essentiellement **avec les méthodes**. Les attributs sont considérés par défaut comme relevant du *détail d'implémentation*."
   ]
  },
  {
   "cell_type": "markdown",
   "id": "indian-scoop",
   "metadata": {},
   "source": [
    "Ainsi, pour la classe `Chrono`, il est essentiel de savoir qu'on peut afficher et faire évoluer les temps, mais l'existance des trois attributs `heures`, `minutes` et `secondes` est anecdotique (et peut être cachée à l'utilisateur)."
   ]
  },
  {
   "cell_type": "markdown",
   "id": "nuclear-camel",
   "metadata": {
    "tags": [
     "exemple"
    ]
   },
   "source": [
    "Par exemple, on peut simplifier la définition de la classe en ne définissant qu'un unique attribut `_temps` mesurant le temps en seconde.\n",
    "\n",
    "```python\n",
    "class Chrono:\n",
    "    def __init__(self, h, m, s):\n",
    "        self._temps = 3600*h + 60*m + s\n",
    "``` "
   ]
  },
  {
   "cell_type": "markdown",
   "id": "structured-petersburg",
   "metadata": {
    "tags": [
     "exo"
    ]
   },
   "source": [
    "**Redéfinir** les méthodes `avance`,  `texte` (ou `__str__`), `egale` (ou `__eq__`) et `clone` en tenant compte de ce changement d'implémentation.\n",
    "\n",
    "**Ajouter** une méthode `_conversion` qui extrait d'un temps le triplet `(h, m, s)` correspondant. **Utiliser** cette méthode auxiliaire pour simplifier les implémentations de `texte` et `clone`."
   ]
  },
  {
   "cell_type": "markdown",
   "id": "twelve-banner",
   "metadata": {
    "tags": [
     "remarque"
    ]
   },
   "source": [
    "Les méthodes possédant un nom commençant par `_` sont des méthodes auxiliaires et les autres méthodes forment l'**interface** des objets de cette classe."
   ]
  },
  {
   "cell_type": "markdown",
   "id": "starting-islam",
   "metadata": {},
   "source": [
    "## À retenir"
   ]
  },
  {
   "cell_type": "markdown",
   "id": "resistant-hygiene",
   "metadata": {
    "tags": [
     "retenir"
    ]
   },
   "source": [
    "La programmation orientée objet **structure** les programmes en regroupant dans une même entité des données et le code manipulant ces données.\n",
    "\n",
    "Dans ce paradigme de programmation, on manipule des **objets** pouvant contenir plusieurs données sous la forme d'**attributs** à l'aide de fonctions particulières appelées **méthodes**. Chaque objet est une **instance** d'une **classe**, la classe définissant l'ensemble des attributs et méthodes que possèdent ses instances."
   ]
  }
 ],
 "metadata": {
  "celltoolbar": "Tags",
  "interpreter": {
   "hash": "916dbcbb3f70747c44a77c7bcd40155683ae19c65e1c03b4aa3499c5328201f1"
  },
  "kernelspec": {
   "display_name": "Python 3",
   "language": "python",
   "name": "python3"
  },
  "language_info": {
   "codemirror_mode": {
    "name": "ipython",
    "version": 3
   },
   "file_extension": ".py",
   "mimetype": "text/x-python",
   "name": "python",
   "nbconvert_exporter": "python",
   "pygments_lexer": "ipython3",
   "version": "3.9.2"
  },
  "latex_metadata": {
   "theme": "structure",
   "title": "3 --- P.O.O."
  },
  "rise": {
   "theme": "serif"
  }
 },
 "nbformat": 4,
 "nbformat_minor": 5
}
