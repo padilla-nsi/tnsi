{
 "cells": [
  {
   "cell_type": "markdown",
   "source": [
    "|[https://pa.dilla.fr/19](https://pa.dilla.fr/19) ![](res/qr2.png)|\n",
    "|-:|"
   ],
   "metadata": {}
  },
  {
   "cell_type": "markdown",
   "source": [
    "Définir une classe `Fraction` pour représenter un nombre rationnel. Cette classe possède deux attributs, `num` et `denom`, qui sont des entiers et désignent respectivement le numérateur et le dénominateur. On demande que le dénominateur soit plus particulièrement un entier strictement positif.\n",
    "\n",
    "1. Écrire le constructeur de cette classe. Le constructeur doit lever une `ValueError` si le dénominateur fourni n'est pas strictement positif.\n",
    "2. Ajouter une méthode `__str__` qui renvoie une chaîne de caractères de la forme `\"12 / 35\"`, ou simplement de la forme `\"12\"` lorsque le dénominateur vaut 1.\n",
    "3. Ajouter des méthodes `__eq__` et `__lt__` qui reçoivent une deuxième fraction en argument et renvoient `True` si la première fraction représente respectivement un nombre égal ou un nombre strictement inférieur à la deuxième fraction.\n",
    "4. Ajouter des méthodes `__add__` et `__mul__` qui reçoivent une deuxième fraction en argument et renvoient une nouvelle fraction représentant respectivement la somme et le produit des deux fractions.\n",
    "5. Tester ces opérations.\n",
    "6. (bonus) S'assurer que les fractions sont toujours sous forme réduite."
   ],
   "metadata": {
    "tags": [
     "exo"
    ]
   }
  },
  {
   "cell_type": "code",
   "execution_count": 2,
   "source": [
    "from doctest import testmod\n",
    "\n",
    "\n",
    "class Fraction:\n",
    "\n",
    "    def __init__(self, num, denom):\n",
    "        \"\"\"Nombre rationnel définit par la fraction\n",
    "        num/denom avec denom > 0\n",
    "\n",
    "        Args:\n",
    "            num (int): numérateur\n",
    "            denom (int): dénominateur > 0\n",
    "        \n",
    "        Exemples:\n",
    "        >>> nb = Fraction(1,2)\n",
    "        >>> print(nb.num)\n",
    "        1\n",
    "        >>> print(nb.denom)\n",
    "        2\n",
    "        \"\"\"\n",
    "        if denom <= 0:\n",
    "            raise ValueError(\"le dénominateur doit être strictement positif\")\n",
    "        self.num = num\n",
    "        self.denom = denom\n",
    "\n",
    "    \n",
    "    def __str__(self):\n",
    "        \"\"\"Affichage de la classe Fraction\n",
    "\n",
    "        Exemple :\n",
    "        >>> print(Fraction(1,2))\n",
    "        1 / 2\n",
    "        >>> print(Fraction(5,1))\n",
    "        5\n",
    "        \"\"\"\n",
    "        if self.denom == 1:\n",
    "            return str(self.num)\n",
    "\n",
    "        texte = str(self.num) + \" / \" + str(self.denom)\n",
    "        return texte\n",
    "\n",
    "\n",
    "    def __eq__ (self, frac):\n",
    "        \"\"\"Est ce que le nombre rationnel est égal à frac?\n",
    "\n",
    "        Args:\n",
    "            frac (Fraction): nombre rationnel à comparer\n",
    "        \n",
    "        Exemples:\n",
    "        >>> Fraction(1,2) == Fraction(1,2)\n",
    "        True\n",
    "        >>> Fraction(1,2) == Fraction (2,1)\n",
    "        False\n",
    "        >>> Fraction(1,2) == Fraction(5,10)\n",
    "        True\n",
    "        \"\"\"\n",
    "        if self.denom == frac.denom:\n",
    "            return self.num == frac.num\n",
    "        \n",
    "        # méthode du produit en croix pour tester égalité\n",
    "        # l'avantage est de ne comparer que des nombres entiers\n",
    "        # et pas des float\n",
    "        return self.num * frac.denom == self.denom * frac.num\n",
    "\n",
    "\n",
    "    def __lt__(self, frac):\n",
    "        \"\"\"Est ce que le nombre rationnel est inférieur à frac?\n",
    "\n",
    "        Args:\n",
    "            frac (Fraction): nombre rationnel à comparer\n",
    "\n",
    "        Returns:\n",
    "            bool: True si inférieur à frac\n",
    "\n",
    "        Exemple:\n",
    "        >>> Fraction(5,7) < Fraction(6,7)\n",
    "        True\n",
    "        >>> Fraction(5,7) < Fraction(4,7)\n",
    "        False\n",
    "        >>> Fraction(5,7) < Fraction(10,14)\n",
    "        False\n",
    "        >>> Fraction(3,4) < Fraction(1,2)\n",
    "        False\n",
    "        \"\"\"\n",
    "        if self.denom == frac.denom:\n",
    "            return self.num < frac.num\n",
    "        \n",
    "        # méthode de comparaison par le produit en croix\n",
    "        # manipulation d'entiers (moins de pb que les float)\n",
    "        return self.num * frac.denom < self.denom * frac.num\n",
    "\n",
    "\n",
    "    def __mul__(self, frac):\n",
    "        \"\"\"résultat du produit par frac\n",
    "\n",
    "        Args:\n",
    "            frac (Fraction): nb rationnel avec lequel on multiplie\n",
    "\n",
    "        Returns:\n",
    "            Fraction: nb rationnel produit des deux fractions\n",
    "\n",
    "        Exemple:\n",
    "        >>> Fraction(1,3) * Fraction(3,5) == Fraction(1,5)\n",
    "        True\n",
    "        \"\"\"\n",
    "        num = self.num * frac.num\n",
    "        denom = self.denom * frac.denom\n",
    "        return Fraction(num, denom)\n",
    "    \n",
    "\n",
    "    def __add__(self, frac):\n",
    "        \"\"\"\n",
    "        >>> Fraction(1,2) + Fraction(3,5) == Fraction(11,10)\n",
    "        True\n",
    "        >>> Fraction(1,2) + Fraction(50,50) == Fraction(3,2)\n",
    "        True\n",
    "        \"\"\"\n",
    "        denom = self.denom * frac.denom\n",
    "        num = self.num * frac.denom + frac.num * self.denom\n",
    "        return Fraction(num, denom)\n",
    "\n",
    "\n",
    "testmod()"
   ],
   "outputs": [
    {
     "output_type": "execute_result",
     "data": {
      "text/plain": [
       "TestResults(failed=0, attempted=15)"
      ]
     },
     "metadata": {},
     "execution_count": 2
    }
   ],
   "metadata": {
    "tags": [
     "cacher",
     "solution"
    ]
   }
  },
  {
   "cell_type": "markdown",
   "source": [
    "Définir une classe `Intervalle` représentant des intervalles de\n",
    "nombres. Cette classe possède deux attributs `a` et `b` représentant respectivement l'extrémité inférieure et l'extrémité supérieure de l'intervalle. Les deux\n",
    "extrémités sont considérées comme incluses dans l'intervalle. Tout intervalle\n",
    "avec `b < a` représente l'intervalle vide.\n",
    "\n",
    "1. Écrire le constructeur de la classe `Intervalle` et une méthode `est_ vide` renvoyant `True` si l'objet représente l'intervalle vide et `False` sinon.\n",
    "2. Ajouter des méthodes `__len__` renvoyant la longueur de l'intervalle (l'intervalle vide a une longueur `0`) et `__contains__` testant l'appartenance d'un élément `x` à l'intervalle.\n",
    "3. Ajouter une méthode `__eq__` permettant de tester l'égalité de deux intervalles avec `==` et une méthode `__le__` permettant de tester l'inclusion d'un intervalle dans un autre avec `<=`. Attention: toutes les représentations de l'intervalle vide doivent être considérées égales, et incluses dans tout intervalle.\n",
    "4. Ajouter des méthodes intersection et union calculant respectivement l'intersection de deux intervalles et le plus petit intervalle contenant l'union de deux intervalles (l'intersection est bien toujours un intervalle, alors que l'union ne l'est pas forcément). Ces deux fonctions doivent renvoyer un nouvel intervalle sans modifier leurs paramètres.\n",
    "5. Tester ces méthodes."
   ],
   "metadata": {
    "tags": [
     "exo"
    ]
   }
  },
  {
   "cell_type": "markdown",
   "source": [
    "Définir une classe `Angle` pour représenter un angle en degrés. Cette classe contient un unique attribut, `angle`, qui est un entier. On demande que, quoiqu'il arrive, l'égalité $0 \\leq \\texttt{angle} < 360$ reste vérifiée.\n",
    "\n",
    "1. Écrire le constructeur de cette classe.\n",
    "2. Ajouter une méthode `__str __` qui renvoie une chaîne de caractères de la forme `\"60 degrés\"`. Observer son effet en construisant un objet de la classe `Angle` puis en l'affichant avec `print`.\n",
    "3. Ajouter une méthode `ajoute` qui reçoit un autre angle en argument (un objet de la classe `Angle`) et l'ajoute au champ `angle` de l'objet. Attention à ce que la valeur d'`angle` reste bien dans le bon intervalle.\n",
    "4. Ajouter deux méthodes `cos` et `sin` pour calculer respectivement le cosinus et le sinus de l'angle. On utilisera pour cela les fonctions `cos` et `sin` de la bibliothèque `math`. Attention: il faut convertir l'angle en radians (en le multipliant par $\\pi / 180$) avant d'appeler les fonctions `cos` et `sin`.\n",
    "5. Tester les méthodes `ajoute`, `cos` et `sin`."
   ],
   "metadata": {
    "tags": [
     "exo"
    ]
   }
  },
  {
   "cell_type": "markdown",
   "source": [
    "Définir une classe `Date` pour représenter une date, avec trois attributs `jour`, `mois` et `annee`.\n",
    "\n",
    "1. Écrire son constructeur.\n",
    "2. Ajouter une méthode `__str __` qui renvoie une chaîne de caractères de la forme `\"8 mai 1945\"`. On pourra se servir d'un attribut de classe qui est un tableau donnant les noms des douze mois de l'année. Tester en construisant des objets de la classe `Date` puis en les affichant avec `print`.\n",
    "3. Ajouter une méthode `__lt__` qui permet de déterminer si une date `d1` est antérieure à une date `d2` en écrivant `d1 < d2`. La tester."
   ],
   "metadata": {
    "tags": [
     "exo"
    ]
   }
  },
  {
   "cell_type": "markdown",
   "source": [
    "Dans certains langages de programmation les tableaux ne sont pas nécessairement indexés à partir de `0`. Par exemple, on peut déclarer un tableau dont les indices vont de `-10` à `9` si on le souhaite. Dans cet exercice, on se propose de construire une classe `Tableau` pour réaliser de tels tableaux.\n",
    "Un objet de cette classe aura deux attributs, un attribut `premier` qui est la valeur de premier indice et un attribut `contenu` qui est un tableau Python contenant les éléments. Ce dernier est un vrai tableau Python, indexé à\n",
    "partir de 0.\n",
    "\n",
    "Écrire un constructeur `__init__(self, imin, imax, v)` où `imin` est le premier indice, `imax` le dernier indice et `v` la valeur utilisée pour initialiser toutes les cases du tableau. Ainsi, on peut écrire `t = Tableau(-10, 9, 42)` pour construire un tableau de vingt cases, indexées de `-10` à `9` et toutes initialisées avec la valeur `42`.\n",
    "\n",
    "Écrire une méthode `__len__(self)` qui renvoie la taille du tableau. \n",
    "\n",
    "Écrire une méthode `__getitem__(self, i)` qui renvoie l'élément du tableau self d'indice `i`. De même, écrire une méthode `__setitem__(self, i, v)` qui modifie l'élément du tableau `self` d'indice `i` pour lui donner la valeur `v`. Ces deux méthodes doivent vérifier que l'indice `i` est bien valide et, dans le cas contraire, lever l'exception `IndexError` avec la valeur de `i` en argument (c'est-à-dire `raise IndexError (i)`).\n",
    "\n",
    "Enfin, écrire une méthode `__str__(self)` qui renvoie une chaîne de caractères décrivant le contenu du tableau."
   ],
   "metadata": {
    "tags": [
     "exo"
    ]
   }
  }
 ],
 "metadata": {
  "celltoolbar": "Tags",
  "interpreter": {
   "hash": "916dbcbb3f70747c44a77c7bcd40155683ae19c65e1c03b4aa3499c5328201f1"
  },
  "kernelspec": {
   "display_name": "Python 3",
   "language": "python",
   "name": "python3"
  },
  "language_info": {
   "codemirror_mode": {
    "name": "ipython",
    "version": 3
   },
   "file_extension": ".py",
   "mimetype": "text/x-python",
   "name": "python",
   "nbconvert_exporter": "python",
   "pygments_lexer": "ipython3",
   "version": "3.9.2"
  },
  "latex_metadata": {
   "theme": "structure",
   "title": "3 --- P.O.O."
  },
  "rise": {
   "theme": "serif"
  }
 },
 "nbformat": 4,
 "nbformat_minor": 5
}