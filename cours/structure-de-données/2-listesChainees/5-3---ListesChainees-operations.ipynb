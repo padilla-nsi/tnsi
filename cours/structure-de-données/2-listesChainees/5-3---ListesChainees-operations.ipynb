{
 "cells": [
  {
   "cell_type": "markdown",
   "metadata": {
    "slideshow": {
     "slide_type": "slide"
    }
   },
   "source": [
    "## 3 --- Opérations sur les listes\n"
   ]
  },
  {
   "cell_type": "markdown",
   "metadata": {},
   "source": [
    "Comme on l'a vu dans la partie 2, on se munit pour la suite d'une classe `Maillon` possède deux attributs : `valeur` et `suivant`."
   ]
  },
  {
   "cell_type": "code",
   "execution_count": null,
   "metadata": {},
   "outputs": [],
   "source": [
    "class Maillon:\n",
    "    \"\"\"un maillon d'une liste chaînée\"\"\"\n",
    "\n",
    "    def __init__(self, valeur, suivant):\n",
    "        self.valeur = valeur\n",
    "        self.suivant = suivant"
   ]
  },
  {
   "cell_type": "markdown",
   "metadata": {},
   "source": [
    "### 3.1 --- Longueur d'une liste\n"
   ]
  },
  {
   "cell_type": "markdown",
   "metadata": {},
   "source": [
    "#### Par une fonction récursive\n"
   ]
  },
  {
   "cell_type": "markdown",
   "metadata": {},
   "source": [
    "L'objectif est d'implémenter une fonction récursive `longueur` qui reçoit en argument une liste `lst` et renvoie sa longueur.\n",
    "\n",
    "Il faut distinguer le **cas de base** (c'est-à-dire une liste vide ne contenant aucun maillon) et le **cas récursif** c'est-à-dire une liste contenant au moins un maillon.\n",
    "\n",
    "1. pour le cas de base, il faut renvoyer `0` car c'est une liste de longueur nulle ;\n",
    "2. pour le cas récursif, il faut renvoyer la somme de `1` (pour le premier maillon) avec la longueur de la liste `lst.suivant` (que l'on calcule récursivement)"
   ]
  },
  {
   "cell_type": "markdown",
   "metadata": {},
   "source": [
    "**Implémenter la fonction récursive `longueur(lst) -> int` qui renvoie la longueur de la liste `lst`.**\n",
    "\n",
    "*Exemple 1 : l'instruction `print( longueur(Maillon(42, None)) )` doit afficher `1` car cette liste ne contient qu'un seul maillon.*\n",
    "\n",
    "*Exemple 2 : l'instruction `print( longueur(None) )` doit afficher `0` car c'est la liste vide.*\n",
    "\n",
    "*Exemple 3 : l'instruction `print(longueur( Maillon(1, Maillon(2, Maillon(3, None))) ))` doit afficher `3`.*"
   ]
  },
  {
   "cell_type": "code",
   "execution_count": null,
   "metadata": {},
   "outputs": [],
   "source": [
    "def longueur(lst):\n",
    "    ...\n",
    "\n",
    "\n",
    "print(longueur(Maillon(42, None)) )\n",
    "print(longueur(None) )\n",
    "print(longueur( Maillon(1, Maillon(2, Maillon(3, None))) ))"
   ]
  },
  {
   "cell_type": "markdown",
   "metadata": {},
   "source": [
    "**Complexité temporelle.** Il est clair que la complexité du calcul de la longueur est\n",
    "directement proportionnelle à la longueur elle-même, puisqu'on réalise un nombre constant d'opérations pour chaque maillon de la liste. Ainsi, pour une liste `lst` de mille maillons, longueur(lst) va effectuer mille tests, mille appels récursifs et mille additions dans sa version récursive."
   ]
  },
  {
   "cell_type": "markdown",
   "metadata": {},
   "source": [
    "#### Par une fonction itérative\n"
   ]
  },
  {
   "cell_type": "markdown",
   "metadata": {},
   "source": [
    "L'objectif est maintenant d'implémenter une version **itérative** de la fonction `longueur` qui reçoit en argument une liste `lst` et renvoie sa longueur.\n",
    "\n",
    "**Idée de l'algorithme.** Définir :\n",
    "\n",
    "- une variable accumulateur qui stocke la longueur de la liste parcourue qui vaut initialement 0\n",
    "- une variable contenant le maillon courant qui vaut initialement `lst` (car lst est une liste et une liste pointe vers le premier maillon"
   ]
  },
  {
   "cell_type": "markdown",
   "metadata": {},
   "source": [
    "![algo récursif](maillon3.png)"
   ]
  },
  {
   "cell_type": "markdown",
   "metadata": {},
   "source": [
    "Puis tant que le maillon courant n'est pas `None`, il faut incrémenter l'accumulateur de 1 et mettre à jour le maillon courant avec le maillon suivant.\n",
    "\n",
    "Lorsque le boucle s'arrête, c'est que le maillon courant est `None` et donc tous les maillons ont été visités. Il faut alors renvoyer l'accumulateur qui contient le nombre de maillons visités, qui est égal à la longueur de la liste."
   ]
  },
  {
   "cell_type": "markdown",
   "metadata": {},
   "source": [
    "**Implémenter la fonction itérative `longueur(lst) -> int` qui renvoie la longueur de la liste `lst`.**\n",
    "\n",
    "*Exemple 1 : l'instruction `print( longueur(Maillon(42, None)) )` doit afficher `1` car cette liste ne contient qu'un seul maillon.*\n",
    "\n",
    "*Exemple 2 : l'instruction `print( longueur(None) )` doit afficher `0` car c'est la liste vide.*\n",
    "\n",
    "*Exemple 3 : l'instruction `print(longueur( Maillon(1, Maillon(2, Maillon(3, None))) ))` doit afficher `3`.*"
   ]
  },
  {
   "cell_type": "code",
   "execution_count": null,
   "metadata": {},
   "outputs": [],
   "source": [
    "def longueur(lst):\n",
    "    ...\n",
    "\n",
    "\n",
    "print(longueur(Maillon(42, None)) )\n",
    "print(longueur(None) )\n",
    "print(longueur( Maillon(1, Maillon(2, Maillon(3, None))) ))"
   ]
  },
  {
   "cell_type": "markdown",
   "metadata": {},
   "source": [
    "### 3.2 --- Nième élément d'une liste\n"
   ]
  },
  {
   "cell_type": "markdown",
   "metadata": {},
   "source": [
    "Comme pour la fonction précédente, on peut implémenter une version itérative et une version récursive de la fonction demandée..."
   ]
  },
  {
   "cell_type": "markdown",
   "metadata": {},
   "source": [
    "**Implémenter une version itérative de la fonction `nieme_element(n, lst)` qui renvoie le $n$-ième élément d'une liste chaînée. Évidement on prend par convention que le premier élément est désigné par $n=0$.**\n",
    "\n",
    "*Exemple 1 : `print( nieme_element(1, Maillon(42, None)) )` affiche `IndexError` car la liste chaînée n'a qu'un seul maillon (à l'indice $0$) et donc pas de maillons à l'indice $1$.*\n",
    "\n",
    "*Exemple 2 : `print( nieme_element(1, Maillon(1, Maillon(2, Maillon(3, None)))) )`affiche `2` car le maillon d'indice `1` contient la valeur `2`.*"
   ]
  },
  {
   "cell_type": "code",
   "execution_count": null,
   "metadata": {},
   "outputs": [],
   "source": [
    "def nieme_element(n:int, lst):\n",
    "    ...\n",
    "    \n",
    "\n",
    "print( nieme_element(1, Maillon(1, Maillon(2, Maillon(3, None)))) )\n",
    "print( nieme_element(1, Maillon(42, None)) )"
   ]
  },
  {
   "cell_type": "markdown",
   "metadata": {},
   "source": [
    "**Implémenter une version récursive de la fonction `nieme_element(n, lst)` qui renvoie le $n$-ième élément d'une liste chaînée. Évidement on prend par convention que le premier élément est désigné par $n=0$.**\n",
    "\n",
    "*Exemple 1 : `print( nieme_element(1, Maillon(42, None)) )` affiche `IndexError` car la liste chaînée n'a qu'un seul maillon (à l'indice $0$) et donc pas de maillons à l'indice $1$.*\n",
    "\n",
    "*Exemple 2 : `print( nieme_element.(1, Maillon(1, Maillon(2, Maillon(3, None)))) )`affiche `2` car le maillon d'indice `1` contient la valeur `2`.*"
   ]
  },
  {
   "cell_type": "code",
   "execution_count": null,
   "metadata": {},
   "outputs": [],
   "source": [
    "def nieme_element(n:int, lst):\n",
    "    ...\n",
    "\n",
    "\n",
    "print( nieme_element(1, Maillon(1, Maillon(2, Maillon(3, None)))) )\n",
    "print( nieme_element(1, Maillon(42, None)) )"
   ]
  },
  {
   "cell_type": "markdown",
   "metadata": {},
   "source": [
    "### 3.3 --- Concaténation de deux listes\n"
   ]
  },
  {
   "cell_type": "markdown",
   "metadata": {},
   "source": [
    "Considérons maintenant l'opération consistant à mettre bout à bout les éléments de deux listes données. On appelle cela la **concaténation** de deux listes. Ainsi, si la première liste contient 1,2,3 et la seconde 4,5 alors le résultat de la concaténation est la liste 1,2,3,4,5. \n",
    "\n",
    "Nous choisissons d'écrire la concaténation sous la forme d'une fonction `concatener(l1, l2)` qui reçoit deux listes en arguments et renvoie une troisième liste contenant la concaténation.\n",
    "\n",
    "L'algorithme **récursif** est très simple :\n",
    "\n",
    "- si la liste `l1` est vide, la concaténation est identique à `l2` et il suffit de renvoyer `l2`\n",
    "- sinon, le premier élément de la concaténation est le premier élément de `l1` et le reste de la concaténation est obtenu récursivement en concaténant le reste de `l1` avec `l2`."
   ]
  },
  {
   "cell_type": "markdown",
   "metadata": {},
   "source": [
    "**Implémenter la version récursive de la fonction `concatener` qui prend deux listes `l1` et `l2` en argument et renvoie la concaténation des deux listes.**\n",
    "\n"
   ]
  },
  {
   "cell_type": "code",
   "execution_count": null,
   "metadata": {},
   "outputs": [],
   "source": [
    "def concatenation(l1, l2):\n",
    "    ...\n"
   ]
  },
  {
   "cell_type": "markdown",
   "metadata": {},
   "source": [
    "Il est important de comprendre ici que les listes passées en argument à la fonction concatener ne sont pas modifiées. Plus précisément, les éléments de la liste `l1` sont copiés et ceux de `12` sont partagés. Illustrons-le avec la concaténation des listes 1, 2, 3 et 4, 5. Après les trois instructions \n",
    "\n",
    "```python\n",
    "l1 = Maillon(1, Maillon(2, Maillon(3, None)))\n",
    "l2 = Maillon(4, Maillon(5, None))\n",
    "l3 = concatener(l1, l2)\n",
    "```\n",
    "\n",
    "on a la situation suivante avec 8 maillons au total :\n",
    "\n",
    "![concaténation de deux listes](maillon4.png)\n"
   ]
  },
  {
   "cell_type": "markdown",
   "metadata": {},
   "source": [
    "### 3.4 --- Renverser une liste\n"
   ]
  },
  {
   "cell_type": "markdown",
   "metadata": {},
   "source": [
    "**Implémenter une fonction `renverser(lst)` qui reçoit en argument une liste comme 1, 2, 3 et renvoie la liste renversée 3, 2, 1.**"
   ]
  },
  {
   "cell_type": "code",
   "execution_count": null,
   "metadata": {},
   "outputs": [],
   "source": [
    "def renverser(lst):\n",
    "    ..."
   ]
  }
 ],
 "metadata": {
  "celltoolbar": "Tags",
  "interpreter": {
   "hash": "916dbcbb3f70747c44a77c7bcd40155683ae19c65e1c03b4aa3499c5328201f1"
  },
  "kernelspec": {
   "display_name": "Python 3.9.2 64-bit",
   "name": "python3"
  },
  "language_info": {
   "codemirror_mode": {
    "name": "ipython",
    "version": 3
   },
   "file_extension": ".py",
   "mimetype": "text/x-python",
   "name": "python",
   "nbconvert_exporter": "python",
   "pygments_lexer": "ipython3",
   "version": "3.9.2"
  },
  "latex_metadata": {
   "theme": "structure",
   "title": "3 --- P.O.O."
  },
  "rise": {
   "theme": "serif"
  }
 },
 "nbformat": 4,
 "nbformat_minor": 5
}
