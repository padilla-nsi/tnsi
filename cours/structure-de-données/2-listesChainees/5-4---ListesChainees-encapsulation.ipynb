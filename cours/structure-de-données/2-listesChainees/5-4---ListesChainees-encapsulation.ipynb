{
 "cells": [
  {
   "cell_type": "code",
   "execution_count": 1,
   "id": "0f0c593f",
   "metadata": {},
   "outputs": [],
   "source": [
    "from doctest import testmod"
   ]
  },
  {
   "cell_type": "code",
   "execution_count": 2,
   "id": "f0c74625",
   "metadata": {},
   "outputs": [],
   "source": [
    "class Maillon:\n",
    "    \"\"\"\n",
    "    Une classe pour représenter le maillon d'une liste\n",
    "\n",
    "    Attributs\n",
    "    ---------\n",
    "    valeur : type\n",
    "        valeur contenue dans le maillon\n",
    "    suivant : maillon\n",
    "        maillon suivant ou None si pas de maillon\n",
    "    \"\"\"\n",
    "\n",
    "    def __init__(self, valeur, suivant):\n",
    "        \"\"\"Constructeur de classe\n",
    "\n",
    "        Args:\n",
    "            valeur (type): valeur stockée dans le maillon\n",
    "            suivant (maillon): maillon suivant ou None\n",
    "        \"\"\"\n",
    "        self.valeur = valeur\n",
    "        self.suivant = suivant"
   ]
  },
  {
   "cell_type": "markdown",
   "metadata": {
    "slideshow": {
     "slide_type": "slide"
    }
   },
   "source": [
    "## 4 --- Encapsulation dans un objet\n"
   ]
  },
  {
   "cell_type": "markdown",
   "id": "cfcb2540",
   "metadata": {},
   "source": [
    "### Méthodes de bases"
   ]
  },
  {
   "cell_type": "markdown",
   "id": "7d20535f",
   "metadata": {},
   "source": [
    "Pour finir nous allons maintenant encapsuler une liste chaînée **dans un objet**.\n",
    "\n",
    "L'idée consiste à définir une nouvelle classe, `Liste`, qui possède un unique attribut, `tete`, qui contient une liste chaînée. On l'appelle tete car il désigne la tête de la liste, lorsque celle-ci n'est pas vide (et `None` sinon). Le constructeur initialise l'attribut `tete` avec la valeur `None`.\n"
   ]
  },
  {
   "cell_type": "markdown",
   "id": "461539b1",
   "metadata": {},
   "source": [
    "\n",
    "Il y a de multiples intérêts à cette encapsulation :\n",
    "\n",
    "- D'une part, il cache la représentation de la structure à l'utilisateur. Ainsi, celui qui utilise notre classe `Liste` n'a plus à manipuler explicitement la classe `Maillon`. Mieux encore, il peut complètement ignorer son existence. De même, il ignore que la liste vide est représentée par la valeur `None`. En particulier, la réalisation de la classe `Liste` pourrait être modifiée sans pour autant que le code qui l'utilise n'ait besoin d'être modifié à son tour.\n",
    "- D'autre part, l'utilisation de classes et de méthodes nous permet de donner le même nom à toutes les méthodes qui sont de même nature. Ainsi, on peut avoir plusieurs classes avec des méthodes `est_vide`, `ajoute`, etc. Si nous avions utilisé de simples fonctions, il faudrait distinguer `liste_est_vide`, `pile_est_vide`, `ensemble_est_vide`, etc."
   ]
  },
  {
   "cell_type": "markdown",
   "id": "0dbb3cf6",
   "metadata": {},
   "source": [
    "Implémenter la classe `Liste` avec un constructeur qui initialise l'attribut `tete` à None.\n",
    "\n",
    "Exemple :\n",
    "\n",
    "    >>> lst = Liste()\n",
    "    >>> print(lst.tete)\n",
    "    None"
   ]
  },
  {
   "cell_type": "code",
   "execution_count": 3,
   "id": "d053ba10",
   "metadata": {},
   "outputs": [
    {
     "data": {
      "text/plain": [
       "TestResults(failed=0, attempted=2)"
      ]
     },
     "execution_count": 3,
     "metadata": {},
     "output_type": "execute_result"
    }
   ],
   "source": [
    "class Liste:\n",
    "    def __init__(self):\n",
    "        \"\"\"\n",
    "        Constructeur d'une liste vide.\n",
    "\n",
    "        Exemples :\n",
    "        >>> lst = Liste()\n",
    "        >>> print(lst.tete)\n",
    "        None\n",
    "        \"\"\"\n",
    "\n",
    "        self.tete = None\n",
    "\n",
    "\n",
    "# test avec l'exemple\n",
    "testmod()"
   ]
  },
  {
   "cell_type": "markdown",
   "id": "5fbf59f3",
   "metadata": {},
   "source": [
    "Ainsi, un objet construit avec `Liste()` représente une liste vide.\n",
    "\n",
    "On peut également introduire une méthode `est_vide` qui renvoie un booléen indiquant si la liste est vide. En effet, notre intention est d'encapsuler, c'est-à-dire de cacher, la représentation de la liste derrière cet objet. Pour cette raison, on n\n",
    "e souhaite pas que l'utilisateur de la classe `Liste` teste explicitement si l'attribut `tete` vaut `None`, mais qu'il utilise cette méthode `est_vide`."
   ]
  },
  {
   "cell_type": "markdown",
   "id": "46d978ed",
   "metadata": {},
   "source": [
    "Ajouter à la classe `Liste` la méthode `est_vide()` qui renvoie `True` si la liste est vide et `False` sinon.\n",
    "\n",
    "Exemples :\n",
    "\n",
    "    >>> lst = Liste()\n",
    "    >>> print(lst.est_vide())\n",
    "    True\n",
    "\n",
    "    >>> lst = Liste()\n",
    "    >>> lst.tete = Maillon(1, None)\n",
    "    >>> print(lst.est_vide())\n",
    "    False"
   ]
  },
  {
   "cell_type": "code",
   "execution_count": 4,
   "id": "9d1f9778",
   "metadata": {},
   "outputs": [
    {
     "data": {
      "text/plain": [
       "TestResults(failed=0, attempted=5)"
      ]
     },
     "execution_count": 4,
     "metadata": {},
     "output_type": "execute_result"
    }
   ],
   "source": [
    "# modification de la classe Liste existante\n",
    "#\n",
    "# Pour ne pas supprimer les implémentations précédentes,\n",
    "# il faut \"étendre\" la classe Liste pour l'enrichir.\n",
    "#\n",
    "# Pour cela, il faut écrire \n",
    "# `class Liste(Liste):` à la place de `class Liste:`\n",
    "\n",
    "class Liste(Liste):\n",
    "    def est_vide(self) -> bool:\n",
    "        \"\"\" Est ce que la liste est vide ?\n",
    "\n",
    "        Returns:\n",
    "            bool: True si et seulement si la liste est vide\n",
    "\n",
    "        Exemples :\n",
    "        >>> lst = Liste()\n",
    "        >>> print(lst.est_vide())\n",
    "        True\n",
    "\n",
    "        >>> lst = Liste()\n",
    "        >>> lst.tete = Maillon(1, None)\n",
    "        >>> print(lst.est_vide())\n",
    "        False\n",
    "        \"\"\"\n",
    "\n",
    "        return self.tete is None\n",
    "\n",
    "\n",
    "# tests avec les exemples\n",
    "testmod()   "
   ]
  },
  {
   "cell_type": "markdown",
   "id": "1be074bf",
   "metadata": {},
   "source": [
    "On poursuit la construction de la classe `Liste` avec une méthode pour `ajouter` un élément en tête de la liste.\n",
    "\n",
    "Cette méthode modifie l'attribut `tete` et ne renvoie rien. \n",
    "Si par exemple on exécute les quatre instructions à gauche, on obtient la situation représentée à droite :\n",
    "\n",
    "(schéma)\n",
    "\n",
    "On a donc construit ainsi la liste 1, 2, 3, dans cet ordre."
   ]
  },
  {
   "cell_type": "markdown",
   "id": "0fa2cf9a",
   "metadata": {},
   "source": [
    "Implémenter dans la classe `Liste` la méthode `ajoute` ayant un paramètre `valeur`. Cette méthode ajoute un nouveau maillon en tête de la liste ayant pour valeur : `valeur` et pour attribut `suivant` : l'ancien attribut `tete` de la liste.\n",
    "\n",
    "Exemples :\n",
    "\n",
    "    >>> lst = Liste()\n",
    "    >>> lst.ajoute(1)\n",
    "    >>> print(lst.tete.valeur)\n",
    "    1\n",
    "    >>> lst.ajoute(2)\n",
    "    >>> print(lst.tete.valeur)\n",
    "    2\n",
    "    >>> print(lst.tete.suivant.valeur)\n",
    "    1"
   ]
  },
  {
   "cell_type": "code",
   "execution_count": 5,
   "id": "ab81ffea",
   "metadata": {},
   "outputs": [
    {
     "data": {
      "text/plain": [
       "TestResults(failed=0, attempted=6)"
      ]
     },
     "execution_count": 5,
     "metadata": {},
     "output_type": "execute_result"
    }
   ],
   "source": [
    "class Liste(Liste):\n",
    "    def ajoute(self, valeur):\n",
    "        \"\"\"\n",
    "        Ajouter un nouveau maillon en tête de liste\n",
    "\n",
    "        Args:\n",
    "            valeur (type): valeur du nouveau maillon\n",
    "\n",
    "        Exemples :\n",
    "        >>> lst = Liste()\n",
    "        >>> lst.ajoute(1)\n",
    "        >>> print(lst.tete.valeur)\n",
    "        1\n",
    "        >>> lst.ajoute(2)\n",
    "        >>> print(lst.tete.valeur)\n",
    "        2\n",
    "        >>> print(lst.tete.suivant.valeur)\n",
    "        1\n",
    "        \"\"\"\n",
    "        self.tete = Maillon(valeur, self.tete)\n",
    "\n",
    "\n",
    "testmod()"
   ]
  },
  {
   "cell_type": "markdown",
   "id": "10e7a72a",
   "metadata": {},
   "source": [
    "### Autres méthodes"
   ]
  },
  {
   "cell_type": "markdown",
   "id": "5382c14a",
   "metadata": {},
   "source": [
    "On peut maintenant reformuler nos opérations, à savoir `longueur`, `nieme_element`, `concatener` ou encore `renverser`, comme autant de méthodes de la classe `Liste`. Ainsi, on peut écrire par exemple la méthode `longueur` qui nous permet d'écrire `lst.longueur()` pour obtenir la longueur de la liste `lst`."
   ]
  },
  {
   "cell_type": "code",
   "execution_count": 6,
   "id": "49df0a69",
   "metadata": {},
   "outputs": [
    {
     "data": {
      "text/plain": [
       "TestResults(failed=0, attempted=8)"
      ]
     },
     "execution_count": 6,
     "metadata": {},
     "output_type": "execute_result"
    }
   ],
   "source": [
    "# il faut importer la fonction `longueur`\n",
    "# d'une liste chaînée (cf. partie 3 du cours)\n",
    "from operations_base import longueur\n",
    "\n",
    "\n",
    "class Liste(Liste):\n",
    "    def longueur(self) -> int:\n",
    "        \"\"\"\n",
    "        Longueur d'une liste chaînée\n",
    "\n",
    "        Returns:\n",
    "            int: longueur de la liste\n",
    "\n",
    "        Exemples:\n",
    "        >>> lst = Liste()\n",
    "        >>> assert lst.longueur() == 0\n",
    "        >>> lst.ajoute(4)\n",
    "        >>> assert lst.longueur() == 1\n",
    "        >>> lst.ajoute(2)\n",
    "        >>> assert lst.longueur() == 2\n",
    "        >>> lst.ajoute(1)\n",
    "        >>> assert lst.longueur() == 3\n",
    "        \"\"\"\n",
    "        return longueur(self.tete)\n",
    "\n",
    "\n",
    "testmod()"
   ]
  },
  {
   "cell_type": "markdown",
   "id": "ce4628ba",
   "metadata": {},
   "source": [
    "\n",
    "\n",
    "Il est important de noter qu'il n'y a pas confusion ici entre la fonction `longueur` définie précédemment et la méthode `longueur`. En particulier, la seconde est définie en appelant la première. Le langage Python est ainsi fait que, lorsqu'on écrit `longueur(self.tete)`, il ne s'agit pas d'un appel récursif à la méthode `longueur` (un appel récursif s'écrirait `self.longueur()`).\n",
    "\n",
    "`longueur()` et `self.longueur()` sont deux fonctions différentes !"
   ]
  },
  {
   "cell_type": "markdown",
   "id": "e21a7366",
   "metadata": {},
   "source": [
    "On peut donner à cette méthode le nom `__len__` et Python nous permet alors d'écrire `len(lst)` comme pour un tableau. En effet, lorsque l'on écrit `len(e)` en Python, ce n'est qu'un synonyme pour l'appel de méthode `e.__len__()`."
   ]
  },
  {
   "cell_type": "code",
   "execution_count": 8,
   "id": "a1ea0372",
   "metadata": {},
   "outputs": [
    {
     "data": {
      "text/plain": [
       "TestResults(failed=0, attempted=6)"
      ]
     },
     "execution_count": 8,
     "metadata": {},
     "output_type": "execute_result"
    }
   ],
   "source": [
    "# il faut importer la fonction `longueur`\n",
    "# d'une liste chaînée (cf. partie 3 du cours)\n",
    "from operations_base import longueur\n",
    "\n",
    "\n",
    "# étendre la classe Liste pour ajouter des méthodes\n",
    "class Liste(Liste):\n",
    "\n",
    "    def __len__(self):\n",
    "        \"\"\"\n",
    "        Permet d'utiliser :\n",
    "            - la fonction len avec les Liste\n",
    "            - une instance de Liste comme une expression booléenne :\n",
    "                True  si et seulement si l'instance est de longueur > 0\n",
    "                False si et seulement si l'instance est de longueur nulle\n",
    "\n",
    "        Exemples:\n",
    "        >>> lst = Liste()\n",
    "        >>> assert len(lst) == 0\n",
    "        >>> if lst: print(\"expression booléenne évaluée à False\")\n",
    "        >>> lst.ajoute(4)\n",
    "        >>> assert len(lst) == 1\n",
    "        >>> if lst: print(\"expression booléenne évaluée à True\")\n",
    "        expression booléenne évaluée à True\n",
    "        \"\"\"\n",
    "        return longueur(self.tete)\n",
    "\n",
    "\n",
    "testmod()"
   ]
  },
  {
   "cell_type": "markdown",
   "id": "844e9429",
   "metadata": {},
   "source": [
    "De même, on peut ajouter à la classe `Liste` une méthode pour accéder au n-ième élément de la liste, c'est-à-dire une méthode qui va appeler notre\n",
    "fonction `nieme_element` sur `self.tete`. Le nom de la méthode est arbitraire et nous pourrions choisir de conserver le nom `nieme_element`. Mais\n",
    "là encore nous pouvons faire le choix d'un nom idiomatique en Python, à savoir `__getitem__`.\n",
    "\n",
    "Ceci nous permet alors d'écrire `lst[i]` pour accéder au i-ième élément de notre liste, exactement comme pour les tableaux."
   ]
  },
  {
   "cell_type": "markdown",
   "id": "65d92f6d",
   "metadata": {},
   "source": [
    "Implémenter dans la classe `Liste` la méthode `__getitem__` de paramètre `index` permettant de renvoyer la valeur du maillon de rang `index` de la liste. Utiliser pour cela la fonction `nieme_element()`.\n",
    "\n",
    "Exemple:\n",
    "\n",
    "    >>> lst = Liste()\n",
    "    >>> lst.ajoute(4)\n",
    "    >>> lst.ajoute(2)\n",
    "    >>> lst.ajoute(1)\n",
    "    >>> assert lst[0] == 1\n",
    "    >>> assert lst[1] == 2\n",
    "    >>> assert lst[2] == 4\n"
   ]
  },
  {
   "cell_type": "code",
   "execution_count": 10,
   "id": "36df353c",
   "metadata": {},
   "outputs": [
    {
     "data": {
      "text/plain": [
       "TestResults(failed=0, attempted=7)"
      ]
     },
     "execution_count": 10,
     "metadata": {},
     "output_type": "execute_result"
    }
   ],
   "source": [
    "# il faut importer la fonction `longueur`\n",
    "# d'une liste chaînée (cf. partie 3 du cours)\n",
    "from operations_base import nieme_element\n",
    "\n",
    "\n",
    "# étendre la classe Liste pour ajouter des méthodes\n",
    "class Liste(Liste):\n",
    "\n",
    "    def __getitem__(self, index):\n",
    "        \"\"\" Permet d'utiliser la syntaxe des listes\n",
    "\n",
    "        Exemples:\n",
    "        >>> lst = Liste()\n",
    "        >>> lst.ajoute(4)\n",
    "        >>> lst.ajoute(2)\n",
    "        >>> lst.ajoute(1)\n",
    "        >>> assert lst[0] == 1\n",
    "        >>> assert lst[1] == 2\n",
    "        >>> assert lst[2] == 4\n",
    "        \"\"\"\n",
    "        return nieme_element(index, self.tete)\n",
    "\n",
    "\n",
    "testmod()"
   ]
  },
  {
   "cell_type": "markdown",
   "id": "1a9bebfe",
   "metadata": {},
   "source": [
    "Pour la fonction `renverser`, on fait le choix de nommer la méthode `reverse` car là encore c'est un nom qui existe déjà pour les tableaux de Python."
   ]
  },
  {
   "cell_type": "markdown",
   "id": "42ef2e6e",
   "metadata": {},
   "source": [
    "Implémenter dans la classe `Liste` une méthode `reverse` ne renvoie rien mais inverse l'ordre des maillons de la liste.\n",
    "\n",
    "Exemple :\n",
    "\n",
    "    >>> lst = Liste()\n",
    "    >>> lst.ajoute(3)\n",
    "    >>> lst.ajoute(2)\n",
    "    >>> lst.ajoute(1)\n",
    "    >>> lst.reverse()\n",
    "    >>> assert lst[0] == 3\n",
    "    >>> assert lst[1] == 2\n",
    "    >>> assert lst[2] == 1"
   ]
  },
  {
   "cell_type": "code",
   "execution_count": 12,
   "id": "c5865195",
   "metadata": {},
   "outputs": [
    {
     "data": {
      "text/plain": [
       "TestResults(failed=0, attempted=8)"
      ]
     },
     "execution_count": 12,
     "metadata": {},
     "output_type": "execute_result"
    }
   ],
   "source": [
    "# il faut importer la fonction `renverser`\n",
    "# d'une liste chaînée (cf. partie 3 du cours)\n",
    "from operations_base import renverser\n",
    "\n",
    "\n",
    "class Liste(Liste):\n",
    "    def reverse(self):\n",
    "        \"\"\"\n",
    "        Renverse la liste en place\n",
    "\n",
    "        Exemples:\n",
    "        >>> lst = Liste()\n",
    "        >>> lst.ajoute(3)\n",
    "        >>> lst.ajoute(2)\n",
    "        >>> lst.ajoute(1)\n",
    "        >>> lst.reverse()\n",
    "        >>> assert lst[0] == 3\n",
    "        >>> assert lst[1] == 2\n",
    "        >>> assert lst[2] == 1\n",
    "        \"\"\"\n",
    "        self.tete = renverser(self.tete)\n",
    "\n",
    "\n",
    "testmod()"
   ]
  },
  {
   "cell_type": "markdown",
   "id": "2419c2a4",
   "metadata": {},
   "source": [
    "Enfin, le cas de la concaténation est plus subtil, car il s'agit de renvoyer une nouvelle liste, c'est-à-dire un nouvel objet. On choisit d'appeler la méthode `__add__`, qui correspond à la syntaxe `+` de Python."
   ]
  },
  {
   "cell_type": "markdown",
   "id": "86210b4a",
   "metadata": {},
   "source": [
    "Implémenter la méthode `__add__` de paramètre `autre_liste` qui renvoie une nouvelle liste, résultat de la concaténation de la liste actuelle et de `autre_liste`.\n",
    "\n",
    "Exemple :\n",
    "\n",
    "    >>> lst_1 = Liste()\n",
    "    >>> lst_1.ajoute(1)\n",
    "    >>> lst_2 = Liste()\n",
    "    >>> lst_2.ajoute(3)\n",
    "    >>> lst_2.ajoute(2)\n",
    "    >>> lst_3 = lst_1 + lst_2\n",
    "    >>> assert lst_3[0] == 1     # lst_3 concaténée !\n",
    "    >>> assert lst_3[1] == 2\n",
    "    >>> assert lst_3[2] == 3"
   ]
  },
  {
   "cell_type": "code",
   "execution_count": 16,
   "id": "dfedd995",
   "metadata": {},
   "outputs": [
    {
     "data": {
      "text/plain": [
       "TestResults(failed=0, attempted=9)"
      ]
     },
     "execution_count": 16,
     "metadata": {},
     "output_type": "execute_result"
    }
   ],
   "source": [
    "# il faut importer la fonction `concatener`\n",
    "# d'une liste chaînée (cf. partie 3 du cours)\n",
    "from operations_base import concatener\n",
    "\n",
    "\n",
    "# étendre la classe Liste pour ajouter des méthodes\n",
    "class Liste(Liste):\n",
    "    def __add__(self, liste):\n",
    "        \"\"\"\n",
    "        Permet d'utiliser l'opérateur + entre instances de Liste\n",
    "\n",
    "        Exemples:\n",
    "        >>> lst_1 = Liste()\n",
    "        >>> lst_1.ajoute(1)\n",
    "        >>> lst_2 = Liste()\n",
    "        >>> lst_2.ajoute(3)\n",
    "        >>> lst_2.ajoute(2)\n",
    "        >>> lst_3 = lst_1 + lst_2\n",
    "        >>> assert lst_3[0] == 1     # lst_3 concaténée !\n",
    "        >>> assert lst_3[1] == 2\n",
    "        >>> assert lst_3[2] == 3\n",
    "        \"\"\"\n",
    "\n",
    "        concat = Liste()\n",
    "        concat.tete = concatener(self.tete, liste.tete)\n",
    "        return concat\n",
    "\n",
    "\n",
    "testmod()"
   ]
  },
  {
   "cell_type": "markdown",
   "id": "1fd054a2",
   "metadata": {},
   "source": [
    "Une liste chaînée est une structure de données pour représenter une séquence finie d'éléments. Chaque élément est contenu dans un Maillon, qui fournit par ailleurs un moyen d'accéder au maillon suivant. Les opérations sur les listes chaînées se programment sous la forme de parcours qui suivent ces liaisons, en utilisant une fonction récursive ou une boucle."
   ]
  }
 ],
 "metadata": {
  "celltoolbar": "Tags",
  "interpreter": {
   "hash": "916dbcbb3f70747c44a77c7bcd40155683ae19c65e1c03b4aa3499c5328201f1"
  },
  "kernelspec": {
   "display_name": "Python 3.9.2 64-bit",
   "name": "python3"
  },
  "language_info": {
   "codemirror_mode": {
    "name": "ipython",
    "version": 3
   },
   "file_extension": ".py",
   "mimetype": "text/x-python",
   "name": "python",
   "nbconvert_exporter": "python",
   "pygments_lexer": "ipython3",
   "version": "3.9.2"
  },
  "latex_metadata": {
   "theme": "structure",
   "title": "3 --- P.O.O."
  },
  "rise": {
   "theme": "serif"
  }
 },
 "nbformat": 4,
 "nbformat_minor": 5
}
