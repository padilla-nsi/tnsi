{
 "cells": [
  {
   "cell_type": "markdown",
   "metadata": {},
   "source": [
    "# Correction Bac Blanc"
   ]
  },
  {
   "cell_type": "markdown",
   "metadata": {},
   "source": [
    "## Exercice 1"
   ]
  },
  {
   "cell_type": "markdown",
   "metadata": {},
   "source": [
    "1.a - La requête de l'énoncé affiche la liste de tous les ordinateurs et affiche pour chacun sa marque et sa salle associée. C'est une relation de deux attributs. Elle produit l'affichage de la table suivante :\n",
    "\n",
    "|salle|marque_ordi|\n",
    "|-|-|\n",
    "012 | HP\n",
    "114 | Lenovo\n",
    "223 | Dell\n",
    "223 | Dell\n",
    "223 | Dell"
   ]
  },
  {
   "cell_type": "markdown",
   "metadata": {},
   "source": [
    "1.b - La requête de l'énoncé affiche la liste des noms et des salles de tous les ordinateurs reliés à un vidéoprojecteur. Elle produit l'affichage de la table suivante :\n",
    "\n",
    "|nom_ordi|salle|\n",
    "|-|-|\n",
    "Gen-24 | 012\n",
    "Tech-62|114\n",
    "Gen-132|223"
   ]
  },
  {
   "cell_type": "markdown",
   "metadata": {},
   "source": [
    "2 - La requête donnant tous les attributs des ordinateurs correspondant aux années supérieures ou égales à 2017 ordonnées par dates croissantes est :\n",
    "\n",
    "```SQL\n",
    "SELECT * FROM Ordinateur\n",
    "WHERE anne >= 2017\n",
    "ORDER BY annee ASC;\n",
    "```"
   ]
  },
  {
   "cell_type": "markdown",
   "metadata": {},
   "source": [
    "3.a - Pour des raisons de contrainte d'intégrité, l'attribut `salle` ne peut pas être une clé primaire. En effet, la clé primaire de chaque élément de la relation `Ordinateur` doit être **unique** ce qui n'est pas le cas de l'attribut proposé."
   ]
  },
  {
   "cell_type": "markdown",
   "metadata": {},
   "source": [
    "3.b - En respectant les notations de l'énoncé, la relation `Imprimante` se définit :\n",
    "\n",
    "$$\n",
    "\\begin{array}{ll}\n",
    "\\texttt{Imprimante(}\\\\\n",
    "    \\texttt{\\qquad\\underline{nom\\_imprimante: String},} \\\\\n",
    "    \\texttt{\\qquad\\underline{nom\\_ordi: String},} \\\\\n",
    "    \\texttt{\\qquad marque\\_imp: String,}\\\\\n",
    "    \\texttt{\\qquad modele\\_imp: String,}\\\\\n",
    "    \\texttt{\\qquad salle: String)}\n",
    "\\end{array}\n",
    "$$\n",
    "\n",
    "`nom_ordi` est une clé étrangère de la relation `Imprimante` car c'est une clé primaire de la relation `Ordinateur`."
   ]
  },
  {
   "cell_type": "markdown",
   "metadata": {},
   "source": [
    "4.a - Pour insérer le vidéoprojecteur de l'énoncé en salle 315 il faudra écrire la requête :\n",
    "\n",
    "```sql\n",
    "INSERT INTO Videoprojecteur(salle, marque_video, modele_video, tni) VALUES\n",
    "    ('315', 'NEC', 'ME402X', false);"
   ]
  },
  {
   "cell_type": "markdown",
   "metadata": {},
   "source": [
    "4.b - La requête nécessite une jointure :\n",
    "\n",
    "```sql\n",
    "SELECT o.salle, o.nom_ordi, v.marque_video\n",
    "FROM Ordinateur AS o\n",
    "JOIN Videoprojecteur AS v ON o.salle = v.salle\n",
    "WHERE v.tni = false ;"
   ]
  },
  {
   "cell_type": "markdown",
   "metadata": {},
   "source": [
    "## Exercice 2\n"
   ]
  },
  {
   "cell_type": "markdown",
   "metadata": {},
   "source": [
    "1.a - L'abre possède 7 noeuds. Il a donc une taille égale à 7."
   ]
  },
  {
   "cell_type": "markdown",
   "metadata": {},
   "source": [
    "1.b - La hauteur de l'arbre est de 4. C'est le nombre de nœuds du plus grand chemin entre la racine et ses feuilles."
   ]
  },
  {
   "cell_type": "markdown",
   "metadata": {},
   "source": [
    "2 - L'arbre suivant possède les mêmes valeurs que celui de l'énoncé mais est bien construit :\n",
    "\n",
    "         10\n",
    "       /    \\\n",
    "      5     15\n",
    "     / \\   /  \\\n",
    "    4   8 12  20"
   ]
  },
  {
   "cell_type": "markdown",
   "metadata": {},
   "source": [
    "3 - Les instructions de l'énoncé produisent l'arbre suivant :\n",
    "\n",
    "             10\n",
    "          /      \\\n",
    "         /        \\\n",
    "        8          20\n",
    "      /            /\n",
    "     4            15\n",
    "    / \\          /  \\\n",
    "       5        12\n",
    "      / \\      / \\"
   ]
  },
  {
   "cell_type": "markdown",
   "metadata": {},
   "source": [
    "4 - La méthode `hauteur` de la classe `Noeud` renvoie la hauteur d'un noeud en partant de la racine. Ainsi une feuille a une hauteur de 1, un noeud relié à une feuille a une hauteur de 2 et ainsi de suite.\n",
    "\n",
    "Pour implémenter la méthode hauteur de la classe arbre, il suffit de renvoyer la hauteur du nœud racine. Ce qui donne :\n",
    "\n",
    "```python\n",
    "class Arbre:\n",
    "\n",
    "    ...\n",
    "\n",
    "    def hauteur(self):\n",
    "        return self.racine.hauteur()\n",
    "```"
   ]
  },
  {
   "cell_type": "markdown",
   "metadata": {},
   "source": [
    "5 - La méthode `taille` de la classe `Noeud` renvoie la taille du sous-arbre de racine le noeud. Elle peut être implémentée de la façon suivante :\n",
    "\n",
    "```python\n",
    "class Noeud:\n",
    "\n",
    "    ...\n",
    "\n",
    "    def taille(self):\n",
    "        # cas de base\n",
    "        # le noeud est une feuille\n",
    "        if self.gauche == None and self.droit == None:\n",
    "            return 1\n",
    "        \n",
    "        if self.gauche == None:\n",
    "            t_gauche = 0\n",
    "        else:\n",
    "            t_gauche = self.gauche.taille()\n",
    "        \n",
    "        if self.droit == None:\n",
    "            t_droit = 0\n",
    "        else:\n",
    "            t_droit = self.droit.taille()\n",
    "\n",
    "        return 1 + t_gauche + t_droit\n",
    "```\n",
    "\n",
    "On peut maintenant implémenter la méthode `taille` pour la classe `Arbre` en remarquant que la taille d'un arbre est égal à la taille de sa racine !\n",
    "\n",
    "```python\n",
    "class Arbre:\n",
    "    \n",
    "    ...\n",
    "\n",
    "    def taille(self):\n",
    "        return self.racine.taille()\n",
    "```"
   ]
  },
  {
   "cell_type": "markdown",
   "metadata": {},
   "source": [
    "6.a - Un arbre binaire de recherche est *bien construit* s'il n'est pas possible de le *réduire* à un arbre de hauteur $h-1$ car sinon, la propriété *bien construit* ne serait pas vérifiée. Donc un tel arbre doit avoir une taille supérieure aux arbres de hauteur $h-1$, c'est-à dire que sa taille doit être supérieure à $2^{h-1} - 1$.\n",
    "\n",
    "On a donc l'encadrement suivant pour un arbre bien construit : \n",
    "\n",
    "$2 ^{h-1} - 1 < t \\leq 2^h - 1$.\n",
    "\n",
    "La deuxième partie de l'inégalité est vraie pour tout ABR, mais la première partie est caractéristique des ABR bien construit."
   ]
  },
  {
   "cell_type": "markdown",
   "metadata": {},
   "source": [
    "\n",
    "6.b - Implémentons la méthode `bien_construit` qui s'appuie sur une telle propriété :\n",
    "\n",
    "```python\n",
    "class Arbre:\n",
    "\n",
    "    ...\n",
    "\n",
    "    def bien_contruit(self):\n",
    "        t = self.taille()\n",
    "        h = self.hauteur()\n",
    "\n",
    "        if  t > 2 ** (h-1) - 1:\n",
    "            return True\n",
    "        else:\n",
    "            return False"
   ]
  },
  {
   "cell_type": "markdown",
   "metadata": {},
   "source": [
    "## Exercice 3"
   ]
  },
  {
   "cell_type": "markdown",
   "metadata": {},
   "source": [
    "1.a - Il faut implémenter une fonction renvoyant la somme des éléments d'un tableau donné en argument."
   ]
  },
  {
   "cell_type": "code",
   "execution_count": 2,
   "metadata": {},
   "outputs": [
    {
     "name": "stdout",
     "output_type": "stream",
     "text": [
      "122.0\n"
     ]
    }
   ],
   "source": [
    "def total_hors_reduction(tab):\n",
    "    total = 0\n",
    "    n = len(tab)\n",
    "    for i in range(n):\n",
    "        total = total + tab[i]\n",
    "    return total\n",
    "\n",
    "\n",
    "tab = [30.5, 15.0, 6.0, 20.0, 5.0, 35.0, 10.5]\n",
    "print(total_hors_reduction(tab))"
   ]
  },
  {
   "cell_type": "markdown",
   "metadata": {},
   "source": [
    "1.b - Voici la version complète de la fonction donnée dans l'énoncé :"
   ]
  },
  {
   "cell_type": "code",
   "execution_count": 4,
   "metadata": {},
   "outputs": [
    {
     "name": "stdout",
     "output_type": "stream",
     "text": [
      "111.4\n"
     ]
    }
   ],
   "source": [
    "def offre_bienvenue(tab: list) -> float:\n",
    "    somme = 0\n",
    "    longueur = len(tab)\n",
    "    if longueur > 0:\n",
    "        somme = tab[0] * 0.8\n",
    "    if longueur > 1:\n",
    "        somme = somme + tab[1] * 0.7\n",
    "    if longueur > 2:\n",
    "        for i in range(2, longueur):\n",
    "            somme = somme + tab[i]\n",
    "    return somme\n",
    "\n",
    "\n",
    "print(offre_bienvenue(tab))"
   ]
  },
  {
   "cell_type": "markdown",
   "metadata": {},
   "source": [
    "2 - Pour implémenter la fonction demandée, il faut différencier tous les cas possibles :"
   ]
  },
  {
   "cell_type": "code",
   "execution_count": 7,
   "metadata": {},
   "outputs": [
    {
     "name": "stdout",
     "output_type": "stream",
     "text": [
      "61.0\n"
     ]
    }
   ],
   "source": [
    "def prix_solde(tab):\n",
    "    longueur = len(tab)\n",
    "    total = total_hors_reduction(tab)\n",
    "    if   longueur >= 5:\n",
    "        return total * 0.5\n",
    "    elif longueur == 4:\n",
    "        return total * 0.6\n",
    "    elif longueur == 3:\n",
    "        return total * 0.7\n",
    "    elif longueur == 2:\n",
    "        return total * 0.8\n",
    "    elif longueur == 1:\n",
    "        return total * 0.9\n",
    "    else:\n",
    "        return 0\n",
    "\n",
    "\n",
    "print(prix_solde(tab))"
   ]
  },
  {
   "cell_type": "markdown",
   "metadata": {},
   "source": [
    "3.a - Implémentation de la fonction qui renvoie la valeur minimale d'un tableau :"
   ]
  },
  {
   "cell_type": "code",
   "execution_count": 4,
   "metadata": {},
   "outputs": [
    {
     "name": "stdout",
     "output_type": "stream",
     "text": [
      "5.0\n"
     ]
    }
   ],
   "source": [
    "def minimum(tab):\n",
    "    mini = tab[0]\n",
    "    longueur = len(tab)\n",
    "    for  i in range(1, longueur):\n",
    "        if tab[i] < mini:\n",
    "            mini = tab[i]\n",
    "    return mini\n",
    "\n",
    "\n",
    "print(minimum(tab))"
   ]
  },
  {
   "cell_type": "markdown",
   "metadata": {},
   "source": [
    "3.b - Utilisons la fonction `minimum()` créée à la question précédente :"
   ]
  },
  {
   "cell_type": "code",
   "execution_count": 5,
   "metadata": {},
   "outputs": [
    {
     "name": "stdout",
     "output_type": "stream",
     "text": [
      "117.0\n"
     ]
    }
   ],
   "source": [
    "def offre_bon_client(tab):\n",
    "    total = total_hors_reduction(tab)\n",
    "    longueur = len(tab)\n",
    "    if longueur > 1:\n",
    "        mini = minimum(tab)\n",
    "        total = total - mini\n",
    "    return total\n",
    "\n",
    "\n",
    "print(offre_bon_client(tab))"
   ]
  },
  {
   "cell_type": "markdown",
   "metadata": {},
   "source": [
    "4.a - Si on permute les articles à `6.0` et `20.0`, alors on obtient le tableau `[30.5, 15.0, 20.0, 6.0, 5.0, 35.0, 10.5]`. Pour ce tableau, les articles à `15.0` et `5.0` sont offerts. Le prix après promotion est donc différent de 111 euros."
   ]
  },
  {
   "cell_type": "markdown",
   "metadata": {},
   "source": [
    "4.b - Pour avoir un prix le plus bas possible, je propose (par exemple) le panier suivant :\n",
    "\n",
    "`[35.0, 30.5, 20.0, 6.0, 10.5, 15.0, 5.0]`\n",
    "\n",
    "Le total de remise s'élève à $20,0 + 6,0 = 26,0$."
   ]
  },
  {
   "cell_type": "markdown",
   "metadata": {},
   "source": [
    "4.c - Pour minimiser le coût il faut maximiser la remise. Ainsi, pour un tableau donné, il faut arriver à mettre les articles les plus chers en remise. Une méthode systématique pour arriver à cela est d'ordonner les articles par **ordre décroissant**. "
   ]
  },
  {
   "cell_type": "markdown",
   "metadata": {},
   "source": [
    "## Exercice 4"
   ]
  },
  {
   "cell_type": "markdown",
   "metadata": {},
   "source": [
    "1 - **réponse souvent incomplète sur les copies**\n",
    "\n",
    "le couple $(1,3)$ est une inversion pour le tableau `[4, 8, 3, 7]` car il respecte des deux propriétés :\n",
    "\n",
    "- $1 < 3$ \n",
    "- $\\texttt{tab[1]} = 8 > \\texttt{tab[3]} = 7$ "
   ]
  },
  {
   "cell_type": "markdown",
   "metadata": {},
   "source": [
    "2 - le couple $(2, 3)$ n'est pas une inversion car :\n",
    "\n",
    "- $2 < 3$\n",
    "- mais $\\texttt{tab[2]} = 3 > \\texttt{tab[3]} = 7$ n'est pas vérifiée"
   ]
  },
  {
   "cell_type": "markdown",
   "metadata": {},
   "source": [
    "\n",
    "A.1.a et A.1.b - La fonction `fonction1(tab, i)` compte le nombre d'inversion $(\\texttt{i}, j)$ que contient le tableau `tab` en partant du rang `i` fixé.\n",
    "\n",
    "- `fonction1([1, 5, 3, 7], 0)` compte le nombre d'inversion de rang 0. Il n'y en a aucune donc la fonction renvoie `0`. En effet :\n",
    "  - $1<5$ donc le couple $(0, 1)$ n'est pas une inversion\n",
    "  - $1<3$ donc le couple $(0, 2)$ n'est pas une inversion\n",
    "  - $1<7$ donc le couple $(0, 3)$ n'est pas une inversion\n",
    "- `fonction1([1, 5, 3, 7], 1)` compte le nombre d'inversion de rang 1. Il y en a une seule car $5>3$ pour le couple $(1, 2). La fonction renvoie donc `1`.\n",
    "- `fonction1([1, 5, 2, 6, 4], 1)` compte le nombre d'inversion de rang 1. Il y en a deux car $5>2$ pour le couple $(1, 2) et $5>4$ pour le couple $(1, 4)$. La fonction renvoie donc `2`."
   ]
  },
  {
   "cell_type": "code",
   "execution_count": 14,
   "metadata": {},
   "outputs": [
    {
     "name": "stdout",
     "output_type": "stream",
     "text": [
      "0\n",
      "1\n",
      "2\n"
     ]
    }
   ],
   "source": [
    "def fonction1(tab, i):\n",
    "    nb_elem = len(tab)\n",
    "    cpt = 0\n",
    "    for j in range(i+1, nb_elem):\n",
    "        if tab[j] < tab[i]:\n",
    "            cpt += 1\n",
    "    return cpt\n",
    "\n",
    "print(fonction1([1, 5, 3, 7], 0))\n",
    "print(fonction1([1, 5, 3, 7], 1))\n",
    "print(fonction1([1, 5, 2, 6, 4], 1))"
   ]
  },
  {
   "cell_type": "markdown",
   "metadata": {},
   "source": [
    "A.2 - Pour compter le nombre total d'inversions, on va accumuler toutes les inversions de rang 0, puis toutes celles de rang 1, et ainsi de suite jusqu'à l'avant dernière case case du tableau."
   ]
  },
  {
   "cell_type": "code",
   "execution_count": 20,
   "metadata": {},
   "outputs": [
    {
     "name": "stdout",
     "output_type": "stream",
     "text": [
      "0\n",
      "3\n",
      "6\n"
     ]
    }
   ],
   "source": [
    "def nombre_inversions(tab):\n",
    "    total = 0\n",
    "    longueur = len(tab)\n",
    "    for i in range(longueur-1):\n",
    "        total = total + fonction1(tab, i)\n",
    "    return total\n",
    "\n",
    "print (nombre_inversions([1, 5, 7]))\n",
    "print (nombre_inversions([1, 6, 2, 7, 3]))\n",
    "print (nombre_inversions([7, 6, 5, 3]))"
   ]
  },
  {
   "cell_type": "markdown",
   "metadata": {},
   "source": [
    "A.3 - Soit `n` la longueur du tableau, la fonction `nombre_inversion` effectue `n` boucles.\n",
    "\n",
    "Chaque boucle effectue `n` appels à `fonction1`, qui elle même effectue `i` tours de boucles.\n",
    "\n",
    "La fonction `nombre_inversions` effectue donc $n + (n-1) + (n-2) + \\ldots + 2 + 1 = \\frac{n(n+1)}{2}$ tests.\n",
    "\n",
    "L'ordre de grandeur de la complexité en temps est donc $n^2$ avec $n$ la longueur du tableau.\n",
    "\n",
    "C'est une complexité quadratique."
   ]
  },
  {
   "cell_type": "markdown",
   "metadata": {},
   "source": [
    "B.1 - Un algorithme de tri qui a une complexité meilleure que quadratique est le tri **fusion** ou le tri **rapide**. Ces deux ont des complexité quasi-linéaire en $n\\log(n)$."
   ]
  },
  {
   "cell_type": "markdown",
   "metadata": {},
   "source": [
    "B.2 - "
   ]
  },
  {
   "cell_type": "code",
   "execution_count": 7,
   "metadata": {},
   "outputs": [],
   "source": [
    "def moitie_gauche(tab):\n",
    "    if tab == []:\n",
    "        return []\n",
    "\n",
    "    n = len(tab)\n",
    "    milieu = (n-1) // 2\n",
    "\n",
    "    m_gauche = [None] * (milieu+1)\n",
    "    for i in range(milieu + 1):\n",
    "        m_gauche[i] = tab[i]\n",
    "    \n",
    "    return m_gauche\n"
   ]
  },
  {
   "cell_type": "markdown",
   "metadata": {},
   "source": [
    "B.3 - Implémentation :\n",
    "\n",
    "```python\n",
    "def nb_inversions_rec(tab):\n",
    "    tab_g = moitie_gauche(tab)\n",
    "    nb_inv_gauche = nb_inversions_rec(tab_g)\n",
    "    \n",
    "    tab_d  = moitie_droit(tab)\n",
    "    nb_inv_droit = nb_inversions_rec(tab_d)\n",
    "\n",
    "    tab_g_trie = tri(tab_g)\n",
    "    tab_d_trie = tri(tab_d)\n",
    "    nb_inv_tries = nb_inv_tab(tab_g_trie, tab_d_trie)\n",
    "\n",
    "    nb_inv = nb_inv_gauche + nb_inv_droit + nb_inv_tries\n",
    "    return nb_inv\n",
    "```"
   ]
  },
  {
   "cell_type": "markdown",
   "metadata": {},
   "source": [
    "## Exercice 5"
   ]
  },
  {
   "cell_type": "markdown",
   "metadata": {},
   "source": [
    "1.a - À la fin de l'exécution, la file $F$ est vide et la pile $P$ contient le contenu de $F$ initial inversé :\n",
    "\n",
    "- $F : \\text{enfilement}\\rightarrow \\empty \\rightarrow \\text{défilement}$\n",
    "- $P : \\text{empilement/dépilement}\\leftrightarrow \\text{\"rouge\" \"vert\" \"jaune\" \"rouge\" \"jaune\"}$"
   ]
  },
  {
   "cell_type": "markdown",
   "metadata": {},
   "source": [
    "1.b - Pour déterminer la taille, nous allons vider la file originale dans une file temporaire, initialement vide. À chaque défilement, nous incrémentons le compteur permettant un dénombrement. \n",
    "\n",
    "Ensuite, pour remettre en état la file originale $F$, on défile la file temporaire dans la $F$ qui était devenue vide."
   ]
  },
  {
   "cell_type": "code",
   "execution_count": 10,
   "metadata": {},
   "outputs": [],
   "source": [
    "def taille_file(F):\n",
    "    taille = 0\n",
    "\n",
    "    F_temp = creer_file_vide()\n",
    "    while not est_vide(F):\n",
    "        taille = taille + 1\n",
    "        enfiler(F_temp, defiler(F))\n",
    "    \n",
    "    while not est_vide(F_temp):\n",
    "        enfiler(F, defiler(F_temp))\n",
    "    \n",
    "    return taille"
   ]
  },
  {
   "cell_type": "markdown",
   "metadata": {},
   "source": [
    "2 - L'idée de l'algorithme est la suivante :\n",
    "\n",
    "1. vider la file $F$ dans une pile temporaire (comme le fait la question 1.a)\n",
    "2. retourner/inverser la pile temporaire en la dépilant dans une deuxième pile\n",
    "3. renvoyer la deuxième pile qui contient les mêmes éléments que $F$, dans le bon ordre."
   ]
  },
  {
   "cell_type": "code",
   "execution_count": 13,
   "metadata": {},
   "outputs": [],
   "source": [
    "def former_pile(F):\n",
    "    # pile temporaire qui contiendra les valeurs de F\n",
    "    # mais dans l'ordre inversé\n",
    "    P_temp = creer_pile_vide()\n",
    "    while not est_vide(F):\n",
    "        empiler(P_temp, defiler(F))\n",
    "    \n",
    "    # retourner/inverser la pile temporaire\n",
    "    P = creer_pile_vide()\n",
    "    while not est_vide(P_temp):\n",
    "        empiler(P, depiler(P_temp))\n",
    "    \n",
    "    return P      "
   ]
  },
  {
   "cell_type": "markdown",
   "metadata": {},
   "source": [
    "Voici une deuxième implémentation qui va remettre en état la file $F$ (au lieu de la laisser vide). L'algorithme est le suivant :\n",
    "\n",
    "- défiler $F$ et mettre chaque élément dans une pile temporaire et dans une file temporaire\n",
    "- remettre en état la file $F$ en parcourant/vidant la file temporaire\n",
    "- dépiler la pile temporaire dans la pile finale afin de remettre les éléments dans le bon ordre\n",
    "- renvoyer la pile finale"
   ]
  },
  {
   "cell_type": "code",
   "execution_count": 14,
   "metadata": {},
   "outputs": [],
   "source": [
    "def former_pile(F):\n",
    "    F_temp = creer_file_vide()\n",
    "    P_temp = creer_pile_vide()\n",
    "\n",
    "    while not est_vide(F):\n",
    "        element = defiler(F)\n",
    "        enfiler(F_temp, element)\n",
    "        empiler(P_temp, element)\n",
    "    \n",
    "    # remise en état de F\n",
    "    while not est_vide(F_temp):\n",
    "        enfiler(F, defiler(F_temp))\n",
    "    \n",
    "    # inversion de la pile P_temp\n",
    "    # dans la pile P à renvoyer\n",
    "    P = creer_pile_vide()\n",
    "    while not est_vide(P_temp):\n",
    "        empiler(P, depiler(P_temp))\n",
    "    \n",
    "    return P"
   ]
  },
  {
   "cell_type": "markdown",
   "metadata": {},
   "source": [
    "3 - L'algorithme proposé ressemble beaucoup à celui de `taille_fle`. Cette fois-ci, on ajoute 1 au total seulement si l'élément défilé est égal à l'élément passé en argument de la fonction."
   ]
  },
  {
   "cell_type": "code",
   "execution_count": 15,
   "metadata": {},
   "outputs": [],
   "source": [
    "def nb_elements(F, elt):\n",
    "    total = 0\n",
    "\n",
    "    F_temp = creer_file_vide()\n",
    "    while not(est_vide(F)):\n",
    "        elt_courant = defiler(F)\n",
    "        if elt_courant == elt:\n",
    "            total = total + 1\n",
    "        enfiler(F_temp, elt_courant)\n",
    "    \n",
    "    # remise en état de F\n",
    "    while not(est_vide(F_temp)):\n",
    "        enfiler(F, defiler(F_temp))\n",
    "\n",
    "    return total\n"
   ]
  },
  {
   "cell_type": "markdown",
   "metadata": {},
   "source": [
    "4 - L'implémentation proposée est la suivante :\n",
    "\n",
    "- compter le nombre d'élément `\"rouge\"` de la file. Si ce nombre est plus grand que `nb_rouge` passé en argument, alors le contenu n'est pas correct et la fonction s'arrête en renvoyant `False`.\n",
    "- on fait de même avec les éléments `\"vert\"`, puis avec les éléments `\"jaune\"`\n",
    "- si la fonction arrive à passer les trois tests précédents, alors c'est qu'elle est correcte et elle s'arrête en renvoyant `True`."
   ]
  },
  {
   "cell_type": "code",
   "execution_count": 11,
   "metadata": {},
   "outputs": [],
   "source": [
    "def verifier_contenu(F, nb_rouge, nb_vert, nb_jaune):\n",
    "    rouge_reel = nb_elements(F, \"rouge\")\n",
    "    if rouge_reel > nb_rouge:\n",
    "        return False\n",
    "    \n",
    "    vert_reel = nb_elements(F, \"vert\")\n",
    "    if vert_reel > nb_vert:\n",
    "        return False\n",
    "    \n",
    "    jaune_reel = nb_elements(F, \"jaune\")\n",
    "    if jaune_reel > nb_jaune:\n",
    "        return False\n",
    "    \n",
    "    return True"
   ]
  }
 ],
 "metadata": {
  "interpreter": {
   "hash": "916dbcbb3f70747c44a77c7bcd40155683ae19c65e1c03b4aa3499c5328201f1"
  },
  "kernelspec": {
   "display_name": "Python 3.9.2 64-bit",
   "language": "python",
   "name": "python3"
  },
  "language_info": {
   "codemirror_mode": {
    "name": "ipython",
    "version": 3
   },
   "file_extension": ".py",
   "mimetype": "text/x-python",
   "name": "python",
   "nbconvert_exporter": "python",
   "pygments_lexer": "ipython3",
   "version": "3.9.2"
  },
  "orig_nbformat": 4
 },
 "nbformat": 4,
 "nbformat_minor": 2
}
