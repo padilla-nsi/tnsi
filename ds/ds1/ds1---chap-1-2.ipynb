{
 "cells": [
  {
   "cell_type": "markdown",
   "source": [
    "|||||||||\n",
    "|-|-:|-:|-:|-:|-:|-:|-:|\n",
    "||Réc.|Réc.|Interf.|Utiliser|Écrire|Créer|Dict.|\n",
    "||analyse|écrire|implém.|API|implem.|module||\n",
    "|Act. 1| /5 | /5 |  |  |  |  |  |\n",
    "|Act. 2| /5 |/5  |  |  |  |  |  |\n",
    "|Act. 3|  |  |  |  |  /5| /5 |  |\n",
    "|Act. 4|  |  |/5  | /5 |  |  |  |\n",
    "|Act. 5| /5 |  |  |  |  |  |  |\n",
    "|Act. 6|  |  |  |  |  | /5 |  |\n",
    "|Act. 7| /5 | /5 |  |  |  |  |  |\n",
    "|Act. 8|  |  | /5 |  |  |  |  |\n",
    "|Act. 9|  |  |  |  |  | /5 |  |\n",
    "|Act. 10|  |  |  |  |  |  | /5 |\n",
    "|Total| /20 |/15  | /10 | /5 | /5 | /15 | /5 |\n"
   ],
   "metadata": {}
  },
  {
   "cell_type": "markdown",
   "source": [
    "Une grenouille décide de monter un escalier. Quand elle saute, elle monte de 1 ou de 2 marches.\n",
    "\n",
    "1. **Détermine** le **nombre de chemins différents possibles** si l'escalier est composé d'une seule marche.\n",
    "2. Même question avec 2 marches, 3 marches et 4 marches.\n",
    "3. **Proposer** une formulation récursive d'une fonction $ch_p(m_r)$ calculant le nombre de chemins possibles en fonction du nombre de marches restantes ($m_r$).\n",
    "4. **Proposer** une implémentation en Python d'une telle fonction récursive."
   ],
   "metadata": {
    "tags": [
     "exo"
    ]
   }
  },
  {
   "cell_type": "markdown",
   "source": [
    "- **1 marche** : il n'y a qu'un seul chemin possible. Donc $nb_{chem}(1) = 1$.\n",
    "- **2 marches** : il y a deux façons de monter. Soit en un seul bond de 2 marches, soit en deux bonds d'une marche.  Donc $nb_{chem}(2) = 2$.\n",
    "- **3 marches** : Si la grenouille commence par un bond d'une seule marche, il lui reste 2 marches à gravir. Et donc elle a $nb_{chem}(2) = 2$ chemins possibles. Et si la grenouille commence par un bond de deux marches, il lui reste 1 marche à gravir et donc $nb_{chem}(1) = 1$ chemin possible. Au final, on a donc $nb_{chem}(3) = 2 + 1 = 3$.\n",
    "- **4 marches** : Avec un raisonnement analogue, on obtient que $nb_{chem}(4) = 3 + 2 = 5$. En effet :\n",
    "  - si le premier bond est d'une marche, il reste 3 marches à gravir. Et donc $nb_{chem}(3) = 3$ chemins possibles dans ce cas.\n",
    "  - Sinon le premier bond est de deux marches et il reste alors 2 marches à gravir. Et donc $nb_{chem}(2) = 2 $ chemins possibles dans ce cas.\n",
    "  - Au final, cela donne bien $3+2$ chemins possibles\n",
    "\n",
    "$$\n",
    "ch_p (m_r) = \\left\\{\n",
    "  \\begin{array}{ll}\n",
    "    1 & \\text{si $m_r = 1$ } \\\\\n",
    "    2 & \\text{si $m_r = 2$ } \\\\\n",
    "    ch_p(m_r - 1) + ch_p(m_r - 2) & \\text{si $m_r > 2$} \\\\\n",
    "  \\end{array}\n",
    "\\right.\n",
    "$$\n",
    "\n",
    "```python\n",
    "def ch_p(m_r):\n",
    "  if m_r == 1:\n",
    "      return 1\n",
    "  elif m_r == 2:\n",
    "      return 2\n",
    "  else:\n",
    "      return ch_p(m_r - 1) + ch_p(m_r - 2)\n",
    "```"
   ],
   "metadata": {
    "tags": [
     "cacher",
     "solution"
    ]
   }
  },
  {
   "cell_type": "markdown",
   "source": [
    "John McCarthy a inventé la fonction $f_{91}(n)$ définie par :\n",
    "\n",
    "$$\n",
    "f_{91}(n) = \\left\\{\n",
    "\\begin{array}{ll}\n",
    "    n-10 &\\text{si $n>100$}, \\\\\n",
    "    f_{91} \\big( f_{91} (n + 11) \\big ) &\\text{si $n \\leq 100$}.\n",
    "\\end{array}\n",
    "\\right.\n",
    "$$\n",
    "\n",
    "1. **Calcule** $f_{91}(101)$, $f_{91}(100)$, $f_{91}(98)$ et $f_{91}(91)$.\n",
    "2. **Propose** une implémentation de cette fonction."
   ],
   "metadata": {
    "tags": [
     "exo"
    ]
   }
  },
  {
   "cell_type": "markdown",
   "source": [
    "$$\n",
    "\\begin{array}{clcl}\n",
    "& f_{91}(101) & = & 91 \\\\\n",
    "\\\\\n",
    "& f_{91}(100) & = & f_{91}(f_{91}(111))\\\\\n",
    "= &f_{91}(101) &= &91 \\\\\n",
    "\\\\\n",
    "  &f_{91}(98)  &= &f_{91}(f_{91}(109)) \\\\\n",
    "= &f_{91}(99)  &= &f_{91}(f_{91}(110)) \\\\\n",
    "= &f_{91}(100) &= 91 \\\\\n",
    "\\\\\n",
    "  &f_{91}(91)  &= &f_{91}(f_{91}(102)) \\\\\n",
    "= &f_{91}(92)  &= &f_{91}(f_{91}(103))\\\\\n",
    "= &f_{91}(93)  &= &f_{91}(f_{91}(104))\\\\\n",
    "= &f_{91}(94)  &= &f_{91}(f_{91}(105))\\\\\n",
    "= &f_{91}(95)  &= &f_{91}(f_{91}(106))\\\\\n",
    "= &f_{91}(96)  &= &f_{91}(f_{91}(107))\\\\\n",
    "= &f_{91}(97)  &= &f_{91}(f_{91}(108))\\\\\n",
    "= &f_{91}(98)  &= &f_{91}(f_{91}(109))\\\\\n",
    "= &f_{91}(99)  &= &f_{91}(f_{91}(110))\\\\\n",
    "= &f_{91}(100) &= &f_{91}(f_{91}(111))\\\\\n",
    "= &f_{91}(101) &= &91\n",
    "\\end{array}\n",
    "$$\n",
    "\n",
    " \n",
    "```python\n",
    "def f91(n):\n",
    "    if n > 100:\n",
    "        return n-10\n",
    "    else:\n",
    "        return f91(f91(n+11))\n",
    "```\n"
   ],
   "metadata": {
    "tags": [
     "cacher",
     "solution"
    ]
   }
  },
  {
   "cell_type": "markdown",
   "source": [
    "Voici l'interface minimale pour une structure de tableau redimensionnable  `tab_redim` :\n",
    "\n",
    "|fonction |description|\n",
    "|-|-|\n",
    "`cree()` | crée et renvoie un tableau vide (équivalent à `[]`)\n",
    "`lit(tr,i)` | renvoie l'élément de `tr` à l'indice `i` (équivalent à `tr[i]`)\n",
    "`ecrit(tr,i,x)` | place la valeur `x` dans la case d'indice `i` du tableau `tr` (équivalent à `tr[i] = x`)\n",
    "`ajoute(tr,x)` | ajoute le nouvel élément `x` au tableau `tr`, après ses éléments actuels (équivalent à `tr.append(x)`)\n",
    "\n",
    "On décide de représenter un tableau redimensionnable `tr` de $n$ éléments par un dictionnaire contenant (1) d'une part le nombre `'n'` appelé *taille* et (2) d'autre part un tableau `'t'` de longueur supérieure ou égale à $n$ appelée *capacité*.\n",
    "\n",
    "Les $n$ éléments sont stockés dans les cases d'indices $0$ à $n-1$. Les autres cases de `t` contiennent `None`.\n",
    "\n",
    "**Propose** une implémentation du module `tab_redim`."
   ],
   "metadata": {
    "tags": [
     "exo"
    ]
   }
  },
  {
   "cell_type": "code",
   "execution_count": 56,
   "source": [
    "def cree():\n",
    "    return {'n':0, 't':[None]*8} \n",
    "\n",
    "\n",
    "def lit(tr, i):\n",
    "    return tr['t'][i]\n",
    "\n",
    "\n",
    "def ecrit(tr, i, x):\n",
    "    tr['t'][i] = x\n",
    "\n",
    "\n",
    "def _ajoute_aux(tr,x):\n",
    "    i = tr['n']\n",
    "    tr['t'][i] = x\n",
    "    tr['n'] += 1\n",
    "\n",
    "\n",
    "def _double(tr):\n",
    "    tmp = [None] * (tr['n']*2)\n",
    "    for i in range(tr['n']):\n",
    "        tmp[i] = tr['t'][i]\n",
    "    tr['t'] = tmp\n",
    "\n",
    "\n",
    "def ajoute(tr, x):\n",
    "    capacite = len(tr['t'])\n",
    "    if tr['n'] >= capacite:\n",
    "        _double(tr)\n",
    "    _ajoute_aux(tr, x)\n"
   ],
   "outputs": [],
   "metadata": {
    "tags": [
     "solution",
     "cacher"
    ]
   }
  },
  {
   "cell_type": "markdown",
   "source": [
    "Dans ton programme `projet.py`, tu souhaites utiliser les fonctions `affiche` et `est_entier` de ton module personnel. Tout le code de ton module personnel est dans un fichier nommé  `perso.py` qui est situé dans le même répertoire que ton programme.\n",
    "\n",
    "1. **Indique** la/les instructions permettant de te donner accès aux deux fonctions.\n",
    "2. Tu souhaites initialiser la variable `tirage` avec un nombre aléatoire pris entre 100 et 1000 inclus. **Indique** la/les instructions permettant de réaliser cela.\n",
    "3. Tu souhaites notifier l’utilisation d’une erreur de nom de variable inexistante et affichant le texte *\"Désolé, la variable a été effacée\"*. **Indique** la/les instructions permettant de réaliser cela.\n"
   ],
   "metadata": {
    "tags": [
     "exo"
    ]
   }
  },
  {
   "cell_type": "markdown",
   "source": [
    "```python\n",
    "from perso import affiche, est_entier\n",
    "```"
   ],
   "metadata": {
    "tags": [
     "cacher",
     "solution"
    ]
   }
  },
  {
   "cell_type": "markdown",
   "source": [
    "Il faut utiliser la fonction `randint` du module `random`. Pour cela il faut d'abord importer la fonction avec `from random import randint`. \n",
    "\n",
    "Puis on peut procéder à l'affectation : `tirage = randint(100,1000)`."
   ],
   "metadata": {
    "tags": [
     "cacher",
     "solution"
    ]
   }
  },
  {
   "cell_type": "code",
   "execution_count": null,
   "source": [
    "raise IndexError(\"Désolé, la variable a été effacée\")"
   ],
   "outputs": [],
   "metadata": {
    "tags": [
     "cacher",
     "solution"
    ]
   }
  },
  {
   "cell_type": "markdown",
   "source": [
    "**Indique** les constituants d'une fonction récursive."
   ],
   "metadata": {
    "tags": [
     "exo"
    ]
   }
  },
  {
   "cell_type": "markdown",
   "source": [
    "Une formulation récursive est constituée par :\n",
    "\n",
    "* un ou des **cas de base** (on n'a pas besoin d'appeler la fonction)\n",
    "* des **cas récursifs** (on a besoin d'appeler la fonction)"
   ],
   "metadata": {
    "tags": [
     "solution",
     "cacher"
    ]
   }
  },
  {
   "cell_type": "markdown",
   "source": [
    "**En quoi** consiste la *factorisation* de code ? **Donne** en trois avantages."
   ],
   "metadata": {
    "tags": [
     "exo"
    ]
   }
  },
  {
   "cell_type": "markdown",
   "source": [
    "La factorisation de code consiste à extraire des éléments de code dans des variables ou des fonctions annexes.\n",
    "\n",
    "Trois avantages :\n",
    "\n",
    "- pour **changer le mode de représentation** des dates, il ne faut plus changer `contient_doublon()`\n",
    "- l'ensemble de dates peut être **réutilisés** dans d'autres programmes\n",
    "- il y a **séparation** entre le programme qui utilise les dates et les programmes qui définissent comment sont programmées en interne ces dates."
   ],
   "metadata": {
    "tags": [
     "cacher",
     "solution"
    ]
   }
  },
  {
   "cell_type": "markdown",
   "source": [
    "**Donne** les définitions récursives et **propose** les implémentations en Python de la fonction mathématique $somme(n)$ qui associe à $n$ la somme des $n$ premiers nombres entiers et de la fonction $puissance(x,n)$ qui aux nombres entiers $x$ et $n$ associe le nombre $x^n$."
   ],
   "metadata": {
    "tags": [
     "exo"
    ]
   }
  },
  {
   "cell_type": "markdown",
   "source": [
    "\n",
    "$$\n",
    "somme(n) = \\left\\{\n",
    "    \\begin{array}{ll}\n",
    "        0 & \\text{si }n=0 \\\\\n",
    "        somme (n-1) + n & \\text{si }n>0 \n",
    "    \\end{array}\n",
    "\\right.\n",
    "$$\n",
    "\n",
    "```python\n",
    "\n",
    "def somme(n):\n",
    "    if n==0:\n",
    "        return 0\n",
    "    else:\n",
    "        return n + somme(n-1)\n",
    "```"
   ],
   "metadata": {
    "tags": [
     "solution",
     "cacher"
    ]
   }
  },
  {
   "cell_type": "markdown",
   "source": [
    "$$\n",
    "puissance(x,n) = \\left\\{\n",
    "    \\begin{array}{ll}\n",
    "        1 & \\text{si $n=0$} \\\\\n",
    "        x \\times puissance(x, n-1) & \\text{si $n>0$}\n",
    "    \\end{array}\n",
    "\\right.\n",
    "$$\n",
    "\n",
    "```python\n",
    "def puissance(x,n):\n",
    "    if n == 0:\n",
    "        return 1\n",
    "    else:\n",
    "        return x * puissance(x,n-1)\n",
    "``` "
   ],
   "metadata": {
    "tags": [
     "cacher",
     "solution"
    ]
   }
  },
  {
   "cell_type": "markdown",
   "source": [
    "On dit que dans un module on distingue *implémentation* et *interface*. \n",
    "**Donne** une définition/explication de ces deux termes."
   ],
   "metadata": {
    "tags": [
     "exo"
    ]
   }
  },
  {
   "cell_type": "markdown",
   "source": [
    "Pour chaque module, on distingue :\n",
    "\n",
    "- son **implémentation** : c'est-à-dire le code lui même et \n",
    "- son **interface**, consistant en une énumération des fonctions définies dans le module qui sont destinées à être utilisées dans la réalisation d'autres modules, appelés *clients*."
   ],
   "metadata": {
    "tags": [
     "cacher",
     "solution"
    ]
   }
  },
  {
   "cell_type": "markdown",
   "source": [
    "**Donne** cinq exemples d'exceptions en Python. \n",
    "\n",
    "**Indique** à quoi servent les mots clés `try` et `except` et **donne** un exemple d'utilisation et précise ce que fait ton code."
   ],
   "metadata": {
    "tags": [
     "exo"
    ]
   }
  },
  {
   "cell_type": "markdown",
   "source": [
    "Par exemple, voici les exceptions classiques en Python :\n",
    "\n",
    "|exception|contexte|\n",
    "|-|-|\n",
    "| `NameError` | accès à une variable inexistante\n",
    "`IndexError`| accès à un indice invalide dans un tableau\n",
    "`KeyError` | accès à une clé inexistante d'un dictionnaire\n",
    "`ZeroDivisionError` | division par zéro\n",
    "`TypeError` | opération appliquée à des valeurs incompatibles"
   ],
   "metadata": {
    "tags": [
     "cacher",
     "solution"
    ]
   }
  },
  {
   "cell_type": "markdown",
   "source": [
    "Les mots clés `try` et `except` servent à rattraper une exception.\n",
    "\n",
    "Dans l'exemple suivant, si l'utilisateur saisit une date autre qu'un nombre entier, on rattrape l'exception  `ValueError` et on indique que la date est invalide.\n",
    "\n",
    "```python\n",
    "try:\n",
    "    x = int(input(\"Entrer une date\"))\n",
    "except ValueError:\n",
    "    print(\"Prière de saisir un entier valide\")\n",
    "```"
   ],
   "metadata": {
    "tags": [
     "cacher",
     "solution"
    ]
   }
  },
  {
   "cell_type": "markdown",
   "source": [
    "**Indique** l'intérêt d'une table de hachage et **précise** en quelques lignes le fonctionnement général d'une table de hachage."
   ],
   "metadata": {
    "tags": [
     "exo"
    ]
   }
  },
  {
   "cell_type": "markdown",
   "source": [
    "Une table de hachage permet une recherche très efficace de valeurs tout en occupant un espace mémoire raisonnable.\n",
    "\n",
    "Une table de hachage est un tableau constitué d'un certain nombre de paquets. Chaque paquet peut recevoir plusieurs valeurs, mais l'algorithme fait en sorte que ce nombre de valeur reste faible. Pour cela, dès que la table possède autant de valeurs que son nombre de paquet, la capacité de la table de hachage double et les valeurs précédemment présentes sont réparties parmi les paquets.\n",
    "\n",
    "La fonction de hachage permet une répartition aléatoire des valeurs parmi les paquets ce qui garanti qu'en moyenne il y a très peu de valeurs par paquets."
   ],
   "metadata": {
    "tags": [
     "cacher",
     "solution"
    ]
   }
  }
 ],
 "metadata": {
  "celltoolbar": "Tags",
  "interpreter": {
   "hash": "916dbcbb3f70747c44a77c7bcd40155683ae19c65e1c03b4aa3499c5328201f1"
  },
  "kernelspec": {
   "display_name": "Python 3",
   "language": "python",
   "name": "python3"
  },
  "latex_metadata": {
   "theme": "ds",
   "title": "Devoir Surveillé 1"
  },
  "rise": {
   "theme": "serif"
  }
 },
 "nbformat": 4,
 "nbformat_minor": 5
}