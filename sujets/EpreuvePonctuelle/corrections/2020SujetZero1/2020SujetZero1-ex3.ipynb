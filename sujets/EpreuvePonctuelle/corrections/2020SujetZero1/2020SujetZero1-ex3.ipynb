{
 "cells": [
  {
   "cell_type": "markdown",
   "metadata": {
    "slideshow": {
     "slide_type": "slide"
    }
   },
   "source": [
    "# Sujet Zéro 1"
   ]
  },
  {
   "cell_type": "markdown",
   "metadata": {},
   "source": [
    "## Exercice 3"
   ]
  },
  {
   "cell_type": "markdown",
   "metadata": {
    "slideshow": {
     "slide_type": "slide"
    }
   },
   "source": [
    "**Question 1** La *taille* de l'arbre est égale au nombre de nœuds et vaut 9.\n",
    "La *hauteur* correspond au nombre de nœuds traversés entre la racine (incluse) et la plus éloignée des feuilles (incluse). Elle vaut 4."
   ]
  },
  {
   "cell_type": "markdown",
   "metadata": {
    "slideshow": {
     "slide_type": "slide"
    }
   },
   "source": [
    "**Question 2.1** Avant de déterminer le code de G, il faut déterminer le code de son parent D.\n",
    "\n",
    "* D est enfant droit de $B: 10$ donc son code se termine par $1$. Donc $D: 101$.\n",
    "* G est enfant gauche de $D: 101$ donc son code se termine par $0$. Donc $G: 1010$."
   ]
  },
  {
   "cell_type": "markdown",
   "metadata": {
    "slideshow": {
     "slide_type": "slide"
    }
   },
   "source": [
    "**Question 2.2** Commençons par convertir 13 en binaire."
   ]
  },
  {
   "cell_type": "markdown",
   "metadata": {
    "slideshow": {
     "slide_type": "subslide"
    }
   },
   "source": [
    "1ère méthode : les divisions euclidiennes\n",
    "\n",
    "* 13 ÷ 2 = 6 et reste `1`\n",
    "* 6 ÷ 2 = 3 et reste `0`\n",
    "* 3 ÷ 2 = 1 et reste `1`\n",
    "* 1 ÷ 2 = 0 et reste `1`\n",
    "\n",
    "le codage binaire se retrouve en relevant les restes en commençant par la fin :\n",
    "\n",
    "$$13_{10} = 1101_2$$"
   ]
  },
  {
   "cell_type": "markdown",
   "metadata": {
    "slideshow": {
     "slide_type": "subslide"
    }
   },
   "source": [
    "2ème méthode : la décomposition en puissance de 2\n",
    "\n",
    "$$13 = 8 + 4 + 1 = \\texttt{1} × 2^3 + \\texttt{1} × 2^2 + \\texttt{0} × 2^1 + \\texttt{1} × 2^0$$\n",
    "\n",
    "ce qui s'écrit aussi :\n",
    "\n",
    "|bit|3|2|1|0|\n",
    "|:-:|:-:|:-:|:-:|:-:|\n",
    "|puissance|$2^3$|$2^2$|$2^1$|$2^1$|\n",
    "|puissance|8|4|2|1|\n",
    "|13|`1`|`1`|`0`|`1`|"
   ]
  },
  {
   "cell_type": "markdown",
   "metadata": {},
   "source": [
    "Le nœud cherché a pour code $1101$. C'est donc l'enfant droit de $F: 110$. C'est donc le nœud I."
   ]
  },
  {
   "cell_type": "markdown",
   "metadata": {
    "slideshow": {
     "slide_type": "slide"
    }
   },
   "source": [
    "**Question 2.3** On remarque que :\n",
    "\n",
    "* le nœud de hauteur 1 se code sur 1 bit\n",
    "* le nœud de hauteur 2 se code sur 2 bit\n",
    "* le nœud de hauteur 3 se code sur 3 bit\n",
    "* le nœud de hauteur 4 se code sur 4 bit\n",
    "* ...\n",
    "* le nœud de hauteur $h$ se code sur $h$ bit"
   ]
  },
  {
   "cell_type": "markdown",
   "metadata": {
    "slideshow": {
     "slide_type": "subslide"
    }
   },
   "source": [
    "Ce résultat se montre par récurrence : \n",
    "\n",
    "1. **Hypothèse**: *les nœuds de hauteurs $h$ sont numérotés sur $h$ bits.*\n",
    "2. **Cas de base**: soit $h=1$. L'hypothèse est **vraie** puisque le nœud de hauteur 1 se code sur 1 bit."
   ]
  },
  {
   "cell_type": "markdown",
   "metadata": {
    "slideshow": {
     "slide_type": "subslide"
    }
   },
   "source": [
    "3. **Cas récursif** :\n",
    "   * Supposons que l'*hypothèse soit vraie pour les nœuds de hauteur $h$* et montrons qu'elle est vraie pour les nœuds de hauteurs $h+1$.\n",
    "   * Soit $N$ un nœud de hauteur $h+1$. Que $N$ soit un enfant gauche ou un enfant droit, il s'écrit avec 1 bit de plus que son parent.\n",
    "   * Or le parent est un nœud de hauteur $h$, donc *Par hypothèse* : le parent s'écrit avec $h$ bits.\n",
    "   * Donc $N$ s'écrit sur $h+1$ bits.\n",
    "   * Donc l'*hypothèse soit vraie pour les nœuds de hauteur $h+1$*."
   ]
  },
  {
   "cell_type": "markdown",
   "metadata": {
    "slideshow": {
     "slide_type": "slide"
    }
   },
   "source": [
    "**Question 2.4** Soit un arbre de hauteur *h* et de taille *n*.\n",
    "\n",
    "1. Puisque la hauteur est le nombre de nœud du plus long chemin entre la racine et une feuille, l'arbre possède plus de nœuds que la hauteur. Donc $$h \\leq n.$$\n",
    "2. Montrons la deuxième inégalité en utilisant la question précédente.\n",
    "   * Le nombre de nœuds $n$ est inférieure ou égal à la numérotation de sa feuille la plus à droite. \n",
    "   * Or cette numérotation est codée sur $h$ bits puisque la feuille est de hauteur $h$.\n",
    "   * Donc $n$ est inférieure ou égal au plus nombre codable sur $h$ bits : $n \\leq \\overbrace{\\texttt{11...111}}^{\\text{h bits}}$\n",
    "   * Ce qui donne :"
   ]
  },
  {
   "cell_type": "markdown",
   "metadata": {
    "slideshow": {
     "slide_type": "subslide"
    }
   },
   "source": [
    "$$\n",
    "\\begin{array}{rclcl}\n",
    "   n & \\leq & {\\overbrace{\\texttt{11...111}}^{\\text{h bits}}}_2\\\\\n",
    "   n & \\leq & {\\overbrace{\\texttt{11...111}}^{\\text{h bits}}}_2 + 1 & - & 1 \\\\\n",
    "   n & \\leq & {\\texttt{1}\\overbrace{\\texttt{00...000}}^{\\text{h bits}}}_2 & - & 1\\\\\n",
    "   n & \\leq & 2^h  &-& 1\n",
    "\\end{array}\n",
    "$$\n",
    "\n",
    "On a bien montré l'inégalité de l'énoncé."
   ]
  },
  {
   "cell_type": "markdown",
   "metadata": {
    "slideshow": {
     "slide_type": "slide"
    }
   },
   "source": [
    "**Question 3.1** On obtient le tableau suivant :\n",
    "\n",
    "| 0 | 1 | 2 | 3 | 4 | 5 | 6 | 7 | 8 | 9 | 10| 11| 12| 13| 14| 15|\n",
    "|:-:|:-:|:-:|:-:|:-:|:-:|:-:|:-:|:-:|:-:|:-:|:-:|:-:|:-:|:-:|:-:|\n",
    "| 15| A | B | C | D | E | F | G | H | I | J | K | L | M | N | O |"
   ]
  },
  {
   "cell_type": "markdown",
   "metadata": {
    "slideshow": {
     "slide_type": "slide"
    }
   },
   "source": [
    "**Question 3.2** Le parent du nœud $i$ a pour indice le quotient de la division euclidienne de i par 2 : `i // 2`."
   ]
  },
  {
   "cell_type": "markdown",
   "metadata": {
    "slideshow": {
     "slide_type": "slide"
    }
   },
   "source": [
    "**Question 4**"
   ]
  },
  {
   "cell_type": "markdown",
   "metadata": {},
   "source": [
    "Voici une proposition avec une boucle `while`."
   ]
  },
  {
   "cell_type": "code",
   "execution_count": 1,
   "metadata": {
    "slideshow": {
     "slide_type": "subslide"
    }
   },
   "outputs": [
    {
     "data": {
      "text/plain": [
       "False"
      ]
     },
     "execution_count": 1,
     "metadata": {},
     "output_type": "execute_result"
    }
   ],
   "source": [
    "def recherche(arbre: list, element):\n",
    "    n = arbre[0]\n",
    "\n",
    "    # BOUCLE\n",
    "    # invariant\n",
    "    #  -> element n'appartient pas à arbre[1 .. i-1]\n",
    "    #\n",
    "    # initialisation\n",
    "    #  -> i = 1\n",
    "    i = 1\n",
    "\n",
    "    # condition d'arrêt\n",
    "    #  -> i déborde du tableau: i > n\n",
    "    while not (i > n):\n",
    "        # si on trouve element, on arrête la recherche\n",
    "        if arbre[i] == element:\n",
    "            return True\n",
    "        i = i + 1\n",
    "    \n",
    "    # si on arrive là, l'invariant est vérifié\n",
    "    # et tout le tableau a été exploré :\n",
    "    #  => element n'y est pas\n",
    "    return False\n",
    "\n",
    "\n",
    "arbre = [10, 42, 43, 44, None, 46, 47, 48, None, None, 51]\n",
    "recherche(arbre, 52)"
   ]
  }
 ],
 "metadata": {
  "celltoolbar": "Diaporama",
  "interpreter": {
   "hash": "767d51c1340bd893661ea55ea3124f6de3c7a262a8b4abca0554b478b1e2ff90"
  },
  "kernelspec": {
   "display_name": "Python 3",
   "language": "python",
   "name": "python3"
  },
  "language_info": {
   "codemirror_mode": {
    "name": "ipython",
    "version": 3
   },
   "file_extension": ".py",
   "mimetype": "text/x-python",
   "name": "python",
   "nbconvert_exporter": "python",
   "pygments_lexer": "ipython3",
   "version": "3.9.2"
  },
  "latex_metadata": {
   "theme": "ds",
   "title": "Correction -sujet zéro 1 - ex3"
  }
 },
 "nbformat": 4,
 "nbformat_minor": 2
}
