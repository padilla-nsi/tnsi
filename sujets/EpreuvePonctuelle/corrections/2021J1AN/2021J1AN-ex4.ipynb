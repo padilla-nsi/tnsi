{
 "cells": [
  {
   "cell_type": "markdown",
   "metadata": {
    "slideshow": {
     "slide_type": "slide"
    }
   },
   "source": [
    "# 2021 - J1 - Amérique du Nord"
   ]
  },
  {
   "cell_type": "markdown",
   "metadata": {
    "slideshow": {
     "slide_type": "-"
    }
   },
   "source": [
    "## Exercice 4"
   ]
  },
  {
   "cell_type": "markdown",
   "metadata": {
    "slideshow": {
     "slide_type": "slide"
    }
   },
   "source": [
    "![](./2021J1AN-ex4-img-arbre.png)"
   ]
  },
  {
   "cell_type": "markdown",
   "metadata": {
    "slideshow": {
     "slide_type": "slide"
    }
   },
   "source": [
    "**1.(a)** Indiquer la racine de cet arbre."
   ]
  },
  {
   "cell_type": "markdown",
   "metadata": {
    "slideshow": {
     "slide_type": "fragment"
    }
   },
   "source": [
    "La racine de cet arbre vaut `\"Lea\"`."
   ]
  },
  {
   "cell_type": "markdown",
   "metadata": {
    "slideshow": {
     "slide_type": "subslide"
    }
   },
   "source": [
    "**1.(a) (suite)**  Donner l’ensemble des valeurs des feuilles de cet arbre."
   ]
  },
  {
   "cell_type": "markdown",
   "metadata": {
    "slideshow": {
     "slide_type": "fragment"
    }
   },
   "source": [
    "Il y a 8 feuilles : `\"Marc\", \"Lea\", \"Claire\", \"Theo\", \"Marie\", \"Louis\", \"Anne\", \"Kevin\"`."
   ]
  },
  {
   "cell_type": "markdown",
   "metadata": {
    "slideshow": {
     "slide_type": "subslide"
    }
   },
   "source": [
    "**1.(b)** Proposer une fonction Python `vainqueur` prenant pour argument un arbre de compétition `arb` ayant au moins un joueur. Cette fonction doit renvoyer la chaîne de caractères constituée du nom du vainqueur du tournoi.\n",
    "\n",
    "Exemple : `vainqueur(B) vaut \"Lea\"`"
   ]
  },
  {
   "cell_type": "code",
   "execution_count": 1,
   "metadata": {
    "slideshow": {
     "slide_type": "fragment"
    }
   },
   "outputs": [],
   "source": [
    "def vainqueur(arb):\n",
    "    return racine(arb)"
   ]
  },
  {
   "cell_type": "markdown",
   "metadata": {
    "slideshow": {
     "slide_type": "subslide"
    }
   },
   "source": [
    "**1.(c)** Proposer une fonction Python `finale` prenant pour argument un arbre de compétition `arb` ayant au moins deux joueurs. Cette fonction doit renvoyer le tableau des deux chaînes\n",
    "de caractères qui sont les deux compétiteurs finalistes.\n",
    "\n",
    "Exemple : `finale(B) vaut [\"Lea\", \"Louis\"`"
   ]
  },
  {
   "cell_type": "code",
   "execution_count": 3,
   "metadata": {
    "slideshow": {
     "slide_type": "subslide"
    }
   },
   "outputs": [],
   "source": [
    "def finale(arb):\n",
    "    arbre_gauche = gauche(arb)\n",
    "    finaliste_gauche = vainqueur(arbre_gauche)\n",
    "\n",
    "    arbre_droit = droit(arb)\n",
    "    finaliste_droit = vainqueur(arbre_droit)\n",
    "\n",
    "    return [finaliste_gauche, finaliste_droit]"
   ]
  },
  {
   "cell_type": "markdown",
   "metadata": {
    "slideshow": {
     "slide_type": "slide"
    }
   },
   "source": [
    "**2.(a)** Proposer une fonction Python `occurrences` ayant pour paramètre un arbre de compétition `arb` et le nom d’un joueur `nom` et qui renvoie le nombre d’occurrences (d’apparitions) du joueur `nom` dans l’arbre de compétition `arb`.\n",
    "\n",
    "Exemple : `occurences(B, \"Anne\") vaut 2.`"
   ]
  },
  {
   "cell_type": "markdown",
   "metadata": {
    "slideshow": {
     "slide_type": "subslide"
    }
   },
   "source": [
    "On va utiliser une fonction récursive. C'est plus simple !\n",
    "\n",
    "Le cas de base d'un arbre, c'est l'arbre vide. Et là, l'occurrence est toujours égale à 0\n",
    "\n",
    "Sinon, le nombre d'occurrences est égal à la somme du nombre d'occurrences du sous arbre gauche, du nombre d'occurrence du sous-arbre droit. On ajoute 1 si la racine est égale au nom recherché."
   ]
  },
  {
   "cell_type": "code",
   "execution_count": 4,
   "metadata": {
    "slideshow": {
     "slide_type": "subslide"
    }
   },
   "outputs": [],
   "source": [
    "def occurrences(arb, nom):\n",
    "    # cas de base : l'arbre vide\n",
    "    if est_vide(arb):\n",
    "        return 0\n",
    "    \n",
    "    # cas récursif\n",
    "    nb_occurences = 0\n",
    "    \n",
    "    nb_occ_gauche = occurrences(gauche(arb), nom)\n",
    "    nb_occurences += nb_occ_gauche\n",
    "\n",
    "    nb_occ_droite = occurrences(droit(arb), nom)\n",
    "    nb_occurences += nb_occ_droite\n",
    "\n",
    "    if racine(arb) == nom:\n",
    "        nb_occurences += 1\n",
    "    \n",
    "    return nb_occurences"
   ]
  },
  {
   "cell_type": "markdown",
   "metadata": {
    "slideshow": {
     "slide_type": "subslide"
    }
   },
   "source": [
    "**2.(b)** Proposer une fonction Python `a_gagne` prenant pour paramètres un arbre de compétition `arb` et le nom d’un joueur `nom` et qui renvoie le booléen `True` si le joueur `nom` a gagné au moins un match dans la compétition représenté par l’arbre de compétition `arb`.\n",
    "\n",
    "Exemple : `a_gagne(B,\"Louis\") vaut True`"
   ]
  },
  {
   "cell_type": "markdown",
   "metadata": {
    "slideshow": {
     "slide_type": "subslide"
    }
   },
   "source": [
    "Il suffit d'utiliser la fonction précédente `occurrences` qui nous permet de répondre facilement à cette question.\n",
    "\n",
    "Une personne a au moins une victoire si son nom apparaît au moins 2 fois dans l'arbre !"
   ]
  },
  {
   "cell_type": "code",
   "execution_count": 5,
   "metadata": {
    "slideshow": {
     "slide_type": "fragment"
    }
   },
   "outputs": [],
   "source": [
    "def a_gagne(arb, nom):\n",
    "    return occurrences(arb, nom) > 1"
   ]
  },
  {
   "cell_type": "markdown",
   "metadata": {
    "slideshow": {
     "slide_type": "slide"
    }
   },
   "source": [
    "**3.(a)** Expliquer pourquoi les instructions suivantes renvoient une valeur erronée. On pourra pour cela identifier le noeud de l’arbre qui provoque une erreur. "
   ]
  },
  {
   "cell_type": "code",
   "execution_count": 11,
   "metadata": {},
   "outputs": [],
   "source": [
    "def nombre_matchs(arb, nom):\n",
    "    \"\"\" arbre_competition , str -> int \"\"\"\n",
    "    return occurrences (arb , nom)"
   ]
  },
  {
   "cell_type": "markdown",
   "metadata": {
    "slideshow": {
     "slide_type": "subslide"
    }
   },
   "source": [
    "Cette fonction est correcte pour tout le monde, sauf pour le vainqueur du tournois. En effet, le vainqueur a son nom qui apparaît une fois de plus, à la racine de l'arbre."
   ]
  },
  {
   "cell_type": "markdown",
   "metadata": {
    "slideshow": {
     "slide_type": "subslide"
    }
   },
   "source": [
    "**3.(b)** Proposer une correction pour la fonction `nombre_matchs`."
   ]
  },
  {
   "cell_type": "code",
   "execution_count": 10,
   "metadata": {
    "slideshow": {
     "slide_type": "subslide"
    }
   },
   "outputs": [],
   "source": [
    "def nombre_matchs(arb, nom):\n",
    "    \"\"\" arbre_competition , str -> int \"\"\"\n",
    "    nb_occurences = occurrences(arb, nom)\n",
    "\n",
    "    if nom != vainqueur(arb):\n",
    "        return nb_occurences\n",
    "    else:\n",
    "        return nb_occurences - 1"
   ]
  },
  {
   "cell_type": "markdown",
   "metadata": {
    "slideshow": {
     "slide_type": "slide"
    }
   },
   "source": [
    "**4.** Recopier et compléter la fonction `liste_joueurs` qui prend pour argument un arbre de compétition `arb` et qui renvoie un tableau contenant les participants au tournoi, chaque nom ne devant figurer qu’une seule fois dans le tableau.\n",
    "\n",
    "L’opération + à la ligne 8 permet de concaténer deux tableaux.\n",
    "\n",
    "Exemple : Si `L1 = [4, 6, 2]` et `L2 = [3, 5, 1]`, l’instruction `L1 + L2` va renvoyer le tableau `[4, 6, 2, 3, 5, 1]`."
   ]
  },
  {
   "cell_type": "code",
   "execution_count": 9,
   "metadata": {
    "slideshow": {
     "slide_type": "subslide"
    }
   },
   "outputs": [],
   "source": [
    "def liste_joueurs(arb):\n",
    "    \"\"\" arbre_competition -> tableau \"\"\"\n",
    "    if est_vide(arb):\n",
    "        return ...\n",
    "    elif ... and ... :\n",
    "        return [racine(arb)]\n",
    "    else :\n",
    "        return ...+ liste_joueurs(droit(arb))"
   ]
  },
  {
   "cell_type": "code",
   "execution_count": 12,
   "metadata": {
    "slideshow": {
     "slide_type": "subslide"
    }
   },
   "outputs": [],
   "source": [
    "def liste_joueurs(arb):\n",
    "    \"\"\" arbre_competition -> tableau \"\"\"\n",
    "    # cas de base : arbre vide\n",
    "    if est_vide(arb):\n",
    "        # aucun nom à renvoyer\n",
    "        return []\n",
    "    \n",
    "    # cas de la feuille\n",
    "    elif est_vide(gauche(arb)) and est_vide(droit(arb)) :\n",
    "        return [racine(arb)]\n",
    "    \n",
    "    # cas d'un nœud : il faut descendre plus bas dans l'arbre\n",
    "    else :\n",
    "        return liste_joueurs(droit(arb)) + liste_joueurs(droit(arb))"
   ]
  }
 ],
 "metadata": {
  "celltoolbar": "Diaporama",
  "interpreter": {
   "hash": "916dbcbb3f70747c44a77c7bcd40155683ae19c65e1c03b4aa3499c5328201f1"
  },
  "kernelspec": {
   "display_name": "Python 3",
   "language": "python",
   "name": "python3"
  },
  "language_info": {
   "codemirror_mode": {
    "name": "ipython",
    "version": 3
   },
   "file_extension": ".py",
   "mimetype": "text/x-python",
   "name": "python",
   "nbconvert_exporter": "python",
   "pygments_lexer": "ipython3",
   "version": "3.9.2"
  },
  "latex_metadata": {
   "theme": "ds",
   "title": "Correction - 2021J1AN - ex4"
  }
 },
 "nbformat": 4,
 "nbformat_minor": 2
}
