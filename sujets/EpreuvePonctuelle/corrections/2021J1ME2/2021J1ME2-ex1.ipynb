{
 "cells": [
  {
   "cell_type": "markdown",
   "metadata": {
    "slideshow": {
     "slide_type": "slide"
    }
   },
   "source": [
    "# 2021 - J1 - Métropole 2"
   ]
  },
  {
   "cell_type": "markdown",
   "metadata": {
    "slideshow": {
     "slide_type": "-"
    }
   },
   "source": [
    "## Exercice 1"
   ]
  },
  {
   "cell_type": "markdown",
   "metadata": {
    "slideshow": {
     "slide_type": "slide"
    }
   },
   "source": [
    "1 -  La relation `Role` possède une clé primaire composée du triplet $(\\texttt{\\#idPiece, \\#idActeur, \\#nomRole})$. Il est obligatoire de posséder une clé primaire lorsque l'on insère une entrée. Or le triplet est composé de deux clés étrangères.\n",
    "\n",
    "**Si** les relations `Piece` et `Acteur` sont vides, **alors** le triplet ne peut pas être défini car l'unicité de la clé primaire n'est plus assurée. Le système de base de donnée lève alors une exception."
   ]
  },
  {
   "cell_type": "markdown",
   "metadata": {
    "slideshow": {
     "slide_type": "slide"
    }
   },
   "source": [
    "2 - Pour effectuer cette insertion, il faut écrire :\n",
    "\n",
    "```sql\n",
    "INSERT INTO Role(#idPiece, #idActeur, nomRole) VALUES\n",
    "    (46721, 389761, 'Tartuffe');\n",
    "```"
   ]
  },
  {
   "cell_type": "markdown",
   "metadata": {
    "slideshow": {
     "slide_type": "slide"
    }
   },
   "source": [
    "3-  Cette requête met à jour certaines entrées de la relation `Piece`. Toutes les entrées qui possèdent les valeurs `\"Américain\"` ou `\"Britannique\"` pour l'attribut `langue` voient ces valeurs changer pour `\"Anglais\"`."
   ]
  },
  {
   "cell_type": "markdown",
   "metadata": {
    "slideshow": {
     "slide_type": "slide"
    }
   },
   "source": [
    "4.a - Nom et prénom des artistes nés après 1990 :\n",
    "\n",
    "```sql\n",
    "SELECT nom, prenom\n",
    "FROM Acteur\n",
    "WHERE anneeNaiss > 1990;\n",
    "```"
   ]
  },
  {
   "cell_type": "markdown",
   "metadata": {
    "slideshow": {
     "slide_type": "slide"
    }
   },
   "source": [
    "4.b - Année de naissance du plus jeune artiste :\n",
    "\n",
    "```sql\n",
    "SELECT MIN(anneeNaiss)\n",
    "FROM Acteur;\n",
    "```"
   ]
  },
  {
   "cell_type": "markdown",
   "metadata": {
    "slideshow": {
     "slide_type": "slide"
    }
   },
   "source": [
    "4.c - Le nom des rôles joués par Vincent Macaigne :\n",
    "\n",
    "```sql\n",
    "SELECT DISTINCT R.nomRole\n",
    "FROM Acteur AS A\n",
    "JOIN Role AS R ON A.idActeur = R.#idActeur\n",
    "WHERE A.nom = \"Macaigne\" and A.prenom = \"Vincent\";\n",
    "```"
   ]
  },
  {
   "cell_type": "markdown",
   "metadata": {
    "slideshow": {
     "slide_type": "slide"
    }
   },
   "source": [
    "4.d -  Le titre des pièces écrites en Russe dans lesquelles l’actrice Jeanne Balibar a joué :\n",
    "\n",
    "```sql\n",
    "SELECT P.titre\n",
    "FROM Piece P\n",
    "JOIN Role R on P.idPiece = R.#idPiece\n",
    "JOIN Acteur A ON R.#idActeur = A.idActeur\n",
    "WHERE P.langue = \"Russe\"\n",
    "    AND A.nom = \"Balibar\"\n",
    "    AND A.prenom = \"Jeanne\";\n",
    "```"
   ]
  }
 ],
 "metadata": {
  "celltoolbar": "Diaporama",
  "interpreter": {
   "hash": "916dbcbb3f70747c44a77c7bcd40155683ae19c65e1c03b4aa3499c5328201f1"
  },
  "kernelspec": {
   "display_name": "Python 3",
   "language": "python",
   "name": "python3"
  },
  "language_info": {
   "codemirror_mode": {
    "name": "ipython",
    "version": 3
   },
   "file_extension": ".py",
   "mimetype": "text/x-python",
   "name": "python",
   "nbconvert_exporter": "python",
   "pygments_lexer": "ipython3",
   "version": "3.9.2"
  },
  "latex_metadata": {
   "theme": "ds",
   "title": "Correction - 2021J1ME2 - ex1"
  }
 },
 "nbformat": 4,
 "nbformat_minor": 2
}
