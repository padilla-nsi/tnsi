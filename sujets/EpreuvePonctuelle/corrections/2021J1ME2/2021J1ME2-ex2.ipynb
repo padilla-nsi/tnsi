{
 "cells": [
  {
   "cell_type": "markdown",
   "metadata": {
    "slideshow": {
     "slide_type": "slide"
    }
   },
   "source": [
    "# 2021 - J1 - Métropole 2"
   ]
  },
  {
   "cell_type": "markdown",
   "metadata": {
    "slideshow": {
     "slide_type": "-"
    }
   },
   "source": [
    "## Exercice 2"
   ]
  },
  {
   "cell_type": "markdown",
   "metadata": {
    "slideshow": {
     "slide_type": "slide"
    }
   },
   "source": [
    "**Q1.a** Écrire une suite d’instructions permettant de créer une instance de la classe Pile affectée à une variable pile1 contenant les éléments 7, 5 et 2 insérés dans cet ordre.\n",
    "\n",
    "Ainsi, à l’issue de ces instructions, l’instruction pile1.afficher() produit l’affichage : 7, 5, 2."
   ]
  },
  {
   "cell_type": "markdown",
   "metadata": {
    "slideshow": {
     "slide_type": "subslide"
    }
   },
   "source": [
    "**R1.a** "
   ]
  },
  {
   "cell_type": "code",
   "execution_count": 1,
   "metadata": {
    "slideshow": {
     "slide_type": "-"
    }
   },
   "outputs": [
    {
     "ename": "NameError",
     "evalue": "name 'Pile' is not defined",
     "output_type": "error",
     "traceback": [
      "\u001b[0;31m---------------------------------------------------------------------------\u001b[0m",
      "\u001b[0;31mNameError\u001b[0m                                 Traceback (most recent call last)",
      "\u001b[0;32m/tmp/ipykernel_11556/42224464.py\u001b[0m in \u001b[0;36m<module>\u001b[0;34m\u001b[0m\n\u001b[0;32m----> 1\u001b[0;31m \u001b[0mpile1\u001b[0m \u001b[0;34m=\u001b[0m \u001b[0mPile\u001b[0m\u001b[0;34m(\u001b[0m\u001b[0;34m)\u001b[0m\u001b[0;34m\u001b[0m\u001b[0;34m\u001b[0m\u001b[0m\n\u001b[0m\u001b[1;32m      2\u001b[0m \u001b[0mpile1\u001b[0m\u001b[0;34m.\u001b[0m\u001b[0mempiler\u001b[0m\u001b[0;34m(\u001b[0m\u001b[0;36m7\u001b[0m\u001b[0;34m)\u001b[0m\u001b[0;34m\u001b[0m\u001b[0;34m\u001b[0m\u001b[0m\n\u001b[1;32m      3\u001b[0m \u001b[0mpile1\u001b[0m\u001b[0;34m.\u001b[0m\u001b[0mempiler\u001b[0m\u001b[0;34m(\u001b[0m\u001b[0;36m5\u001b[0m\u001b[0;34m)\u001b[0m\u001b[0;34m\u001b[0m\u001b[0;34m\u001b[0m\u001b[0m\n\u001b[1;32m      4\u001b[0m \u001b[0mpile1\u001b[0m\u001b[0;34m.\u001b[0m\u001b[0mempiler\u001b[0m\u001b[0;34m(\u001b[0m\u001b[0;36m2\u001b[0m\u001b[0;34m)\u001b[0m\u001b[0;34m\u001b[0m\u001b[0;34m\u001b[0m\u001b[0m\n",
      "\u001b[0;31mNameError\u001b[0m: name 'Pile' is not defined"
     ]
    }
   ],
   "source": [
    "pile1 = Pile()\n",
    "pile1.empiler(7)\n",
    "pile1.empiler(5)\n",
    "pile1.empiler(2)"
   ]
  },
  {
   "cell_type": "markdown",
   "metadata": {
    "slideshow": {
     "slide_type": "slide"
    }
   },
   "source": [
    "**Q1.b** Donner l’affichage produit après l’exécution des instructions suivantes."
   ]
  },
  {
   "cell_type": "code",
   "execution_count": null,
   "metadata": {
    "slideshow": {
     "slide_type": "-"
    }
   },
   "outputs": [],
   "source": [
    "element1 = pile1.depiler()\n",
    "pile1.empiler(5)\n",
    "pile1.empiler(element1)\n",
    "pile1.afficher()"
   ]
  },
  {
   "cell_type": "markdown",
   "metadata": {
    "slideshow": {
     "slide_type": "subslide"
    }
   },
   "source": [
    "**R1.b** Le dernier élément de la pile1 est dépilé et stocké dans la variable `element1`. La pile contient donc (en respectant l'affichage de l'énoncé) : `7, 5`.\n",
    "\n",
    "Ensuite on empile (dans cet ordre) : 5 puis 2.\n",
    "\n",
    "L'affichage de `pile1` produit donc `7, 5, 5, 2`."
   ]
  },
  {
   "cell_type": "markdown",
   "metadata": {
    "slideshow": {
     "slide_type": "slide"
    }
   },
   "source": [
    "**Q2**  On donne la fonction mystere suivante :"
   ]
  },
  {
   "cell_type": "code",
   "execution_count": null,
   "metadata": {
    "slideshow": {
     "slide_type": "-"
    }
   },
   "outputs": [],
   "source": [
    "def mystere(pile, element):\n",
    "    pile2 = Pile()\n",
    "    nb_elements = pile.nb_elements()\n",
    "    for i in range(nb_elements):\n",
    "        elem = pile.depiler()\n",
    "        pile2.empiler(elem)\n",
    "        if elem == element:\n",
    "            return pile2\n",
    "    return pile2"
   ]
  },
  {
   "cell_type": "markdown",
   "metadata": {
    "slideshow": {
     "slide_type": "subslide"
    }
   },
   "source": [
    "**Q2.a cas n°1.** Quel est l'affichage de "
   ]
  },
  {
   "cell_type": "code",
   "execution_count": null,
   "metadata": {
    "slideshow": {
     "slide_type": "-"
    }
   },
   "outputs": [],
   "source": [
    ">>> pile.afficher()\n",
    "7, 5, 2, 3\n",
    ">>> mystere(pile, 2).afficher()"
   ]
  },
  {
   "cell_type": "markdown",
   "metadata": {
    "slideshow": {
     "slide_type": "fragment"
    }
   },
   "source": [
    "**R2.a cas n°1.** L'appel `mystere(pile, 2)` renvoie une pile correspondant à `pile` retournée jusqu'à rencontrer la valeur 2. \n",
    "\n",
    "La méthode `afficher()` appliquée à cette pile affiche donc : `3, 2`"
   ]
  },
  {
   "cell_type": "markdown",
   "metadata": {
    "slideshow": {
     "slide_type": "subslide"
    }
   },
   "source": [
    "**Q2.a cas n°2.** Quel est l'affichage de "
   ]
  },
  {
   "cell_type": "code",
   "execution_count": null,
   "metadata": {
    "slideshow": {
     "slide_type": "-"
    }
   },
   "outputs": [],
   "source": [
    ">>> pile.afficher()\n",
    "7, 5, 2, 3\n",
    ">>> mystere(pile, 9).afficher()"
   ]
  },
  {
   "cell_type": "markdown",
   "metadata": {
    "slideshow": {
     "slide_type": "fragment"
    }
   },
   "source": [
    "**R2.a cas n°2.** L'appel `mystere(pile, 9)` renvoie une pile correspondant à `pile` retournée car 9 n'appartient pas à `pile`.\n",
    "\n",
    "La méthode `afficher()` appliquée à cette pile affiche donc : `3, 2, 5, 7`."
   ]
  },
  {
   "cell_type": "markdown",
   "metadata": {
    "slideshow": {
     "slide_type": "subslide"
    }
   },
   "source": [
    "**Q2.a cas n°3.** Quel est l'affichage de "
   ]
  },
  {
   "cell_type": "code",
   "execution_count": null,
   "metadata": {
    "slideshow": {
     "slide_type": "-"
    }
   },
   "outputs": [],
   "source": [
    ">>> pile.afficher()\n",
    "7, 5, 2, 3\n",
    ">>> mystere(pile, 3).afficher()"
   ]
  },
  {
   "cell_type": "markdown",
   "metadata": {
    "slideshow": {
     "slide_type": "fragment"
    }
   },
   "source": [
    "**R2.a cas n°3.** L'appel `mystere(pile, 3)` renvoie une pile correspondant à `pile` retournée jusqu'à rencontrer 3. Ce qui arrive dès le premier tour de boucle.\n",
    "\n",
    "La méthode `afficher()` appliquée à cette pile affiche donc : `3`."
   ]
  },
  {
   "cell_type": "markdown",
   "metadata": {
    "slideshow": {
     "slide_type": "subslide"
    }
   },
   "source": [
    "**Q2.a cas n°4.** Quel est l'affichage de"
   ]
  },
  {
   "cell_type": "code",
   "execution_count": null,
   "metadata": {
    "slideshow": {
     "slide_type": "-"
    }
   },
   "outputs": [],
   "source": [
    ">>> pile.est_vide()\n",
    "True\n",
    ">>> mystere(pile, 3).afficher()"
   ]
  },
  {
   "cell_type": "markdown",
   "metadata": {
    "slideshow": {
     "slide_type": "fragment"
    }
   },
   "source": [
    "**R2.a cas n°4.** L'appel `mystere(pile, 3)` renvoie une pile vide car aucun tour de boucle n'est effectué.\n",
    "\n",
    "La méthode `afficher()` appliquée à cette pile affiche donc : `'pile vide'`."
   ]
  },
  {
   "cell_type": "markdown",
   "metadata": {
    "slideshow": {
     "slide_type": "slide"
    }
   },
   "source": [
    "**Q2.b** Expliquer ce que permet d’obtenir la fonction `mystere`.\n"
   ]
  },
  {
   "cell_type": "markdown",
   "metadata": {
    "slideshow": {
     "slide_type": "fragment"
    }
   },
   "source": [
    "**R2.b** Si l'argument `element` n'appartient pas à `pile`, la fonction mystère renvoie une copie de pile retournée. Si `element` est présent, elle renvoie un extrait jusqu'à element de la copie de la pile retournée."
   ]
  },
  {
   "cell_type": "markdown",
   "metadata": {
    "slideshow": {
     "slide_type": "slide"
    }
   },
   "source": [
    "**Q3** Écrire une fonction `etendre(pile1, pile2)` qui prend en arguments deux objets `Pile` appelés `pile1` et `pile2` et qui modifie `pile1` en lui ajoutant les éléments de `pile2` rangés dans l'ordre inverse. Cette fonction ne renvoie rien.\n",
    "\n",
    "On donne ci-dessous les résultats attendus pour certaines instructions."
   ]
  },
  {
   "cell_type": "code",
   "execution_count": null,
   "metadata": {
    "slideshow": {
     "slide_type": "-"
    }
   },
   "outputs": [],
   "source": [
    ">>> pile1.afficher()\n",
    "7, 5, 2, 3\n",
    ">>> pile2.afficher()\n",
    "1, 3, 4\n",
    ">>> etendre(pile1, pile2)\n",
    ">>> pile1.afficher()\n",
    "7, 5, 2, 3, 4, 3, 1\n",
    ">>> pile2.est_vide()\n",
    "True"
   ]
  },
  {
   "cell_type": "markdown",
   "metadata": {
    "slideshow": {
     "slide_type": "subslide"
    }
   },
   "source": [
    "**R3** Il suffit de dépiler `pile2` et d'empiler au fur et à mesure les élements dans `pile1`. À la fin `pile2` sera complètement vide."
   ]
  },
  {
   "cell_type": "code",
   "execution_count": null,
   "metadata": {
    "slideshow": {
     "slide_type": "-"
    }
   },
   "outputs": [],
   "source": [
    "def etendre(pile1, pile2):\n",
    "    # BOUCLE: parcours de pile2\n",
    "    # -> invariant: pile1 contient les éléments de piles2 parcourus\n",
    "    # -> invariant: pile2 ne contient plus les éléments parcourus\n",
    "    # -> condition d'arrêt: pile2 est vide\n",
    "    while not (pile2.est_vide()):\n",
    "        element = pile2.depiler()\n",
    "        pile1.empiler(element)\n",
    "    \n",
    "    # fin BOUCLE: tout pile2 a été parcouru + invariants\n",
    "    # => pile2 est vide ET pile1 possède les éléments de pile2"
   ]
  },
  {
   "cell_type": "markdown",
   "metadata": {
    "slideshow": {
     "slide_type": "slide"
    }
   },
   "source": [
    "**Q4** Écrire une fonction `supprime_toutes_occurences(pile, element)` qui prend en arguments un objet `Pile` appelé `pile` et un élément `element` et supprime tous les éléments `element` de `pile`.\n",
    "\n",
    "On donne ci-dessous les résultats attendus pour certaines instructions."
   ]
  },
  {
   "cell_type": "code",
   "execution_count": null,
   "metadata": {
    "slideshow": {
     "slide_type": "-"
    }
   },
   "outputs": [],
   "source": [
    ">>> pile.afficher()\n",
    "7, 5, 2, 3, 5\n",
    ">>> supprime_toutes_occurences (pile, 5)\n",
    ">>> pile.afficher()\n",
    "7, 2, 3"
   ]
  },
  {
   "cell_type": "markdown",
   "metadata": {
    "slideshow": {
     "slide_type": "subslide"
    }
   },
   "source": [
    "**R4** L'idée est de dépiler tous les elements de la pile, sauf occurence, dans une pile temporaire. \n",
    "\n",
    "La pile passée en argument est donc vide.\n",
    "\n",
    "Ensuite, pour remettre les éléments dans le bon ordre, on dépile tous les éléments de la pile temporaire dans la pile de départ."
   ]
  },
  {
   "cell_type": "code",
   "execution_count": null,
   "metadata": {
    "slideshow": {
     "slide_type": "subslide"
    }
   },
   "outputs": [],
   "source": [
    "def supprime_toutes_occurrences(pile, element):\n",
    "    # BOUCLE 1: parcourir et dépiler entièrement `pile` dans pile_temp\n",
    "    # SAUF les occurrences de element\n",
    "    # -> invariant: pile est vidé des éléments parcourus\n",
    "    # -> invariant: pile_temp contient, à l'envers, les éléments parcourus\n",
    "    #               SAUF les occurrences de element\n",
    "    pile_temp = Pile()\n",
    "    # -> condition d'arrêt: pile est vide\n",
    "    while not(pile.est_vide()):\n",
    "        element_courant = pile.depiler()\n",
    "        # maintien de l'invariant\n",
    "        # l'élément courant n'est pas élément\n",
    "        if element_courant != element:\n",
    "            # on ajoute l'élément courant dans la pile temporaire\n",
    "            pile_temp.empiler(element_courant)\n",
    "    \n",
    "    # fin BOUCLE: tout pile est parcouru + invariant\n",
    "    # => pile_temp contient toutes les valeurs de pile sauf element\n",
    "    #              à l'envers\n",
    "    # => pile est vide\n",
    "\n",
    "    # BOUCLE 2: parcourir pile_temp et tout dépiler dans pile\n",
    "    # -> condition d'arrêt: pile_temp est vide\n",
    "    while not(pile_temp.est_vide()):\n",
    "        pile.empiler(pile_temp.depiler())\n",
    "    \n",
    "    # fin BOUCLE 2: toute la pile_temp est parcourue\n",
    "    # => pile est comme au début, sauf que toutes les occurrences\n",
    "    # de element n'y sont plus !"
   ]
  }
 ],
 "metadata": {
  "celltoolbar": "Diaporama",
  "interpreter": {
   "hash": "916dbcbb3f70747c44a77c7bcd40155683ae19c65e1c03b4aa3499c5328201f1"
  },
  "kernelspec": {
   "display_name": "Python 3",
   "language": "python",
   "name": "python3"
  },
  "language_info": {
   "codemirror_mode": {
    "name": "ipython",
    "version": 3
   },
   "file_extension": ".py",
   "mimetype": "text/x-python",
   "name": "python",
   "nbconvert_exporter": "python",
   "pygments_lexer": "ipython3",
   "version": "3.9.2"
  },
  "latex_metadata": {
   "theme": "ds",
   "title": "Correction - 2021J1ME2 - ex2"
  }
 },
 "nbformat": 4,
 "nbformat_minor": 2
}
