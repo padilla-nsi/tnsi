{
 "cells": [
  {
   "cell_type": "markdown",
   "metadata": {
    "slideshow": {
     "slide_type": "slide"
    }
   },
   "source": [
    "# 2021 - J1 - Métropole 2"
   ]
  },
  {
   "cell_type": "markdown",
   "metadata": {
    "slideshow": {
     "slide_type": "-"
    }
   },
   "source": [
    "## Exercice 3"
   ]
  },
  {
   "cell_type": "markdown",
   "metadata": {
    "slideshow": {
     "slide_type": "slide"
    }
   },
   "source": [
    "```bash\n",
    "$ ps -eo pid,ppid,stat,command\n",
    "PID PPID STAT COMMAND\n",
    "1    0    Ss /sbin/init\n",
    ".... .... .. ...\n",
    "1912 1908 Ss Bash\n",
    "2014 1912 Ss Bash\n",
    "1920 1747 Sl Gedit\n",
    "2013 1912 Ss Bash\n",
    "2091 1593 Sl /usr/lib/firefox/firefox\n",
    "5437 1912 Sl python programme1.py\n",
    "5440 2013 R  python programme2.py\n",
    "5450 1912 R+ ps -eo pid,ppid,stat,command\n",
    "```"
   ]
  },
  {
   "cell_type": "markdown",
   "metadata": {
    "slideshow": {
     "slide_type": "subslide"
    }
   },
   "source": [
    "**QA1.** Quel est le nom de la première commande exécutée par le système d'exploitation lors du démarrage  ?"
   ]
  },
  {
   "cell_type": "markdown",
   "metadata": {
    "slideshow": {
     "slide_type": "fragment"
    }
   },
   "source": [
    "**RA1.** Le premier processus exécuté est celui de PID le plus petit. La commande qui l'a lancé est `/sbin/init`. \n",
    "\n",
    "C'est la mise en route du système d'exploitation."
   ]
  },
  {
   "cell_type": "markdown",
   "metadata": {
    "slideshow": {
     "slide_type": "subslide"
    }
   },
   "source": [
    "**QA2.** Quels sont les identifiants des processus actifs sur cet ordinateur au moment de l’appel de la commande `ps` ?"
   ]
  },
  {
   "cell_type": "markdown",
   "metadata": {
    "slideshow": {
     "slide_type": "fragment"
    }
   },
   "source": [
    "**RA2.** Les processus actifs sont ceux dont le statut est `R` :\n",
    "\n",
    "- 5440\n",
    "- 5450"
   ]
  },
  {
   "cell_type": "markdown",
   "metadata": {
    "slideshow": {
     "slide_type": "subslide"
    }
   },
   "source": [
    "**QA3.** Depuis quelle application a-t-on exécuté la commande `ps` ?"
   ]
  },
  {
   "cell_type": "markdown",
   "metadata": {
    "slideshow": {
     "slide_type": "fragment"
    }
   },
   "source": [
    "**RA3.** La commande `ps` a pour PID 5450. Son parent est identifiable par le PPID. Le parent qui a permis l'exécution de `ps` a pour PID : 1912.\n",
    "\n",
    "En remontant dans la liste des processus, on retrouve 1912. C'est donc l'application `Bash` qui a exécuté `ps` (`Bash` est un terminal, sous linux)."
   ]
  },
  {
   "cell_type": "markdown",
   "metadata": {
    "slideshow": {
     "slide_type": "subslide"
    }
   },
   "source": [
    "**QA3. (suite)** Donner les autres commandes qui ont été exécutées à partir de cette application."
   ]
  },
  {
   "cell_type": "markdown",
   "metadata": {
    "slideshow": {
     "slide_type": "fragment"
    }
   },
   "source": [
    "**RA3. (suite)** `Bash` est aussi le parent qui a exécuté :\n",
    "\n",
    "- le processus 2014: un autre terminal `Bash`\n",
    "- le processus 2013: un autre terminal `Bash`\n",
    "- le processus 5437: un programme en python `python programme1.py`"
   ]
  },
  {
   "cell_type": "markdown",
   "metadata": {
    "slideshow": {
     "slide_type": "subslide"
    }
   },
   "source": [
    "**QA4.** Expliquer l'ordre dans lequel les deux commandes `python programme1.py` et `python programme2.py` ont été exécutées."
   ]
  },
  {
   "cell_type": "markdown",
   "metadata": {
    "slideshow": {
     "slide_type": "fragment"
    }
   },
   "source": [
    "**RA4.** Le `programme1.py` a été exécuté avant car il a un PID (5437) inférieur à celui de `programme2.py` (5440)."
   ]
  },
  {
   "cell_type": "markdown",
   "metadata": {
    "slideshow": {
     "slide_type": "subslide"
    }
   },
   "source": [
    "**QA5.** Peut-on prédire que l'une des deux commandes `python programme1.py` et\n",
    "`python programme2.py` finira avant l’autre ?"
   ]
  },
  {
   "cell_type": "markdown",
   "metadata": {
    "slideshow": {
     "slide_type": "fragment"
    }
   },
   "source": [
    "**RA5.** On ne peut pas savoir quel processus terminera avant. Tout dépend des programmes et de l'ordonnanceur."
   ]
  },
  {
   "cell_type": "markdown",
   "metadata": {
    "slideshow": {
     "slide_type": "slide"
    }
   },
   "source": [
    "![](2021J1ME2-img-reseau.png)"
   ]
  },
  {
   "cell_type": "markdown",
   "metadata": {
    "slideshow": {
     "slide_type": "subslide"
    }
   },
   "source": [
    "**QB1.** RIP (distance en nombre de sauts)\n",
    "\n",
    "|Machine|Prochain saut|distance|\n",
    "|:-:|:-:|:-:|\n",
    "|A|||\n",
    "|B|||\n",
    "|C|||\n",
    "|D|||\n",
    "|E|||"
   ]
  },
  {
   "cell_type": "markdown",
   "metadata": {
    "slideshow": {
     "slide_type": "subslide"
    }
   },
   "source": [
    "**RB1.** \n",
    "\n",
    "|Machine|Prochain saut|distance|\n",
    "|:-:|:-:|:-:|\n",
    "|A|D|3|\n",
    "|B|C|3|\n",
    "|C|E|2|\n",
    "|D|E|2|\n",
    "|E|F|1|"
   ]
  },
  {
   "cell_type": "markdown",
   "metadata": {
    "slideshow": {
     "slide_type": "subslide"
    }
   },
   "source": [
    "**QB2.** OSPF (distance en coût des routes)\n",
    "\n",
    "$$cout = \\frac{10^8}{d}$$"
   ]
  },
  {
   "cell_type": "markdown",
   "metadata": {
    "slideshow": {
     "slide_type": "subslide"
    }
   },
   "source": [
    "**RB2.**\n",
    "\n",
    "![](2021J1ME2-ex3-reseau-ospf.png)"
   ]
  },
  {
   "cell_type": "markdown",
   "metadata": {
    "slideshow": {
     "slide_type": "subslide"
    }
   },
   "source": [
    "|Machine|Prochain saut|distance|\n",
    "|:-:|:-:|:-:|\n",
    "|A|B|4|\n",
    "|B|C|3|\n",
    "|C|E|2|\n",
    "|D|E|10|\n",
    "|E|F|1|"
   ]
  },
  {
   "cell_type": "markdown",
   "metadata": {
    "slideshow": {
     "slide_type": "subslide"
    }
   },
   "source": [
    "**QB3.** Des protocoles RIP et OSPF, lequel fournit le routage entre A et F le plus performant en terme de débit ? Justifier la réponse."
   ]
  },
  {
   "cell_type": "markdown",
   "metadata": {
    "slideshow": {
     "slide_type": "fragment"
    }
   },
   "source": [
    "**RB3.** Le routage le plus performant est OSPF car le coût en débit est de 4 avec OSPF et de coût 21 avec RIP."
   ]
  }
 ],
 "metadata": {
  "celltoolbar": "Diaporama",
  "interpreter": {
   "hash": "916dbcbb3f70747c44a77c7bcd40155683ae19c65e1c03b4aa3499c5328201f1"
  },
  "kernelspec": {
   "display_name": "Python 3",
   "language": "python",
   "name": "python3"
  },
  "language_info": {
   "codemirror_mode": {
    "name": "ipython",
    "version": 3
   },
   "file_extension": ".py",
   "mimetype": "text/x-python",
   "name": "python",
   "nbconvert_exporter": "python",
   "pygments_lexer": "ipython3",
   "version": "3.9.2"
  },
  "latex_metadata": {
   "theme": "ds",
   "title": "Correction - 2021J1ME2 - ex3"
  }
 },
 "nbformat": 4,
 "nbformat_minor": 2
}
