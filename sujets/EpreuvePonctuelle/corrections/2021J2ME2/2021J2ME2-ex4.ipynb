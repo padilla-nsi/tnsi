{
 "cells": [
  {
   "cell_type": "markdown",
   "metadata": {
    "slideshow": {
     "slide_type": "slide"
    }
   },
   "source": [
    "# 2021 - J2 - Métropole 2"
   ]
  },
  {
   "cell_type": "markdown",
   "metadata": {
    "slideshow": {
     "slide_type": "-"
    }
   },
   "source": [
    "## Exercice 4"
   ]
  },
  {
   "cell_type": "markdown",
   "metadata": {
    "slideshow": {
     "slide_type": "slide"
    }
   },
   "source": [
    "1 - Le code proposé n'effectue pas l'échange car dès la première ligne de la fonction, les cases `i2` et `i1` du tableau contiennent toutes les deux la même valeur : le contenu initial de la case `i1`.\n",
    "\n",
    "L'exécution de la deuxième ne change absolument rien à l'état de la mémoire. Ce n'est donc pas un échange."
   ]
  },
  {
   "cell_type": "markdown",
   "metadata": {
    "slideshow": {
     "slide_type": "slide"
    }
   },
   "source": [
    "2 - Un appel à la commande `randint(0, 10)` renvoie tout nombre entier compris entre 0 (inclus) et 10 (inclus aussi !).\n",
    "\n",
    "Donc on peut obtenir : `0`, `1`, `9` et `10`."
   ]
  },
  {
   "cell_type": "markdown",
   "metadata": {
    "slideshow": {
     "slide_type": "slide"
    }
   },
   "source": [
    "3.a - La fonction `melange` est récursive. Pour qu'elle se termine il faut montrer que le cas de base est atteignable dans tous les cas.\n",
    "\n",
    "Ici le cas de base arrive lorsque l'argument `ind` vaut `0` ou moins. Or `ind` est un nombre entier et chaque appel récursif se fait avec une valeur de `ind` diminuée de 1. Donc nécessairement, après `ind - 1` appels récursif, la fonction `melange` effectue l'appel `melange(lst, 0)`. Cet appel sera le dernier car le cas de base sera atteint. "
   ]
  },
  {
   "cell_type": "markdown",
   "metadata": {
    "slideshow": {
     "slide_type": "slide"
    }
   },
   "source": [
    "3.b - Le cas de base est atteint lorsque `ind` vaut `0`. Pour une liste de longueur $n$, l'appel initial est `melange(lst, n - 1)`. Comme à chaque appel `ind` diminue de 1, il faut donc $n-1$ appels pour arriver au cas de base."
   ]
  },
  {
   "cell_type": "markdown",
   "metadata": {
    "slideshow": {
     "slide_type": "slide"
    }
   },
   "source": [
    "3.c - Initialement, on a `lst` $\\leftarrow$ `[0, 1, 2, 3, 4]`.\n",
    "\n",
    "Détaillons la première exécution. L'appel `melange(lst, 4)` effectue un premier tirage aléatoire et on obtient `j`$\\leftarrow$`2`. Ainsi il y a un échange entre les valeurs des indices `4` et `2` de `lst`. Désormais on a `lst` $\\leftarrow$ `[0, 1, 4, 3, 2]` et l'appel récursif est `melange(lst, 2)`.\n",
    "\n",
    "Cette première exécution correspond à la première ligne du tableau. Les quatres appels récursifs qui suivent sont sur les quatre lignes suivantes.\n",
    "\n",
    "Les affichages demandés sont ceux de la première colonne.\n",
    "\n",
    "| `lst` | `ind` | `j` | appel récursif | \n",
    "|:-:|:-:|:-:|:-:|\n",
    "| `[0, 1, 2, 3, 4]` | `4` | `2` | `melange([0, 1, 4, 3, 2], 3)` |\n",
    "| `[0, 1, 4, 3, 2]` | `3` | `1` | `melange([0, 3, 4, 1, 2], 2)` |\n",
    "| `[0, 3, 4, 1, 2]` | `2` | `2` | `melange([0, 3, 4, 1, 2], 1)` |\n",
    "| `[0, 3, 4, 1, 2]` | `1` | `0` | `melange([3, 0, 4, 1, 2], 0)` |\n",
    "| `[3, 0, 4, 1, 2]` | | | |"
   ]
  },
  {
   "cell_type": "markdown",
   "metadata": {
    "slideshow": {
     "slide_type": "slide"
    }
   },
   "source": [
    "3.d - Voici une version itérative du mélange de Fischer Yates :"
   ]
  },
  {
   "cell_type": "code",
   "execution_count": 62,
   "metadata": {
    "vscode": {
     "languageId": "plaintext"
    }
   },
   "outputs": [
    {
     "name": "stdout",
     "output_type": "stream",
     "text": [
      "[0, 1, 2, 3, 4]\n",
      "[0, 1, 4, 3, 2]\n",
      "[0, 3, 4, 1, 2]\n",
      "[0, 4, 3, 1, 2]\n",
      "[0, 4, 3, 1, 2]\n"
     ]
    }
   ],
   "source": [
    "def melange(lst):\n",
    "    print(lst)\n",
    "    \n",
    "    # dernier indice du tableau\n",
    "    n = len(lst)\n",
    "\n",
    "    # parcours du tableau en commençant par la fin\n",
    "    # et en s'arrêtant à l'indice 0 exclu\n",
    "    for ind in range(n-1, 0, -1):\n",
    "        j = randint(0, ind)\n",
    "        echange(lst, ind, j)\n",
    "        print(lst)"
   ]
  }
 ],
 "metadata": {
  "celltoolbar": "Diaporama",
  "interpreter": {
   "hash": "916dbcbb3f70747c44a77c7bcd40155683ae19c65e1c03b4aa3499c5328201f1"
  },
  "kernelspec": {
   "display_name": "Python 3",
   "language": "python",
   "name": "python3"
  },
  "language_info": {
   "codemirror_mode": {
    "name": "ipython",
    "version": 3
   },
   "file_extension": ".py",
   "mimetype": "text/x-python",
   "name": "python",
   "nbconvert_exporter": "python",
   "pygments_lexer": "ipython3",
   "version": "3.9.2"
  },
  "latex_metadata": {
   "theme": "ds",
   "title": "Correction - 2021J2ME2 - ex4"
  }
 },
 "nbformat": 4,
 "nbformat_minor": 2
}
