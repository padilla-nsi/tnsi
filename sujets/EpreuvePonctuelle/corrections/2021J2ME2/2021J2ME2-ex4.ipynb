{
 "cells": [
  {
   "cell_type": "markdown",
   "metadata": {
    "slideshow": {
     "slide_type": "slide"
    }
   },
   "source": [
    "# 2021 - J2 - Métropole 2"
   ]
  },
  {
   "cell_type": "markdown",
   "metadata": {
    "slideshow": {
     "slide_type": "-"
    }
   },
   "source": [
    "## Exercice 4"
   ]
  },
  {
   "cell_type": "markdown",
   "metadata": {
    "slideshow": {
     "slide_type": "slide"
    }
   },
   "source": [
    "1 - Le code proposé n'effectue pas l'échange car dès la première ligne de la fonction, les cases `i2` et `i1` du tableau contiennent toutes les deux la même valeur : le contenu initial de la case `i1`.\n",
    "\n",
    "L'exécution de la deuxième ne change absolument rien à l'état de la mémoire. Ce n'est donc pas un échange."
   ]
  },
  {
   "cell_type": "markdown",
   "metadata": {},
   "source": [
    "2 - Un appel à la commande `randint(0, 10)` renvoie tout nombre entier compris entre 0 (inclus) et 10 (inclus aussi !).\n",
    "\n",
    "Donc on peut obtenir : `0`, `1`, `9` et `10`."
   ]
  }
 ],
 "metadata": {
  "celltoolbar": "Diaporama",
  "interpreter": {
   "hash": "916dbcbb3f70747c44a77c7bcd40155683ae19c65e1c03b4aa3499c5328201f1"
  },
  "kernelspec": {
   "display_name": "Python 3",
   "language": "python",
   "name": "python3"
  },
  "language_info": {
   "codemirror_mode": {
    "name": "ipython",
    "version": 3
   },
   "file_extension": ".py",
   "mimetype": "text/x-python",
   "name": "python",
   "nbconvert_exporter": "python",
   "pygments_lexer": "ipython3",
   "version": "3.9.2"
  },
  "latex_metadata": {
   "theme": "ds",
   "title": "Correction - 2021J2ME2 - ex4"
  }
 },
 "nbformat": 4,
 "nbformat_minor": 2
}
