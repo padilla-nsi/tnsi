{
 "cells": [
  {
   "cell_type": "markdown",
   "metadata": {},
   "source": [
    "# Exercice 1"
   ]
  },
  {
   "cell_type": "markdown",
   "metadata": {},
   "source": [
    "## A.1"
   ]
  },
  {
   "cell_type": "markdown",
   "metadata": {},
   "source": [
    "    8\n",
    "    [8, 7, 18, 16, 12, 9, 17, 3]"
   ]
  },
  {
   "cell_type": "markdown",
   "metadata": {},
   "source": [
    "## A.2\n",
    "\n"
   ]
  },
  {
   "cell_type": "code",
   "execution_count": 5,
   "metadata": {},
   "outputs": [
    {
     "name": "stdout",
     "output_type": "stream",
     "text": [
      "18\n",
      "16\n",
      "12\n"
     ]
    }
   ],
   "source": [
    "notes = [8, 7, 18, 14, 12, 9, 17, 3]\n",
    "notes[3] = 16\n",
    "\n",
    "for i in range (2, 5):\n",
    "    print(notes[i])"
   ]
  },
  {
   "cell_type": "markdown",
   "metadata": {},
   "source": [
    "## B.1"
   ]
  },
  {
   "cell_type": "code",
   "execution_count": 14,
   "metadata": {},
   "outputs": [
    {
     "name": "stdout",
     "output_type": "stream",
     "text": [
      "[3, 7, 8, 9, 12, 14, 17, 18]\n"
     ]
    }
   ],
   "source": [
    "notes = [8, 7, 18, 14, 12, 9, 17, 3]\n",
    "\n",
    "def tri_insertion(liste):\n",
    "    for indice_courant in range(1, len(liste)):\n",
    "        element_a_inserer = liste[indice_courant]\n",
    "        i = indice_courant - 1\n",
    "        while i >= 0 and liste[i] > element_a_inserer :\n",
    "            liste[i+1] = liste[i]\n",
    "            i = i - 1\n",
    "\n",
    "        liste[i+1] = element_a_inserer\n",
    "\n",
    "tri_insertion(notes)\n",
    "print(notes)"
   ]
  },
  {
   "cell_type": "markdown",
   "metadata": {},
   "source": [
    "## B.2\n",
    "\n",
    "après le 1er passage, le tableau 0..1 est trié : \n",
    "\n",
    "    [7, 8, 18, 14, ...]"
   ]
  },
  {
   "cell_type": "markdown",
   "metadata": {},
   "source": [
    "## B.3\n",
    "\n",
    "Après le 3ème passage, le tableau 0..3 est trié\n",
    "\n",
    "    [7, 8, 14, 18, 12, ...]"
   ]
  }
 ],
 "metadata": {
  "interpreter": {
   "hash": "916dbcbb3f70747c44a77c7bcd40155683ae19c65e1c03b4aa3499c5328201f1"
  },
  "kernelspec": {
   "display_name": "Python 3.9.2 64-bit",
   "language": "python",
   "name": "python3"
  },
  "language_info": {
   "codemirror_mode": {
    "name": "ipython",
    "version": 3
   },
   "file_extension": ".py",
   "mimetype": "text/x-python",
   "name": "python",
   "nbconvert_exporter": "python",
   "pygments_lexer": "ipython3",
   "version": "3.9.2"
  },
  "orig_nbformat": 4
 },
 "nbformat": 4,
 "nbformat_minor": 2
}
