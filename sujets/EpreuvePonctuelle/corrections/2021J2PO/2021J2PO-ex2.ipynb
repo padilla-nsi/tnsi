{
 "cells": [
  {
   "cell_type": "markdown",
   "metadata": {},
   "source": [
    "#### A.1\n",
    "\n",
    "| relation | clé primaire |\n",
    "|-|-|\n",
    "| Clients | IdClient |\n",
    "| Articles | IdArticle |"
   ]
  },
  {
   "cell_type": "markdown",
   "metadata": {},
   "source": [
    "#### A.2\n",
    "\n",
    "| Attribut | Domaine |\n",
    "| - | - |\n",
    "| Clients.**Email** | **chaîne de caractères** |\n",
    "| ArticlesCommande.**Quantite** | nombre **entier** |\n"
   ]
  },
  {
   "cell_type": "markdown",
   "metadata": {},
   "source": [
    "#### A.3\n",
    "\n",
    "```sql\n",
    "CREATE TABLE Commandes ( \n",
    "IdCmd INT PRIMARY KEY, \n",
    "IdClient INT, \n",
    "Date DATE, \n",
    "AdresseLivraison VARCHAR(90), \n",
    "PaiementValide BOOLEAN,  \n",
    "LivraisonFaite BOOLEAN,\n",
    "FOREIGN KEY IdCmd REFERENCES ArticlesCommande(IdCmd),\n",
    "FOREIGN KEY IdClient REFERENCES Clients(IdClient);\n",
    "```"
   ]
  },
  {
   "cell_type": "markdown",
   "metadata": {},
   "source": [
    "#### B.1\n",
    "\n",
    "Ici une requête POST est préférable car :\n",
    "\n",
    "- Une requête GET est **limitée en taille** car elle est écrite directement dans l'URL.\n",
    "- Une requête POST n'est pas lisible dans l'URL et **protège** donc mieux."
   ]
  },
  {
   "cell_type": "markdown",
   "metadata": {},
   "source": [
    "#### B.2\n",
    "\n",
    "Le protocole HTTPS est identique au protocole de communication HTTP sauf qu'il est **S**écurisé. Ainsi, toutes les informations qui transitent entre le client et le serveur sont cryptées. Seules les deux machines possède la clé pour décrypter. Ce protocole protège donc de tout observateur qui tenterait de lire les paquets transitant sur le réseau."
   ]
  },
  {
   "cell_type": "markdown",
   "metadata": {},
   "source": [
    "#### B.3\n",
    "\n",
    "Une BDD admet de nombreuses **contraintes d'intégrités**. Ces contraintes protège la base de toute incohérence. Ainsi, si l'on ne vérifie pas le type de données à insérer **avant** d'effectuer une requête, on cours le risque que la requête ne soit pas effectuée. Ainsi l'insertion dans la base de donnée ne se fera pas du tout.\n",
    "\n",
    "De plus, il est plus simple de demander à l'utilisateur de se corriger que de tenter algorithmiquement de le faire."
   ]
  },
  {
   "cell_type": "markdown",
   "metadata": {},
   "source": [
    "#### C.1\n",
    "\n",
    "```sql\n",
    "SELECT IdArticle, Articles.Libelle FROM Articles\n",
    "WHERE PrixEnCentimes < 1500,\n",
    "```"
   ]
  },
  {
   "cell_type": "markdown",
   "metadata": {},
   "source": [
    "#### C.2\n",
    "\n",
    "Cette requête affiche les identifiant, adresse email, identifiant de la commande et adresse de livraison de tous les clients qui n'ont pas encore validé leurs paiement."
   ]
  },
  {
   "cell_type": "markdown",
   "metadata": {},
   "source": [
    "#### C.3\n",
    "\n",
    "```sql\n",
    "SELECT Libele FROM Articles\n",
    "JOIN ArticlesCommande ON ArticlesCommande.IdArticle = Articles.IdArticle\n",
    "WHERE idCmd = 1345;"
   ]
  },
  {
   "cell_type": "markdown",
   "metadata": {},
   "source": [
    "#### C.4\n",
    "\n",
    "```sql\n",
    "INSERT INTO Articles(Libelle, Description, PrixEnCentimes) VALUES\n",
    "    (\"Imperméable\", \"Cet imperméable se replie en forme de pochette\", 999);\n",
    "```"
   ]
  },
  {
   "cell_type": "markdown",
   "metadata": {},
   "source": [
    "#### D.1\n",
    "\n",
    "Pour comptabiliser le stock, créer une nouvelle relation `Stock`\n",
    "\n",
    "|`Stock`|\n",
    "|-|\n",
    "|`IdArticle` : clé primaire, Int, clé étrangère `Articles(IdArticle)`|\n",
    "|`Quantite` : Int|\n",
    "\n",
    "Pour mémoriser les différentes adresses de livraison créer une nouvelle relation `Adresses`\n",
    "\n",
    "|`Adresses`|\n",
    "|-|\n",
    "|`IdAdresse` : Int, clé primaire |\n",
    "|`IdClient` : Int, clé primaire, clé étrangère `(Clients.IdClient)`|\n",
    "|`EstDefaut` : Booléen |\n",
    "|`AdresseLivraison` : VARCHAR(90) |\n",
    "\n",
    "et modifier la relation `Commandes` en transformant par exemple `Commande.AdresseLivraison` en `Commande.IdAdresseLivraison`.\n"
   ]
  },
  {
   "cell_type": "markdown",
   "metadata": {},
   "source": [
    "#### D.2\n",
    "\n",
    "Pour chaque commande de `Quantité` article valide, il faut diminuer la variable `Stock` de `Quantité` et non pas de **1** :\n",
    "\n",
    "$$\\texttt {Stock $\\leftarrow$ Stock - Quantité}$$"
   ]
  }
 ],
 "metadata": {
  "interpreter": {
   "hash": "916dbcbb3f70747c44a77c7bcd40155683ae19c65e1c03b4aa3499c5328201f1"
  },
  "kernelspec": {
   "display_name": "Python 3.9.2 64-bit",
   "language": "python",
   "name": "python3"
  },
  "language_info": {
   "name": "python",
   "version": "3.9.2"
  },
  "orig_nbformat": 4
 },
 "nbformat": 4,
 "nbformat_minor": 2
}
