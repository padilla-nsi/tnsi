{
 "cells": [
  {
   "cell_type": "markdown",
   "metadata": {},
   "source": [
    "# Exercice 3"
   ]
  },
  {
   "cell_type": "markdown",
   "metadata": {},
   "source": [
    "## 3.A.1"
   ]
  },
  {
   "cell_type": "markdown",
   "metadata": {},
   "source": [
    "* valeur : 5\n",
    "* fils gauche : sous arbre de racine 2\n",
    "* fils droit : sous arbre de racine 7"
   ]
  },
  {
   "cell_type": "markdown",
   "metadata": {},
   "source": [
    "## 3.A.2"
   ]
  },
  {
   "cell_type": "markdown",
   "metadata": {},
   "source": [
    "les nœuds de la branche dont la feuille est 3 sont : 5 ; 2 ; 3"
   ]
  },
  {
   "cell_type": "markdown",
   "metadata": {},
   "source": [
    "## 3.A.3"
   ]
  },
  {
   "cell_type": "markdown",
   "metadata": {},
   "source": [
    "        5\n",
    "     2    7\n",
    "    . 3  6 8\n"
   ]
  },
  {
   "cell_type": "markdown",
   "metadata": {},
   "source": [
    "## 3.B.1\n",
    "\n",
    "la méthode `__init__` est exécutée lors qu'un objet est créé (constructeur). Elle sert à initialiser cet objet. \n",
    "\n",
    "Ici, cette méthode permet d'initialiser les attributs `valeur`, `fg`, `fd` des objets."
   ]
  },
  {
   "cell_type": "markdown",
   "metadata": {},
   "source": [
    "## 3.B.2"
   ]
  },
  {
   "cell_type": "markdown",
   "metadata": {},
   "source": [
    "L'ajout d'un élément est effectué par la méthode `insererElement(self, e)`.\n",
    "\n",
    "Lorsqu'on insère un élément dont la valeur est égale à la valeur d'un nœud de l'arbre, il se passe les étapes suivantes :\n",
    "\n",
    "- appels récursif jusqu'à atteindre le nœud de même valeur\n",
    "- comme la valeur à insérer n'est ni strictement inférieure et ni strictrement supérieure, les appels récursifs s'arrêtes et l'arbre initial n'est pas modifié"
   ]
  },
  {
   "cell_type": "markdown",
   "metadata": {},
   "source": [
    "## 3.B.3"
   ]
  },
  {
   "cell_type": "code",
   "execution_count": null,
   "metadata": {},
   "outputs": [],
   "source": [
    "arbre = ABR(5)\n",
    "arbre.insererElement(2)\n",
    "arbre.insererElement(3)\n",
    "arbre.insererElement(7)\n",
    "arbre.insererElement(8)"
   ]
  },
  {
   "cell_type": "markdown",
   "metadata": {},
   "source": [
    "## 3.C.1"
   ]
  },
  {
   "cell_type": "markdown",
   "metadata": {},
   "source": [
    "Pour afficher les valeurs d'un ABR par ordre croissant, on utilise un parcours **infixe**."
   ]
  },
  {
   "cell_type": "markdown",
   "metadata": {},
   "source": [
    "## 3.C.2"
   ]
  },
  {
   "cell_type": "markdown",
   "metadata": {},
   "source": [
    "Parcourir un arbre de taille $n$ est de complexité temporelle égale à $n$. En effet, il faut afficher $n$ valeur et il y a donc $n$ appels récursifs car chacun s'occupe d'afficher la valeur de son nœud courant.\n",
    "\n",
    "En revanche, un tris par sélection ou par insertion possède deux boucles imbriquées.\n",
    "Leur complexité est donc en $n^2$.\n",
    "\n",
    "Le tri des ABR est donc beaucoup plus efficace qu'un tri par insertion ou sélection."
   ]
  }
 ],
 "metadata": {
  "interpreter": {
   "hash": "916dbcbb3f70747c44a77c7bcd40155683ae19c65e1c03b4aa3499c5328201f1"
  },
  "kernelspec": {
   "display_name": "Python 3.9.2 64-bit",
   "language": "python",
   "name": "python3"
  },
  "language_info": {
   "codemirror_mode": {
    "name": "ipython",
    "version": 3
   },
   "file_extension": ".py",
   "mimetype": "text/x-python",
   "name": "python",
   "nbconvert_exporter": "python",
   "pygments_lexer": "ipython3",
   "version": "3.9.2"
  },
  "orig_nbformat": 4
 },
 "nbformat": 4,
 "nbformat_minor": 2
}
