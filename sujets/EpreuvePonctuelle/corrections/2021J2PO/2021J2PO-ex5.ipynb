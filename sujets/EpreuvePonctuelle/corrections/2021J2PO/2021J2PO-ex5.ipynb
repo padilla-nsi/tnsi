{
 "cells": [
  {
   "cell_type": "markdown",
   "metadata": {
    "slideshow": {
     "slide_type": "slide"
    }
   },
   "source": [
    "# 2021 - J2 - Polynésie"
   ]
  },
  {
   "cell_type": "markdown",
   "metadata": {
    "slideshow": {
     "slide_type": "-"
    }
   },
   "source": [
    "## Exercice 5"
   ]
  },
  {
   "cell_type": "markdown",
   "metadata": {
    "slideshow": {
     "slide_type": "slide"
    }
   },
   "source": [
    "**A.1** \n",
    "\n",
    "* La clé primaire de la relation `Fims` est *idFilm*.\n",
    "* La clé primaire de la relation `Abonnes` est *idAbonne*."
   ]
  },
  {
   "cell_type": "markdown",
   "metadata": {
    "slideshow": {
     "slide_type": "slide"
    }
   },
   "source": [
    "**A.2** \n",
    "\n",
    "* `idFilm` est un nombre entier (`INT`).\n",
    "* `Description` est une chaîne de caractère de taille variable d'au plus 150 caractères (`VARCHAR(150)`)."
   ]
  },
  {
   "cell_type": "markdown",
   "metadata": {
    "slideshow": {
     "slide_type": "slide"
    }
   },
   "source": [
    "**A.3** La relation `ComptesAbonnes` admet la clé primaire `idCpt` et la clé étrangère `IdAbonne`. On peut d'ailleurs reconnaître les clés étrangères au fait qu'elles font référence à la clé primaire d'autres relations."
   ]
  },
  {
   "cell_type": "markdown",
   "metadata": {
    "slideshow": {
     "slide_type": "slide"
    }
   },
   "source": [
    "**A.4** Pour stocker les acteurs principaux de chaque film, il faut modifier le modèle relationnel (le *schéma relationnel*). Il faut donc créer une relation `ActeursPrincipaux` qui admet une clé primaire (un identifiant unique par acteur), des informations sur l'acteur (par exemple `Nom`, `DateNaissance`, etc.). \n",
    "\n",
    "Pour associer les relations `ActeursPrincipaux` et `Films`, il faut ajouter un attribut `idFilm` de type clé étrangère reliant ces deux relations.\n",
    "\n",
    "Enfin, pour savoir si les valeurs partagées doivent être unique, zéro, une ou plusieurs fois, il faut réaliser qu'*un acteur peut jouer dans plusieurs films* et qu'*un film possède plusieurs acteurs*. Et donc il n'y a pas d'unicité : il faut une cardinalité de zéro, un ou plusieurs du côté `ActeursPrincipaux.idFilm` et du côté `Films.idFilm`."
   ]
  },
  {
   "cell_type": "markdown",
   "metadata": {
    "slideshow": {
     "slide_type": "subslide"
    }
   },
   "source": [
    "![](2021J2PO-ex5-img-uml.png)"
   ]
  },
  {
   "cell_type": "markdown",
   "metadata": {
    "slideshow": {
     "slide_type": "slide"
    }
   },
   "source": [
    "**A.5** Pour ajouter une tranche d'âge, il faut commencer par créer la relation `TranchesAges`. Il faut au moins un attribut identifiant unique `idTrancheAge` de domaine `INT`. On peut ajouter aussi une `Description` de domaine `VARCHAR(150)`.\n",
    "\n",
    "Ensuite il faut associer `TranchesAges` à la relation `ComptesAbonnes` car l'énoncé indique *associer une tranche d'âge à chacun des comptes d'un abonné*. Pour cela, il faut ajouter un attribut  `idTrancheAge` dans la relation `ComptesAbonnes`. Ce nouvel attribut sera une clé étrangère.\n",
    "\n",
    "Puis en déterminer sa cardinalité : *un compte possède une unique tranche d'âge* et *une tranche d'âge est associée à zéro, un ou plusieurs comptes*. L'unicité est du côté de la tranche d'âge et la multiplicité du côté du compte de l'abonné."
   ]
  },
  {
   "cell_type": "markdown",
   "metadata": {
    "slideshow": {
     "slide_type": "subslide"
    }
   },
   "source": [
    "Maintenant, il faut associer `TranchesAges` à la relation à `Film`. Pour cela il faut ajouter un nouvel attribut `idTrancheAge` dans la relation `Film`. Cet attribut sera une clé étrangère.\n",
    "\n",
    "Enfin, pour en déterminer sa cardinalité, on remarque qu'*un film possède une unique tranche d'âge* et qu'*une tranche d'âge est associée à zéro, un ou plusieurs films*. Ainsi l'unicité est du côté de la tranche d'âge et la multiplicité du coté du film."
   ]
  },
  {
   "cell_type": "markdown",
   "metadata": {
    "slideshow": {
     "slide_type": "subslide"
    }
   },
   "source": [
    "![](2021J2PO-ex5-img-uml2.png)"
   ]
  },
  {
   "cell_type": "markdown",
   "metadata": {
    "slideshow": {
     "slide_type": "slide"
    }
   },
   "source": [
    "**B.1** Requête permettant de récupérer l'identifiant et le pseudo de tous les comptes rattachés à l'abonné 237 :\n",
    "\n",
    "```SQL\n",
    "SELECT idCpt, Pseudo\n",
    "FROM ComptesAbonnes\n",
    "WHERE idAbonne = 237;\n",
    "```"
   ]
  },
  {
   "cell_type": "markdown",
   "metadata": {
    "slideshow": {
     "slide_type": "slide"
    }
   },
   "source": [
    "**B.2** La requête ci-dessous permet de calculer la moyenne des notes données par les comptes d'abonnés pour le film d'identifiant 1542.\n",
    "\n",
    "```SQL\n",
    "SELECT AVG(NbEtoiles)\n",
    "FROM Votes\n",
    "WHERE IdFilm = 1542;\n",
    "```"
   ]
  },
  {
   "cell_type": "markdown",
   "metadata": {
    "slideshow": {
     "slide_type": "slide"
    }
   },
   "source": [
    "**B.3** La requête ci-dessous permet d'afficher par ordre de note décroissante l'identifiant, le titre et la note des films pour lesquels le compte 508 a voté.\n",
    "\n",
    "```SQL\n",
    "SELECT u.IdFilm, u.Titre, v.NbEtoiles\n",
    "FROM Films as u JOIN Votes as v\n",
    "ON u.IdFilm = v.IdFilm\n",
    "WHERE v.IdCpt = 508\n",
    "ORDER BY v.NbEtoiles DESC;\n",
    "```"
   ]
  },
  {
   "cell_type": "markdown",
   "metadata": {
    "slideshow": {
     "slide_type": "slide"
    }
   },
   "source": [
    "**B.4** Requête permettant de modifier le pseudo du compte 508 pour lui attribuer la valeur « Champion » :\n",
    "\n",
    "```SQL\n",
    "UPDATE TABLE ComptesAbonnes\n",
    "SET Pseudo = 'Champion'\n",
    "WHERE IdAbonne = 508;\n",
    "```"
   ]
  },
  {
   "cell_type": "markdown",
   "metadata": {
    "slideshow": {
     "slide_type": "slide"
    }
   },
   "source": [
    "**C.1** La fonction commence par vérifiée que l'argument `listeFilms` était bien un tableau (de type `list`) et qu'il était non vide (de longueur différente de 0). \n",
    "\n",
    "Ensuite un accumulateur `somme_ecarts` et une boucle sont mis en place pour parcourir tous les films de la liste. Pour chaque film, la fonction calcule la valeur absolue (`abs()`) de la différence des notes mises par chacun des deux comptes passés en arguments. Cette différence est accumulée dans `somme_ecarts`.\n",
    "\n",
    "Par exemple, si les deux comptes ont mis la même note, cette différence est nulle. Puis, au plus les notes sont différentes, au plus la différence est grande."
   ]
  },
  {
   "cell_type": "markdown",
   "metadata": {
    "slideshow": {
     "slide_type": "subslide"
    }
   },
   "source": [
    "À la sortie de la boucle, la variable `somme_ecarts` contient la somme de toutes les différences de notes mises par chacune des comptes. \n",
    "\n",
    "En divisant cette somme par le nombre total de films, on obtient la *somme des écarts par film*.\n",
    "\n",
    "Cette fonction renvoie donc la moyenne des écarts de notes entre les deux comptes."
   ]
  },
  {
   "cell_type": "markdown",
   "metadata": {
    "slideshow": {
     "slide_type": "slide"
    }
   },
   "source": [
    "**C.2** \n",
    "\n",
    "```python\n",
    "def conseilsFilms (idCpt):\n",
    "    conseils = []\n",
    "    filmsMieuxNotes = podiumCompte(idCpt)\n",
    "    spectateursFilms = spectateurs(films_mieux_notes)\n",
    "\n",
    "    for idSpectateur in spectateursFilms:\n",
    "        if distance(idCpt, id, filmsMieuxNotes) < 10:\n",
    "            conseil = conseil + podiumCompte(idSpectateur)[:3]\n",
    "    \n",
    "    return conseil\n",
    "```"
   ]
  },
  {
   "cell_type": "markdown",
   "metadata": {
    "slideshow": {
     "slide_type": "subslide"
    }
   },
   "source": [
    "Le code précédent est écrit avec une syntaxe homogène, mais non conseillée en Python : **CamelCase**\n",
    "Voici une syntaxe non homogène mais conseillée en Python : **snake_case**\n",
    "\n",
    "```python\n",
    "def conseils_films (idCpt):\n",
    "    conseils = []\n",
    "    film_mieux_notes = podiumCompte(idCpt)\n",
    "    spectateurs_films = spectateurs(films_mieux_notes)\n",
    "\n",
    "    for id_spectateur in spectateurs_films:\n",
    "        if distance(idCpt, id, films_mieux_notes) < 10:\n",
    "            conseil = conseil + podiumCompte(idSpectateur)[:3]\n",
    "    \n",
    "    return conseil\n",
    "```"
   ]
  }
 ],
 "metadata": {
  "celltoolbar": "Diaporama",
  "interpreter": {
   "hash": "916dbcbb3f70747c44a77c7bcd40155683ae19c65e1c03b4aa3499c5328201f1"
  },
  "kernelspec": {
   "display_name": "Python 3",
   "language": "python",
   "name": "python3"
  },
  "language_info": {
   "codemirror_mode": {
    "name": "ipython",
    "version": 3
   },
   "file_extension": ".py",
   "mimetype": "text/x-python",
   "name": "python",
   "nbconvert_exporter": "python",
   "pygments_lexer": "ipython3",
   "version": "3.9.2"
  },
  "latex_metadata": {
   "theme": "ds",
   "title": "Correction - 2021J2PO - ex5"
  }
 },
 "nbformat": 4,
 "nbformat_minor": 2
}
